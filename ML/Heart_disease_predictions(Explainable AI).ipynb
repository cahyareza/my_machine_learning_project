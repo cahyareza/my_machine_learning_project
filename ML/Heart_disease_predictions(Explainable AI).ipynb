{
  "nbformat": 4,
  "nbformat_minor": 0,
  "metadata": {
    "colab": {
      "name": "XAI_Heart_disease_predictions.ipynb",
      "provenance": [],
      "collapsed_sections": []
    },
    "kernelspec": {
      "name": "python3",
      "display_name": "Python 3"
    },
    "accelerator": "GPU",
    "widgets": {
      "application/vnd.jupyter.widget-state+json": {
        "ee5bffcc0d064aa68ef0c3cb6f5f4bdd": {
          "model_module": "@jupyter-widgets/controls",
          "model_name": "HBoxModel",
          "state": {
            "_view_name": "HBoxView",
            "_dom_classes": [],
            "_model_name": "HBoxModel",
            "_view_module": "@jupyter-widgets/controls",
            "_model_module_version": "1.5.0",
            "_view_count": null,
            "_view_module_version": "1.5.0",
            "box_style": "",
            "layout": "IPY_MODEL_520a4b4a1cd04936a1e7a1d56dd4a21e",
            "_model_module": "@jupyter-widgets/controls",
            "children": [
              "IPY_MODEL_bc63bf1636b94a86862ced9d61ee0621",
              "IPY_MODEL_932960df7a414086bcd0bcf915f08b60"
            ]
          }
        },
        "520a4b4a1cd04936a1e7a1d56dd4a21e": {
          "model_module": "@jupyter-widgets/base",
          "model_name": "LayoutModel",
          "state": {
            "_view_name": "LayoutView",
            "grid_template_rows": null,
            "right": null,
            "justify_content": null,
            "_view_module": "@jupyter-widgets/base",
            "overflow": null,
            "_model_module_version": "1.2.0",
            "_view_count": null,
            "flex_flow": null,
            "width": null,
            "min_width": null,
            "border": null,
            "align_items": null,
            "bottom": null,
            "_model_module": "@jupyter-widgets/base",
            "top": null,
            "grid_column": null,
            "overflow_y": null,
            "overflow_x": null,
            "grid_auto_flow": null,
            "grid_area": null,
            "grid_template_columns": null,
            "flex": null,
            "_model_name": "LayoutModel",
            "justify_items": null,
            "grid_row": null,
            "max_height": null,
            "align_content": null,
            "visibility": null,
            "align_self": null,
            "height": null,
            "min_height": null,
            "padding": null,
            "grid_auto_rows": null,
            "grid_gap": null,
            "max_width": null,
            "order": null,
            "_view_module_version": "1.2.0",
            "grid_template_areas": null,
            "object_position": null,
            "object_fit": null,
            "grid_auto_columns": null,
            "margin": null,
            "display": null,
            "left": null
          }
        },
        "bc63bf1636b94a86862ced9d61ee0621": {
          "model_module": "@jupyter-widgets/controls",
          "model_name": "FloatProgressModel",
          "state": {
            "_view_name": "ProgressView",
            "style": "IPY_MODEL_e67621d6e54c4b0a92ca6b7734352bee",
            "_dom_classes": [],
            "description": "100%",
            "_model_name": "FloatProgressModel",
            "bar_style": "success",
            "max": 43,
            "_view_module": "@jupyter-widgets/controls",
            "_model_module_version": "1.5.0",
            "value": 43,
            "_view_count": null,
            "_view_module_version": "1.5.0",
            "orientation": "horizontal",
            "min": 0,
            "description_tooltip": null,
            "_model_module": "@jupyter-widgets/controls",
            "layout": "IPY_MODEL_bdd6a856be894c3a9cadba6a3e6805ed"
          }
        },
        "932960df7a414086bcd0bcf915f08b60": {
          "model_module": "@jupyter-widgets/controls",
          "model_name": "HTMLModel",
          "state": {
            "_view_name": "HTMLView",
            "style": "IPY_MODEL_dea28a116c0e41e585357563b3f3e46e",
            "_dom_classes": [],
            "description": "",
            "_model_name": "HTMLModel",
            "placeholder": "​",
            "_view_module": "@jupyter-widgets/controls",
            "_model_module_version": "1.5.0",
            "value": " 43/43 [01:13&lt;00:00,  1.70s/it]",
            "_view_count": null,
            "_view_module_version": "1.5.0",
            "description_tooltip": null,
            "_model_module": "@jupyter-widgets/controls",
            "layout": "IPY_MODEL_c8c10e995e7a41bca549861cd0be25ae"
          }
        },
        "e67621d6e54c4b0a92ca6b7734352bee": {
          "model_module": "@jupyter-widgets/controls",
          "model_name": "ProgressStyleModel",
          "state": {
            "_view_name": "StyleView",
            "_model_name": "ProgressStyleModel",
            "description_width": "initial",
            "_view_module": "@jupyter-widgets/base",
            "_model_module_version": "1.5.0",
            "_view_count": null,
            "_view_module_version": "1.2.0",
            "bar_color": null,
            "_model_module": "@jupyter-widgets/controls"
          }
        },
        "bdd6a856be894c3a9cadba6a3e6805ed": {
          "model_module": "@jupyter-widgets/base",
          "model_name": "LayoutModel",
          "state": {
            "_view_name": "LayoutView",
            "grid_template_rows": null,
            "right": null,
            "justify_content": null,
            "_view_module": "@jupyter-widgets/base",
            "overflow": null,
            "_model_module_version": "1.2.0",
            "_view_count": null,
            "flex_flow": null,
            "width": null,
            "min_width": null,
            "border": null,
            "align_items": null,
            "bottom": null,
            "_model_module": "@jupyter-widgets/base",
            "top": null,
            "grid_column": null,
            "overflow_y": null,
            "overflow_x": null,
            "grid_auto_flow": null,
            "grid_area": null,
            "grid_template_columns": null,
            "flex": null,
            "_model_name": "LayoutModel",
            "justify_items": null,
            "grid_row": null,
            "max_height": null,
            "align_content": null,
            "visibility": null,
            "align_self": null,
            "height": null,
            "min_height": null,
            "padding": null,
            "grid_auto_rows": null,
            "grid_gap": null,
            "max_width": null,
            "order": null,
            "_view_module_version": "1.2.0",
            "grid_template_areas": null,
            "object_position": null,
            "object_fit": null,
            "grid_auto_columns": null,
            "margin": null,
            "display": null,
            "left": null
          }
        },
        "dea28a116c0e41e585357563b3f3e46e": {
          "model_module": "@jupyter-widgets/controls",
          "model_name": "DescriptionStyleModel",
          "state": {
            "_view_name": "StyleView",
            "_model_name": "DescriptionStyleModel",
            "description_width": "",
            "_view_module": "@jupyter-widgets/base",
            "_model_module_version": "1.5.0",
            "_view_count": null,
            "_view_module_version": "1.2.0",
            "_model_module": "@jupyter-widgets/controls"
          }
        },
        "c8c10e995e7a41bca549861cd0be25ae": {
          "model_module": "@jupyter-widgets/base",
          "model_name": "LayoutModel",
          "state": {
            "_view_name": "LayoutView",
            "grid_template_rows": null,
            "right": null,
            "justify_content": null,
            "_view_module": "@jupyter-widgets/base",
            "overflow": null,
            "_model_module_version": "1.2.0",
            "_view_count": null,
            "flex_flow": null,
            "width": null,
            "min_width": null,
            "border": null,
            "align_items": null,
            "bottom": null,
            "_model_module": "@jupyter-widgets/base",
            "top": null,
            "grid_column": null,
            "overflow_y": null,
            "overflow_x": null,
            "grid_auto_flow": null,
            "grid_area": null,
            "grid_template_columns": null,
            "flex": null,
            "_model_name": "LayoutModel",
            "justify_items": null,
            "grid_row": null,
            "max_height": null,
            "align_content": null,
            "visibility": null,
            "align_self": null,
            "height": null,
            "min_height": null,
            "padding": null,
            "grid_auto_rows": null,
            "grid_gap": null,
            "max_width": null,
            "order": null,
            "_view_module_version": "1.2.0",
            "grid_template_areas": null,
            "object_position": null,
            "object_fit": null,
            "grid_auto_columns": null,
            "margin": null,
            "display": null,
            "left": null
          }
        }
      }
    }
  },
  "cells": [
    {
      "cell_type": "markdown",
      "metadata": {
        "id": "yBawZj05dfgc"
      },
      "source": [
        "# Explainable AI Assignment\n",
        "This is a template for Assignment 2 of Machine Learning Bootcamp. Please make sure you perform all tasks within the sections created. This ensures that your assignment is evaluated correctly. \n",
        "\n",
        "If you want to do something extra and show us your creativity, we have also created a space for it at the end!"
      ]
    },
    {
      "cell_type": "markdown",
      "metadata": {
        "id": "qSgbkmQVfe7q"
      },
      "source": [
        "# Task 1"
      ]
    },
    {
      "cell_type": "markdown",
      "metadata": {
        "id": "4u7RACdYeM9M"
      },
      "source": [
        "## Import Libraries"
      ]
    },
    {
      "cell_type": "code",
      "metadata": {
        "id": "IRfsBMYcdcNM"
      },
      "source": [
        "import pandas as pd\n",
        "import numpy as np\n",
        "import matplotlib.pyplot as plt\n",
        "\n",
        "%matplotlib inline"
      ],
      "execution_count": null,
      "outputs": []
    },
    {
      "cell_type": "markdown",
      "metadata": {
        "id": "7m7jCFpbeReL"
      },
      "source": [
        "## Load the data\n",
        "Display the first 5 rows of the data after loading."
      ]
    },
    {
      "cell_type": "code",
      "metadata": {
        "id": "SIXawIsXecZ7"
      },
      "source": [
        "df = pd.read_csv(\"https://raw.githubusercontent.com/dphi-official/Datasets/master/Heart_Disease/Training_set_heart.csv\")\n",
        "df_t = pd.read_csv('https://raw.githubusercontent.com/dphi-official/Datasets/master/Heart_Disease/Testing_set_heart.csv')"
      ],
      "execution_count": null,
      "outputs": []
    },
    {
      "cell_type": "markdown",
      "metadata": {
        "id": "LPg8b8OKazuD"
      },
      "source": [
        "## Perform Basic Exploratory Data Analysis"
      ]
    },
    {
      "cell_type": "markdown",
      "metadata": {
        "id": "-oP4r25Qdnba"
      },
      "source": [
        "### View the data"
      ]
    },
    {
      "cell_type": "code",
      "metadata": {
        "id": "kvmiZiDBa3uT",
        "colab": {
          "base_uri": "https://localhost:8080/",
          "height": 204
        },
        "outputId": "617333b9-708f-48ba-afaf-f976c9c73b6a"
      },
      "source": [
        "df.head()"
      ],
      "execution_count": null,
      "outputs": [
        {
          "output_type": "execute_result",
          "data": {
            "text/html": [
              "<div>\n",
              "<style scoped>\n",
              "    .dataframe tbody tr th:only-of-type {\n",
              "        vertical-align: middle;\n",
              "    }\n",
              "\n",
              "    .dataframe tbody tr th {\n",
              "        vertical-align: top;\n",
              "    }\n",
              "\n",
              "    .dataframe thead th {\n",
              "        text-align: right;\n",
              "    }\n",
              "</style>\n",
              "<table border=\"1\" class=\"dataframe\">\n",
              "  <thead>\n",
              "    <tr style=\"text-align: right;\">\n",
              "      <th></th>\n",
              "      <th>age</th>\n",
              "      <th>sex</th>\n",
              "      <th>cp</th>\n",
              "      <th>trestbps</th>\n",
              "      <th>chol</th>\n",
              "      <th>fbs</th>\n",
              "      <th>restecg</th>\n",
              "      <th>thalach</th>\n",
              "      <th>exang</th>\n",
              "      <th>oldpeak</th>\n",
              "      <th>slope</th>\n",
              "      <th>ca</th>\n",
              "      <th>thal</th>\n",
              "      <th>target</th>\n",
              "    </tr>\n",
              "  </thead>\n",
              "  <tbody>\n",
              "    <tr>\n",
              "      <th>0</th>\n",
              "      <td>48</td>\n",
              "      <td>1</td>\n",
              "      <td>2</td>\n",
              "      <td>124</td>\n",
              "      <td>255</td>\n",
              "      <td>1</td>\n",
              "      <td>1</td>\n",
              "      <td>175</td>\n",
              "      <td>0</td>\n",
              "      <td>0.0</td>\n",
              "      <td>2</td>\n",
              "      <td>2</td>\n",
              "      <td>2</td>\n",
              "      <td>1</td>\n",
              "    </tr>\n",
              "    <tr>\n",
              "      <th>1</th>\n",
              "      <td>68</td>\n",
              "      <td>0</td>\n",
              "      <td>2</td>\n",
              "      <td>120</td>\n",
              "      <td>211</td>\n",
              "      <td>0</td>\n",
              "      <td>0</td>\n",
              "      <td>115</td>\n",
              "      <td>0</td>\n",
              "      <td>1.5</td>\n",
              "      <td>1</td>\n",
              "      <td>0</td>\n",
              "      <td>2</td>\n",
              "      <td>1</td>\n",
              "    </tr>\n",
              "    <tr>\n",
              "      <th>2</th>\n",
              "      <td>46</td>\n",
              "      <td>1</td>\n",
              "      <td>0</td>\n",
              "      <td>120</td>\n",
              "      <td>249</td>\n",
              "      <td>0</td>\n",
              "      <td>0</td>\n",
              "      <td>144</td>\n",
              "      <td>0</td>\n",
              "      <td>0.8</td>\n",
              "      <td>2</td>\n",
              "      <td>0</td>\n",
              "      <td>3</td>\n",
              "      <td>0</td>\n",
              "    </tr>\n",
              "    <tr>\n",
              "      <th>3</th>\n",
              "      <td>60</td>\n",
              "      <td>1</td>\n",
              "      <td>0</td>\n",
              "      <td>130</td>\n",
              "      <td>253</td>\n",
              "      <td>0</td>\n",
              "      <td>1</td>\n",
              "      <td>144</td>\n",
              "      <td>1</td>\n",
              "      <td>1.4</td>\n",
              "      <td>2</td>\n",
              "      <td>1</td>\n",
              "      <td>3</td>\n",
              "      <td>0</td>\n",
              "    </tr>\n",
              "    <tr>\n",
              "      <th>4</th>\n",
              "      <td>43</td>\n",
              "      <td>1</td>\n",
              "      <td>0</td>\n",
              "      <td>115</td>\n",
              "      <td>303</td>\n",
              "      <td>0</td>\n",
              "      <td>1</td>\n",
              "      <td>181</td>\n",
              "      <td>0</td>\n",
              "      <td>1.2</td>\n",
              "      <td>1</td>\n",
              "      <td>0</td>\n",
              "      <td>2</td>\n",
              "      <td>1</td>\n",
              "    </tr>\n",
              "  </tbody>\n",
              "</table>\n",
              "</div>"
            ],
            "text/plain": [
              "   age  sex  cp  trestbps  chol  fbs  ...  exang  oldpeak  slope  ca  thal  target\n",
              "0   48    1   2       124   255    1  ...      0      0.0      2   2     2       1\n",
              "1   68    0   2       120   211    0  ...      0      1.5      1   0     2       1\n",
              "2   46    1   0       120   249    0  ...      0      0.8      2   0     3       0\n",
              "3   60    1   0       130   253    0  ...      1      1.4      2   1     3       0\n",
              "4   43    1   0       115   303    0  ...      0      1.2      1   0     2       1\n",
              "\n",
              "[5 rows x 14 columns]"
            ]
          },
          "metadata": {
            "tags": []
          },
          "execution_count": 3
        }
      ]
    },
    {
      "cell_type": "code",
      "metadata": {
        "colab": {
          "base_uri": "https://localhost:8080/"
        },
        "id": "hkrJej1hdCgj",
        "outputId": "900cb54c-2378-438d-9d35-d8ad4a14b936"
      },
      "source": [
        "df.shape"
      ],
      "execution_count": null,
      "outputs": [
        {
          "output_type": "execute_result",
          "data": {
            "text/plain": [
              "(212, 14)"
            ]
          },
          "metadata": {
            "tags": []
          },
          "execution_count": 4
        }
      ]
    },
    {
      "cell_type": "code",
      "metadata": {
        "colab": {
          "base_uri": "https://localhost:8080/",
          "height": 204
        },
        "id": "wGahdHyEdSjm",
        "outputId": "d54536b5-09f9-40d0-d4e0-960c60143da5"
      },
      "source": [
        "df_t.head()"
      ],
      "execution_count": null,
      "outputs": [
        {
          "output_type": "execute_result",
          "data": {
            "text/html": [
              "<div>\n",
              "<style scoped>\n",
              "    .dataframe tbody tr th:only-of-type {\n",
              "        vertical-align: middle;\n",
              "    }\n",
              "\n",
              "    .dataframe tbody tr th {\n",
              "        vertical-align: top;\n",
              "    }\n",
              "\n",
              "    .dataframe thead th {\n",
              "        text-align: right;\n",
              "    }\n",
              "</style>\n",
              "<table border=\"1\" class=\"dataframe\">\n",
              "  <thead>\n",
              "    <tr style=\"text-align: right;\">\n",
              "      <th></th>\n",
              "      <th>age</th>\n",
              "      <th>sex</th>\n",
              "      <th>cp</th>\n",
              "      <th>trestbps</th>\n",
              "      <th>chol</th>\n",
              "      <th>fbs</th>\n",
              "      <th>restecg</th>\n",
              "      <th>thalach</th>\n",
              "      <th>exang</th>\n",
              "      <th>oldpeak</th>\n",
              "      <th>slope</th>\n",
              "      <th>ca</th>\n",
              "      <th>thal</th>\n",
              "    </tr>\n",
              "  </thead>\n",
              "  <tbody>\n",
              "    <tr>\n",
              "      <th>0</th>\n",
              "      <td>46</td>\n",
              "      <td>0</td>\n",
              "      <td>0</td>\n",
              "      <td>138</td>\n",
              "      <td>243</td>\n",
              "      <td>0</td>\n",
              "      <td>0</td>\n",
              "      <td>152</td>\n",
              "      <td>1</td>\n",
              "      <td>0.0</td>\n",
              "      <td>1</td>\n",
              "      <td>0</td>\n",
              "      <td>2</td>\n",
              "    </tr>\n",
              "    <tr>\n",
              "      <th>1</th>\n",
              "      <td>45</td>\n",
              "      <td>0</td>\n",
              "      <td>0</td>\n",
              "      <td>138</td>\n",
              "      <td>236</td>\n",
              "      <td>0</td>\n",
              "      <td>0</td>\n",
              "      <td>152</td>\n",
              "      <td>1</td>\n",
              "      <td>0.2</td>\n",
              "      <td>1</td>\n",
              "      <td>0</td>\n",
              "      <td>2</td>\n",
              "    </tr>\n",
              "    <tr>\n",
              "      <th>2</th>\n",
              "      <td>59</td>\n",
              "      <td>1</td>\n",
              "      <td>3</td>\n",
              "      <td>160</td>\n",
              "      <td>273</td>\n",
              "      <td>0</td>\n",
              "      <td>0</td>\n",
              "      <td>125</td>\n",
              "      <td>0</td>\n",
              "      <td>0.0</td>\n",
              "      <td>2</td>\n",
              "      <td>0</td>\n",
              "      <td>2</td>\n",
              "    </tr>\n",
              "    <tr>\n",
              "      <th>3</th>\n",
              "      <td>44</td>\n",
              "      <td>0</td>\n",
              "      <td>2</td>\n",
              "      <td>108</td>\n",
              "      <td>141</td>\n",
              "      <td>0</td>\n",
              "      <td>1</td>\n",
              "      <td>175</td>\n",
              "      <td>0</td>\n",
              "      <td>0.6</td>\n",
              "      <td>1</td>\n",
              "      <td>0</td>\n",
              "      <td>2</td>\n",
              "    </tr>\n",
              "    <tr>\n",
              "      <th>4</th>\n",
              "      <td>47</td>\n",
              "      <td>1</td>\n",
              "      <td>2</td>\n",
              "      <td>108</td>\n",
              "      <td>243</td>\n",
              "      <td>0</td>\n",
              "      <td>1</td>\n",
              "      <td>152</td>\n",
              "      <td>0</td>\n",
              "      <td>0.0</td>\n",
              "      <td>2</td>\n",
              "      <td>0</td>\n",
              "      <td>2</td>\n",
              "    </tr>\n",
              "  </tbody>\n",
              "</table>\n",
              "</div>"
            ],
            "text/plain": [
              "   age  sex  cp  trestbps  chol  fbs  ...  thalach  exang  oldpeak  slope  ca  thal\n",
              "0   46    0   0       138   243    0  ...      152      1      0.0      1   0     2\n",
              "1   45    0   0       138   236    0  ...      152      1      0.2      1   0     2\n",
              "2   59    1   3       160   273    0  ...      125      0      0.0      2   0     2\n",
              "3   44    0   2       108   141    0  ...      175      0      0.6      1   0     2\n",
              "4   47    1   2       108   243    0  ...      152      0      0.0      2   0     2\n",
              "\n",
              "[5 rows x 13 columns]"
            ]
          },
          "metadata": {
            "tags": []
          },
          "execution_count": 5
        }
      ]
    },
    {
      "cell_type": "code",
      "metadata": {
        "colab": {
          "base_uri": "https://localhost:8080/"
        },
        "id": "mw98a6GXdVY2",
        "outputId": "655cae0d-0cf5-42d0-c900-eb0d48df1426"
      },
      "source": [
        "df_t.shape"
      ],
      "execution_count": null,
      "outputs": [
        {
          "output_type": "execute_result",
          "data": {
            "text/plain": [
              "(91, 13)"
            ]
          },
          "metadata": {
            "tags": []
          },
          "execution_count": 6
        }
      ]
    },
    {
      "cell_type": "markdown",
      "metadata": {
        "id": "1ymer-V_dsqs"
      },
      "source": [
        "### View target values"
      ]
    },
    {
      "cell_type": "code",
      "metadata": {
        "colab": {
          "base_uri": "https://localhost:8080/"
        },
        "id": "1XyY7hQEdlPe",
        "outputId": "04509e35-2a31-4ea7-cb83-e7a72094945f"
      },
      "source": [
        "df['target'].value_counts()"
      ],
      "execution_count": null,
      "outputs": [
        {
          "output_type": "execute_result",
          "data": {
            "text/plain": [
              "1    115\n",
              "0     97\n",
              "Name: target, dtype: int64"
            ]
          },
          "metadata": {
            "tags": []
          },
          "execution_count": 7
        }
      ]
    },
    {
      "cell_type": "markdown",
      "metadata": {
        "id": "CqI5orR7eInk"
      },
      "source": [
        "### Checks duplicate & null values"
      ]
    },
    {
      "cell_type": "code",
      "metadata": {
        "colab": {
          "base_uri": "https://localhost:8080/"
        },
        "id": "-JElzUA7eB4w",
        "outputId": "59d2ad17-2656-4634-f1ec-25d9b9f9e592"
      },
      "source": [
        "df.isnull().sum()"
      ],
      "execution_count": null,
      "outputs": [
        {
          "output_type": "execute_result",
          "data": {
            "text/plain": [
              "age         0\n",
              "sex         0\n",
              "cp          0\n",
              "trestbps    0\n",
              "chol        0\n",
              "fbs         0\n",
              "restecg     0\n",
              "thalach     0\n",
              "exang       0\n",
              "oldpeak     0\n",
              "slope       0\n",
              "ca          0\n",
              "thal        0\n",
              "target      0\n",
              "dtype: int64"
            ]
          },
          "metadata": {
            "tags": []
          },
          "execution_count": 8
        }
      ]
    },
    {
      "cell_type": "code",
      "metadata": {
        "colab": {
          "base_uri": "https://localhost:8080/",
          "height": 80
        },
        "id": "_55R5Ec6eTFj",
        "outputId": "b1ee7ac4-f4a1-480f-8787-cda3c3c9d0e7"
      },
      "source": [
        "df[df.duplicated()]"
      ],
      "execution_count": null,
      "outputs": [
        {
          "output_type": "execute_result",
          "data": {
            "text/html": [
              "<div>\n",
              "<style scoped>\n",
              "    .dataframe tbody tr th:only-of-type {\n",
              "        vertical-align: middle;\n",
              "    }\n",
              "\n",
              "    .dataframe tbody tr th {\n",
              "        vertical-align: top;\n",
              "    }\n",
              "\n",
              "    .dataframe thead th {\n",
              "        text-align: right;\n",
              "    }\n",
              "</style>\n",
              "<table border=\"1\" class=\"dataframe\">\n",
              "  <thead>\n",
              "    <tr style=\"text-align: right;\">\n",
              "      <th></th>\n",
              "      <th>age</th>\n",
              "      <th>sex</th>\n",
              "      <th>cp</th>\n",
              "      <th>trestbps</th>\n",
              "      <th>chol</th>\n",
              "      <th>fbs</th>\n",
              "      <th>restecg</th>\n",
              "      <th>thalach</th>\n",
              "      <th>exang</th>\n",
              "      <th>oldpeak</th>\n",
              "      <th>slope</th>\n",
              "      <th>ca</th>\n",
              "      <th>thal</th>\n",
              "      <th>target</th>\n",
              "    </tr>\n",
              "  </thead>\n",
              "  <tbody>\n",
              "    <tr>\n",
              "      <th>175</th>\n",
              "      <td>38</td>\n",
              "      <td>1</td>\n",
              "      <td>2</td>\n",
              "      <td>138</td>\n",
              "      <td>175</td>\n",
              "      <td>0</td>\n",
              "      <td>1</td>\n",
              "      <td>173</td>\n",
              "      <td>0</td>\n",
              "      <td>0.0</td>\n",
              "      <td>2</td>\n",
              "      <td>4</td>\n",
              "      <td>2</td>\n",
              "      <td>1</td>\n",
              "    </tr>\n",
              "  </tbody>\n",
              "</table>\n",
              "</div>"
            ],
            "text/plain": [
              "     age  sex  cp  trestbps  chol  fbs  ...  exang  oldpeak  slope  ca  thal  target\n",
              "175   38    1   2       138   175    0  ...      0      0.0      2   4     2       1\n",
              "\n",
              "[1 rows x 14 columns]"
            ]
          },
          "metadata": {
            "tags": []
          },
          "execution_count": 9
        }
      ]
    },
    {
      "cell_type": "code",
      "metadata": {
        "id": "-DTiKh8QeknB"
      },
      "source": [
        "# Delete duplicated value\n",
        "df = df.drop(df[df.duplicated()].index)"
      ],
      "execution_count": null,
      "outputs": []
    },
    {
      "cell_type": "markdown",
      "metadata": {
        "id": "y9BScIwwedAT"
      },
      "source": [
        "## Separate the Input and Target Features of the data"
      ]
    },
    {
      "cell_type": "code",
      "metadata": {
        "id": "ZuJ9GagifJEa"
      },
      "source": [
        "X = df.drop(\"target\", axis=1)\n",
        "y = df.target"
      ],
      "execution_count": null,
      "outputs": []
    },
    {
      "cell_type": "markdown",
      "metadata": {
        "id": "9eIeo9VmfKz8"
      },
      "source": [
        "## Split the data into Train and Test Sets\n",
        "The train to test ratio should be 80:20 and the random_state should be 0.\n"
      ]
    },
    {
      "cell_type": "code",
      "metadata": {
        "id": "LJBCPZeQfV1s"
      },
      "source": [
        "from sklearn.model_selection import train_test_split\n",
        "\n",
        "# train test split\n",
        "X_train, X_test, y_train, y_test = train_test_split(X, y, test_size=0.2, random_state=0)"
      ],
      "execution_count": null,
      "outputs": []
    },
    {
      "cell_type": "markdown",
      "metadata": {
        "id": "KAw1T0dpg-co"
      },
      "source": [
        "## Scale your data if required"
      ]
    },
    {
      "cell_type": "code",
      "metadata": {
        "id": "a8CA8U6RhWAW"
      },
      "source": [
        "from sklearn import preprocessing\n",
        "\n",
        "X_train_arr = np.array(X_train)\n",
        "X_train_scaled = preprocessing.scale(X_train)\n",
        "X_test_arr = np.array(X_test)\n",
        "X_test_scaled = preprocessing.scale(X_test)"
      ],
      "execution_count": null,
      "outputs": []
    },
    {
      "cell_type": "markdown",
      "metadata": {
        "id": "o3rALxJNfjtq"
      },
      "source": [
        "# Task 2"
      ]
    },
    {
      "cell_type": "markdown",
      "metadata": {
        "id": "wrMSmzxrfbqs"
      },
      "source": [
        "## Build a Logistic Regression Model on train set"
      ]
    },
    {
      "cell_type": "code",
      "metadata": {
        "id": "8Wq4I8tQbDl0",
        "colab": {
          "base_uri": "https://localhost:8080/"
        },
        "outputId": "64582fce-54c5-4b75-c250-86b78d808c1a"
      },
      "source": [
        "from sklearn.linear_model import LogisticRegression\n",
        "logreg=LogisticRegression()\n",
        "\n",
        "logreg.fit(X_train_scaled,y_train)"
      ],
      "execution_count": null,
      "outputs": [
        {
          "output_type": "execute_result",
          "data": {
            "text/plain": [
              "LogisticRegression(C=1.0, class_weight=None, dual=False, fit_intercept=True,\n",
              "                   intercept_scaling=1, l1_ratio=None, max_iter=100,\n",
              "                   multi_class='auto', n_jobs=None, penalty='l2',\n",
              "                   random_state=None, solver='lbfgs', tol=0.0001, verbose=0,\n",
              "                   warm_start=False)"
            ]
          },
          "metadata": {
            "tags": []
          },
          "execution_count": 14
        }
      ]
    },
    {
      "cell_type": "markdown",
      "metadata": {
        "id": "oYmicAgEbEDc"
      },
      "source": [
        "## Evaluate the model using F1 Score"
      ]
    },
    {
      "cell_type": "code",
      "metadata": {
        "id": "-0okvhuAbGzS",
        "colab": {
          "base_uri": "https://localhost:8080/"
        },
        "outputId": "94ac0202-66f3-43cb-9299-7b5017841f4d"
      },
      "source": [
        "preds = logreg.predict(X_test_scaled)\n",
        "\n",
        "from sklearn.metrics import f1_score\n",
        "#calculate accuracy\n",
        "print(\"F1 Score: \",f1_score(y_test, preds))"
      ],
      "execution_count": null,
      "outputs": [
        {
          "output_type": "stream",
          "text": [
            "F1 Score:  0.8333333333333333\n"
          ],
          "name": "stdout"
        }
      ]
    },
    {
      "cell_type": "markdown",
      "metadata": {
        "id": "p6lAgwqgbMKz"
      },
      "source": [
        "# Task 3"
      ]
    },
    {
      "cell_type": "markdown",
      "metadata": {
        "id": "4OmK-LwobHQj"
      },
      "source": [
        "##  Use a SHAP Explainer to derive SHAP Values for the logistic regression model."
      ]
    },
    {
      "cell_type": "code",
      "metadata": {
        "id": "DiFAhyZVbWgf",
        "colab": {
          "base_uri": "https://localhost:8080/"
        },
        "outputId": "9669eba5-fa41-41a6-f00b-824bdb09b555"
      },
      "source": [
        "!pip install shap"
      ],
      "execution_count": null,
      "outputs": [
        {
          "output_type": "stream",
          "text": [
            "Collecting shap\n",
            "\u001b[?25l  Downloading https://files.pythonhosted.org/packages/85/a3/c0eab9dd6a894165e2cb87504ff5b2710ac5ede3447d9138620b7341b6a2/shap-0.37.0.tar.gz (326kB)\n",
            "\r\u001b[K     |█                               | 10kB 8.3MB/s eta 0:00:01\r\u001b[K     |██                              | 20kB 7.3MB/s eta 0:00:01\r\u001b[K     |███                             | 30kB 6.9MB/s eta 0:00:01\r\u001b[K     |████                            | 40kB 5.3MB/s eta 0:00:01\r\u001b[K     |█████                           | 51kB 6.5MB/s eta 0:00:01\r\u001b[K     |██████                          | 61kB 7.6MB/s eta 0:00:01\r\u001b[K     |███████                         | 71kB 6.8MB/s eta 0:00:01\r\u001b[K     |████████                        | 81kB 7.6MB/s eta 0:00:01\r\u001b[K     |█████████                       | 92kB 7.6MB/s eta 0:00:01\r\u001b[K     |██████████                      | 102kB 7.2MB/s eta 0:00:01\r\u001b[K     |███████████                     | 112kB 7.2MB/s eta 0:00:01\r\u001b[K     |████████████                    | 122kB 7.2MB/s eta 0:00:01\r\u001b[K     |█████████████                   | 133kB 7.2MB/s eta 0:00:01\r\u001b[K     |██████████████                  | 143kB 7.2MB/s eta 0:00:01\r\u001b[K     |███████████████                 | 153kB 7.2MB/s eta 0:00:01\r\u001b[K     |████████████████                | 163kB 7.2MB/s eta 0:00:01\r\u001b[K     |█████████████████               | 174kB 7.2MB/s eta 0:00:01\r\u001b[K     |██████████████████              | 184kB 7.2MB/s eta 0:00:01\r\u001b[K     |███████████████████             | 194kB 7.2MB/s eta 0:00:01\r\u001b[K     |████████████████████            | 204kB 7.2MB/s eta 0:00:01\r\u001b[K     |█████████████████████           | 215kB 7.2MB/s eta 0:00:01\r\u001b[K     |██████████████████████          | 225kB 7.2MB/s eta 0:00:01\r\u001b[K     |███████████████████████         | 235kB 7.2MB/s eta 0:00:01\r\u001b[K     |████████████████████████        | 245kB 7.2MB/s eta 0:00:01\r\u001b[K     |█████████████████████████       | 256kB 7.2MB/s eta 0:00:01\r\u001b[K     |██████████████████████████      | 266kB 7.2MB/s eta 0:00:01\r\u001b[K     |███████████████████████████     | 276kB 7.2MB/s eta 0:00:01\r\u001b[K     |████████████████████████████    | 286kB 7.2MB/s eta 0:00:01\r\u001b[K     |█████████████████████████████   | 296kB 7.2MB/s eta 0:00:01\r\u001b[K     |██████████████████████████████  | 307kB 7.2MB/s eta 0:00:01\r\u001b[K     |███████████████████████████████ | 317kB 7.2MB/s eta 0:00:01\r\u001b[K     |████████████████████████████████| 327kB 7.2MB/s \n",
            "\u001b[?25hRequirement already satisfied: numpy in /usr/local/lib/python3.6/dist-packages (from shap) (1.19.4)\n",
            "Requirement already satisfied: scipy in /usr/local/lib/python3.6/dist-packages (from shap) (1.4.1)\n",
            "Requirement already satisfied: scikit-learn in /usr/local/lib/python3.6/dist-packages (from shap) (0.22.2.post1)\n",
            "Requirement already satisfied: pandas in /usr/local/lib/python3.6/dist-packages (from shap) (1.1.5)\n",
            "Requirement already satisfied: tqdm>4.25.0 in /usr/local/lib/python3.6/dist-packages (from shap) (4.41.1)\n",
            "Collecting slicer==0.0.3\n",
            "  Downloading https://files.pythonhosted.org/packages/02/a6/c708c5a0f338e99cfbcb6288b88794525548e4fc1b8457feec2c552a81a4/slicer-0.0.3-py3-none-any.whl\n",
            "Requirement already satisfied: numba in /usr/local/lib/python3.6/dist-packages (from shap) (0.48.0)\n",
            "Requirement already satisfied: joblib>=0.11 in /usr/local/lib/python3.6/dist-packages (from scikit-learn->shap) (1.0.0)\n",
            "Requirement already satisfied: python-dateutil>=2.7.3 in /usr/local/lib/python3.6/dist-packages (from pandas->shap) (2.8.1)\n",
            "Requirement already satisfied: pytz>=2017.2 in /usr/local/lib/python3.6/dist-packages (from pandas->shap) (2018.9)\n",
            "Requirement already satisfied: setuptools in /usr/local/lib/python3.6/dist-packages (from numba->shap) (50.3.2)\n",
            "Requirement already satisfied: llvmlite<0.32.0,>=0.31.0dev0 in /usr/local/lib/python3.6/dist-packages (from numba->shap) (0.31.0)\n",
            "Requirement already satisfied: six>=1.5 in /usr/local/lib/python3.6/dist-packages (from python-dateutil>=2.7.3->pandas->shap) (1.15.0)\n",
            "Building wheels for collected packages: shap\n",
            "  Building wheel for shap (setup.py) ... \u001b[?25l\u001b[?25hdone\n",
            "  Created wheel for shap: filename=shap-0.37.0-cp36-cp36m-linux_x86_64.whl size=463915 sha256=9427177e255c1b8a8cce22fd0e54347e2a36d450180a40e658e3136d0c8ad774\n",
            "  Stored in directory: /root/.cache/pip/wheels/df/ad/b0/aa7815ec68850d66551ef618095eccb962c8f6022f1d3dd989\n",
            "Successfully built shap\n",
            "Installing collected packages: slicer, shap\n",
            "Successfully installed shap-0.37.0 slicer-0.0.3\n"
          ],
          "name": "stdout"
        }
      ]
    },
    {
      "cell_type": "code",
      "metadata": {
        "id": "RShAjF1trlyY"
      },
      "source": [
        "import shap"
      ],
      "execution_count": null,
      "outputs": []
    },
    {
      "cell_type": "code",
      "metadata": {
        "colab": {
          "base_uri": "https://localhost:8080/",
          "height": 164
        },
        "id": "T-Tuhi0aWyh3",
        "outputId": "57eb94bd-1a28-4cb6-fadf-d6a714bbbf70"
      },
      "source": [
        "shap.initjs()"
      ],
      "execution_count": null,
      "outputs": [
        {
          "output_type": "error",
          "ename": "NameError",
          "evalue": "ignored",
          "traceback": [
            "\u001b[0;31m---------------------------------------------------------------------------\u001b[0m",
            "\u001b[0;31mNameError\u001b[0m                                 Traceback (most recent call last)",
            "\u001b[0;32m<ipython-input-22-35c827037662>\u001b[0m in \u001b[0;36m<module>\u001b[0;34m()\u001b[0m\n\u001b[0;32m----> 1\u001b[0;31m \u001b[0minitjs\u001b[0m\u001b[0;34m(\u001b[0m\u001b[0;34m)\u001b[0m\u001b[0;34m\u001b[0m\u001b[0;34m\u001b[0m\u001b[0m\n\u001b[0m",
            "\u001b[0;31mNameError\u001b[0m: name 'initjs' is not defined"
          ]
        }
      ]
    },
    {
      "cell_type": "code",
      "metadata": {
        "colab": {
          "base_uri": "https://localhost:8080/",
          "height": 154,
          "referenced_widgets": [
            "ee5bffcc0d064aa68ef0c3cb6f5f4bdd",
            "520a4b4a1cd04936a1e7a1d56dd4a21e",
            "bc63bf1636b94a86862ced9d61ee0621",
            "932960df7a414086bcd0bcf915f08b60",
            "e67621d6e54c4b0a92ca6b7734352bee",
            "bdd6a856be894c3a9cadba6a3e6805ed",
            "dea28a116c0e41e585357563b3f3e46e",
            "c8c10e995e7a41bca549861cd0be25ae"
          ]
        },
        "id": "rS8XLvo4sQMs",
        "outputId": "10856ae7-c7be-4fed-e802-ce3fe1c4d7d1"
      },
      "source": [
        "# explain all the predictions in the test set\n",
        "explainer = shap.KernelExplainer(logreg.predict_proba, X_train)\n",
        "shap_values = explainer.shap_values(X_test)\n",
        "shap.force_plot(explainer.expected_value[0], shap_values[0], X_test)"
      ],
      "execution_count": null,
      "outputs": [
        {
          "output_type": "stream",
          "text": [
            "Using 168 background data samples could cause slower run times. Consider using shap.sample(data, K) or shap.kmeans(data, K) to summarize the background as K samples.\n"
          ],
          "name": "stderr"
        },
        {
          "output_type": "display_data",
          "data": {
            "application/vnd.jupyter.widget-view+json": {
              "model_id": "ee5bffcc0d064aa68ef0c3cb6f5f4bdd",
              "version_minor": 0,
              "version_major": 2
            },
            "text/plain": [
              "HBox(children=(FloatProgress(value=0.0, max=43.0), HTML(value='')))"
            ]
          },
          "metadata": {
            "tags": []
          }
        },
        {
          "output_type": "stream",
          "text": [
            "\n"
          ],
          "name": "stdout"
        },
        {
          "output_type": "execute_result",
          "data": {
            "text/html": [
              "\n",
              "<div id='iMBL5790GO4RIM7NNEKW7'>\n",
              "<div style='color: #900; text-align: center;'>\n",
              "  <b>Visualization omitted, Javascript library not loaded!</b><br>\n",
              "  Have you run `initjs()` in this notebook? If this notebook was from another\n",
              "  user you must also trust this notebook (File -> Trust notebook). If you are viewing\n",
              "  this notebook on github the Javascript has been stripped for security. If you are using\n",
              "  JupyterLab this error is because a JupyterLab extension has not yet been written.\n",
              "</div></div>\n",
              " <script>\n",
              "   if (window.SHAP) SHAP.ReactDom.render(\n",
              "    SHAP.React.createElement(SHAP.AdditiveForceArrayVisualizer, {\"outNames\": [\"f(x)\"], \"baseValue\": 0.04554496155797001, \"link\": \"identity\", \"featureNames\": [\"age\", \"sex\", \"cp\", \"trestbps\", \"chol\", \"fbs\", \"restecg\", \"thalach\", \"exang\", \"oldpeak\", \"slope\", \"ca\", \"thal\"], \"explanations\": [{\"outValue\": 2.4204983706255234e-07, \"simIndex\": 8.0, \"features\": {\"0\": {\"effect\": 0.00885952715107689, \"value\": 40.0}, \"1\": {\"effect\": 0.0008592993191610353, \"value\": 1.0}, \"2\": {\"effect\": 0.004345585436745358, \"value\": 0.0}, \"3\": {\"effect\": -0.07156139853260834, \"value\": 110.0}, \"4\": {\"effect\": -0.019256939917170694, \"value\": 167.0}, \"5\": {\"effect\": 0.0002999323877885471, \"value\": 0.0}, \"6\": {\"effect\": 0.001118890819950119, \"value\": 0.0}, \"7\": {\"effect\": 0.02852552656251796, \"value\": 114.0}, \"8\": {\"effect\": 0.0021153371672391896, \"value\": 1.0}, \"9\": {\"effect\": 0.002195462092745574, \"value\": 2.0}, \"10\": {\"effect\": 0.00018478312705648772, \"value\": 1.0}, \"11\": {\"effect\": -0.005855473508303462, \"value\": 0.0}, \"12\": {\"effect\": 0.0026247483856683893, \"value\": 3.0}}}, {\"outValue\": 0.017486223863732678, \"simIndex\": 5.0, \"features\": {\"0\": {\"effect\": -0.011791832078600739, \"value\": 64.0}, \"1\": {\"effect\": 0.002234062124226669, \"value\": 1.0}, \"2\": {\"effect\": 0.010464011143308548, \"value\": 0.0}, \"3\": {\"effect\": -0.13964141902994187, \"value\": 128.0}, \"4\": {\"effect\": -0.00363779171064604, \"value\": 263.0}, \"5\": {\"effect\": 0.0002544306123560443, \"value\": 0.0}, \"6\": {\"effect\": -0.0039516303974563155, \"value\": 1.0}, \"7\": {\"effect\": 0.12163724875983141, \"value\": 105.0}, \"8\": {\"effect\": 0.005473811418119291, \"value\": 1.0}, \"9\": {\"effect\": -0.016188619105476226, \"value\": 0.2}, \"10\": {\"effect\": 0.0023158793448730917, \"value\": 1.0}, \"11\": {\"effect\": -0.0015573356832953023, \"value\": 1.0}, \"12\": {\"effect\": 0.006330446908464099, \"value\": 3.0}}}, {\"outValue\": 1.5356174665193123e-11, \"simIndex\": 35.0, \"features\": {\"0\": {\"effect\": 0.0027339606760089542, \"value\": 48.0}, \"1\": {\"effect\": 0.0002781584371615402, \"value\": 1.0}, \"2\": {\"effect\": 0.0017052958294457507, \"value\": 0.0}, \"3\": {\"effect\": -0.009667021990756346, \"value\": 130.0}, \"4\": {\"effect\": -0.000728979491450843, \"value\": 256.0}, \"5\": {\"effect\": 7.747317978363741e-05, \"value\": 1.0}, \"6\": {\"effect\": 0.0005713009967794717, \"value\": 0.0}, \"7\": {\"effect\": -0.03833150311703379, \"value\": 150.0}, \"8\": {\"effect\": 0.0005572343424498187, \"value\": 1.0}, \"9\": {\"effect\": -0.0036291576961589023, \"value\": 0.0}, \"10\": {\"effect\": -0.0029759887052223863, \"value\": 2.0}, \"11\": {\"effect\": 0.0025482443115736123, \"value\": 2.0}, \"12\": {\"effect\": 0.0013160216848056294, \"value\": 3.0}}}, {\"outValue\": 1.8587659869062634e-06, \"simIndex\": 28.0, \"features\": {\"0\": {\"effect\": -0.001630064012757778, \"value\": 64.0}, \"1\": {\"effect\": 0.00031278711596323394, \"value\": 1.0}, \"2\": {\"effect\": 0.0018280857538146636, \"value\": 0.0}, \"3\": {\"effect\": -0.0019234090445104449, \"value\": 145.0}, \"4\": {\"effect\": -0.006919693212143255, \"value\": 212.0}, \"5\": {\"effect\": -1.4002079298039427e-06, \"value\": 0.0}, \"6\": {\"effect\": 0.0007588879612942315, \"value\": 0.0}, \"7\": {\"effect\": -0.035066922986513385, \"value\": 132.0}, \"8\": {\"effect\": -0.0018338283528489922, \"value\": 0.0}, \"9\": {\"effect\": 0.00019491268133199624, \"value\": 2.0}, \"10\": {\"effect\": -0.0005774229695867349, \"value\": 1.0}, \"11\": {\"effect\": 0.0031547476594058505, \"value\": 2.0}, \"12\": {\"effect\": -0.0038397831775026786, \"value\": 1.0}}}, {\"outValue\": 7.117525965605331e-06, \"simIndex\": 14.0, \"features\": {\"0\": {\"effect\": -0.0019815065444228237, \"value\": 65.0}, \"1\": {\"effect\": 0.0005803566147445927, \"value\": 1.0}, \"2\": {\"effect\": 0.002267674696426379, \"value\": 0.0}, \"3\": {\"effect\": -0.020787758004053858, \"value\": 135.0}, \"4\": {\"effect\": -0.0013175155689479946, \"value\": 254.0}, \"5\": {\"effect\": -0.00013242885247405703, \"value\": 0.0}, \"6\": {\"effect\": 0.0007649920064032555, \"value\": 0.0}, \"7\": {\"effect\": -0.026878379938620113, \"value\": 127.0}, \"8\": {\"effect\": -0.0018870365561899152, \"value\": 0.0}, \"9\": {\"effect\": 0.003247773206873132, \"value\": 2.8}, \"10\": {\"effect\": -0.0006626279537900043, \"value\": 1.0}, \"11\": {\"effect\": -0.000502460571503105, \"value\": 1.0}, \"12\": {\"effect\": 0.0017510734335501044, \"value\": 3.0}}}, {\"outValue\": 1.3322676295501878e-15, \"simIndex\": 38.0, \"features\": {\"0\": {\"effect\": 0.0007924898673974771, \"value\": 55.0}, \"1\": {\"effect\": -0.0014229380914475842, \"value\": 0.0}, \"2\": {\"effect\": -0.0018535745823310135, \"value\": 1.0}, \"3\": {\"effect\": -0.007350606805707434, \"value\": 132.0}, \"4\": {\"effect\": 0.009097938808527106, \"value\": 342.0}, \"5\": {\"effect\": -7.841319041145683e-05, \"value\": 0.0}, \"6\": {\"effect\": -0.0007191729629211982, \"value\": 1.0}, \"7\": {\"effect\": -0.03475630391186375, \"value\": 166.0}, \"8\": {\"effect\": -0.001468731913087426, \"value\": 0.0}, \"9\": {\"effect\": -0.0009590442957313136, \"value\": 1.2}, \"10\": {\"effect\": -0.002619779424378691, \"value\": 2.0}, \"11\": {\"effect\": -0.003159559137185311, \"value\": 0.0}, \"12\": {\"effect\": -0.0010472659188280747, \"value\": 2.0}}}, {\"outValue\": 0.0, \"simIndex\": 23.0, \"features\": {\"0\": {\"effect\": 0.0046895258631590095, \"value\": 35.0}, \"1\": {\"effect\": 8.873023202858599e-05, \"value\": 1.0}, \"2\": {\"effect\": -0.0015174466207075119, \"value\": 1.0}, \"3\": {\"effect\": -0.011547577776636446, \"value\": 122.0}, \"4\": {\"effect\": -0.005435767815470071, \"value\": 192.0}, \"5\": {\"effect\": -4.430727278703639e-05, \"value\": 0.0}, \"6\": {\"effect\": -0.0006801410306248798, \"value\": 1.0}, \"7\": {\"effect\": -0.02200366008956952, \"value\": 174.0}, \"8\": {\"effect\": -0.0012063546546541258, \"value\": 0.0}, \"9\": {\"effect\": -0.0026872799878022435, \"value\": 0.0}, \"10\": {\"effect\": -0.00190824221007568, \"value\": 2.0}, \"11\": {\"effect\": -0.00274536748886358, \"value\": 0.0}, \"12\": {\"effect\": -0.0005470727059665101, \"value\": 2.0}}}, {\"outValue\": 1.2638778912332782e-11, \"simIndex\": 20.0, \"features\": {\"0\": {\"effect\": -0.0008916286817091494, \"value\": 63.0}, \"1\": {\"effect\": -0.0013512586342879114, \"value\": 0.0}, \"2\": {\"effect\": 0.0013506242925766798, \"value\": 0.0}, \"3\": {\"effect\": -0.01147953873914168, \"value\": 124.0}, \"4\": {\"effect\": -0.0061133341651396535, \"value\": 197.0}, \"5\": {\"effect\": 3.3169209077532624e-05, \"value\": 0.0}, \"6\": {\"effect\": -0.0005171581201193765, \"value\": 1.0}, \"7\": {\"effect\": -0.019742644801950385, \"value\": 136.0}, \"8\": {\"effect\": 0.00043787363376478206, \"value\": 1.0}, \"9\": {\"effect\": -0.002927034872636798, \"value\": 0.0}, \"10\": {\"effect\": -0.00040061292155725223, \"value\": 1.0}, \"11\": {\"effect\": -0.003082149971008273, \"value\": 0.0}, \"12\": {\"effect\": -0.0008612677731997462, \"value\": 2.0}}}, {\"outValue\": 0.9995710870476798, \"simIndex\": 1.0, \"features\": {\"0\": {\"effect\": -0.012134441300499788, \"value\": 67.0}, \"1\": {\"effect\": 0.001915505218226421, \"value\": 1.0}, \"2\": {\"effect\": 0.012969372489392228, \"value\": 0.0}, \"3\": {\"effect\": 0.36454736302534985, \"value\": 160.0}, \"4\": {\"effect\": 0.01779671310913178, \"value\": 286.0}, \"5\": {\"effect\": 0.0001799394288645173, \"value\": 0.0}, \"6\": {\"effect\": 0.0030706809079790176, \"value\": 0.0}, \"7\": {\"effect\": 0.532391218032382, \"value\": 108.0}, \"8\": {\"effect\": 0.005732052512340324, \"value\": 1.0}, \"9\": {\"effect\": 0.002884514843919883, \"value\": 1.5}, \"10\": {\"effect\": 0.002300257298320285, \"value\": 1.0}, \"11\": {\"effect\": 0.025705686087379498, \"value\": 3.0}, \"12\": {\"effect\": -0.0033327361630761665, \"value\": 2.0}}}, {\"outValue\": 7.631411186197201e-06, \"simIndex\": 12.0, \"features\": {\"0\": {\"effect\": -0.000545251432100706, \"value\": 61.0}, \"1\": {\"effect\": 0.000620331049556045, \"value\": 1.0}, \"2\": {\"effect\": 0.002454172007421856, \"value\": 0.0}, \"3\": {\"effect\": -0.01674211078002694, \"value\": 138.0}, \"4\": {\"effect\": -0.01349469916743963, \"value\": 166.0}, \"5\": {\"effect\": -0.0001126193454700497, \"value\": 0.0}, \"6\": {\"effect\": 0.0007401153563597121, \"value\": 0.0}, \"7\": {\"effect\": -0.022120228754873298, \"value\": 125.0}, \"8\": {\"effect\": 0.0008915770507420678, \"value\": 1.0}, \"9\": {\"effect\": 0.004964155940116136, \"value\": 3.6}, \"10\": {\"effect\": -0.0004438020531386186, \"value\": 1.0}, \"11\": {\"effect\": -0.0004465831650477259, \"value\": 1.0}, \"12\": {\"effect\": -0.001302386852882656, \"value\": 2.0}}}, {\"outValue\": 3.5124911312856e-08, \"simIndex\": 37.0, \"features\": {\"0\": {\"effect\": -0.00133539877545219, \"value\": 64.0}, \"1\": {\"effect\": -0.0014312901531627238, \"value\": 0.0}, \"2\": {\"effect\": -0.004976788639433703, \"value\": 2.0}, \"3\": {\"effect\": -0.0033731977090054807, \"value\": 140.0}, \"4\": {\"effect\": 0.005390204382486958, \"value\": 313.0}, \"5\": {\"effect\": -4.74112866055143e-05, \"value\": 0.0}, \"6\": {\"effect\": -0.0006518907379252994, \"value\": 1.0}, \"7\": {\"effect\": -0.029746144382028564, \"value\": 133.0}, \"8\": {\"effect\": -0.0014811969463674537, \"value\": 0.0}, \"9\": {\"effect\": -0.003265784612324907, \"value\": 0.2}, \"10\": {\"effect\": -0.0026654408393498377, \"value\": 2.0}, \"11\": {\"effect\": -0.003053438146895071, \"value\": 0.0}, \"12\": {\"effect\": 0.0010928514130050873, \"value\": 3.0}}}, {\"outValue\": 1.2138290372831761e-11, \"simIndex\": 11.0, \"features\": {\"0\": {\"effect\": -0.0022629770815773623, \"value\": 71.0}, \"1\": {\"effect\": -0.0011665329528297366, \"value\": 0.0}, \"2\": {\"effect\": 0.0013534580415935846, \"value\": 0.0}, \"3\": {\"effect\": -0.0195590917282309, \"value\": 112.0}, \"4\": {\"effect\": -0.009146560780497498, \"value\": 149.0}, \"5\": {\"effect\": -1.706023763664577e-05, \"value\": 0.0}, \"6\": {\"effect\": -0.0005341345042403911, \"value\": 1.0}, \"7\": {\"effect\": -0.008946477917495761, \"value\": 125.0}, \"8\": {\"effect\": -0.0012339010078014079, \"value\": 0.0}, \"9\": {\"effect\": -0.00016167578408885289, \"value\": 1.6}, \"10\": {\"effect\": -0.0002906974838893621, \"value\": 1.0}, \"11\": {\"effect\": -0.0027457431552814215, \"value\": 0.0}, \"12\": {\"effect\": -0.0008335669538559604, \"value\": 2.0}}}, {\"outValue\": 3.859663477712161e-09, \"simIndex\": 25.0, \"features\": {\"0\": {\"effect\": 0.004302003229347477, \"value\": 41.0}, \"1\": {\"effect\": 0.0003028699794163925, \"value\": 1.0}, \"2\": {\"effect\": -0.0015938336450223925, \"value\": 1.0}, \"3\": {\"effect\": -0.006228351777268541, \"value\": 135.0}, \"4\": {\"effect\": -0.0064361684806201955, \"value\": 203.0}, \"5\": {\"effect\": -1.0680829779969453e-05, \"value\": 0.0}, \"6\": {\"effect\": -0.0006260530546021749, \"value\": 1.0}, \"7\": {\"effect\": -0.0237278331283501, \"value\": 132.0}, \"8\": {\"effect\": -0.0013780277599724257, \"value\": 0.0}, \"9\": {\"effect\": -0.003304479414002994, \"value\": 0.0}, \"10\": {\"effect\": -0.0005719901641495703, \"value\": 1.0}, \"11\": {\"effect\": -0.00309931469299116, \"value\": 0.0}, \"12\": {\"effect\": -0.003173097960310872, \"value\": 1.0}}}, {\"outValue\": 0.0, \"simIndex\": 22.0, \"features\": {\"0\": {\"effect\": 0.004117623066792857, \"value\": 37.0}, \"1\": {\"effect\": -0.0010038827202460548, \"value\": 0.0}, \"2\": {\"effect\": -0.003517345919232733, \"value\": 2.0}, \"3\": {\"effect\": -0.01150633495271585, \"value\": 120.0}, \"4\": {\"effect\": -0.003798846056622493, \"value\": 215.0}, \"5\": {\"effect\": 6.299201201594856e-06, \"value\": 0.0}, \"6\": {\"effect\": -0.0006130883999854279, \"value\": 1.0}, \"7\": {\"effect\": -0.020439700458389075, \"value\": 170.0}, \"8\": {\"effect\": -0.0011012377172592014, \"value\": 0.0}, \"9\": {\"effect\": -0.0025810447478459807, \"value\": 0.0}, \"10\": {\"effect\": -0.0018166827239930738, \"value\": 2.0}, \"11\": {\"effect\": -0.002635048289051537, \"value\": 0.0}, \"12\": {\"effect\": -0.00065567184062304, \"value\": 2.0}}}, {\"outValue\": 6.921242538801553e-05, \"simIndex\": 6.0, \"features\": {\"0\": {\"effect\": -0.0027015057765631574, \"value\": 60.0}, \"1\": {\"effect\": -0.005662663349370312, \"value\": 0.0}, \"2\": {\"effect\": -0.015398073298407665, \"value\": 2.0}, \"3\": {\"effect\": -0.14182851174762223, \"value\": 120.0}, \"4\": {\"effect\": -0.031669254301219515, \"value\": 178.0}, \"5\": {\"effect\": 0.00040534382866440344, \"value\": 1.0}, \"6\": {\"effect\": -0.0016100049093740014, \"value\": 1.0}, \"7\": {\"effect\": 0.18517392221073234, \"value\": 96.0}, \"8\": {\"effect\": -0.002916040901401011, \"value\": 0.0}, \"9\": {\"effect\": -0.011176250313589882, \"value\": 0.0}, \"10\": {\"effect\": -0.004293140208129324, \"value\": 2.0}, \"11\": {\"effect\": -0.010222359235450534, \"value\": 0.0}, \"12\": {\"effect\": -0.0035772111308511184, \"value\": 2.0}}}, {\"outValue\": 8.881784197001252e-16, \"simIndex\": 34.0, \"features\": {\"0\": {\"effect\": -0.0020139141097426268, \"value\": 67.0}, \"1\": {\"effect\": 0.0001788214084832776, \"value\": 1.0}, \"2\": {\"effect\": 0.0014326593135230922, \"value\": 0.0}, \"3\": {\"effect\": -0.011594097875012463, \"value\": 125.0}, \"4\": {\"effect\": -0.00065763895686205, \"value\": 254.0}, \"5\": {\"effect\": 6.186773252356281e-05, \"value\": 1.0}, \"6\": {\"effect\": -0.0006907820752262012, \"value\": 1.0}, \"7\": {\"effect\": -0.030619775437428644, \"value\": 163.0}, \"8\": {\"effect\": -0.001488536334700405, \"value\": 0.0}, \"9\": {\"effect\": -0.0030274383009497793, \"value\": 0.2}, \"10\": {\"effect\": -0.000743850492199119, \"value\": 1.0}, \"11\": {\"effect\": 0.002206648409302899, \"value\": 2.0}, \"12\": {\"effect\": 0.0014110751603193389, \"value\": 3.0}}}, {\"outValue\": 0.00035075620683565345, \"simIndex\": 43.0, \"features\": {\"0\": {\"effect\": -0.0008369015968941601, \"value\": 59.0}, \"1\": {\"effect\": 0.0008621172649870799, \"value\": 1.0}, \"2\": {\"effect\": -0.014613001577704801, \"value\": 3.0}, \"3\": {\"effect\": 0.07249403552332934, \"value\": 178.0}, \"4\": {\"effect\": 0.001326844268561344, \"value\": 270.0}, \"5\": {\"effect\": 6.692740597715602e-05, \"value\": 0.0}, \"6\": {\"effect\": 0.0010088017130720495, \"value\": 0.0}, \"7\": {\"effect\": -0.11232405827028463, \"value\": 145.0}, \"8\": {\"effect\": -0.0025395399214912344, \"value\": 0.0}, \"9\": {\"effect\": 0.009560234935723874, \"value\": 4.2}, \"10\": {\"effect\": 0.0037472538056349362, \"value\": 0.0}, \"11\": {\"effect\": -0.006034955376870321, \"value\": 0.0}, \"12\": {\"effect\": 0.002088036474825014, \"value\": 3.0}}}, {\"outValue\": 1.1812709810321564e-08, \"simIndex\": 41.0, \"features\": {\"0\": {\"effect\": 0.0004332950967098695, \"value\": 56.0}, \"1\": {\"effect\": -0.0016625824469487412, \"value\": 0.0}, \"2\": {\"effect\": 0.0016418684962492339, \"value\": 0.0}, \"3\": {\"effect\": -0.010928791102083005, \"value\": 134.0}, \"4\": {\"effect\": 0.016397795426148748, \"value\": 409.0}, \"5\": {\"effect\": -6.185417615440017e-05, \"value\": 0.0}, \"6\": {\"effect\": 0.0007458190482634609, \"value\": 0.0}, \"7\": {\"effect\": -0.056662022928602576, \"value\": 150.0}, \"8\": {\"effect\": 0.000442427577813799, \"value\": 1.0}, \"9\": {\"effect\": 0.00029157620099009435, \"value\": 1.9}, \"10\": {\"effect\": -0.00045323341947016774, \"value\": 1.0}, \"11\": {\"effect\": 0.0030442646109695125, \"value\": 2.0}, \"12\": {\"effect\": 0.0012264878708539706, \"value\": 3.0}}}, {\"outValue\": 0.0, \"simIndex\": 17.0, \"features\": {\"0\": {\"effect\": 0.003412871878138265, \"value\": 41.0}, \"1\": {\"effect\": -0.0011343805068959704, \"value\": 0.0}, \"2\": {\"effect\": -0.001210720105818519, \"value\": 1.0}, \"3\": {\"effect\": -0.014629249623733062, \"value\": 105.0}, \"4\": {\"effect\": -0.004875102827237805, \"value\": 198.0}, \"5\": {\"effect\": 2.0630831885946194e-05, \"value\": 0.0}, \"6\": {\"effect\": -0.000457155749893301, \"value\": 1.0}, \"7\": {\"effect\": -0.020101643707872898, \"value\": 168.0}, \"8\": {\"effect\": -0.0013191699996888233, \"value\": 0.0}, \"9\": {\"effect\": -0.00246967929316547, \"value\": 0.0}, \"10\": {\"effect\": -0.001684421820055848, \"value\": 2.0}, \"11\": {\"effect\": -0.0004342246134457252, \"value\": 1.0}, \"12\": {\"effect\": -0.0006627160201868043, \"value\": 2.0}}}, {\"outValue\": 5.013767179207207e-13, \"simIndex\": 27.0, \"features\": {\"0\": {\"effect\": 0.00016111372667691748, \"value\": 57.0}, \"1\": {\"effect\": 0.00027903060356395185, \"value\": 1.0}, \"2\": {\"effect\": -0.0021569982485872205, \"value\": 1.0}, \"3\": {\"effect\": 0.013870289309792371, \"value\": 154.0}, \"4\": {\"effect\": -0.004094070358164344, \"value\": 232.0}, \"5\": {\"effect\": -2.1021080802850062e-05, \"value\": 0.0}, \"6\": {\"effect\": 0.000723663800612756, \"value\": 0.0}, \"7\": {\"effect\": -0.04386221993381246, \"value\": 164.0}, \"8\": {\"effect\": -0.001784498194887893, \"value\": 0.0}, \"9\": {\"effect\": -0.004286008027191566, \"value\": 0.0}, \"10\": {\"effect\": -0.002711831637992594, \"value\": 2.0}, \"11\": {\"effect\": -0.00047494542274785154, \"value\": 1.0}, \"12\": {\"effect\": -0.0011874660939278636, \"value\": 2.0}}}, {\"outValue\": 0.6911186912131768, \"simIndex\": 2.0, \"features\": {\"0\": {\"effect\": -0.031144388482612417, \"value\": 62.0}, \"1\": {\"effect\": -0.028133299642611687, \"value\": 0.0}, \"2\": {\"effect\": 0.05961987349349729, \"value\": 0.0}, \"3\": {\"effect\": 0.0679910690232991, \"value\": 138.0}, \"4\": {\"effect\": 0.0947704716859118, \"value\": 294.0}, \"5\": {\"effect\": 0.0038480278692676895, \"value\": 1.0}, \"6\": {\"effect\": -0.014959652814633628, \"value\": 1.0}, \"7\": {\"effect\": 0.3398064334008506, \"value\": 106.0}, \"8\": {\"effect\": -0.01356013584542104, \"value\": 0.0}, \"9\": {\"effect\": 0.03777214839105397, \"value\": 1.9}, \"10\": {\"effect\": 0.0169109195394771, \"value\": 1.0}, \"11\": {\"effect\": 0.12549579063395627, \"value\": 3.0}, \"12\": {\"effect\": -0.012843527596828275, \"value\": 2.0}}}, {\"outValue\": 7.993605777301127e-15, \"simIndex\": 32.0, \"features\": {\"0\": {\"effect\": 0.0015291848671887855, \"value\": 52.0}, \"1\": {\"effect\": 0.0003418267065269827, \"value\": 1.0}, \"2\": {\"effect\": -0.0015746577353925525, \"value\": 1.0}, \"3\": {\"effect\": -0.003966560327854276, \"value\": 134.0}, \"4\": {\"effect\": -0.005741812304878188, \"value\": 201.0}, \"5\": {\"effect\": 1.5553602004947376e-05, \"value\": 0.0}, \"6\": {\"effect\": -0.0006503001442835846, \"value\": 1.0}, \"7\": {\"effect\": -0.028594921026780927, \"value\": 158.0}, \"8\": {\"effect\": -0.0013497956035294842, \"value\": 0.0}, \"9\": {\"effect\": -0.0016688320961700878, \"value\": 0.8}, \"10\": {\"effect\": -0.0024255078227470236, \"value\": 2.0}, \"11\": {\"effect\": -0.000544243763488713, \"value\": 1.0}, \"12\": {\"effect\": -0.0009148959085578945, \"value\": 2.0}}}, {\"outValue\": 2.462474668618597e-13, \"simIndex\": 19.0, \"features\": {\"0\": {\"effect\": -0.0012051149216029539, \"value\": 65.0}, \"1\": {\"effect\": 0.00020361881724356018, \"value\": 1.0}, \"2\": {\"effect\": 0.0013290710343842257, \"value\": 0.0}, \"3\": {\"effect\": -0.01225444345774835, \"value\": 120.0}, \"4\": {\"effect\": -0.006325847378545281, \"value\": 177.0}, \"5\": {\"effect\": -0.00012961169577278137, \"value\": 0.0}, \"6\": {\"effect\": -0.00041471580200991287, \"value\": 1.0}, \"7\": {\"effect\": -0.019935591685243732, \"value\": 140.0}, \"8\": {\"effect\": -0.0010849236050483463, \"value\": 0.0}, \"9\": {\"effect\": -0.001829285819304062, \"value\": 0.4}, \"10\": {\"effect\": -0.0019607339850950256, \"value\": 2.0}, \"11\": {\"effect\": -0.0028707681016526855, \"value\": 0.0}, \"12\": {\"effect\": 0.0009333850426715834, \"value\": 3.0}}}, {\"outValue\": 0.24607326952668807, \"simIndex\": 4.0, \"features\": {\"0\": {\"effect\": -0.04166081974825117, \"value\": 65.0}, \"1\": {\"effect\": -0.021769538000718597, \"value\": 0.0}, \"2\": {\"effect\": 0.034581744224542965, \"value\": 0.0}, \"3\": {\"effect\": 0.0733517764332223, \"value\": 150.0}, \"4\": {\"effect\": -0.059340866443544, \"value\": 225.0}, \"5\": {\"effect\": -0.002215760852711565, \"value\": 0.0}, \"6\": {\"effect\": 0.010073017443097548, \"value\": 0.0}, \"7\": {\"effect\": 0.12644888220287512, \"value\": 114.0}, \"8\": {\"effect\": -0.015516247142887685, \"value\": 0.0}, \"9\": {\"effect\": -0.009596578445574627, \"value\": 1.0}, \"10\": {\"effect\": 0.01103375437809731, \"value\": 1.0}, \"11\": {\"effect\": 0.07459575158680261, \"value\": 3.0}, \"12\": {\"effect\": 0.020543192333767862, \"value\": 3.0}}}, {\"outValue\": 6.661338147750939e-16, \"simIndex\": 26.0, \"features\": {\"0\": {\"effect\": 0.0016060693792754634, \"value\": 52.0}, \"1\": {\"effect\": 0.0001870039071346502, \"value\": 1.0}, \"2\": {\"effect\": -0.00916159112844974, \"value\": 3.0}, \"3\": {\"effect\": 0.011052330676547907, \"value\": 152.0}, \"4\": {\"effect\": 0.004073138310923617, \"value\": 298.0}, \"5\": {\"effect\": 0.00014854244602059002, \"value\": 1.0}, \"6\": {\"effect\": -0.0006742725588927412, \"value\": 1.0}, \"7\": {\"effect\": -0.04643731521305404, \"value\": 178.0}, \"8\": {\"effect\": -0.0019093857844566277, \"value\": 0.0}, \"9\": {\"effect\": -0.0016953905288467526, \"value\": 1.2}, \"10\": {\"effect\": -0.0004854715838885429, \"value\": 1.0}, \"11\": {\"effect\": -0.0036212450152280154, \"value\": 0.0}, \"12\": {\"effect\": 0.0013726255349448824, \"value\": 3.0}}}, {\"outValue\": 1.6330450325341417e-09, \"simIndex\": 42.0, \"features\": {\"0\": {\"effect\": -0.0005344332839124916, \"value\": 59.0}, \"1\": {\"effect\": 0.0003881643960125039, \"value\": 1.0}, \"2\": {\"effect\": -0.011922191595219463, \"value\": 3.0}, \"3\": {\"effect\": 0.0451422955646279, \"value\": 170.0}, \"4\": {\"effect\": 0.00428247270140578, \"value\": 288.0}, \"5\": {\"effect\": -0.000211070944815768, \"value\": 0.0}, \"6\": {\"effect\": 0.0013217370575859567, \"value\": 0.0}, \"7\": {\"effect\": -0.07470822100007252, \"value\": 159.0}, \"8\": {\"effect\": -0.001924934424375628, \"value\": 0.0}, \"9\": {\"effect\": -0.004308197167427037, \"value\": 0.2}, \"10\": {\"effect\": -0.0003047641987909619, \"value\": 1.0}, \"11\": {\"effect\": -0.004802892955183123, \"value\": 0.0}, \"12\": {\"effect\": 0.00203707592523987, \"value\": 3.0}}}, {\"outValue\": 1.3107696006375846e-07, \"simIndex\": 10.0, \"features\": {\"0\": {\"effect\": 0.0021030918633899304, \"value\": 53.0}, \"1\": {\"effect\": -0.0016242938247623996, \"value\": 0.0}, \"2\": {\"effect\": -0.005471337654376955, \"value\": 2.0}, \"3\": {\"effect\": -0.02613051723885884, \"value\": 128.0}, \"4\": {\"effect\": -0.005997283311096318, \"value\": 216.0}, \"5\": {\"effect\": -0.00011936571728198703, \"value\": 0.0}, \"6\": {\"effect\": 0.0006582587771939638, \"value\": 0.0}, \"7\": {\"effect\": 0.010380249781648174, \"value\": 115.0}, \"8\": {\"effect\": -0.001201622573588211, \"value\": 0.0}, \"9\": {\"effect\": -0.004224374909415855, \"value\": 0.0}, \"10\": {\"effect\": -0.002890233760380785, \"value\": 2.0}, \"11\": {\"effect\": -0.004442543886586187, \"value\": 0.0}, \"12\": {\"effect\": -0.006584858026894479, \"value\": 0.0}}}, {\"outValue\": 0.0, \"simIndex\": 16.0, \"features\": {\"0\": {\"effect\": 0.0017162403211552837, \"value\": 50.0}, \"1\": {\"effect\": -0.0013051453182481992, \"value\": 0.0}, \"2\": {\"effect\": 0.0012903714231087653, \"value\": 0.0}, \"3\": {\"effect\": -0.015493075271779611, \"value\": 110.0}, \"4\": {\"effect\": -0.001006897674273758, \"value\": 254.0}, \"5\": {\"effect\": 7.766679807028748e-05, \"value\": 0.0}, \"6\": {\"effect\": 0.0006698513083117016, \"value\": 0.0}, \"7\": {\"effect\": -0.021912788145259078, \"value\": 159.0}, \"8\": {\"effect\": -0.0011659854975225384, \"value\": 0.0}, \"9\": {\"effect\": -0.00276478140595977, \"value\": 0.0}, \"10\": {\"effect\": -0.002008059305814689, \"value\": 2.0}, \"11\": {\"effect\": -0.002823188545864261, \"value\": 0.0}, \"12\": {\"effect\": -0.0008191702438941489, \"value\": 2.0}}}, {\"outValue\": 2.027406020843614e-13, \"simIndex\": 36.0, \"features\": {\"0\": {\"effect\": 0.005979584313480807, \"value\": 35.0}, \"1\": {\"effect\": 0.0002327448052423936, \"value\": 1.0}, \"2\": {\"effect\": 0.001550513081196074, \"value\": 0.0}, \"3\": {\"effect\": -0.012482970251336361, \"value\": 126.0}, \"4\": {\"effect\": 0.0023650551574285715, \"value\": 282.0}, \"5\": {\"effect\": 1.9645312013677474e-05, \"value\": 0.0}, \"6\": {\"effect\": 0.0005930450934642124, \"value\": 0.0}, \"7\": {\"effect\": -0.035954479149195036, \"value\": 156.0}, \"8\": {\"effect\": 0.000642159500502084, \"value\": 1.0}, \"9\": {\"effect\": -0.003557871583089997, \"value\": 0.0}, \"10\": {\"effect\": -0.002787072777804031, \"value\": 2.0}, \"11\": {\"effect\": -0.003429051050825218, \"value\": 0.0}, \"12\": {\"effect\": 0.0012837359911555407, \"value\": 3.0}}}, {\"outValue\": 0.0, \"simIndex\": 15.0, \"features\": {\"0\": {\"effect\": -0.001249701931032545, \"value\": 65.0}, \"1\": {\"effect\": 9.872251972626797e-05, \"value\": 1.0}, \"2\": {\"effect\": 0.001415028759856267, \"value\": 0.0}, \"3\": {\"effect\": -0.016258906848755125, \"value\": 110.0}, \"4\": {\"effect\": -0.001519507017205296, \"value\": 248.0}, \"5\": {\"effect\": -0.00017281899016676275, \"value\": 0.0}, \"6\": {\"effect\": 0.0005142735958374167, \"value\": 0.0}, \"7\": {\"effect\": -0.02254381493037752, \"value\": 158.0}, \"8\": {\"effect\": -0.0011113420510014578, \"value\": 0.0}, \"9\": {\"effect\": -0.0019052310252752162, \"value\": 0.6}, \"10\": {\"effect\": -0.0020287556247613713, \"value\": 2.0}, \"11\": {\"effect\": 0.0017347007122027244, \"value\": 2.0}, \"12\": {\"effect\": -0.0025176087270173883, \"value\": 1.0}}}, {\"outValue\": 2.220446049250313e-16, \"simIndex\": 31.0, \"features\": {\"0\": {\"effect\": 0.00017931109339714216, \"value\": 58.0}, \"1\": {\"effect\": 0.0002702175716833913, \"value\": 1.0}, \"2\": {\"effect\": -0.003822425873357377, \"value\": 2.0}, \"3\": {\"effect\": 0.00021760967355146169, \"value\": 140.0}, \"4\": {\"effect\": -0.004548305923704636, \"value\": 211.0}, \"5\": {\"effect\": 9.786426053965541e-05, \"value\": 1.0}, \"6\": {\"effect\": 0.00048057636263198686, \"value\": 0.0}, \"7\": {\"effect\": -0.02850236395927797, \"value\": 165.0}, \"8\": {\"effect\": -0.0012968902327063492, \"value\": 0.0}, \"9\": {\"effect\": -0.002920943554530847, \"value\": 0.0}, \"10\": {\"effect\": -0.0021865095213225126, \"value\": 2.0}, \"11\": {\"effect\": -0.002546419308851036, \"value\": 0.0}, \"12\": {\"effect\": -0.0009666821460227043, \"value\": 2.0}}}, {\"outValue\": 1.6647572209649297e-11, \"simIndex\": 33.0, \"features\": {\"0\": {\"effect\": 0.00019487632617307127, \"value\": 58.0}, \"1\": {\"effect\": 0.00027780682024691056, \"value\": 1.0}, \"2\": {\"effect\": -0.0020299957365274984, \"value\": 1.0}, \"3\": {\"effect\": -0.01224760298920443, \"value\": 125.0}, \"4\": {\"effect\": -0.004524254694128704, \"value\": 220.0}, \"5\": {\"effect\": 3.241191992260639e-05, \"value\": 0.0}, \"6\": {\"effect\": -0.0006474664054336721, \"value\": 1.0}, \"7\": {\"effect\": -0.031272827711778674, \"value\": 144.0}, \"8\": {\"effect\": -0.0014992364630223402, \"value\": 0.0}, \"9\": {\"effect\": -0.002738398168485881, \"value\": 0.4}, \"10\": {\"effect\": -0.0005080303375618427, \"value\": 1.0}, \"11\": {\"effect\": 0.008139796962810277, \"value\": 4.0}, \"12\": {\"effect\": 0.0012779589356677334, \"value\": 3.0}}}, {\"outValue\": 0.16152379738852948, \"simIndex\": 7.0, \"features\": {\"0\": {\"effect\": -0.027234944552745013, \"value\": 62.0}, \"1\": {\"effect\": 0.006296594803681881, \"value\": 1.0}, \"2\": {\"effect\": 0.026027366201053018, \"value\": 0.0}, \"3\": {\"effect\": -0.23831772234469661, \"value\": 120.0}, \"4\": {\"effect\": 0.002856321891580617, \"value\": 267.0}, \"5\": {\"effect\": -0.0005299613285140656, \"value\": 0.0}, \"6\": {\"effect\": -0.00884953008448662, \"value\": 1.0}, \"7\": {\"effect\": 0.2705235657733963, \"value\": 99.0}, \"8\": {\"effect\": 0.014529114227048397, \"value\": 1.0}, \"9\": {\"effect\": 0.013110044624499745, \"value\": 1.8}, \"10\": {\"effect\": 0.008770889348793075, \"value\": 1.0}, \"11\": {\"effect\": 0.03154403825494178, \"value\": 2.0}, \"12\": {\"effect\": 0.017253059016006975, \"value\": 3.0}}}, {\"outValue\": 0.0, \"simIndex\": 30.0, \"features\": {\"0\": {\"effect\": 0.004016700554165666, \"value\": 40.0}, \"1\": {\"effect\": 0.00017088699429548132, \"value\": 1.0}, \"2\": {\"effect\": -0.0062938126658434665, \"value\": 3.0}, \"3\": {\"effect\": -0.0006221496798749504, \"value\": 140.0}, \"4\": {\"effect\": -0.005769498731925116, \"value\": 199.0}, \"5\": {\"effect\": 5.289556371507534e-05, \"value\": 0.0}, \"6\": {\"effect\": -0.0005738792015317837, \"value\": 1.0}, \"7\": {\"effect\": -0.03213831989380116, \"value\": 178.0}, \"8\": {\"effect\": 0.0003530351534667582, \"value\": 1.0}, \"9\": {\"effect\": -0.0006958526239184519, \"value\": 1.4}, \"10\": {\"effect\": -0.0023600204584988196, \"value\": 2.0}, \"11\": {\"effect\": -0.002649255523025619, \"value\": 0.0}, \"12\": {\"effect\": 0.0009643089548063699, \"value\": 3.0}}}, {\"outValue\": 1.176836406102666e-14, \"simIndex\": 39.0, \"features\": {\"0\": {\"effect\": 0.003887947712979914, \"value\": 43.0}, \"1\": {\"effect\": 0.0004086893872387101, \"value\": 1.0}, \"2\": {\"effect\": -0.005181793944285168, \"value\": 2.0}, \"3\": {\"effect\": -0.009047781343850054, \"value\": 130.0}, \"4\": {\"effect\": 0.00604817171144488, \"value\": 315.0}, \"5\": {\"effect\": -6.0942079278338696e-05, \"value\": 0.0}, \"6\": {\"effect\": -0.0007342359773812313, \"value\": 1.0}, \"7\": {\"effect\": -0.03555988143735985, \"value\": 162.0}, \"8\": {\"effect\": -0.0016305991214547455, \"value\": 0.0}, \"9\": {\"effect\": 0.0004945757833673334, \"value\": 1.9}, \"10\": {\"effect\": -0.0027428961218099873, \"value\": 2.0}, \"11\": {\"effect\": -0.0004854466969813065, \"value\": 1.0}, \"12\": {\"effect\": -0.0009407694305883993, \"value\": 2.0}}}, {\"outValue\": 1.3766765505351941e-14, \"simIndex\": 24.0, \"features\": {\"0\": {\"effect\": 0.003292143802800823, \"value\": 42.0}, \"1\": {\"effect\": 0.00028840910247910495, \"value\": 1.0}, \"2\": {\"effect\": -0.0037953385982088944, \"value\": 2.0}, \"3\": {\"effect\": -0.006559225837242777, \"value\": 130.0}, \"4\": {\"effect\": -0.006094530312784178, \"value\": 180.0}, \"5\": {\"effect\": -4.370375595369458e-05, \"value\": 0.0}, \"6\": {\"effect\": -0.0005722019294100954, \"value\": 1.0}, \"7\": {\"effect\": -0.022421614705096973, \"value\": 150.0}, \"8\": {\"effect\": -0.0011040133421103028, \"value\": 0.0}, \"9\": {\"effect\": -0.0028032705162038367, \"value\": 0.0}, \"10\": {\"effect\": -0.0021477405653884257, \"value\": 2.0}, \"11\": {\"effect\": -0.0028117250991759116, \"value\": 0.0}, \"12\": {\"effect\": -0.0007721498016610776, \"value\": 2.0}}}, {\"outValue\": 4.440892098500626e-16, \"simIndex\": 13.0, \"features\": {\"0\": {\"effect\": -0.00021179904907158917, \"value\": 60.0}, \"1\": {\"effect\": 0.00014468107649221254, \"value\": 1.0}, \"2\": {\"effect\": 0.0011830745438724533, \"value\": 0.0}, \"3\": {\"effect\": -0.01660495317097098, \"value\": 117.0}, \"4\": {\"effect\": -0.003132855802066757, \"value\": 230.0}, \"5\": {\"effect\": 9.292040753700742e-05, \"value\": 1.0}, \"6\": {\"effect\": -0.0006265461091634755, \"value\": 1.0}, \"7\": {\"effect\": -0.0269544466179124, \"value\": 160.0}, \"8\": {\"effect\": 0.0003583576054555747, \"value\": 1.0}, \"9\": {\"effect\": -0.0005194619570884629, \"value\": 1.4}, \"10\": {\"effect\": -0.0025720969565655206, \"value\": 2.0}, \"11\": {\"effect\": 0.0019524618439576355, \"value\": 2.0}, \"12\": {\"effect\": 0.0013457026275547276, \"value\": 3.0}}}, {\"outValue\": 0.0, \"simIndex\": 18.0, \"features\": {\"0\": {\"effect\": 0.0031395637729234663, \"value\": 41.0}, \"1\": {\"effect\": 0.00018496898280368976, \"value\": 1.0}, \"2\": {\"effect\": 0.0012326654694185604, \"value\": 0.0}, \"3\": {\"effect\": -0.015326359794660616, \"value\": 110.0}, \"4\": {\"effect\": -0.006748751118490506, \"value\": 172.0}, \"5\": {\"effect\": -4.217224715720794e-05, \"value\": 0.0}, \"6\": {\"effect\": 0.00048436086267242967, \"value\": 0.0}, \"7\": {\"effect\": -0.021492893655264234, \"value\": 158.0}, \"8\": {\"effect\": -0.0011778040378456547, \"value\": 0.0}, \"9\": {\"effect\": -0.0024240645872507516, \"value\": 0.0}, \"10\": {\"effect\": -0.0018956826591704432, \"value\": 2.0}, \"11\": {\"effect\": -0.0024730864967166255, \"value\": 0.0}, \"12\": {\"effect\": 0.0009942939507678814, \"value\": 3.0}}}, {\"outValue\": 0.0, \"simIndex\": 40.0, \"features\": {\"0\": {\"effect\": 0.0014652340670377184, \"value\": 52.0}, \"1\": {\"effect\": 0.0001329411099061789, \"value\": 1.0}, \"2\": {\"effect\": -0.0018706128708880082, \"value\": 1.0}, \"3\": {\"effect\": -0.014255815351473352, \"value\": 120.0}, \"4\": {\"effect\": 0.006950302302607937, \"value\": 325.0}, \"5\": {\"effect\": 5.842048393427113e-06, \"value\": 0.0}, \"6\": {\"effect\": -0.0007342119264219203, \"value\": 1.0}, \"7\": {\"effect\": -0.026231324970639375, \"value\": 172.0}, \"8\": {\"effect\": -0.001472361608762747, \"value\": 0.0}, \"9\": {\"effect\": -0.002796818369874901, \"value\": 0.2}, \"10\": {\"effect\": -0.0025196800049821118, \"value\": 2.0}, \"11\": {\"effect\": -0.0034116638833149686, \"value\": 0.0}, \"12\": {\"effect\": -0.0008067920995578903, \"value\": 2.0}}}, {\"outValue\": 1.1681627720361298e-05, \"simIndex\": 9.0, \"features\": {\"0\": {\"effect\": 0.0013453391021753663, \"value\": 57.0}, \"1\": {\"effect\": 0.0005540333831203573, \"value\": 1.0}, \"2\": {\"effect\": 0.0037172282115079426, \"value\": 0.0}, \"3\": {\"effect\": -0.04199534808850694, \"value\": 130.0}, \"4\": {\"effect\": -0.02309686908594886, \"value\": 131.0}, \"5\": {\"effect\": -0.00027002839591580563, \"value\": 0.0}, \"6\": {\"effect\": -0.001246278126587952, \"value\": 1.0}, \"7\": {\"effect\": 0.013415839735696284, \"value\": 115.0}, \"8\": {\"effect\": 0.0016505062560783074, \"value\": 1.0}, \"9\": {\"effect\": -0.0011873659329172323, \"value\": 1.2}, \"10\": {\"effect\": 0.0002680709162774207, \"value\": 1.0}, \"11\": {\"effect\": -0.0011248884179250844, \"value\": 1.0}, \"12\": {\"effect\": 0.0024364805126965566, \"value\": 3.0}}}, {\"outValue\": 0.5582708866280767, \"simIndex\": 3.0, \"features\": {\"0\": {\"effect\": -0.017201283541351087, \"value\": 58.0}, \"1\": {\"effect\": 0.011865403649017281, \"value\": 1.0}, \"2\": {\"effect\": 0.05906119527563242, \"value\": 0.0}, \"3\": {\"effect\": 0.1629447649800509, \"value\": 150.0}, \"4\": {\"effect\": 0.04241125532168877, \"value\": 270.0}, \"5\": {\"effect\": -0.000716300498365352, \"value\": 0.0}, \"6\": {\"effect\": 0.015123158840372464, \"value\": 0.0}, \"7\": {\"effect\": 0.2602155966913947, \"value\": 111.0}, \"8\": {\"effect\": 0.029507012548008305, \"value\": 1.0}, \"9\": {\"effect\": -0.012576711093704562, \"value\": 0.8}, \"10\": {\"effect\": -0.027474607643150795, \"value\": 2.0}, \"11\": {\"effect\": -0.041778970278216254, \"value\": 0.0}, \"12\": {\"effect\": 0.03134541081872971, \"value\": 3.0}}}, {\"outValue\": 0.0, \"simIndex\": 21.0, \"features\": {\"0\": {\"effect\": 0.0030143303884405566, \"value\": 42.0}, \"1\": {\"effect\": -0.0013083410771578055, \"value\": 0.0}, \"2\": {\"effect\": -0.003636740805783332, \"value\": 2.0}, \"3\": {\"effect\": -0.011640952480634754, \"value\": 120.0}, \"4\": {\"effect\": -0.004196299810391248, \"value\": 209.0}, \"5\": {\"effect\": 7.46409136578724e-05, \"value\": 0.0}, \"6\": {\"effect\": -0.00044240915624889354, \"value\": 1.0}, \"7\": {\"effect\": -0.020425815147835452, \"value\": 173.0}, \"8\": {\"effect\": -0.0010316935345178087, \"value\": 0.0}, \"9\": {\"effect\": -0.0025467300749370467, \"value\": 0.0}, \"10\": {\"effect\": -0.00030909989713395064, \"value\": 1.0}, \"11\": {\"effect\": -0.002340979462374576, \"value\": 0.0}, \"12\": {\"effect\": -0.0007548714130535816, \"value\": 2.0}}}, {\"outValue\": 1.0317080523236655e-11, \"simIndex\": 29.0, \"features\": {\"0\": {\"effect\": -0.0009644826087829989, \"value\": 63.0}, \"1\": {\"effect\": 0.00019434984980308198, \"value\": 1.0}, \"2\": {\"effect\": -0.006440855796911317, \"value\": 3.0}, \"3\": {\"effect\": 0.0035871618126943616, \"value\": 145.0}, \"4\": {\"effect\": -0.002861258689530362, \"value\": 233.0}, \"5\": {\"effect\": 1.1291741132055111e-05, \"value\": 1.0}, \"6\": {\"effect\": 0.0006098833878230708, \"value\": 0.0}, \"7\": {\"effect\": -0.03469455403206464, \"value\": 150.0}, \"8\": {\"effect\": -0.0014823000734411548, \"value\": 0.0}, \"9\": {\"effect\": 0.0007995619458162559, \"value\": 2.3}, \"10\": {\"effect\": 0.0013307246164253744, \"value\": 0.0}, \"11\": {\"effect\": -0.002695642096114375, \"value\": 0.0}, \"12\": {\"effect\": -0.002938841604502279, \"value\": 1.0}}}], \"plot_cmap\": \"RdBu\", \"ordering_keys\": null, \"ordering_keys_time_format\": null}),\n",
              "    document.getElementById('iMBL5790GO4RIM7NNEKW7')\n",
              "  );\n",
              "</script>"
            ],
            "text/plain": [
              "<shap.plots._force.AdditiveForceArrayVisualizer at 0x7f361759b898>"
            ]
          },
          "metadata": {
            "tags": []
          },
          "execution_count": 21
        }
      ]
    },
    {
      "cell_type": "markdown",
      "metadata": {
        "id": "YOkmovCEeCY6"
      },
      "source": [
        "## Write your inferences from the generated plot."
      ]
    },
    {
      "cell_type": "markdown",
      "metadata": {
        "id": "Zj0vfz09eIX4"
      },
      "source": [
        ""
      ]
    },
    {
      "cell_type": "markdown",
      "metadata": {
        "id": "qFptCREabbFJ"
      },
      "source": [
        "# Task 4"
      ]
    },
    {
      "cell_type": "markdown",
      "metadata": {
        "id": "WX5lMJhcbgqD"
      },
      "source": [
        "## Plot a SHAP force plot for the first row of test data."
      ]
    },
    {
      "cell_type": "code",
      "metadata": {
        "id": "xl4sKAdLbdHl"
      },
      "source": [
        "y_test.iloc[10], preds[10]"
      ],
      "execution_count": null,
      "outputs": []
    },
    {
      "cell_type": "code",
      "metadata": {
        "id": "qCXadB672185"
      },
      "source": [
        "explainer.expected_value"
      ],
      "execution_count": null,
      "outputs": []
    },
    {
      "cell_type": "code",
      "metadata": {
        "id": "ExHFCTYV25IE"
      },
      "source": [
        "shap.initjs()\n",
        "shap.force_plot(explainer.expected_value, shap_values[10, :], X_test.iloc[10, :])"
      ],
      "execution_count": null,
      "outputs": []
    },
    {
      "cell_type": "markdown",
      "metadata": {
        "id": "OJltfhY1eKeY"
      },
      "source": [
        "## Write your inferences from the generated plot."
      ]
    },
    {
      "cell_type": "markdown",
      "metadata": {
        "id": "njI9qYbAeMxZ"
      },
      "source": [
        ""
      ]
    },
    {
      "cell_type": "markdown",
      "metadata": {
        "id": "C3I7LYpObtNS"
      },
      "source": [
        "# Task 5"
      ]
    },
    {
      "cell_type": "markdown",
      "metadata": {
        "id": "C-MfU71pbySa"
      },
      "source": [
        "## Plot a SHAP force plot for all the rows of the data"
      ]
    },
    {
      "cell_type": "code",
      "metadata": {
        "id": "mHrJjBVwbvLo"
      },
      "source": [
        ""
      ],
      "execution_count": null,
      "outputs": []
    },
    {
      "cell_type": "markdown",
      "metadata": {
        "id": "Iav4HfUxeODQ"
      },
      "source": [
        "## Write your inferences from the generated plot."
      ]
    },
    {
      "cell_type": "markdown",
      "metadata": {
        "id": "RC4HgS94eP1Y"
      },
      "source": [
        ""
      ]
    },
    {
      "cell_type": "markdown",
      "metadata": {
        "id": "4dW5kS8eb6RA"
      },
      "source": [
        "# Task 6"
      ]
    },
    {
      "cell_type": "markdown",
      "metadata": {
        "id": "b0CND_m2b-Fq"
      },
      "source": [
        "## Plot a SHAP summary plot using all the features in the data"
      ]
    },
    {
      "cell_type": "code",
      "metadata": {
        "id": "TIgjUACOb8Uo"
      },
      "source": [
        ""
      ],
      "execution_count": null,
      "outputs": []
    },
    {
      "cell_type": "markdown",
      "metadata": {
        "id": "VMYy2ZTPeQ-B"
      },
      "source": [
        "## Write your inferences from the generated plot."
      ]
    },
    {
      "cell_type": "markdown",
      "metadata": {
        "id": "b1GLgZ1rcJze"
      },
      "source": [
        "# Task 7"
      ]
    },
    {
      "cell_type": "markdown",
      "metadata": {
        "id": "VDYM969ccMbR"
      },
      "source": [
        "## Plot a dependence plot to show the effect of ‘chol’ across the whole dataset."
      ]
    },
    {
      "cell_type": "code",
      "metadata": {
        "id": "iP2njobrcLto"
      },
      "source": [
        ""
      ],
      "execution_count": null,
      "outputs": []
    },
    {
      "cell_type": "markdown",
      "metadata": {
        "id": "oW7SJXa3eSfi"
      },
      "source": [
        "## Write your inferences from the generated plot."
      ]
    },
    {
      "cell_type": "markdown",
      "metadata": {
        "id": "bwf2TZTfeYcn"
      },
      "source": [
        "# Task 8 (Optional)"
      ]
    },
    {
      "cell_type": "markdown",
      "metadata": {
        "id": "wm_QbqqwecbA"
      },
      "source": [
        "## Do anything and everything with SHAP\n",
        "This is the section to explore what more you can do with SHAP. Create some meaningful visualisations and write down what you can infer from them. \n",
        "\n",
        "Who knows, this section might carry some bonus points."
      ]
    },
    {
      "cell_type": "code",
      "metadata": {
        "id": "pWzHPd0fea8D"
      },
      "source": [
        ""
      ],
      "execution_count": null,
      "outputs": []
    },
    {
      "cell_type": "markdown",
      "metadata": {
        "id": "-gN8jCR5e0xZ"
      },
      "source": [
        "That is the end of this assignment. We hope you learnt a lot along the way. \n",
        "Make sure you complete the other 2 parts (leaderboard submission and quiz) as well.\n",
        "\n",
        "Now, rename this file as **firstname_lastname_XAI.ipynb**, Download it and submit it on the platform. "
      ]
    }
  ]
}