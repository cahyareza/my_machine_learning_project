{
 "cells": [
  {
   "cell_type": "markdown",
   "metadata": {
    "colab_type": "text",
    "id": "L5sc3legpDcw"
   },
   "source": [
    "# Introduction to the Case study"
   ]
  },
  {
   "cell_type": "markdown",
   "metadata": {},
   "source": [
    "**Business context.** Now you are responsible for developing a model that will predict the chances of survival of a patient after 1 year of treatment "
   ]
  },
  {
   "cell_type": "markdown",
   "metadata": {},
   "source": [
    "**Problem statement.** You want to identify \"A hospital in the province of Greenland has been trying to improve its care conditions by looking at historic survival of the patients. They tried looking at their data but could not identify the main factors leading to high survivals.\""
   ]
  },
  {
   "cell_type": "markdown",
   "metadata": {},
   "source": [
    "**Analytical context.** We will be working on a dataset that looking at historic survival of the patients. As a data scientist, you are given a responsibility to create a machine learning model that would predict the chances of survival of a patient after 1 year of treatment so a hospital in the province of Greenland can improve its care conditions."
   ]
  },
  {
   "cell_type": "markdown",
   "metadata": {},
   "source": [
    "# Importing the packages for data analysis"
   ]
  },
  {
   "cell_type": "code",
   "execution_count": 1,
   "metadata": {
    "colab": {
     "base_uri": "https://localhost:8080/",
     "height": 52
    },
    "colab_type": "code",
    "id": "k9VhK1fR9DTT",
    "outputId": "5d5e5374-96e8-4dd5-ea3d-1ccd77b15bbc"
   },
   "outputs": [],
   "source": [
    "#!pip install xgboost\n",
    "\n",
    "# importing packages\n",
    "import numpy as np # to perform calculations \n",
    "import pandas as pd # to read data\n",
    "import matplotlib.pyplot as plt # to visualise\n",
    "import seaborn as sns # to visualise\n",
    "import missingno as msno\n",
    "\n",
    "from xgboost import XGBClassifier\n",
    "from xgboost import plot_importance\n",
    "from sklearn.feature_selection import SelectFromModel\n",
    "from sklearn.metrics import classification_report, confusion_matrix, accuracy_score, f1_score \n",
    "from sklearn.model_selection import GridSearchCV, RandomizedSearchCV\n",
    "from sklearn.model_selection import cross_val_score\n",
    "from datetime import datetime"
   ]
  },
  {
   "cell_type": "code",
   "execution_count": 2,
   "metadata": {
    "colab": {},
    "colab_type": "code",
    "id": "D-C1AEAi9DTX"
   },
   "outputs": [],
   "source": [
    "#Loading the dataset\n",
    "pharma_data = pd.read_csv('https://raw.githubusercontent.com/dphi-official/Datasets/master/pharma_data/Training_set_begs.csv')"
   ]
  },
  {
   "cell_type": "markdown",
   "metadata": {
    "colab_type": "text",
    "id": "Xs592vfGpSxt"
   },
   "source": [
    "# Let's have a look at data\n"
   ]
  },
  {
   "cell_type": "markdown",
   "metadata": {},
   "source": [
    "This data set contains the patient records collected from a hospital in Greenland. The \"Survived_1_year\" column is a target variable which has binary entries (0 or 1).\n",
    "\n",
    "Survived_1_year == 0, implies that the patient did not survive after 1 year of treatment\n",
    "Survived_1_year == 1, implies that the patient survived after 1 year of treatment\n",
    "\n",
    "Data Description:\n",
    "\n",
    "1. ID_Patient_Care_Situation: Care situation of a patient during treatment\n",
    "2. Diagnosed_Condition: The diagnosed condition of the patient\n",
    "3. ID_Patient: Patient identifier number\n",
    "4. Treatment_with_drugs: Class of drugs used during treatment\n",
    "5. Survived_1_year: If the patient survived after one year (0 means did not survive; 1 means survived)\n",
    "6. Patient_Age: Age of the patient\n",
    "7. Patient_Body_Mass_Index: A calculated value based on the patient’s weight, height, etc.\n",
    "8. Patient_Smoker: If the patient was a smoker or not\n",
    "9. Patient_Rural_Urban: If the patient stayed in Rural or Urban part of the country\n",
    "10. Previous_Condition: Condition of the patient before the start of the treatment ( This variable is splitted into 8 columns - A, B, C, D, E, F, Z and Number_of_prev_cond. A, B, C, D, E, F and Z are the previous conditions of the patient. Suppose for one patient, if the entry in column A is 1, it means that the previous condition of the patient was A. If the patient didn't have that condition, it is 0 and same for other conditions. If a patient has previous condition as A and C , columns A and C will have entries as 1 and 1 respectively while the other column B, D, E, F, Z will have entries 0, 0, 0, 0, 0 respectively. The column Number_of_prev_cond will have entry as 2 i.e. 1 + 0 + 1 + 0 + 0 + 0 + 0 + 0 = 2 in this case. )"
   ]
  },
  {
   "cell_type": "code",
   "execution_count": 3,
   "metadata": {
    "colab": {
     "base_uri": "https://localhost:8080/",
     "height": 124
    },
    "colab_type": "code",
    "id": "tX0OhwrCpblk",
    "outputId": "2b058b23-6422-44e0-c85c-78f8042fb5ac"
   },
   "outputs": [
    {
     "data": {
      "text/plain": [
       "Index(['ID_Patient_Care_Situation', 'Diagnosed_Condition', 'Patient_ID',\n",
       "       'Treated_with_drugs', 'Patient_Age', 'Patient_Body_Mass_Index',\n",
       "       'Patient_Smoker', 'Patient_Rural_Urban', 'Patient_mental_condition',\n",
       "       'A', 'B', 'C', 'D', 'E', 'F', 'Z', 'Number_of_prev_cond',\n",
       "       'Survived_1_year'],\n",
       "      dtype='object')"
      ]
     },
     "execution_count": 3,
     "metadata": {},
     "output_type": "execute_result"
    }
   ],
   "source": [
    "pharma_data.columns"
   ]
  },
  {
   "cell_type": "code",
   "execution_count": 4,
   "metadata": {
    "colab": {
     "base_uri": "https://localhost:8080/",
     "height": 35
    },
    "colab_type": "code",
    "id": "HpOFpN239DTa",
    "outputId": "ac0e9b70-9bb8-48b4-9152-2a69bc00b97c"
   },
   "outputs": [
    {
     "data": {
      "text/plain": [
       "(23097, 18)"
      ]
     },
     "execution_count": 4,
     "metadata": {},
     "output_type": "execute_result"
    }
   ],
   "source": [
    "pharma_data.shape"
   ]
  },
  {
   "cell_type": "code",
   "execution_count": 5,
   "metadata": {
    "colab": {
     "base_uri": "https://localhost:8080/",
     "height": 360
    },
    "colab_type": "code",
    "id": "s3l9HKqH9DTd",
    "outputId": "063b6549-b423-46ff-d49c-73d89823dcd4"
   },
   "outputs": [
    {
     "data": {
      "text/html": [
       "<div>\n",
       "<style scoped>\n",
       "    .dataframe tbody tr th:only-of-type {\n",
       "        vertical-align: middle;\n",
       "    }\n",
       "\n",
       "    .dataframe tbody tr th {\n",
       "        vertical-align: top;\n",
       "    }\n",
       "\n",
       "    .dataframe thead th {\n",
       "        text-align: right;\n",
       "    }\n",
       "</style>\n",
       "<table border=\"1\" class=\"dataframe\">\n",
       "  <thead>\n",
       "    <tr style=\"text-align: right;\">\n",
       "      <th></th>\n",
       "      <th>ID_Patient_Care_Situation</th>\n",
       "      <th>Diagnosed_Condition</th>\n",
       "      <th>Patient_ID</th>\n",
       "      <th>Treated_with_drugs</th>\n",
       "      <th>Patient_Age</th>\n",
       "      <th>Patient_Body_Mass_Index</th>\n",
       "      <th>Patient_Smoker</th>\n",
       "      <th>Patient_Rural_Urban</th>\n",
       "      <th>Patient_mental_condition</th>\n",
       "      <th>A</th>\n",
       "      <th>B</th>\n",
       "      <th>C</th>\n",
       "      <th>D</th>\n",
       "      <th>E</th>\n",
       "      <th>F</th>\n",
       "      <th>Z</th>\n",
       "      <th>Number_of_prev_cond</th>\n",
       "      <th>Survived_1_year</th>\n",
       "    </tr>\n",
       "  </thead>\n",
       "  <tbody>\n",
       "    <tr>\n",
       "      <td>0</td>\n",
       "      <td>22374</td>\n",
       "      <td>8</td>\n",
       "      <td>3333</td>\n",
       "      <td>DX6</td>\n",
       "      <td>56</td>\n",
       "      <td>18.479385</td>\n",
       "      <td>YES</td>\n",
       "      <td>URBAN</td>\n",
       "      <td>Stable</td>\n",
       "      <td>1.0</td>\n",
       "      <td>0.0</td>\n",
       "      <td>0.0</td>\n",
       "      <td>0.0</td>\n",
       "      <td>1.0</td>\n",
       "      <td>0.0</td>\n",
       "      <td>0.0</td>\n",
       "      <td>2.0</td>\n",
       "      <td>0</td>\n",
       "    </tr>\n",
       "    <tr>\n",
       "      <td>1</td>\n",
       "      <td>18164</td>\n",
       "      <td>5</td>\n",
       "      <td>5740</td>\n",
       "      <td>DX2</td>\n",
       "      <td>36</td>\n",
       "      <td>22.945566</td>\n",
       "      <td>YES</td>\n",
       "      <td>RURAL</td>\n",
       "      <td>Stable</td>\n",
       "      <td>1.0</td>\n",
       "      <td>0.0</td>\n",
       "      <td>0.0</td>\n",
       "      <td>0.0</td>\n",
       "      <td>0.0</td>\n",
       "      <td>0.0</td>\n",
       "      <td>0.0</td>\n",
       "      <td>1.0</td>\n",
       "      <td>1</td>\n",
       "    </tr>\n",
       "    <tr>\n",
       "      <td>2</td>\n",
       "      <td>6283</td>\n",
       "      <td>23</td>\n",
       "      <td>10446</td>\n",
       "      <td>DX6</td>\n",
       "      <td>48</td>\n",
       "      <td>27.510027</td>\n",
       "      <td>YES</td>\n",
       "      <td>RURAL</td>\n",
       "      <td>Stable</td>\n",
       "      <td>1.0</td>\n",
       "      <td>0.0</td>\n",
       "      <td>0.0</td>\n",
       "      <td>0.0</td>\n",
       "      <td>0.0</td>\n",
       "      <td>0.0</td>\n",
       "      <td>0.0</td>\n",
       "      <td>1.0</td>\n",
       "      <td>0</td>\n",
       "    </tr>\n",
       "    <tr>\n",
       "      <td>3</td>\n",
       "      <td>5339</td>\n",
       "      <td>51</td>\n",
       "      <td>12011</td>\n",
       "      <td>DX1</td>\n",
       "      <td>5</td>\n",
       "      <td>19.130976</td>\n",
       "      <td>NO</td>\n",
       "      <td>URBAN</td>\n",
       "      <td>Stable</td>\n",
       "      <td>1.0</td>\n",
       "      <td>0.0</td>\n",
       "      <td>0.0</td>\n",
       "      <td>0.0</td>\n",
       "      <td>0.0</td>\n",
       "      <td>0.0</td>\n",
       "      <td>0.0</td>\n",
       "      <td>1.0</td>\n",
       "      <td>1</td>\n",
       "    </tr>\n",
       "    <tr>\n",
       "      <td>4</td>\n",
       "      <td>33012</td>\n",
       "      <td>0</td>\n",
       "      <td>12513</td>\n",
       "      <td>NaN</td>\n",
       "      <td>128</td>\n",
       "      <td>1.348400</td>\n",
       "      <td>Cannot say</td>\n",
       "      <td>RURAL</td>\n",
       "      <td>Stable</td>\n",
       "      <td>0.0</td>\n",
       "      <td>0.0</td>\n",
       "      <td>0.0</td>\n",
       "      <td>0.0</td>\n",
       "      <td>0.0</td>\n",
       "      <td>0.0</td>\n",
       "      <td>1.0</td>\n",
       "      <td>1.0</td>\n",
       "      <td>1</td>\n",
       "    </tr>\n",
       "    <tr>\n",
       "      <td>5</td>\n",
       "      <td>10808</td>\n",
       "      <td>45</td>\n",
       "      <td>7977</td>\n",
       "      <td>DX6</td>\n",
       "      <td>47</td>\n",
       "      <td>26.155120</td>\n",
       "      <td>YES</td>\n",
       "      <td>URBAN</td>\n",
       "      <td>Stable</td>\n",
       "      <td>1.0</td>\n",
       "      <td>0.0</td>\n",
       "      <td>0.0</td>\n",
       "      <td>0.0</td>\n",
       "      <td>0.0</td>\n",
       "      <td>0.0</td>\n",
       "      <td>0.0</td>\n",
       "      <td>1.0</td>\n",
       "      <td>0</td>\n",
       "    </tr>\n",
       "    <tr>\n",
       "      <td>6</td>\n",
       "      <td>5138</td>\n",
       "      <td>52</td>\n",
       "      <td>5296</td>\n",
       "      <td>DX3</td>\n",
       "      <td>53</td>\n",
       "      <td>19.103244</td>\n",
       "      <td>NO</td>\n",
       "      <td>RURAL</td>\n",
       "      <td>Stable</td>\n",
       "      <td>1.0</td>\n",
       "      <td>0.0</td>\n",
       "      <td>0.0</td>\n",
       "      <td>0.0</td>\n",
       "      <td>1.0</td>\n",
       "      <td>0.0</td>\n",
       "      <td>0.0</td>\n",
       "      <td>2.0</td>\n",
       "      <td>1</td>\n",
       "    </tr>\n",
       "    <tr>\n",
       "      <td>7</td>\n",
       "      <td>17265</td>\n",
       "      <td>9</td>\n",
       "      <td>5947</td>\n",
       "      <td>DX5</td>\n",
       "      <td>3</td>\n",
       "      <td>18.126976</td>\n",
       "      <td>NO</td>\n",
       "      <td>URBAN</td>\n",
       "      <td>Stable</td>\n",
       "      <td>1.0</td>\n",
       "      <td>0.0</td>\n",
       "      <td>0.0</td>\n",
       "      <td>0.0</td>\n",
       "      <td>1.0</td>\n",
       "      <td>0.0</td>\n",
       "      <td>0.0</td>\n",
       "      <td>2.0</td>\n",
       "      <td>0</td>\n",
       "    </tr>\n",
       "    <tr>\n",
       "      <td>8</td>\n",
       "      <td>24349</td>\n",
       "      <td>47</td>\n",
       "      <td>6585</td>\n",
       "      <td>DX4</td>\n",
       "      <td>62</td>\n",
       "      <td>25.074482</td>\n",
       "      <td>NO</td>\n",
       "      <td>URBAN</td>\n",
       "      <td>Stable</td>\n",
       "      <td>1.0</td>\n",
       "      <td>0.0</td>\n",
       "      <td>0.0</td>\n",
       "      <td>0.0</td>\n",
       "      <td>0.0</td>\n",
       "      <td>0.0</td>\n",
       "      <td>0.0</td>\n",
       "      <td>1.0</td>\n",
       "      <td>1</td>\n",
       "    </tr>\n",
       "    <tr>\n",
       "      <td>9</td>\n",
       "      <td>1647</td>\n",
       "      <td>17</td>\n",
       "      <td>10190</td>\n",
       "      <td>DX6</td>\n",
       "      <td>46</td>\n",
       "      <td>17.663877</td>\n",
       "      <td>NO</td>\n",
       "      <td>RURAL</td>\n",
       "      <td>Stable</td>\n",
       "      <td>1.0</td>\n",
       "      <td>0.0</td>\n",
       "      <td>0.0</td>\n",
       "      <td>0.0</td>\n",
       "      <td>1.0</td>\n",
       "      <td>0.0</td>\n",
       "      <td>0.0</td>\n",
       "      <td>2.0</td>\n",
       "      <td>1</td>\n",
       "    </tr>\n",
       "  </tbody>\n",
       "</table>\n",
       "</div>"
      ],
      "text/plain": [
       "   ID_Patient_Care_Situation  Diagnosed_Condition  Patient_ID  \\\n",
       "0                      22374                    8        3333   \n",
       "1                      18164                    5        5740   \n",
       "2                       6283                   23       10446   \n",
       "3                       5339                   51       12011   \n",
       "4                      33012                    0       12513   \n",
       "5                      10808                   45        7977   \n",
       "6                       5138                   52        5296   \n",
       "7                      17265                    9        5947   \n",
       "8                      24349                   47        6585   \n",
       "9                       1647                   17       10190   \n",
       "\n",
       "  Treated_with_drugs  Patient_Age  Patient_Body_Mass_Index Patient_Smoker  \\\n",
       "0                DX6           56                18.479385            YES   \n",
       "1               DX2            36                22.945566            YES   \n",
       "2                DX6           48                27.510027            YES   \n",
       "3               DX1             5                19.130976             NO   \n",
       "4                NaN          128                 1.348400     Cannot say   \n",
       "5                DX6           47                26.155120            YES   \n",
       "6               DX3            53                19.103244             NO   \n",
       "7               DX5             3                18.126976             NO   \n",
       "8               DX4            62                25.074482             NO   \n",
       "9                DX6           46                17.663877             NO   \n",
       "\n",
       "  Patient_Rural_Urban Patient_mental_condition    A    B    C    D    E    F  \\\n",
       "0               URBAN                   Stable  1.0  0.0  0.0  0.0  1.0  0.0   \n",
       "1               RURAL                   Stable  1.0  0.0  0.0  0.0  0.0  0.0   \n",
       "2               RURAL                   Stable  1.0  0.0  0.0  0.0  0.0  0.0   \n",
       "3               URBAN                   Stable  1.0  0.0  0.0  0.0  0.0  0.0   \n",
       "4               RURAL                   Stable  0.0  0.0  0.0  0.0  0.0  0.0   \n",
       "5               URBAN                   Stable  1.0  0.0  0.0  0.0  0.0  0.0   \n",
       "6               RURAL                   Stable  1.0  0.0  0.0  0.0  1.0  0.0   \n",
       "7               URBAN                   Stable  1.0  0.0  0.0  0.0  1.0  0.0   \n",
       "8               URBAN                   Stable  1.0  0.0  0.0  0.0  0.0  0.0   \n",
       "9               RURAL                   Stable  1.0  0.0  0.0  0.0  1.0  0.0   \n",
       "\n",
       "     Z  Number_of_prev_cond  Survived_1_year  \n",
       "0  0.0                  2.0                0  \n",
       "1  0.0                  1.0                1  \n",
       "2  0.0                  1.0                0  \n",
       "3  0.0                  1.0                1  \n",
       "4  1.0                  1.0                1  \n",
       "5  0.0                  1.0                0  \n",
       "6  0.0                  2.0                1  \n",
       "7  0.0                  2.0                0  \n",
       "8  0.0                  1.0                1  \n",
       "9  0.0                  2.0                1  "
      ]
     },
     "execution_count": 5,
     "metadata": {},
     "output_type": "execute_result"
    }
   ],
   "source": [
    "pharma_data.head(10)"
   ]
  },
  {
   "cell_type": "code",
   "execution_count": 6,
   "metadata": {
    "colab": {
     "base_uri": "https://localhost:8080/",
     "height": 302
    },
    "colab_type": "code",
    "id": "Sujacv9hpkby",
    "outputId": "60506f1c-871d-4d07-d4d4-5d4fa0801161"
   },
   "outputs": [
    {
     "data": {
      "text/html": [
       "<div>\n",
       "<style scoped>\n",
       "    .dataframe tbody tr th:only-of-type {\n",
       "        vertical-align: middle;\n",
       "    }\n",
       "\n",
       "    .dataframe tbody tr th {\n",
       "        vertical-align: top;\n",
       "    }\n",
       "\n",
       "    .dataframe thead th {\n",
       "        text-align: right;\n",
       "    }\n",
       "</style>\n",
       "<table border=\"1\" class=\"dataframe\">\n",
       "  <thead>\n",
       "    <tr style=\"text-align: right;\">\n",
       "      <th></th>\n",
       "      <th>ID_Patient_Care_Situation</th>\n",
       "      <th>Diagnosed_Condition</th>\n",
       "      <th>Patient_ID</th>\n",
       "      <th>Patient_Age</th>\n",
       "      <th>Patient_Body_Mass_Index</th>\n",
       "      <th>A</th>\n",
       "      <th>B</th>\n",
       "      <th>C</th>\n",
       "      <th>D</th>\n",
       "      <th>E</th>\n",
       "      <th>F</th>\n",
       "      <th>Z</th>\n",
       "      <th>Number_of_prev_cond</th>\n",
       "      <th>Survived_1_year</th>\n",
       "    </tr>\n",
       "  </thead>\n",
       "  <tbody>\n",
       "    <tr>\n",
       "      <td>count</td>\n",
       "      <td>23097.000000</td>\n",
       "      <td>23097.000000</td>\n",
       "      <td>23097.000000</td>\n",
       "      <td>23097.000000</td>\n",
       "      <td>23097.000000</td>\n",
       "      <td>21862.000000</td>\n",
       "      <td>21862.000000</td>\n",
       "      <td>21862.000000</td>\n",
       "      <td>21862.000000</td>\n",
       "      <td>21862.000000</td>\n",
       "      <td>21862.000000</td>\n",
       "      <td>21862.000000</td>\n",
       "      <td>21862.000000</td>\n",
       "      <td>23097.000000</td>\n",
       "    </tr>\n",
       "    <tr>\n",
       "      <td>mean</td>\n",
       "      <td>16545.712041</td>\n",
       "      <td>26.413127</td>\n",
       "      <td>6261.280772</td>\n",
       "      <td>33.209768</td>\n",
       "      <td>23.454820</td>\n",
       "      <td>0.897905</td>\n",
       "      <td>0.136355</td>\n",
       "      <td>0.185070</td>\n",
       "      <td>0.083615</td>\n",
       "      <td>0.393239</td>\n",
       "      <td>0.053700</td>\n",
       "      <td>0.000595</td>\n",
       "      <td>1.750480</td>\n",
       "      <td>0.632247</td>\n",
       "    </tr>\n",
       "    <tr>\n",
       "      <td>std</td>\n",
       "      <td>9532.263503</td>\n",
       "      <td>15.030865</td>\n",
       "      <td>3595.990620</td>\n",
       "      <td>19.549882</td>\n",
       "      <td>3.807661</td>\n",
       "      <td>0.302780</td>\n",
       "      <td>0.343173</td>\n",
       "      <td>0.388363</td>\n",
       "      <td>0.276817</td>\n",
       "      <td>0.488480</td>\n",
       "      <td>0.225431</td>\n",
       "      <td>0.024379</td>\n",
       "      <td>0.770311</td>\n",
       "      <td>0.482204</td>\n",
       "    </tr>\n",
       "    <tr>\n",
       "      <td>min</td>\n",
       "      <td>2.000000</td>\n",
       "      <td>0.000000</td>\n",
       "      <td>1.000000</td>\n",
       "      <td>0.000000</td>\n",
       "      <td>1.089300</td>\n",
       "      <td>0.000000</td>\n",
       "      <td>0.000000</td>\n",
       "      <td>0.000000</td>\n",
       "      <td>0.000000</td>\n",
       "      <td>0.000000</td>\n",
       "      <td>0.000000</td>\n",
       "      <td>0.000000</td>\n",
       "      <td>1.000000</td>\n",
       "      <td>0.000000</td>\n",
       "    </tr>\n",
       "    <tr>\n",
       "      <td>25%</td>\n",
       "      <td>8280.000000</td>\n",
       "      <td>13.000000</td>\n",
       "      <td>3181.000000</td>\n",
       "      <td>16.000000</td>\n",
       "      <td>20.205550</td>\n",
       "      <td>1.000000</td>\n",
       "      <td>0.000000</td>\n",
       "      <td>0.000000</td>\n",
       "      <td>0.000000</td>\n",
       "      <td>0.000000</td>\n",
       "      <td>0.000000</td>\n",
       "      <td>0.000000</td>\n",
       "      <td>1.000000</td>\n",
       "      <td>0.000000</td>\n",
       "    </tr>\n",
       "    <tr>\n",
       "      <td>50%</td>\n",
       "      <td>16597.000000</td>\n",
       "      <td>26.000000</td>\n",
       "      <td>6242.000000</td>\n",
       "      <td>33.000000</td>\n",
       "      <td>23.386199</td>\n",
       "      <td>1.000000</td>\n",
       "      <td>0.000000</td>\n",
       "      <td>0.000000</td>\n",
       "      <td>0.000000</td>\n",
       "      <td>0.000000</td>\n",
       "      <td>0.000000</td>\n",
       "      <td>0.000000</td>\n",
       "      <td>2.000000</td>\n",
       "      <td>1.000000</td>\n",
       "    </tr>\n",
       "    <tr>\n",
       "      <td>75%</td>\n",
       "      <td>24825.000000</td>\n",
       "      <td>39.000000</td>\n",
       "      <td>9363.000000</td>\n",
       "      <td>50.000000</td>\n",
       "      <td>26.788154</td>\n",
       "      <td>1.000000</td>\n",
       "      <td>0.000000</td>\n",
       "      <td>0.000000</td>\n",
       "      <td>0.000000</td>\n",
       "      <td>1.000000</td>\n",
       "      <td>0.000000</td>\n",
       "      <td>0.000000</td>\n",
       "      <td>2.000000</td>\n",
       "      <td>1.000000</td>\n",
       "    </tr>\n",
       "    <tr>\n",
       "      <td>max</td>\n",
       "      <td>33014.000000</td>\n",
       "      <td>52.000000</td>\n",
       "      <td>12515.000000</td>\n",
       "      <td>149.000000</td>\n",
       "      <td>29.999579</td>\n",
       "      <td>1.000000</td>\n",
       "      <td>1.000000</td>\n",
       "      <td>1.000000</td>\n",
       "      <td>1.000000</td>\n",
       "      <td>1.000000</td>\n",
       "      <td>1.000000</td>\n",
       "      <td>1.000000</td>\n",
       "      <td>5.000000</td>\n",
       "      <td>1.000000</td>\n",
       "    </tr>\n",
       "  </tbody>\n",
       "</table>\n",
       "</div>"
      ],
      "text/plain": [
       "       ID_Patient_Care_Situation  Diagnosed_Condition    Patient_ID  \\\n",
       "count               23097.000000         23097.000000  23097.000000   \n",
       "mean                16545.712041            26.413127   6261.280772   \n",
       "std                  9532.263503            15.030865   3595.990620   \n",
       "min                     2.000000             0.000000      1.000000   \n",
       "25%                  8280.000000            13.000000   3181.000000   \n",
       "50%                 16597.000000            26.000000   6242.000000   \n",
       "75%                 24825.000000            39.000000   9363.000000   \n",
       "max                 33014.000000            52.000000  12515.000000   \n",
       "\n",
       "        Patient_Age  Patient_Body_Mass_Index             A             B  \\\n",
       "count  23097.000000             23097.000000  21862.000000  21862.000000   \n",
       "mean      33.209768                23.454820      0.897905      0.136355   \n",
       "std       19.549882                 3.807661      0.302780      0.343173   \n",
       "min        0.000000                 1.089300      0.000000      0.000000   \n",
       "25%       16.000000                20.205550      1.000000      0.000000   \n",
       "50%       33.000000                23.386199      1.000000      0.000000   \n",
       "75%       50.000000                26.788154      1.000000      0.000000   \n",
       "max      149.000000                29.999579      1.000000      1.000000   \n",
       "\n",
       "                  C             D             E             F             Z  \\\n",
       "count  21862.000000  21862.000000  21862.000000  21862.000000  21862.000000   \n",
       "mean       0.185070      0.083615      0.393239      0.053700      0.000595   \n",
       "std        0.388363      0.276817      0.488480      0.225431      0.024379   \n",
       "min        0.000000      0.000000      0.000000      0.000000      0.000000   \n",
       "25%        0.000000      0.000000      0.000000      0.000000      0.000000   \n",
       "50%        0.000000      0.000000      0.000000      0.000000      0.000000   \n",
       "75%        0.000000      0.000000      1.000000      0.000000      0.000000   \n",
       "max        1.000000      1.000000      1.000000      1.000000      1.000000   \n",
       "\n",
       "       Number_of_prev_cond  Survived_1_year  \n",
       "count         21862.000000     23097.000000  \n",
       "mean              1.750480         0.632247  \n",
       "std               0.770311         0.482204  \n",
       "min               1.000000         0.000000  \n",
       "25%               1.000000         0.000000  \n",
       "50%               2.000000         1.000000  \n",
       "75%               2.000000         1.000000  \n",
       "max               5.000000         1.000000  "
      ]
     },
     "execution_count": 6,
     "metadata": {},
     "output_type": "execute_result"
    }
   ],
   "source": [
    "pharma_data.describe()"
   ]
  },
  {
   "cell_type": "markdown",
   "metadata": {},
   "source": [
    "some strange values here: \n",
    "- the min Diagnozed_condition and Patient_Age is 0,000000 - most likely to be a null values\n",
    "- the min A,B,C,D,E,F is 0,00000 - it is null values"
   ]
  },
  {
   "cell_type": "code",
   "execution_count": 7,
   "metadata": {
    "colab": {
     "base_uri": "https://localhost:8080/",
     "height": 461
    },
    "colab_type": "code",
    "id": "mzn-LIQcpkqj",
    "outputId": "06343efc-8d0e-4ea4-f291-2ead0ac11313"
   },
   "outputs": [
    {
     "name": "stdout",
     "output_type": "stream",
     "text": [
      "<class 'pandas.core.frame.DataFrame'>\n",
      "RangeIndex: 23097 entries, 0 to 23096\n",
      "Data columns (total 18 columns):\n",
      "ID_Patient_Care_Situation    23097 non-null int64\n",
      "Diagnosed_Condition          23097 non-null int64\n",
      "Patient_ID                   23097 non-null int64\n",
      "Treated_with_drugs           23084 non-null object\n",
      "Patient_Age                  23097 non-null int64\n",
      "Patient_Body_Mass_Index      23097 non-null float64\n",
      "Patient_Smoker               23097 non-null object\n",
      "Patient_Rural_Urban          23097 non-null object\n",
      "Patient_mental_condition     23097 non-null object\n",
      "A                            21862 non-null float64\n",
      "B                            21862 non-null float64\n",
      "C                            21862 non-null float64\n",
      "D                            21862 non-null float64\n",
      "E                            21862 non-null float64\n",
      "F                            21862 non-null float64\n",
      "Z                            21862 non-null float64\n",
      "Number_of_prev_cond          21862 non-null float64\n",
      "Survived_1_year              23097 non-null int64\n",
      "dtypes: float64(9), int64(5), object(4)\n",
      "memory usage: 3.2+ MB\n"
     ]
    }
   ],
   "source": [
    "pharma_data.info()"
   ]
  },
  {
   "cell_type": "code",
   "execution_count": 8,
   "metadata": {
    "colab": {
     "base_uri": "https://localhost:8080/",
     "height": 355
    },
    "colab_type": "code",
    "id": "bRFJwtTFtDAo",
    "outputId": "3e7d86e0-9a72-4fa3-f59b-6dcdd61eae1d"
   },
   "outputs": [
    {
     "data": {
      "text/plain": [
       "ID_Patient_Care_Situation    23097\n",
       "Diagnosed_Condition             53\n",
       "Patient_ID                   10570\n",
       "Treated_with_drugs              32\n",
       "Patient_Age                     78\n",
       "Patient_Body_Mass_Index      10570\n",
       "Patient_Smoker                   3\n",
       "Patient_Rural_Urban              2\n",
       "Patient_mental_condition         1\n",
       "A                                2\n",
       "B                                2\n",
       "C                                2\n",
       "D                                2\n",
       "E                                2\n",
       "F                                2\n",
       "Z                                2\n",
       "Number_of_prev_cond              5\n",
       "Survived_1_year                  2\n",
       "dtype: int64"
      ]
     },
     "execution_count": 8,
     "metadata": {},
     "output_type": "execute_result"
    }
   ],
   "source": [
    "#find unique value\n",
    "pharma_data.nunique()"
   ]
  },
  {
   "cell_type": "markdown",
   "metadata": {},
   "source": [
    "# Let's Take a Look at the Categorical data"
   ]
  },
  {
   "cell_type": "code",
   "execution_count": 9,
   "metadata": {},
   "outputs": [
    {
     "data": {
      "text/plain": [
       "32"
      ]
     },
     "execution_count": 9,
     "metadata": {},
     "output_type": "execute_result"
    }
   ],
   "source": [
    "pharma_data['Treated_with_drugs'].nunique()"
   ]
  },
  {
   "cell_type": "code",
   "execution_count": 10,
   "metadata": {},
   "outputs": [
    {
     "data": {
      "text/plain": [
       "3"
      ]
     },
     "execution_count": 10,
     "metadata": {},
     "output_type": "execute_result"
    }
   ],
   "source": [
    "pharma_data['Patient_Smoker'].nunique()"
   ]
  },
  {
   "cell_type": "code",
   "execution_count": 11,
   "metadata": {},
   "outputs": [
    {
     "data": {
      "text/plain": [
       "2"
      ]
     },
     "execution_count": 11,
     "metadata": {},
     "output_type": "execute_result"
    }
   ],
   "source": [
    "pharma_data['Patient_Rural_Urban'].nunique()"
   ]
  },
  {
   "cell_type": "code",
   "execution_count": 12,
   "metadata": {},
   "outputs": [
    {
     "data": {
      "text/plain": [
       "1"
      ]
     },
     "execution_count": 12,
     "metadata": {},
     "output_type": "execute_result"
    }
   ],
   "source": [
    "pharma_data['Patient_mental_condition'].nunique()"
   ]
  },
  {
   "cell_type": "markdown",
   "metadata": {},
   "source": [
    "# Target Variable check"
   ]
  },
  {
   "cell_type": "code",
   "execution_count": 13,
   "metadata": {},
   "outputs": [
    {
     "data": {
      "text/plain": [
       "2"
      ]
     },
     "execution_count": 13,
     "metadata": {},
     "output_type": "execute_result"
    }
   ],
   "source": [
    "pharma_data['Survived_1_year'].nunique()"
   ]
  },
  {
   "cell_type": "code",
   "execution_count": 14,
   "metadata": {},
   "outputs": [
    {
     "data": {
      "text/plain": [
       "1    14603\n",
       "0     8494\n",
       "Name: Survived_1_year, dtype: int64"
      ]
     },
     "execution_count": 14,
     "metadata": {},
     "output_type": "execute_result"
    }
   ],
   "source": [
    "pharma_data['Survived_1_year'].value_counts()"
   ]
  },
  {
   "cell_type": "markdown",
   "metadata": {},
   "source": [
    "# Data preparation process: *Data Wrangling*"
   ]
  },
  {
   "cell_type": "markdown",
   "metadata": {},
   "source": [
    "## Checking null values"
   ]
  },
  {
   "cell_type": "code",
   "execution_count": 15,
   "metadata": {},
   "outputs": [
    {
     "data": {
      "text/html": [
       "<div>\n",
       "<style scoped>\n",
       "    .dataframe tbody tr th:only-of-type {\n",
       "        vertical-align: middle;\n",
       "    }\n",
       "\n",
       "    .dataframe tbody tr th {\n",
       "        vertical-align: top;\n",
       "    }\n",
       "\n",
       "    .dataframe thead th {\n",
       "        text-align: right;\n",
       "    }\n",
       "</style>\n",
       "<table border=\"1\" class=\"dataframe\">\n",
       "  <thead>\n",
       "    <tr style=\"text-align: right;\">\n",
       "      <th></th>\n",
       "      <th>ID_Patient_Care_Situation</th>\n",
       "      <th>Diagnosed_Condition</th>\n",
       "      <th>Patient_ID</th>\n",
       "      <th>Treated_with_drugs</th>\n",
       "      <th>Patient_Age</th>\n",
       "      <th>Patient_Body_Mass_Index</th>\n",
       "      <th>Patient_Smoker</th>\n",
       "      <th>Patient_Rural_Urban</th>\n",
       "      <th>Patient_mental_condition</th>\n",
       "      <th>A</th>\n",
       "      <th>B</th>\n",
       "      <th>C</th>\n",
       "      <th>D</th>\n",
       "      <th>E</th>\n",
       "      <th>F</th>\n",
       "      <th>Z</th>\n",
       "      <th>Number_of_prev_cond</th>\n",
       "      <th>Survived_1_year</th>\n",
       "    </tr>\n",
       "  </thead>\n",
       "  <tbody>\n",
       "    <tr>\n",
       "      <td>4</td>\n",
       "      <td>33012</td>\n",
       "      <td>0</td>\n",
       "      <td>12513</td>\n",
       "      <td>NaN</td>\n",
       "      <td>128</td>\n",
       "      <td>1.3484</td>\n",
       "      <td>Cannot say</td>\n",
       "      <td>RURAL</td>\n",
       "      <td>Stable</td>\n",
       "      <td>0.0</td>\n",
       "      <td>0.0</td>\n",
       "      <td>0.0</td>\n",
       "      <td>0.0</td>\n",
       "      <td>0.0</td>\n",
       "      <td>0.0</td>\n",
       "      <td>1.0</td>\n",
       "      <td>1.0</td>\n",
       "      <td>1</td>\n",
       "    </tr>\n",
       "    <tr>\n",
       "      <td>218</td>\n",
       "      <td>33008</td>\n",
       "      <td>0</td>\n",
       "      <td>12509</td>\n",
       "      <td>NaN</td>\n",
       "      <td>112</td>\n",
       "      <td>1.2925</td>\n",
       "      <td>Cannot say</td>\n",
       "      <td>RURAL</td>\n",
       "      <td>Stable</td>\n",
       "      <td>0.0</td>\n",
       "      <td>0.0</td>\n",
       "      <td>0.0</td>\n",
       "      <td>0.0</td>\n",
       "      <td>0.0</td>\n",
       "      <td>0.0</td>\n",
       "      <td>1.0</td>\n",
       "      <td>1.0</td>\n",
       "      <td>1</td>\n",
       "    </tr>\n",
       "    <tr>\n",
       "      <td>2540</td>\n",
       "      <td>33014</td>\n",
       "      <td>0</td>\n",
       "      <td>12515</td>\n",
       "      <td>NaN</td>\n",
       "      <td>149</td>\n",
       "      <td>1.7784</td>\n",
       "      <td>Cannot say</td>\n",
       "      <td>RURAL</td>\n",
       "      <td>Stable</td>\n",
       "      <td>0.0</td>\n",
       "      <td>0.0</td>\n",
       "      <td>0.0</td>\n",
       "      <td>0.0</td>\n",
       "      <td>0.0</td>\n",
       "      <td>0.0</td>\n",
       "      <td>1.0</td>\n",
       "      <td>1.0</td>\n",
       "      <td>1</td>\n",
       "    </tr>\n",
       "    <tr>\n",
       "      <td>2711</td>\n",
       "      <td>33004</td>\n",
       "      <td>0</td>\n",
       "      <td>12505</td>\n",
       "      <td>NaN</td>\n",
       "      <td>123</td>\n",
       "      <td>1.9290</td>\n",
       "      <td>Cannot say</td>\n",
       "      <td>RURAL</td>\n",
       "      <td>Stable</td>\n",
       "      <td>0.0</td>\n",
       "      <td>0.0</td>\n",
       "      <td>0.0</td>\n",
       "      <td>0.0</td>\n",
       "      <td>0.0</td>\n",
       "      <td>0.0</td>\n",
       "      <td>1.0</td>\n",
       "      <td>1.0</td>\n",
       "      <td>1</td>\n",
       "    </tr>\n",
       "    <tr>\n",
       "      <td>4308</td>\n",
       "      <td>33001</td>\n",
       "      <td>0</td>\n",
       "      <td>12502</td>\n",
       "      <td>NaN</td>\n",
       "      <td>114</td>\n",
       "      <td>1.6239</td>\n",
       "      <td>Cannot say</td>\n",
       "      <td>RURAL</td>\n",
       "      <td>Stable</td>\n",
       "      <td>0.0</td>\n",
       "      <td>0.0</td>\n",
       "      <td>0.0</td>\n",
       "      <td>0.0</td>\n",
       "      <td>0.0</td>\n",
       "      <td>0.0</td>\n",
       "      <td>1.0</td>\n",
       "      <td>1.0</td>\n",
       "      <td>1</td>\n",
       "    </tr>\n",
       "    <tr>\n",
       "      <td>4887</td>\n",
       "      <td>33011</td>\n",
       "      <td>0</td>\n",
       "      <td>12512</td>\n",
       "      <td>NaN</td>\n",
       "      <td>132</td>\n",
       "      <td>1.9896</td>\n",
       "      <td>Cannot say</td>\n",
       "      <td>RURAL</td>\n",
       "      <td>Stable</td>\n",
       "      <td>0.0</td>\n",
       "      <td>0.0</td>\n",
       "      <td>0.0</td>\n",
       "      <td>0.0</td>\n",
       "      <td>0.0</td>\n",
       "      <td>0.0</td>\n",
       "      <td>1.0</td>\n",
       "      <td>1.0</td>\n",
       "      <td>1</td>\n",
       "    </tr>\n",
       "    <tr>\n",
       "      <td>6308</td>\n",
       "      <td>33010</td>\n",
       "      <td>0</td>\n",
       "      <td>12511</td>\n",
       "      <td>NaN</td>\n",
       "      <td>142</td>\n",
       "      <td>1.5701</td>\n",
       "      <td>Cannot say</td>\n",
       "      <td>RURAL</td>\n",
       "      <td>Stable</td>\n",
       "      <td>0.0</td>\n",
       "      <td>0.0</td>\n",
       "      <td>0.0</td>\n",
       "      <td>0.0</td>\n",
       "      <td>0.0</td>\n",
       "      <td>0.0</td>\n",
       "      <td>1.0</td>\n",
       "      <td>1.0</td>\n",
       "      <td>1</td>\n",
       "    </tr>\n",
       "    <tr>\n",
       "      <td>10388</td>\n",
       "      <td>33006</td>\n",
       "      <td>0</td>\n",
       "      <td>12507</td>\n",
       "      <td>NaN</td>\n",
       "      <td>138</td>\n",
       "      <td>1.3745</td>\n",
       "      <td>Cannot say</td>\n",
       "      <td>RURAL</td>\n",
       "      <td>Stable</td>\n",
       "      <td>0.0</td>\n",
       "      <td>0.0</td>\n",
       "      <td>0.0</td>\n",
       "      <td>0.0</td>\n",
       "      <td>0.0</td>\n",
       "      <td>0.0</td>\n",
       "      <td>1.0</td>\n",
       "      <td>1.0</td>\n",
       "      <td>1</td>\n",
       "    </tr>\n",
       "    <tr>\n",
       "      <td>10663</td>\n",
       "      <td>33009</td>\n",
       "      <td>0</td>\n",
       "      <td>12510</td>\n",
       "      <td>NaN</td>\n",
       "      <td>142</td>\n",
       "      <td>1.1450</td>\n",
       "      <td>Cannot say</td>\n",
       "      <td>RURAL</td>\n",
       "      <td>Stable</td>\n",
       "      <td>0.0</td>\n",
       "      <td>0.0</td>\n",
       "      <td>0.0</td>\n",
       "      <td>0.0</td>\n",
       "      <td>0.0</td>\n",
       "      <td>0.0</td>\n",
       "      <td>1.0</td>\n",
       "      <td>1.0</td>\n",
       "      <td>1</td>\n",
       "    </tr>\n",
       "    <tr>\n",
       "      <td>12782</td>\n",
       "      <td>33000</td>\n",
       "      <td>0</td>\n",
       "      <td>12501</td>\n",
       "      <td>NaN</td>\n",
       "      <td>112</td>\n",
       "      <td>1.5465</td>\n",
       "      <td>Cannot say</td>\n",
       "      <td>RURAL</td>\n",
       "      <td>Stable</td>\n",
       "      <td>0.0</td>\n",
       "      <td>0.0</td>\n",
       "      <td>0.0</td>\n",
       "      <td>0.0</td>\n",
       "      <td>0.0</td>\n",
       "      <td>0.0</td>\n",
       "      <td>1.0</td>\n",
       "      <td>1.0</td>\n",
       "      <td>1</td>\n",
       "    </tr>\n",
       "    <tr>\n",
       "      <td>18630</td>\n",
       "      <td>33005</td>\n",
       "      <td>0</td>\n",
       "      <td>12506</td>\n",
       "      <td>NaN</td>\n",
       "      <td>125</td>\n",
       "      <td>1.2581</td>\n",
       "      <td>Cannot say</td>\n",
       "      <td>RURAL</td>\n",
       "      <td>Stable</td>\n",
       "      <td>0.0</td>\n",
       "      <td>0.0</td>\n",
       "      <td>0.0</td>\n",
       "      <td>0.0</td>\n",
       "      <td>0.0</td>\n",
       "      <td>0.0</td>\n",
       "      <td>1.0</td>\n",
       "      <td>1.0</td>\n",
       "      <td>1</td>\n",
       "    </tr>\n",
       "    <tr>\n",
       "      <td>19123</td>\n",
       "      <td>33002</td>\n",
       "      <td>0</td>\n",
       "      <td>12503</td>\n",
       "      <td>NaN</td>\n",
       "      <td>115</td>\n",
       "      <td>1.8199</td>\n",
       "      <td>Cannot say</td>\n",
       "      <td>RURAL</td>\n",
       "      <td>Stable</td>\n",
       "      <td>0.0</td>\n",
       "      <td>0.0</td>\n",
       "      <td>0.0</td>\n",
       "      <td>0.0</td>\n",
       "      <td>0.0</td>\n",
       "      <td>0.0</td>\n",
       "      <td>1.0</td>\n",
       "      <td>1.0</td>\n",
       "      <td>1</td>\n",
       "    </tr>\n",
       "    <tr>\n",
       "      <td>21705</td>\n",
       "      <td>33013</td>\n",
       "      <td>0</td>\n",
       "      <td>12514</td>\n",
       "      <td>NaN</td>\n",
       "      <td>121</td>\n",
       "      <td>1.0893</td>\n",
       "      <td>Cannot say</td>\n",
       "      <td>RURAL</td>\n",
       "      <td>Stable</td>\n",
       "      <td>0.0</td>\n",
       "      <td>0.0</td>\n",
       "      <td>0.0</td>\n",
       "      <td>0.0</td>\n",
       "      <td>0.0</td>\n",
       "      <td>0.0</td>\n",
       "      <td>1.0</td>\n",
       "      <td>1.0</td>\n",
       "      <td>1</td>\n",
       "    </tr>\n",
       "  </tbody>\n",
       "</table>\n",
       "</div>"
      ],
      "text/plain": [
       "       ID_Patient_Care_Situation  Diagnosed_Condition  Patient_ID  \\\n",
       "4                          33012                    0       12513   \n",
       "218                        33008                    0       12509   \n",
       "2540                       33014                    0       12515   \n",
       "2711                       33004                    0       12505   \n",
       "4308                       33001                    0       12502   \n",
       "4887                       33011                    0       12512   \n",
       "6308                       33010                    0       12511   \n",
       "10388                      33006                    0       12507   \n",
       "10663                      33009                    0       12510   \n",
       "12782                      33000                    0       12501   \n",
       "18630                      33005                    0       12506   \n",
       "19123                      33002                    0       12503   \n",
       "21705                      33013                    0       12514   \n",
       "\n",
       "      Treated_with_drugs  Patient_Age  Patient_Body_Mass_Index Patient_Smoker  \\\n",
       "4                    NaN          128                   1.3484     Cannot say   \n",
       "218                  NaN          112                   1.2925     Cannot say   \n",
       "2540                 NaN          149                   1.7784     Cannot say   \n",
       "2711                 NaN          123                   1.9290     Cannot say   \n",
       "4308                 NaN          114                   1.6239     Cannot say   \n",
       "4887                 NaN          132                   1.9896     Cannot say   \n",
       "6308                 NaN          142                   1.5701     Cannot say   \n",
       "10388                NaN          138                   1.3745     Cannot say   \n",
       "10663                NaN          142                   1.1450     Cannot say   \n",
       "12782                NaN          112                   1.5465     Cannot say   \n",
       "18630                NaN          125                   1.2581     Cannot say   \n",
       "19123                NaN          115                   1.8199     Cannot say   \n",
       "21705                NaN          121                   1.0893     Cannot say   \n",
       "\n",
       "      Patient_Rural_Urban Patient_mental_condition    A    B    C    D    E  \\\n",
       "4                   RURAL                   Stable  0.0  0.0  0.0  0.0  0.0   \n",
       "218                 RURAL                   Stable  0.0  0.0  0.0  0.0  0.0   \n",
       "2540                RURAL                   Stable  0.0  0.0  0.0  0.0  0.0   \n",
       "2711                RURAL                   Stable  0.0  0.0  0.0  0.0  0.0   \n",
       "4308                RURAL                   Stable  0.0  0.0  0.0  0.0  0.0   \n",
       "4887                RURAL                   Stable  0.0  0.0  0.0  0.0  0.0   \n",
       "6308                RURAL                   Stable  0.0  0.0  0.0  0.0  0.0   \n",
       "10388               RURAL                   Stable  0.0  0.0  0.0  0.0  0.0   \n",
       "10663               RURAL                   Stable  0.0  0.0  0.0  0.0  0.0   \n",
       "12782               RURAL                   Stable  0.0  0.0  0.0  0.0  0.0   \n",
       "18630               RURAL                   Stable  0.0  0.0  0.0  0.0  0.0   \n",
       "19123               RURAL                   Stable  0.0  0.0  0.0  0.0  0.0   \n",
       "21705               RURAL                   Stable  0.0  0.0  0.0  0.0  0.0   \n",
       "\n",
       "         F    Z  Number_of_prev_cond  Survived_1_year  \n",
       "4      0.0  1.0                  1.0                1  \n",
       "218    0.0  1.0                  1.0                1  \n",
       "2540   0.0  1.0                  1.0                1  \n",
       "2711   0.0  1.0                  1.0                1  \n",
       "4308   0.0  1.0                  1.0                1  \n",
       "4887   0.0  1.0                  1.0                1  \n",
       "6308   0.0  1.0                  1.0                1  \n",
       "10388  0.0  1.0                  1.0                1  \n",
       "10663  0.0  1.0                  1.0                1  \n",
       "12782  0.0  1.0                  1.0                1  \n",
       "18630  0.0  1.0                  1.0                1  \n",
       "19123  0.0  1.0                  1.0                1  \n",
       "21705  0.0  1.0                  1.0                1  "
      ]
     },
     "execution_count": 15,
     "metadata": {},
     "output_type": "execute_result"
    }
   ],
   "source": [
    "pharma_data[pharma_data['Diagnosed_Condition']==0]"
   ]
  },
  {
   "cell_type": "code",
   "execution_count": 16,
   "metadata": {},
   "outputs": [
    {
     "data": {
      "text/plain": [
       "26.0"
      ]
     },
     "execution_count": 16,
     "metadata": {},
     "output_type": "execute_result"
    }
   ],
   "source": [
    "pharma_data['Diagnosed_Condition'].median()"
   ]
  },
  {
   "cell_type": "code",
   "execution_count": 17,
   "metadata": {},
   "outputs": [],
   "source": [
    "pharma_data['Diagnosed_Condition'] = pharma_data['Diagnosed_Condition'].replace(0,pharma_data['Diagnosed_Condition'].median())"
   ]
  },
  {
   "cell_type": "markdown",
   "metadata": {},
   "source": [
    "There are 13 Diagnosed_Condition with 0 values.\n",
    "0 values replace by Diagnosed_Condition median."
   ]
  },
  {
   "cell_type": "code",
   "execution_count": 18,
   "metadata": {},
   "outputs": [
    {
     "data": {
      "text/html": [
       "<div>\n",
       "<style scoped>\n",
       "    .dataframe tbody tr th:only-of-type {\n",
       "        vertical-align: middle;\n",
       "    }\n",
       "\n",
       "    .dataframe tbody tr th {\n",
       "        vertical-align: top;\n",
       "    }\n",
       "\n",
       "    .dataframe thead th {\n",
       "        text-align: right;\n",
       "    }\n",
       "</style>\n",
       "<table border=\"1\" class=\"dataframe\">\n",
       "  <thead>\n",
       "    <tr style=\"text-align: right;\">\n",
       "      <th></th>\n",
       "      <th>ID_Patient_Care_Situation</th>\n",
       "      <th>Diagnosed_Condition</th>\n",
       "      <th>Patient_ID</th>\n",
       "      <th>Treated_with_drugs</th>\n",
       "      <th>Patient_Age</th>\n",
       "      <th>Patient_Body_Mass_Index</th>\n",
       "      <th>Patient_Smoker</th>\n",
       "      <th>Patient_Rural_Urban</th>\n",
       "      <th>Patient_mental_condition</th>\n",
       "      <th>A</th>\n",
       "      <th>B</th>\n",
       "      <th>C</th>\n",
       "      <th>D</th>\n",
       "      <th>E</th>\n",
       "      <th>F</th>\n",
       "      <th>Z</th>\n",
       "      <th>Number_of_prev_cond</th>\n",
       "      <th>Survived_1_year</th>\n",
       "    </tr>\n",
       "  </thead>\n",
       "  <tbody>\n",
       "    <tr>\n",
       "      <td>270</td>\n",
       "      <td>23979</td>\n",
       "      <td>36</td>\n",
       "      <td>410</td>\n",
       "      <td>DX6</td>\n",
       "      <td>0</td>\n",
       "      <td>17.824390</td>\n",
       "      <td>NO</td>\n",
       "      <td>URBAN</td>\n",
       "      <td>Stable</td>\n",
       "      <td>1.0</td>\n",
       "      <td>0.0</td>\n",
       "      <td>0.0</td>\n",
       "      <td>0.0</td>\n",
       "      <td>0.0</td>\n",
       "      <td>0.0</td>\n",
       "      <td>0.0</td>\n",
       "      <td>1.0</td>\n",
       "      <td>0</td>\n",
       "    </tr>\n",
       "    <tr>\n",
       "      <td>354</td>\n",
       "      <td>31586</td>\n",
       "      <td>15</td>\n",
       "      <td>7033</td>\n",
       "      <td>DX1 DX3</td>\n",
       "      <td>0</td>\n",
       "      <td>17.620936</td>\n",
       "      <td>NO</td>\n",
       "      <td>RURAL</td>\n",
       "      <td>Stable</td>\n",
       "      <td>1.0</td>\n",
       "      <td>0.0</td>\n",
       "      <td>1.0</td>\n",
       "      <td>1.0</td>\n",
       "      <td>0.0</td>\n",
       "      <td>0.0</td>\n",
       "      <td>0.0</td>\n",
       "      <td>3.0</td>\n",
       "      <td>1</td>\n",
       "    </tr>\n",
       "    <tr>\n",
       "      <td>382</td>\n",
       "      <td>16270</td>\n",
       "      <td>45</td>\n",
       "      <td>10829</td>\n",
       "      <td>DX6</td>\n",
       "      <td>0</td>\n",
       "      <td>28.782161</td>\n",
       "      <td>NO</td>\n",
       "      <td>RURAL</td>\n",
       "      <td>Stable</td>\n",
       "      <td>1.0</td>\n",
       "      <td>0.0</td>\n",
       "      <td>1.0</td>\n",
       "      <td>0.0</td>\n",
       "      <td>1.0</td>\n",
       "      <td>0.0</td>\n",
       "      <td>0.0</td>\n",
       "      <td>3.0</td>\n",
       "      <td>0</td>\n",
       "    </tr>\n",
       "    <tr>\n",
       "      <td>383</td>\n",
       "      <td>13729</td>\n",
       "      <td>12</td>\n",
       "      <td>8385</td>\n",
       "      <td>DX6</td>\n",
       "      <td>0</td>\n",
       "      <td>17.420418</td>\n",
       "      <td>NO</td>\n",
       "      <td>RURAL</td>\n",
       "      <td>Stable</td>\n",
       "      <td>1.0</td>\n",
       "      <td>1.0</td>\n",
       "      <td>0.0</td>\n",
       "      <td>0.0</td>\n",
       "      <td>1.0</td>\n",
       "      <td>0.0</td>\n",
       "      <td>0.0</td>\n",
       "      <td>3.0</td>\n",
       "      <td>0</td>\n",
       "    </tr>\n",
       "    <tr>\n",
       "      <td>439</td>\n",
       "      <td>10039</td>\n",
       "      <td>51</td>\n",
       "      <td>4354</td>\n",
       "      <td>DX6</td>\n",
       "      <td>0</td>\n",
       "      <td>25.405622</td>\n",
       "      <td>NO</td>\n",
       "      <td>RURAL</td>\n",
       "      <td>Stable</td>\n",
       "      <td>1.0</td>\n",
       "      <td>0.0</td>\n",
       "      <td>0.0</td>\n",
       "      <td>0.0</td>\n",
       "      <td>0.0</td>\n",
       "      <td>0.0</td>\n",
       "      <td>0.0</td>\n",
       "      <td>1.0</td>\n",
       "      <td>0</td>\n",
       "    </tr>\n",
       "    <tr>\n",
       "      <td>...</td>\n",
       "      <td>...</td>\n",
       "      <td>...</td>\n",
       "      <td>...</td>\n",
       "      <td>...</td>\n",
       "      <td>...</td>\n",
       "      <td>...</td>\n",
       "      <td>...</td>\n",
       "      <td>...</td>\n",
       "      <td>...</td>\n",
       "      <td>...</td>\n",
       "      <td>...</td>\n",
       "      <td>...</td>\n",
       "      <td>...</td>\n",
       "      <td>...</td>\n",
       "      <td>...</td>\n",
       "      <td>...</td>\n",
       "      <td>...</td>\n",
       "      <td>...</td>\n",
       "    </tr>\n",
       "    <tr>\n",
       "      <td>22740</td>\n",
       "      <td>10115</td>\n",
       "      <td>51</td>\n",
       "      <td>5210</td>\n",
       "      <td>DX6</td>\n",
       "      <td>0</td>\n",
       "      <td>29.808723</td>\n",
       "      <td>NO</td>\n",
       "      <td>URBAN</td>\n",
       "      <td>Stable</td>\n",
       "      <td>1.0</td>\n",
       "      <td>0.0</td>\n",
       "      <td>0.0</td>\n",
       "      <td>0.0</td>\n",
       "      <td>0.0</td>\n",
       "      <td>0.0</td>\n",
       "      <td>0.0</td>\n",
       "      <td>1.0</td>\n",
       "      <td>0</td>\n",
       "    </tr>\n",
       "    <tr>\n",
       "      <td>22766</td>\n",
       "      <td>10770</td>\n",
       "      <td>31</td>\n",
       "      <td>7654</td>\n",
       "      <td>DX1</td>\n",
       "      <td>0</td>\n",
       "      <td>23.645485</td>\n",
       "      <td>NO</td>\n",
       "      <td>URBAN</td>\n",
       "      <td>Stable</td>\n",
       "      <td>1.0</td>\n",
       "      <td>0.0</td>\n",
       "      <td>0.0</td>\n",
       "      <td>0.0</td>\n",
       "      <td>1.0</td>\n",
       "      <td>1.0</td>\n",
       "      <td>0.0</td>\n",
       "      <td>3.0</td>\n",
       "      <td>0</td>\n",
       "    </tr>\n",
       "    <tr>\n",
       "      <td>22972</td>\n",
       "      <td>18581</td>\n",
       "      <td>13</td>\n",
       "      <td>9178</td>\n",
       "      <td>DX5</td>\n",
       "      <td>0</td>\n",
       "      <td>27.636765</td>\n",
       "      <td>NO</td>\n",
       "      <td>URBAN</td>\n",
       "      <td>Stable</td>\n",
       "      <td>1.0</td>\n",
       "      <td>0.0</td>\n",
       "      <td>0.0</td>\n",
       "      <td>0.0</td>\n",
       "      <td>1.0</td>\n",
       "      <td>0.0</td>\n",
       "      <td>0.0</td>\n",
       "      <td>2.0</td>\n",
       "      <td>0</td>\n",
       "    </tr>\n",
       "    <tr>\n",
       "      <td>22989</td>\n",
       "      <td>32522</td>\n",
       "      <td>8</td>\n",
       "      <td>3410</td>\n",
       "      <td>DX5</td>\n",
       "      <td>0</td>\n",
       "      <td>18.418056</td>\n",
       "      <td>NO</td>\n",
       "      <td>RURAL</td>\n",
       "      <td>Stable</td>\n",
       "      <td>1.0</td>\n",
       "      <td>1.0</td>\n",
       "      <td>0.0</td>\n",
       "      <td>0.0</td>\n",
       "      <td>0.0</td>\n",
       "      <td>1.0</td>\n",
       "      <td>0.0</td>\n",
       "      <td>3.0</td>\n",
       "      <td>1</td>\n",
       "    </tr>\n",
       "    <tr>\n",
       "      <td>23027</td>\n",
       "      <td>29339</td>\n",
       "      <td>31</td>\n",
       "      <td>227</td>\n",
       "      <td>DX1 DX4</td>\n",
       "      <td>0</td>\n",
       "      <td>18.990500</td>\n",
       "      <td>NO</td>\n",
       "      <td>URBAN</td>\n",
       "      <td>Stable</td>\n",
       "      <td>1.0</td>\n",
       "      <td>1.0</td>\n",
       "      <td>1.0</td>\n",
       "      <td>0.0</td>\n",
       "      <td>0.0</td>\n",
       "      <td>0.0</td>\n",
       "      <td>0.0</td>\n",
       "      <td>3.0</td>\n",
       "      <td>0</td>\n",
       "    </tr>\n",
       "  </tbody>\n",
       "</table>\n",
       "<p>392 rows × 18 columns</p>\n",
       "</div>"
      ],
      "text/plain": [
       "       ID_Patient_Care_Situation  Diagnosed_Condition  Patient_ID  \\\n",
       "270                        23979                   36         410   \n",
       "354                        31586                   15        7033   \n",
       "382                        16270                   45       10829   \n",
       "383                        13729                   12        8385   \n",
       "439                        10039                   51        4354   \n",
       "...                          ...                  ...         ...   \n",
       "22740                      10115                   51        5210   \n",
       "22766                      10770                   31        7654   \n",
       "22972                      18581                   13        9178   \n",
       "22989                      32522                    8        3410   \n",
       "23027                      29339                   31         227   \n",
       "\n",
       "      Treated_with_drugs  Patient_Age  Patient_Body_Mass_Index Patient_Smoker  \\\n",
       "270                  DX6            0                17.824390             NO   \n",
       "354             DX1 DX3             0                17.620936             NO   \n",
       "382                  DX6            0                28.782161             NO   \n",
       "383                  DX6            0                17.420418             NO   \n",
       "439                  DX6            0                25.405622             NO   \n",
       "...                  ...          ...                      ...            ...   \n",
       "22740                DX6            0                29.808723             NO   \n",
       "22766               DX1             0                23.645485             NO   \n",
       "22972               DX5             0                27.636765             NO   \n",
       "22989               DX5             0                18.418056             NO   \n",
       "23027           DX1 DX4             0                18.990500             NO   \n",
       "\n",
       "      Patient_Rural_Urban Patient_mental_condition    A    B    C    D    E  \\\n",
       "270                 URBAN                   Stable  1.0  0.0  0.0  0.0  0.0   \n",
       "354                 RURAL                   Stable  1.0  0.0  1.0  1.0  0.0   \n",
       "382                 RURAL                   Stable  1.0  0.0  1.0  0.0  1.0   \n",
       "383                 RURAL                   Stable  1.0  1.0  0.0  0.0  1.0   \n",
       "439                 RURAL                   Stable  1.0  0.0  0.0  0.0  0.0   \n",
       "...                   ...                      ...  ...  ...  ...  ...  ...   \n",
       "22740               URBAN                   Stable  1.0  0.0  0.0  0.0  0.0   \n",
       "22766               URBAN                   Stable  1.0  0.0  0.0  0.0  1.0   \n",
       "22972               URBAN                   Stable  1.0  0.0  0.0  0.0  1.0   \n",
       "22989               RURAL                   Stable  1.0  1.0  0.0  0.0  0.0   \n",
       "23027               URBAN                   Stable  1.0  1.0  1.0  0.0  0.0   \n",
       "\n",
       "         F    Z  Number_of_prev_cond  Survived_1_year  \n",
       "270    0.0  0.0                  1.0                0  \n",
       "354    0.0  0.0                  3.0                1  \n",
       "382    0.0  0.0                  3.0                0  \n",
       "383    0.0  0.0                  3.0                0  \n",
       "439    0.0  0.0                  1.0                0  \n",
       "...    ...  ...                  ...              ...  \n",
       "22740  0.0  0.0                  1.0                0  \n",
       "22766  1.0  0.0                  3.0                0  \n",
       "22972  0.0  0.0                  2.0                0  \n",
       "22989  1.0  0.0                  3.0                1  \n",
       "23027  0.0  0.0                  3.0                0  \n",
       "\n",
       "[392 rows x 18 columns]"
      ]
     },
     "execution_count": 18,
     "metadata": {},
     "output_type": "execute_result"
    }
   ],
   "source": [
    "pharma_data[pharma_data['Patient_Age']==0]"
   ]
  },
  {
   "cell_type": "markdown",
   "metadata": {},
   "source": [
    "There are 392 Patient_Age with 0 values. 0 values replace by Patient_Age median."
   ]
  },
  {
   "cell_type": "code",
   "execution_count": 19,
   "metadata": {},
   "outputs": [],
   "source": [
    "pharma_data['Patient_Age'] =pharma_data['Patient_Age'].replace(0,pharma_data['Patient_Age'].median())"
   ]
  },
  {
   "cell_type": "code",
   "execution_count": 20,
   "metadata": {},
   "outputs": [
    {
     "data": {
      "text/html": [
       "<div>\n",
       "<style scoped>\n",
       "    .dataframe tbody tr th:only-of-type {\n",
       "        vertical-align: middle;\n",
       "    }\n",
       "\n",
       "    .dataframe tbody tr th {\n",
       "        vertical-align: top;\n",
       "    }\n",
       "\n",
       "    .dataframe thead th {\n",
       "        text-align: right;\n",
       "    }\n",
       "</style>\n",
       "<table border=\"1\" class=\"dataframe\">\n",
       "  <thead>\n",
       "    <tr style=\"text-align: right;\">\n",
       "      <th></th>\n",
       "      <th>ID_Patient_Care_Situation</th>\n",
       "      <th>Diagnosed_Condition</th>\n",
       "      <th>Patient_ID</th>\n",
       "      <th>Treated_with_drugs</th>\n",
       "      <th>Patient_Age</th>\n",
       "      <th>Patient_Body_Mass_Index</th>\n",
       "      <th>Patient_Smoker</th>\n",
       "      <th>Patient_Rural_Urban</th>\n",
       "      <th>Patient_mental_condition</th>\n",
       "      <th>A</th>\n",
       "      <th>B</th>\n",
       "      <th>C</th>\n",
       "      <th>D</th>\n",
       "      <th>E</th>\n",
       "      <th>F</th>\n",
       "      <th>Z</th>\n",
       "      <th>Number_of_prev_cond</th>\n",
       "      <th>Survived_1_year</th>\n",
       "    </tr>\n",
       "  </thead>\n",
       "  <tbody>\n",
       "    <tr>\n",
       "      <td>0</td>\n",
       "      <td>22374</td>\n",
       "      <td>8</td>\n",
       "      <td>3333</td>\n",
       "      <td>DX6</td>\n",
       "      <td>56</td>\n",
       "      <td>18.479385</td>\n",
       "      <td>YES</td>\n",
       "      <td>URBAN</td>\n",
       "      <td>Stable</td>\n",
       "      <td>1.0</td>\n",
       "      <td>0.0</td>\n",
       "      <td>0.0</td>\n",
       "      <td>0.0</td>\n",
       "      <td>1.0</td>\n",
       "      <td>0.0</td>\n",
       "      <td>0.0</td>\n",
       "      <td>2.0</td>\n",
       "      <td>0</td>\n",
       "    </tr>\n",
       "    <tr>\n",
       "      <td>1</td>\n",
       "      <td>18164</td>\n",
       "      <td>5</td>\n",
       "      <td>5740</td>\n",
       "      <td>DX2</td>\n",
       "      <td>36</td>\n",
       "      <td>22.945566</td>\n",
       "      <td>YES</td>\n",
       "      <td>RURAL</td>\n",
       "      <td>Stable</td>\n",
       "      <td>1.0</td>\n",
       "      <td>0.0</td>\n",
       "      <td>0.0</td>\n",
       "      <td>0.0</td>\n",
       "      <td>0.0</td>\n",
       "      <td>0.0</td>\n",
       "      <td>0.0</td>\n",
       "      <td>1.0</td>\n",
       "      <td>1</td>\n",
       "    </tr>\n",
       "    <tr>\n",
       "      <td>2</td>\n",
       "      <td>6283</td>\n",
       "      <td>23</td>\n",
       "      <td>10446</td>\n",
       "      <td>DX6</td>\n",
       "      <td>48</td>\n",
       "      <td>27.510027</td>\n",
       "      <td>YES</td>\n",
       "      <td>RURAL</td>\n",
       "      <td>Stable</td>\n",
       "      <td>1.0</td>\n",
       "      <td>0.0</td>\n",
       "      <td>0.0</td>\n",
       "      <td>0.0</td>\n",
       "      <td>0.0</td>\n",
       "      <td>0.0</td>\n",
       "      <td>0.0</td>\n",
       "      <td>1.0</td>\n",
       "      <td>0</td>\n",
       "    </tr>\n",
       "    <tr>\n",
       "      <td>3</td>\n",
       "      <td>5339</td>\n",
       "      <td>51</td>\n",
       "      <td>12011</td>\n",
       "      <td>DX1</td>\n",
       "      <td>5</td>\n",
       "      <td>19.130976</td>\n",
       "      <td>NO</td>\n",
       "      <td>URBAN</td>\n",
       "      <td>Stable</td>\n",
       "      <td>1.0</td>\n",
       "      <td>0.0</td>\n",
       "      <td>0.0</td>\n",
       "      <td>0.0</td>\n",
       "      <td>0.0</td>\n",
       "      <td>0.0</td>\n",
       "      <td>0.0</td>\n",
       "      <td>1.0</td>\n",
       "      <td>1</td>\n",
       "    </tr>\n",
       "    <tr>\n",
       "      <td>4</td>\n",
       "      <td>33012</td>\n",
       "      <td>26</td>\n",
       "      <td>12513</td>\n",
       "      <td>NaN</td>\n",
       "      <td>128</td>\n",
       "      <td>1.348400</td>\n",
       "      <td>Cannot say</td>\n",
       "      <td>RURAL</td>\n",
       "      <td>Stable</td>\n",
       "      <td>0.0</td>\n",
       "      <td>0.0</td>\n",
       "      <td>0.0</td>\n",
       "      <td>0.0</td>\n",
       "      <td>0.0</td>\n",
       "      <td>0.0</td>\n",
       "      <td>1.0</td>\n",
       "      <td>1.0</td>\n",
       "      <td>1</td>\n",
       "    </tr>\n",
       "  </tbody>\n",
       "</table>\n",
       "</div>"
      ],
      "text/plain": [
       "   ID_Patient_Care_Situation  Diagnosed_Condition  Patient_ID  \\\n",
       "0                      22374                    8        3333   \n",
       "1                      18164                    5        5740   \n",
       "2                       6283                   23       10446   \n",
       "3                       5339                   51       12011   \n",
       "4                      33012                   26       12513   \n",
       "\n",
       "  Treated_with_drugs  Patient_Age  Patient_Body_Mass_Index Patient_Smoker  \\\n",
       "0                DX6           56                18.479385            YES   \n",
       "1               DX2            36                22.945566            YES   \n",
       "2                DX6           48                27.510027            YES   \n",
       "3               DX1             5                19.130976             NO   \n",
       "4                NaN          128                 1.348400     Cannot say   \n",
       "\n",
       "  Patient_Rural_Urban Patient_mental_condition    A    B    C    D    E    F  \\\n",
       "0               URBAN                   Stable  1.0  0.0  0.0  0.0  1.0  0.0   \n",
       "1               RURAL                   Stable  1.0  0.0  0.0  0.0  0.0  0.0   \n",
       "2               RURAL                   Stable  1.0  0.0  0.0  0.0  0.0  0.0   \n",
       "3               URBAN                   Stable  1.0  0.0  0.0  0.0  0.0  0.0   \n",
       "4               RURAL                   Stable  0.0  0.0  0.0  0.0  0.0  0.0   \n",
       "\n",
       "     Z  Number_of_prev_cond  Survived_1_year  \n",
       "0  0.0                  2.0                0  \n",
       "1  0.0                  1.0                1  \n",
       "2  0.0                  1.0                0  \n",
       "3  0.0                  1.0                1  \n",
       "4  1.0                  1.0                1  "
      ]
     },
     "execution_count": 20,
     "metadata": {},
     "output_type": "execute_result"
    }
   ],
   "source": [
    "pharma_data.head()"
   ]
  },
  {
   "cell_type": "markdown",
   "metadata": {},
   "source": [
    "## Checking missing value"
   ]
  },
  {
   "cell_type": "code",
   "execution_count": 21,
   "metadata": {},
   "outputs": [
    {
     "data": {
      "text/html": [
       "<div>\n",
       "<style scoped>\n",
       "    .dataframe tbody tr th:only-of-type {\n",
       "        vertical-align: middle;\n",
       "    }\n",
       "\n",
       "    .dataframe tbody tr th {\n",
       "        vertical-align: top;\n",
       "    }\n",
       "\n",
       "    .dataframe thead th {\n",
       "        text-align: right;\n",
       "    }\n",
       "</style>\n",
       "<table border=\"1\" class=\"dataframe\">\n",
       "  <thead>\n",
       "    <tr style=\"text-align: right;\">\n",
       "      <th></th>\n",
       "      <th>Missing_values</th>\n",
       "      <th>Percentace</th>\n",
       "    </tr>\n",
       "  </thead>\n",
       "  <tbody>\n",
       "    <tr>\n",
       "      <td>ID_Patient_Care_Situation</td>\n",
       "      <td>0</td>\n",
       "      <td>0.000000</td>\n",
       "    </tr>\n",
       "    <tr>\n",
       "      <td>Diagnosed_Condition</td>\n",
       "      <td>0</td>\n",
       "      <td>0.000000</td>\n",
       "    </tr>\n",
       "    <tr>\n",
       "      <td>Patient_ID</td>\n",
       "      <td>0</td>\n",
       "      <td>0.000000</td>\n",
       "    </tr>\n",
       "    <tr>\n",
       "      <td>Treated_with_drugs</td>\n",
       "      <td>13</td>\n",
       "      <td>0.056284</td>\n",
       "    </tr>\n",
       "    <tr>\n",
       "      <td>Patient_Age</td>\n",
       "      <td>0</td>\n",
       "      <td>0.000000</td>\n",
       "    </tr>\n",
       "    <tr>\n",
       "      <td>Patient_Body_Mass_Index</td>\n",
       "      <td>0</td>\n",
       "      <td>0.000000</td>\n",
       "    </tr>\n",
       "    <tr>\n",
       "      <td>Patient_Smoker</td>\n",
       "      <td>0</td>\n",
       "      <td>0.000000</td>\n",
       "    </tr>\n",
       "    <tr>\n",
       "      <td>Patient_Rural_Urban</td>\n",
       "      <td>0</td>\n",
       "      <td>0.000000</td>\n",
       "    </tr>\n",
       "    <tr>\n",
       "      <td>Patient_mental_condition</td>\n",
       "      <td>0</td>\n",
       "      <td>0.000000</td>\n",
       "    </tr>\n",
       "    <tr>\n",
       "      <td>A</td>\n",
       "      <td>1235</td>\n",
       "      <td>5.347015</td>\n",
       "    </tr>\n",
       "    <tr>\n",
       "      <td>B</td>\n",
       "      <td>1235</td>\n",
       "      <td>5.347015</td>\n",
       "    </tr>\n",
       "    <tr>\n",
       "      <td>C</td>\n",
       "      <td>1235</td>\n",
       "      <td>5.347015</td>\n",
       "    </tr>\n",
       "    <tr>\n",
       "      <td>D</td>\n",
       "      <td>1235</td>\n",
       "      <td>5.347015</td>\n",
       "    </tr>\n",
       "    <tr>\n",
       "      <td>E</td>\n",
       "      <td>1235</td>\n",
       "      <td>5.347015</td>\n",
       "    </tr>\n",
       "    <tr>\n",
       "      <td>F</td>\n",
       "      <td>1235</td>\n",
       "      <td>5.347015</td>\n",
       "    </tr>\n",
       "    <tr>\n",
       "      <td>Z</td>\n",
       "      <td>1235</td>\n",
       "      <td>5.347015</td>\n",
       "    </tr>\n",
       "    <tr>\n",
       "      <td>Number_of_prev_cond</td>\n",
       "      <td>1235</td>\n",
       "      <td>5.347015</td>\n",
       "    </tr>\n",
       "    <tr>\n",
       "      <td>Survived_1_year</td>\n",
       "      <td>0</td>\n",
       "      <td>0.000000</td>\n",
       "    </tr>\n",
       "  </tbody>\n",
       "</table>\n",
       "</div>"
      ],
      "text/plain": [
       "                           Missing_values  Percentace\n",
       "ID_Patient_Care_Situation               0    0.000000\n",
       "Diagnosed_Condition                     0    0.000000\n",
       "Patient_ID                              0    0.000000\n",
       "Treated_with_drugs                     13    0.056284\n",
       "Patient_Age                             0    0.000000\n",
       "Patient_Body_Mass_Index                 0    0.000000\n",
       "Patient_Smoker                          0    0.000000\n",
       "Patient_Rural_Urban                     0    0.000000\n",
       "Patient_mental_condition                0    0.000000\n",
       "A                                    1235    5.347015\n",
       "B                                    1235    5.347015\n",
       "C                                    1235    5.347015\n",
       "D                                    1235    5.347015\n",
       "E                                    1235    5.347015\n",
       "F                                    1235    5.347015\n",
       "Z                                    1235    5.347015\n",
       "Number_of_prev_cond                  1235    5.347015\n",
       "Survived_1_year                         0    0.000000"
      ]
     },
     "execution_count": 21,
     "metadata": {},
     "output_type": "execute_result"
    }
   ],
   "source": [
    "df= pd.DataFrame(pharma_data.isnull().sum())\n",
    "df[''] =(pharma_data.isnull().sum()/pharma_data.shape[0])*100\n",
    "df.columns = ['Missing_values','Percentace']\n",
    "df"
   ]
  },
  {
   "cell_type": "markdown",
   "metadata": {},
   "source": [
    "There are some column with missing value Treated_with_drugs,A,B,C,D,E,F,Z, and Number_of_prev_cond."
   ]
  },
  {
   "cell_type": "markdown",
   "metadata": {
    "colab_type": "text",
    "id": "WwuqXiDAqpaV"
   },
   "source": [
    "## Treating the Missing data"
   ]
  },
  {
   "cell_type": "markdown",
   "metadata": {},
   "source": [
    "**Treated_with_drugs columns**"
   ]
  },
  {
   "cell_type": "code",
   "execution_count": 22,
   "metadata": {
    "colab": {
     "base_uri": "https://localhost:8080/",
     "height": 35
    },
    "colab_type": "code",
    "id": "og3pldZxqoiT",
    "outputId": "f478aa69-0962-41ec-9012-df622d834d01"
   },
   "outputs": [
    {
     "data": {
      "text/plain": [
       "13"
      ]
     },
     "execution_count": 22,
     "metadata": {},
     "output_type": "execute_result"
    }
   ],
   "source": [
    "pharma_data['Treated_with_drugs'].isnull().sum()"
   ]
  },
  {
   "cell_type": "code",
   "execution_count": 23,
   "metadata": {
    "colab": {
     "base_uri": "https://localhost:8080/",
     "height": 70
    },
    "colab_type": "code",
    "id": "inPdUMHqqt4G",
    "outputId": "1c582721-9984-44ea-b422-acb475ab2e4a"
   },
   "outputs": [
    {
     "data": {
      "text/plain": [
       "Int64Index([4, 218, 2540, 2711, 4308, 4887, 6308, 10388, 10663, 12782, 18630,\n",
       "            19123, 21705],\n",
       "           dtype='int64')"
      ]
     },
     "execution_count": 23,
     "metadata": {},
     "output_type": "execute_result"
    }
   ],
   "source": [
    "pharma_data.loc[pd.isna(pharma_data['Treated_with_drugs']), :].index"
   ]
  },
  {
   "cell_type": "code",
   "execution_count": 24,
   "metadata": {
    "colab": {
     "base_uri": "https://localhost:8080/",
     "height": 52
    },
    "colab_type": "code",
    "id": "D3iWqyPnqt63",
    "outputId": "5a5ec237-a0dc-480a-cd0b-e2954a32707d"
   },
   "outputs": [
    {
     "data": {
      "text/plain": [
       "0    DX6\n",
       "dtype: object"
      ]
     },
     "execution_count": 24,
     "metadata": {},
     "output_type": "execute_result"
    }
   ],
   "source": [
    "pharma_data['Treated_with_drugs'].mode()"
   ]
  },
  {
   "cell_type": "code",
   "execution_count": 25,
   "metadata": {
    "colab": {
     "base_uri": "https://localhost:8080/",
     "height": 36
    },
    "colab_type": "code",
    "id": "xqQQfJ_MquDa",
    "outputId": "a2dd7e7d-bef1-4f6c-e0fe-5b2444ff1b92"
   },
   "outputs": [
    {
     "data": {
      "text/plain": [
       "'DX6'"
      ]
     },
     "execution_count": 25,
     "metadata": {},
     "output_type": "execute_result"
    }
   ],
   "source": [
    "pharma_data['Treated_with_drugs'].mode()[0]"
   ]
  },
  {
   "cell_type": "code",
   "execution_count": 26,
   "metadata": {
    "colab": {},
    "colab_type": "code",
    "id": "DmQkqjTmqzmV"
   },
   "outputs": [],
   "source": [
    "pharma_data['Treated_with_drugs'] = pharma_data['Treated_with_drugs'].fillna(pharma_data['Treated_with_drugs'].mode()[0])"
   ]
  },
  {
   "cell_type": "code",
   "execution_count": 27,
   "metadata": {
    "colab": {
     "base_uri": "https://localhost:8080/",
     "height": 35
    },
    "colab_type": "code",
    "id": "gcOXq8srq1-U",
    "outputId": "4e0f0f82-4835-4a8d-ec79-82ac5ea7d301"
   },
   "outputs": [
    {
     "data": {
      "text/plain": [
       "0"
      ]
     },
     "execution_count": 27,
     "metadata": {},
     "output_type": "execute_result"
    }
   ],
   "source": [
    "pharma_data['Treated_with_drugs'].isnull().sum()"
   ]
  },
  {
   "cell_type": "markdown",
   "metadata": {},
   "source": [
    "**A,B,C,D,E,F,Z, and Number_of_prev_cond columns**"
   ]
  },
  {
   "cell_type": "code",
   "execution_count": 28,
   "metadata": {},
   "outputs": [
    {
     "data": {
      "text/plain": [
       "ID_Patient_Care_Situation    3.821563e+08\n",
       "Diagnosed_Condition          1.100000e+01\n",
       "Patient_ID                   9.178000e+03\n",
       "Patient_Age                  3.300000e+01\n",
       "Patient_Body_Mass_Index      2.763677e+01\n",
       "A                            1.000000e+00\n",
       "B                            0.000000e+00\n",
       "C                            0.000000e+00\n",
       "D                            0.000000e+00\n",
       "E                            0.000000e+00\n",
       "F                            0.000000e+00\n",
       "Z                            0.000000e+00\n",
       "Number_of_prev_cond          1.000000e+00\n",
       "Survived_1_year              1.000000e+00\n",
       "dtype: float64"
      ]
     },
     "execution_count": 28,
     "metadata": {},
     "output_type": "execute_result"
    }
   ],
   "source": [
    "pharma_data.mode().sum()"
   ]
  },
  {
   "cell_type": "code",
   "execution_count": 29,
   "metadata": {},
   "outputs": [],
   "source": [
    "for i in pharma_data.columns:\n",
    "    if pharma_data[i].isnull().sum() != 0:\n",
    "        pharma_data[i] = pharma_data[i].fillna(pharma_data[i].mode()[0])\n",
    "    else:\n",
    "        continue"
   ]
  },
  {
   "cell_type": "code",
   "execution_count": 30,
   "metadata": {},
   "outputs": [
    {
     "data": {
      "text/plain": [
       "ID_Patient_Care_Situation    0\n",
       "Diagnosed_Condition          0\n",
       "Patient_ID                   0\n",
       "Treated_with_drugs           0\n",
       "Patient_Age                  0\n",
       "Patient_Body_Mass_Index      0\n",
       "Patient_Smoker               0\n",
       "Patient_Rural_Urban          0\n",
       "Patient_mental_condition     0\n",
       "A                            0\n",
       "B                            0\n",
       "C                            0\n",
       "D                            0\n",
       "E                            0\n",
       "F                            0\n",
       "Z                            0\n",
       "Number_of_prev_cond          0\n",
       "Survived_1_year              0\n",
       "dtype: int64"
      ]
     },
     "execution_count": 30,
     "metadata": {},
     "output_type": "execute_result"
    }
   ],
   "source": [
    "pharma_data.isnull().sum()"
   ]
  },
  {
   "cell_type": "markdown",
   "metadata": {},
   "source": [
    "Fill null values in A,B,C,D,E,F,Z, and Number_of_prev_cond column with mode"
   ]
  },
  {
   "cell_type": "code",
   "execution_count": 31,
   "metadata": {
    "colab": {
     "base_uri": "https://localhost:8080/",
     "height": 564
    },
    "colab_type": "code",
    "id": "zmrCjpV8q5hJ",
    "outputId": "809cd7c0-0506-44b1-8102-dfa6d167f59b"
   },
   "outputs": [
    {
     "data": {
      "image/png": "[encoded data removed]",
      "text/plain": [
       "<Figure size 792x288 with 4 Axes>"
      ]
     },
     "metadata": {
      "needs_background": "light"
     },
     "output_type": "display_data"
    }
   ],
   "source": [
    "figure, (ax1, ax2) = plt.subplots(1, 2, figsize=(11,4))\n",
    "msno.matrix(pharma_data, ax=ax1, sparkline=False, fontsize = 12, color=(0., 0.25, 0.25))\n",
    "msno.bar(pharma_data, ax=ax2, fontsize = 12, color=(0.25, 0., 0.25))\n",
    "plt.show()"
   ]
  },
  {
   "cell_type": "markdown",
   "metadata": {
    "colab_type": "text",
    "id": "HL2lzfYZrfbK"
   },
   "source": [
    "# Exploratory Data Analysis"
   ]
  },
  {
   "cell_type": "code",
   "execution_count": 32,
   "metadata": {
    "colab": {
     "base_uri": "https://localhost:8080/",
     "height": 407
    },
    "colab_type": "code",
    "id": "h8jtpN6-raVp",
    "outputId": "f7f1f540-4237-4df6-e87b-00d52fe80c87"
   },
   "outputs": [
    {
     "data": {
      "text/plain": [
       "<matplotlib.axes._subplots.AxesSubplot at 0x1c268fcdd0>"
      ]
     },
     "execution_count": 32,
     "metadata": {},
     "output_type": "execute_result"
    },
    {
     "data": {
      "image/png": "[encoded data removed]",
      "text/plain": [
       "<Figure size 720x432 with 1 Axes>"
      ]
     },
     "metadata": {
      "needs_background": "light"
     },
     "output_type": "display_data"
    }
   ],
   "source": [
    "plt.figure(figsize=(10, 6))\n",
    "sns.countplot(x= 'Survived_1_year',data= pharma_data,palette='Accent')"
   ]
  },
  {
   "cell_type": "code",
   "execution_count": 33,
   "metadata": {
    "colab": {
     "base_uri": "https://localhost:8080/",
     "height": 407
    },
    "colab_type": "code",
    "id": "vsscjUGwrhUs",
    "outputId": "2323ec62-e937-4ce1-dd1c-414cdf427a42"
   },
   "outputs": [
    {
     "data": {
      "text/plain": [
       "<matplotlib.axes._subplots.AxesSubplot at 0x1c26725550>"
      ]
     },
     "execution_count": 33,
     "metadata": {},
     "output_type": "execute_result"
    },
    {
     "data": {
      "image/png": "[encoded data removed]",
      "text/plain": [
       "<Figure size 720x432 with 1 Axes>"
      ]
     },
     "metadata": {
      "needs_background": "light"
     },
     "output_type": "display_data"
    }
   ],
   "source": [
    "plt.figure(figsize=(10, 6))\n",
    "sns.countplot(x= 'Survived_1_year',hue='Patient_Smoker',data= pharma_data,palette='Accent')"
   ]
  },
  {
   "cell_type": "code",
   "execution_count": 34,
   "metadata": {
    "colab": {
     "base_uri": "https://localhost:8080/",
     "height": 407
    },
    "colab_type": "code",
    "id": "PhSe5Bcerk11",
    "outputId": "e7f54f98-d56e-4aa4-9f98-450d0c4d6347"
   },
   "outputs": [
    {
     "data": {
      "text/plain": [
       "<matplotlib.axes._subplots.AxesSubplot at 0x1c26c87110>"
      ]
     },
     "execution_count": 34,
     "metadata": {},
     "output_type": "execute_result"
    },
    {
     "data": {
      "image/png": "[encoded data removed]",
      "text/plain": [
       "<Figure size 720x432 with 1 Axes>"
      ]
     },
     "metadata": {
      "needs_background": "light"
     },
     "output_type": "display_data"
    }
   ],
   "source": [
    "plt.figure(figsize=(10, 6))\n",
    "sns.countplot(x= 'Survived_1_year',hue='Patient_Rural_Urban',data= pharma_data,palette='Accent')"
   ]
  },
  {
   "cell_type": "code",
   "execution_count": 35,
   "metadata": {
    "colab": {
     "base_uri": "https://localhost:8080/",
     "height": 407
    },
    "colab_type": "code",
    "id": "6ZEwRtwLrhZm",
    "outputId": "a40324cf-c294-4900-b840-55877920bd22"
   },
   "outputs": [
    {
     "data": {
      "text/plain": [
       "<matplotlib.axes._subplots.AxesSubplot at 0x10ff94e10>"
      ]
     },
     "execution_count": 35,
     "metadata": {},
     "output_type": "execute_result"
    },
    {
     "data": {
      "image/png": "[encoded data removed]",
      "text/plain": [
       "<Figure size 720x432 with 1 Axes>"
      ]
     },
     "metadata": {
      "needs_background": "light"
     },
     "output_type": "display_data"
    }
   ],
   "source": [
    "plt.figure(figsize=(10, 6))\n",
    "sns.boxplot(x='Survived_1_year',y='Patient_Age',data=pharma_data,palette='Accent')"
   ]
  },
  {
   "cell_type": "code",
   "execution_count": 36,
   "metadata": {
    "colab": {
     "base_uri": "https://localhost:8080/",
     "height": 407
    },
    "colab_type": "code",
    "id": "T18NRGzCrhdo",
    "outputId": "e24e9a56-0962-457b-f761-a373c71c51d1"
   },
   "outputs": [
    {
     "data": {
      "text/plain": [
       "<matplotlib.axes._subplots.AxesSubplot at 0x1c24d60c10>"
      ]
     },
     "execution_count": 36,
     "metadata": {},
     "output_type": "execute_result"
    },
    {
     "data": {
      "image/png": "[encoded data removed]",
      "text/plain": [
       "<Figure size 720x432 with 1 Axes>"
      ]
     },
     "metadata": {
      "needs_background": "light"
     },
     "output_type": "display_data"
    }
   ],
   "source": [
    "plt.figure(figsize=(10, 6))\n",
    "sns.boxplot(x='Survived_1_year',y='Patient_Body_Mass_Index',data=pharma_data,palette='Accent')"
   ]
  },
  {
   "cell_type": "markdown",
   "metadata": {},
   "source": [
    "some strange values Patient_Body_Mass_Index <= 14 indicate outliers"
   ]
  },
  {
   "cell_type": "code",
   "execution_count": 37,
   "metadata": {},
   "outputs": [],
   "source": [
    "#drop the outliers\n",
    "pharma_data = pharma_data.drop(pharma_data[pharma_data['Patient_Body_Mass_Index'] <= 14].index,axis=0)"
   ]
  },
  {
   "cell_type": "markdown",
   "metadata": {
    "colab": {
     "base_uri": "https://localhost:8080/",
     "height": 407
    },
    "colab_type": "code",
    "id": "OEY2Xredrhg-",
    "outputId": "9efdee50-addf-4f28-ca00-bdd2b3a7ddc9"
   },
   "source": [
    "plt.figure(figsize=(10, 6))\n",
    "sns.countplot(x='Patient_Smoker',data=pharma_data,palette='Accent')"
   ]
  },
  {
   "cell_type": "code",
   "execution_count": 38,
   "metadata": {
    "colab": {
     "base_uri": "https://localhost:8080/",
     "height": 407
    },
    "colab_type": "code",
    "id": "kxrrufFnracd",
    "outputId": "92b135ba-d86c-43c7-b541-3d737d402c88"
   },
   "outputs": [
    {
     "data": {
      "text/plain": [
       "<matplotlib.axes._subplots.AxesSubplot at 0x1c2665ea10>"
      ]
     },
     "execution_count": 38,
     "metadata": {},
     "output_type": "execute_result"
    },
    {
     "data": {
      "image/png": "[encoded data removed]",
      "text/plain": [
       "<Figure size 720x432 with 1 Axes>"
      ]
     },
     "metadata": {
      "needs_background": "light"
     },
     "output_type": "display_data"
    }
   ],
   "source": [
    "plt.figure(figsize=(10, 6))\n",
    "sns.countplot(x='Number_of_prev_cond',data=pharma_data,palette='Accent')"
   ]
  },
  {
   "cell_type": "code",
   "execution_count": 39,
   "metadata": {
    "colab": {
     "base_uri": "https://localhost:8080/",
     "height": 407
    },
    "colab_type": "code",
    "id": "GEvSpMXpragc",
    "outputId": "31d99241-2179-4b03-e4f4-e0b221d337c2"
   },
   "outputs": [
    {
     "data": {
      "text/plain": [
       "<matplotlib.axes._subplots.AxesSubplot at 0x1c25fb5e50>"
      ]
     },
     "execution_count": 39,
     "metadata": {},
     "output_type": "execute_result"
    },
    {
     "data": {
      "image/png": "[encoded data removed]",
      "text/plain": [
       "<Figure size 720x432 with 1 Axes>"
      ]
     },
     "metadata": {
      "needs_background": "light"
     },
     "output_type": "display_data"
    }
   ],
   "source": [
    "plt.figure(figsize=(10, 6))\n",
    "sns.countplot(x= 'Survived_1_year',hue='Number_of_prev_cond',data= pharma_data,palette='Accent')"
   ]
  },
  {
   "cell_type": "code",
   "execution_count": 40,
   "metadata": {
    "colab": {
     "base_uri": "https://localhost:8080/",
     "height": 568
    },
    "colab_type": "code",
    "id": "YX2o7G9mq2Jo",
    "outputId": "2224632e-fbfe-42a0-f9eb-841bde86f9bd"
   },
   "outputs": [
    {
     "data": {
      "text/html": [
       "<div>\n",
       "<style scoped>\n",
       "    .dataframe tbody tr th:only-of-type {\n",
       "        vertical-align: middle;\n",
       "    }\n",
       "\n",
       "    .dataframe tbody tr th {\n",
       "        vertical-align: top;\n",
       "    }\n",
       "\n",
       "    .dataframe thead th {\n",
       "        text-align: right;\n",
       "    }\n",
       "</style>\n",
       "<table border=\"1\" class=\"dataframe\">\n",
       "  <thead>\n",
       "    <tr style=\"text-align: right;\">\n",
       "      <th></th>\n",
       "      <th>ID_Patient_Care_Situation</th>\n",
       "      <th>Diagnosed_Condition</th>\n",
       "      <th>Patient_ID</th>\n",
       "      <th>Patient_Age</th>\n",
       "      <th>Patient_Body_Mass_Index</th>\n",
       "      <th>A</th>\n",
       "      <th>B</th>\n",
       "      <th>C</th>\n",
       "      <th>D</th>\n",
       "      <th>E</th>\n",
       "      <th>F</th>\n",
       "      <th>Z</th>\n",
       "      <th>Number_of_prev_cond</th>\n",
       "      <th>Survived_1_year</th>\n",
       "    </tr>\n",
       "  </thead>\n",
       "  <tbody>\n",
       "    <tr>\n",
       "      <td>ID_Patient_Care_Situation</td>\n",
       "      <td>1.000000</td>\n",
       "      <td>-0.005747</td>\n",
       "      <td>-0.001457</td>\n",
       "      <td>-0.001571</td>\n",
       "      <td>-0.001673</td>\n",
       "      <td>0.008101</td>\n",
       "      <td>0.004536</td>\n",
       "      <td>0.009882</td>\n",
       "      <td>-0.006648</td>\n",
       "      <td>-0.000293</td>\n",
       "      <td>0.007315</td>\n",
       "      <td>NaN</td>\n",
       "      <td>0.009550</td>\n",
       "      <td>-0.005432</td>\n",
       "    </tr>\n",
       "    <tr>\n",
       "      <td>Diagnosed_Condition</td>\n",
       "      <td>-0.005747</td>\n",
       "      <td>1.000000</td>\n",
       "      <td>0.010052</td>\n",
       "      <td>-0.002311</td>\n",
       "      <td>0.002631</td>\n",
       "      <td>0.002414</td>\n",
       "      <td>0.002684</td>\n",
       "      <td>-0.004094</td>\n",
       "      <td>-0.008484</td>\n",
       "      <td>0.005300</td>\n",
       "      <td>0.005087</td>\n",
       "      <td>NaN</td>\n",
       "      <td>0.001880</td>\n",
       "      <td>-0.003699</td>\n",
       "    </tr>\n",
       "    <tr>\n",
       "      <td>Patient_ID</td>\n",
       "      <td>-0.001457</td>\n",
       "      <td>0.010052</td>\n",
       "      <td>1.000000</td>\n",
       "      <td>0.007280</td>\n",
       "      <td>-0.017735</td>\n",
       "      <td>-0.001756</td>\n",
       "      <td>-0.012065</td>\n",
       "      <td>-0.006388</td>\n",
       "      <td>-0.004690</td>\n",
       "      <td>0.000348</td>\n",
       "      <td>0.007522</td>\n",
       "      <td>NaN</td>\n",
       "      <td>-0.008381</td>\n",
       "      <td>-0.004965</td>\n",
       "    </tr>\n",
       "    <tr>\n",
       "      <td>Patient_Age</td>\n",
       "      <td>-0.001571</td>\n",
       "      <td>-0.002311</td>\n",
       "      <td>0.007280</td>\n",
       "      <td>1.000000</td>\n",
       "      <td>0.011911</td>\n",
       "      <td>-0.015157</td>\n",
       "      <td>-0.010127</td>\n",
       "      <td>-0.008523</td>\n",
       "      <td>0.008016</td>\n",
       "      <td>-0.003187</td>\n",
       "      <td>0.009374</td>\n",
       "      <td>NaN</td>\n",
       "      <td>-0.010962</td>\n",
       "      <td>-0.084525</td>\n",
       "    </tr>\n",
       "    <tr>\n",
       "      <td>Patient_Body_Mass_Index</td>\n",
       "      <td>-0.001673</td>\n",
       "      <td>0.002631</td>\n",
       "      <td>-0.017735</td>\n",
       "      <td>0.011911</td>\n",
       "      <td>1.000000</td>\n",
       "      <td>0.010557</td>\n",
       "      <td>-0.000404</td>\n",
       "      <td>-0.019742</td>\n",
       "      <td>-0.010305</td>\n",
       "      <td>-0.009015</td>\n",
       "      <td>-0.016955</td>\n",
       "      <td>NaN</td>\n",
       "      <td>-0.020041</td>\n",
       "      <td>-0.120521</td>\n",
       "    </tr>\n",
       "    <tr>\n",
       "      <td>A</td>\n",
       "      <td>0.008101</td>\n",
       "      <td>0.002414</td>\n",
       "      <td>-0.001756</td>\n",
       "      <td>-0.015157</td>\n",
       "      <td>0.010557</td>\n",
       "      <td>1.000000</td>\n",
       "      <td>-0.071190</td>\n",
       "      <td>-0.098596</td>\n",
       "      <td>-0.081789</td>\n",
       "      <td>-0.175887</td>\n",
       "      <td>-0.058962</td>\n",
       "      <td>NaN</td>\n",
       "      <td>0.147524</td>\n",
       "      <td>-0.042209</td>\n",
       "    </tr>\n",
       "    <tr>\n",
       "      <td>B</td>\n",
       "      <td>0.004536</td>\n",
       "      <td>0.002684</td>\n",
       "      <td>-0.012065</td>\n",
       "      <td>-0.010127</td>\n",
       "      <td>-0.000404</td>\n",
       "      <td>-0.071190</td>\n",
       "      <td>1.000000</td>\n",
       "      <td>-0.011038</td>\n",
       "      <td>0.004275</td>\n",
       "      <td>-0.000853</td>\n",
       "      <td>-0.010940</td>\n",
       "      <td>NaN</td>\n",
       "      <td>0.401584</td>\n",
       "      <td>-0.054406</td>\n",
       "    </tr>\n",
       "    <tr>\n",
       "      <td>C</td>\n",
       "      <td>0.009882</td>\n",
       "      <td>-0.004094</td>\n",
       "      <td>-0.006388</td>\n",
       "      <td>-0.008523</td>\n",
       "      <td>-0.019742</td>\n",
       "      <td>-0.098596</td>\n",
       "      <td>-0.011038</td>\n",
       "      <td>1.000000</td>\n",
       "      <td>0.015022</td>\n",
       "      <td>-0.005850</td>\n",
       "      <td>0.006861</td>\n",
       "      <td>NaN</td>\n",
       "      <td>0.455816</td>\n",
       "      <td>-0.039511</td>\n",
       "    </tr>\n",
       "    <tr>\n",
       "      <td>D</td>\n",
       "      <td>-0.006648</td>\n",
       "      <td>-0.008484</td>\n",
       "      <td>-0.004690</td>\n",
       "      <td>0.008016</td>\n",
       "      <td>-0.010305</td>\n",
       "      <td>-0.081789</td>\n",
       "      <td>0.004275</td>\n",
       "      <td>0.015022</td>\n",
       "      <td>1.000000</td>\n",
       "      <td>-0.000593</td>\n",
       "      <td>-0.005818</td>\n",
       "      <td>NaN</td>\n",
       "      <td>0.327382</td>\n",
       "      <td>-0.107571</td>\n",
       "    </tr>\n",
       "    <tr>\n",
       "      <td>E</td>\n",
       "      <td>-0.000293</td>\n",
       "      <td>0.005300</td>\n",
       "      <td>0.000348</td>\n",
       "      <td>-0.003187</td>\n",
       "      <td>-0.009015</td>\n",
       "      <td>-0.175887</td>\n",
       "      <td>-0.000853</td>\n",
       "      <td>-0.005850</td>\n",
       "      <td>-0.000593</td>\n",
       "      <td>1.000000</td>\n",
       "      <td>0.004803</td>\n",
       "      <td>NaN</td>\n",
       "      <td>0.559714</td>\n",
       "      <td>0.008799</td>\n",
       "    </tr>\n",
       "    <tr>\n",
       "      <td>F</td>\n",
       "      <td>0.007315</td>\n",
       "      <td>0.005087</td>\n",
       "      <td>0.007522</td>\n",
       "      <td>0.009374</td>\n",
       "      <td>-0.016955</td>\n",
       "      <td>-0.058962</td>\n",
       "      <td>-0.010940</td>\n",
       "      <td>0.006861</td>\n",
       "      <td>-0.005818</td>\n",
       "      <td>0.004803</td>\n",
       "      <td>1.000000</td>\n",
       "      <td>NaN</td>\n",
       "      <td>0.262965</td>\n",
       "      <td>0.000403</td>\n",
       "    </tr>\n",
       "    <tr>\n",
       "      <td>Z</td>\n",
       "      <td>NaN</td>\n",
       "      <td>NaN</td>\n",
       "      <td>NaN</td>\n",
       "      <td>NaN</td>\n",
       "      <td>NaN</td>\n",
       "      <td>NaN</td>\n",
       "      <td>NaN</td>\n",
       "      <td>NaN</td>\n",
       "      <td>NaN</td>\n",
       "      <td>NaN</td>\n",
       "      <td>NaN</td>\n",
       "      <td>NaN</td>\n",
       "      <td>NaN</td>\n",
       "      <td>NaN</td>\n",
       "    </tr>\n",
       "    <tr>\n",
       "      <td>Number_of_prev_cond</td>\n",
       "      <td>0.009550</td>\n",
       "      <td>0.001880</td>\n",
       "      <td>-0.008381</td>\n",
       "      <td>-0.010962</td>\n",
       "      <td>-0.020041</td>\n",
       "      <td>0.147524</td>\n",
       "      <td>0.401584</td>\n",
       "      <td>0.455816</td>\n",
       "      <td>0.327382</td>\n",
       "      <td>0.559714</td>\n",
       "      <td>0.262965</td>\n",
       "      <td>NaN</td>\n",
       "      <td>1.000000</td>\n",
       "      <td>-0.091658</td>\n",
       "    </tr>\n",
       "    <tr>\n",
       "      <td>Survived_1_year</td>\n",
       "      <td>-0.005432</td>\n",
       "      <td>-0.003699</td>\n",
       "      <td>-0.004965</td>\n",
       "      <td>-0.084525</td>\n",
       "      <td>-0.120521</td>\n",
       "      <td>-0.042209</td>\n",
       "      <td>-0.054406</td>\n",
       "      <td>-0.039511</td>\n",
       "      <td>-0.107571</td>\n",
       "      <td>0.008799</td>\n",
       "      <td>0.000403</td>\n",
       "      <td>NaN</td>\n",
       "      <td>-0.091658</td>\n",
       "      <td>1.000000</td>\n",
       "    </tr>\n",
       "  </tbody>\n",
       "</table>\n",
       "</div>"
      ],
      "text/plain": [
       "                           ID_Patient_Care_Situation  Diagnosed_Condition  \\\n",
       "ID_Patient_Care_Situation                   1.000000            -0.005747   \n",
       "Diagnosed_Condition                        -0.005747             1.000000   \n",
       "Patient_ID                                 -0.001457             0.010052   \n",
       "Patient_Age                                -0.001571            -0.002311   \n",
       "Patient_Body_Mass_Index                    -0.001673             0.002631   \n",
       "A                                           0.008101             0.002414   \n",
       "B                                           0.004536             0.002684   \n",
       "C                                           0.009882            -0.004094   \n",
       "D                                          -0.006648            -0.008484   \n",
       "E                                          -0.000293             0.005300   \n",
       "F                                           0.007315             0.005087   \n",
       "Z                                                NaN                  NaN   \n",
       "Number_of_prev_cond                         0.009550             0.001880   \n",
       "Survived_1_year                            -0.005432            -0.003699   \n",
       "\n",
       "                           Patient_ID  Patient_Age  Patient_Body_Mass_Index  \\\n",
       "ID_Patient_Care_Situation   -0.001457    -0.001571                -0.001673   \n",
       "Diagnosed_Condition          0.010052    -0.002311                 0.002631   \n",
       "Patient_ID                   1.000000     0.007280                -0.017735   \n",
       "Patient_Age                  0.007280     1.000000                 0.011911   \n",
       "Patient_Body_Mass_Index     -0.017735     0.011911                 1.000000   \n",
       "A                           -0.001756    -0.015157                 0.010557   \n",
       "B                           -0.012065    -0.010127                -0.000404   \n",
       "C                           -0.006388    -0.008523                -0.019742   \n",
       "D                           -0.004690     0.008016                -0.010305   \n",
       "E                            0.000348    -0.003187                -0.009015   \n",
       "F                            0.007522     0.009374                -0.016955   \n",
       "Z                                 NaN          NaN                      NaN   \n",
       "Number_of_prev_cond         -0.008381    -0.010962                -0.020041   \n",
       "Survived_1_year             -0.004965    -0.084525                -0.120521   \n",
       "\n",
       "                                  A         B         C         D         E  \\\n",
       "ID_Patient_Care_Situation  0.008101  0.004536  0.009882 -0.006648 -0.000293   \n",
       "Diagnosed_Condition        0.002414  0.002684 -0.004094 -0.008484  0.005300   \n",
       "Patient_ID                -0.001756 -0.012065 -0.006388 -0.004690  0.000348   \n",
       "Patient_Age               -0.015157 -0.010127 -0.008523  0.008016 -0.003187   \n",
       "Patient_Body_Mass_Index    0.010557 -0.000404 -0.019742 -0.010305 -0.009015   \n",
       "A                          1.000000 -0.071190 -0.098596 -0.081789 -0.175887   \n",
       "B                         -0.071190  1.000000 -0.011038  0.004275 -0.000853   \n",
       "C                         -0.098596 -0.011038  1.000000  0.015022 -0.005850   \n",
       "D                         -0.081789  0.004275  0.015022  1.000000 -0.000593   \n",
       "E                         -0.175887 -0.000853 -0.005850 -0.000593  1.000000   \n",
       "F                         -0.058962 -0.010940  0.006861 -0.005818  0.004803   \n",
       "Z                               NaN       NaN       NaN       NaN       NaN   \n",
       "Number_of_prev_cond        0.147524  0.401584  0.455816  0.327382  0.559714   \n",
       "Survived_1_year           -0.042209 -0.054406 -0.039511 -0.107571  0.008799   \n",
       "\n",
       "                                  F   Z  Number_of_prev_cond  Survived_1_year  \n",
       "ID_Patient_Care_Situation  0.007315 NaN             0.009550        -0.005432  \n",
       "Diagnosed_Condition        0.005087 NaN             0.001880        -0.003699  \n",
       "Patient_ID                 0.007522 NaN            -0.008381        -0.004965  \n",
       "Patient_Age                0.009374 NaN            -0.010962        -0.084525  \n",
       "Patient_Body_Mass_Index   -0.016955 NaN            -0.020041        -0.120521  \n",
       "A                         -0.058962 NaN             0.147524        -0.042209  \n",
       "B                         -0.010940 NaN             0.401584        -0.054406  \n",
       "C                          0.006861 NaN             0.455816        -0.039511  \n",
       "D                         -0.005818 NaN             0.327382        -0.107571  \n",
       "E                          0.004803 NaN             0.559714         0.008799  \n",
       "F                          1.000000 NaN             0.262965         0.000403  \n",
       "Z                               NaN NaN                  NaN              NaN  \n",
       "Number_of_prev_cond        0.262965 NaN             1.000000        -0.091658  \n",
       "Survived_1_year            0.000403 NaN            -0.091658         1.000000  "
      ]
     },
     "execution_count": 40,
     "metadata": {},
     "output_type": "execute_result"
    }
   ],
   "source": [
    "pharma_data.corr()"
   ]
  },
  {
   "cell_type": "code",
   "execution_count": 41,
   "metadata": {},
   "outputs": [
    {
     "name": "stdout",
     "output_type": "stream",
     "text": [
      "Survived_1_year              1.000000\n",
      "E                            0.008799\n",
      "F                            0.000403\n",
      "Diagnosed_Condition         -0.003699\n",
      "Patient_ID                  -0.004965\n",
      "ID_Patient_Care_Situation   -0.005432\n",
      "C                           -0.039511\n",
      "A                           -0.042209\n",
      "B                           -0.054406\n",
      "Patient_Age                 -0.084525\n",
      "Number_of_prev_cond         -0.091658\n",
      "D                           -0.107571\n",
      "Patient_Body_Mass_Index     -0.120521\n",
      "Z                                 NaN\n",
      "Name: Survived_1_year, dtype: float64\n"
     ]
    }
   ],
   "source": [
    "corr_matrix = pharma_data.corr()\n",
    "print(corr_matrix[\"Survived_1_year\"].sort_values(ascending=False))"
   ]
  },
  {
   "cell_type": "markdown",
   "metadata": {},
   "source": [
    "# One Hot Encoding"
   ]
  },
  {
   "cell_type": "markdown",
   "metadata": {
    "colab_type": "text",
    "id": "A7oky-Rzr8GT"
   },
   "source": [
    "## Converting Categorical Features"
   ]
  },
  {
   "cell_type": "code",
   "execution_count": 45,
   "metadata": {
    "colab": {
     "base_uri": "https://localhost:8080/",
     "height": 355
    },
    "colab_type": "code",
    "id": "5Cun2Mv-tdTJ",
    "outputId": "0b9f85a2-08e8-4a71-a15e-d2d9c600c8ae"
   },
   "outputs": [
    {
     "data": {
      "text/plain": [
       "ID_Patient_Care_Situation      int64\n",
       "Diagnosed_Condition            int64\n",
       "Patient_ID                     int64\n",
       "Treated_with_drugs            object\n",
       "Patient_Age                    int64\n",
       "Patient_Body_Mass_Index      float64\n",
       "Patient_Smoker                object\n",
       "Patient_Rural_Urban           object\n",
       "Patient_mental_condition      object\n",
       "A                            float64\n",
       "B                            float64\n",
       "C                            float64\n",
       "D                            float64\n",
       "E                            float64\n",
       "F                            float64\n",
       "Z                            float64\n",
       "Number_of_prev_cond          float64\n",
       "Survived_1_year                int64\n",
       "dtype: object"
      ]
     },
     "execution_count": 45,
     "metadata": {},
     "output_type": "execute_result"
    }
   ],
   "source": [
    "pharma_data.dtypes"
   ]
  },
  {
   "cell_type": "code",
   "execution_count": 46,
   "metadata": {
    "colab": {},
    "colab_type": "code",
    "id": "J5FV-h7wqzsC"
   },
   "outputs": [],
   "source": [
    "pharma_data = pd.concat([pharma_data,pd.get_dummies(pharma_data['Patient_Smoker'],prefix='d',drop_first=True)],axis=1)"
   ]
  },
  {
   "cell_type": "code",
   "execution_count": 47,
   "metadata": {
    "colab": {},
    "colab_type": "code",
    "id": "P1xCGUSosHz1"
   },
   "outputs": [],
   "source": [
    "pharma_data = pd.concat([pharma_data,pd.get_dummies(pharma_data['Patient_Rural_Urban'],prefix='d')],axis=1)"
   ]
  },
  {
   "cell_type": "code",
   "execution_count": 48,
   "metadata": {
    "colab": {},
    "colab_type": "code",
    "id": "GaWQQ5zkquHI"
   },
   "outputs": [],
   "source": [
    "pharma_data = pd.concat([pharma_data,pd.get_dummies(pharma_data['Patient_mental_condition'],prefix='d')],axis=1)"
   ]
  },
  {
   "cell_type": "code",
   "execution_count": 49,
   "metadata": {
    "colab": {
     "base_uri": "https://localhost:8080/",
     "height": 214
    },
    "colab_type": "code",
    "id": "rOxJ63Jjsbv7",
    "outputId": "c289ec2e-83d0-4092-adf4-66b294466595"
   },
   "outputs": [
    {
     "data": {
      "text/html": [
       "<div>\n",
       "<style scoped>\n",
       "    .dataframe tbody tr th:only-of-type {\n",
       "        vertical-align: middle;\n",
       "    }\n",
       "\n",
       "    .dataframe tbody tr th {\n",
       "        vertical-align: top;\n",
       "    }\n",
       "\n",
       "    .dataframe thead th {\n",
       "        text-align: right;\n",
       "    }\n",
       "</style>\n",
       "<table border=\"1\" class=\"dataframe\">\n",
       "  <thead>\n",
       "    <tr style=\"text-align: right;\">\n",
       "      <th></th>\n",
       "      <th>ID_Patient_Care_Situation</th>\n",
       "      <th>Diagnosed_Condition</th>\n",
       "      <th>Patient_ID</th>\n",
       "      <th>Treated_with_drugs</th>\n",
       "      <th>Patient_Age</th>\n",
       "      <th>Patient_Body_Mass_Index</th>\n",
       "      <th>Patient_Smoker</th>\n",
       "      <th>Patient_Rural_Urban</th>\n",
       "      <th>Patient_mental_condition</th>\n",
       "      <th>A</th>\n",
       "      <th>...</th>\n",
       "      <th>D</th>\n",
       "      <th>E</th>\n",
       "      <th>F</th>\n",
       "      <th>Z</th>\n",
       "      <th>Number_of_prev_cond</th>\n",
       "      <th>Survived_1_year</th>\n",
       "      <th>d_YES</th>\n",
       "      <th>d_RURAL</th>\n",
       "      <th>d_URBAN</th>\n",
       "      <th>d_Stable</th>\n",
       "    </tr>\n",
       "  </thead>\n",
       "  <tbody>\n",
       "    <tr>\n",
       "      <td>0</td>\n",
       "      <td>22374</td>\n",
       "      <td>8</td>\n",
       "      <td>3333</td>\n",
       "      <td>DX6</td>\n",
       "      <td>56</td>\n",
       "      <td>18.479385</td>\n",
       "      <td>YES</td>\n",
       "      <td>URBAN</td>\n",
       "      <td>Stable</td>\n",
       "      <td>1.0</td>\n",
       "      <td>...</td>\n",
       "      <td>0.0</td>\n",
       "      <td>1.0</td>\n",
       "      <td>0.0</td>\n",
       "      <td>0.0</td>\n",
       "      <td>2.0</td>\n",
       "      <td>0</td>\n",
       "      <td>1</td>\n",
       "      <td>0</td>\n",
       "      <td>1</td>\n",
       "      <td>1</td>\n",
       "    </tr>\n",
       "    <tr>\n",
       "      <td>1</td>\n",
       "      <td>18164</td>\n",
       "      <td>5</td>\n",
       "      <td>5740</td>\n",
       "      <td>DX2</td>\n",
       "      <td>36</td>\n",
       "      <td>22.945566</td>\n",
       "      <td>YES</td>\n",
       "      <td>RURAL</td>\n",
       "      <td>Stable</td>\n",
       "      <td>1.0</td>\n",
       "      <td>...</td>\n",
       "      <td>0.0</td>\n",
       "      <td>0.0</td>\n",
       "      <td>0.0</td>\n",
       "      <td>0.0</td>\n",
       "      <td>1.0</td>\n",
       "      <td>1</td>\n",
       "      <td>1</td>\n",
       "      <td>1</td>\n",
       "      <td>0</td>\n",
       "      <td>1</td>\n",
       "    </tr>\n",
       "    <tr>\n",
       "      <td>2</td>\n",
       "      <td>6283</td>\n",
       "      <td>23</td>\n",
       "      <td>10446</td>\n",
       "      <td>DX6</td>\n",
       "      <td>48</td>\n",
       "      <td>27.510027</td>\n",
       "      <td>YES</td>\n",
       "      <td>RURAL</td>\n",
       "      <td>Stable</td>\n",
       "      <td>1.0</td>\n",
       "      <td>...</td>\n",
       "      <td>0.0</td>\n",
       "      <td>0.0</td>\n",
       "      <td>0.0</td>\n",
       "      <td>0.0</td>\n",
       "      <td>1.0</td>\n",
       "      <td>0</td>\n",
       "      <td>1</td>\n",
       "      <td>1</td>\n",
       "      <td>0</td>\n",
       "      <td>1</td>\n",
       "    </tr>\n",
       "    <tr>\n",
       "      <td>3</td>\n",
       "      <td>5339</td>\n",
       "      <td>51</td>\n",
       "      <td>12011</td>\n",
       "      <td>DX1</td>\n",
       "      <td>5</td>\n",
       "      <td>19.130976</td>\n",
       "      <td>NO</td>\n",
       "      <td>URBAN</td>\n",
       "      <td>Stable</td>\n",
       "      <td>1.0</td>\n",
       "      <td>...</td>\n",
       "      <td>0.0</td>\n",
       "      <td>0.0</td>\n",
       "      <td>0.0</td>\n",
       "      <td>0.0</td>\n",
       "      <td>1.0</td>\n",
       "      <td>1</td>\n",
       "      <td>0</td>\n",
       "      <td>0</td>\n",
       "      <td>1</td>\n",
       "      <td>1</td>\n",
       "    </tr>\n",
       "    <tr>\n",
       "      <td>5</td>\n",
       "      <td>10808</td>\n",
       "      <td>45</td>\n",
       "      <td>7977</td>\n",
       "      <td>DX6</td>\n",
       "      <td>47</td>\n",
       "      <td>26.155120</td>\n",
       "      <td>YES</td>\n",
       "      <td>URBAN</td>\n",
       "      <td>Stable</td>\n",
       "      <td>1.0</td>\n",
       "      <td>...</td>\n",
       "      <td>0.0</td>\n",
       "      <td>0.0</td>\n",
       "      <td>0.0</td>\n",
       "      <td>0.0</td>\n",
       "      <td>1.0</td>\n",
       "      <td>0</td>\n",
       "      <td>1</td>\n",
       "      <td>0</td>\n",
       "      <td>1</td>\n",
       "      <td>1</td>\n",
       "    </tr>\n",
       "  </tbody>\n",
       "</table>\n",
       "<p>5 rows × 22 columns</p>\n",
       "</div>"
      ],
      "text/plain": [
       "   ID_Patient_Care_Situation  Diagnosed_Condition  Patient_ID  \\\n",
       "0                      22374                    8        3333   \n",
       "1                      18164                    5        5740   \n",
       "2                       6283                   23       10446   \n",
       "3                       5339                   51       12011   \n",
       "5                      10808                   45        7977   \n",
       "\n",
       "  Treated_with_drugs  Patient_Age  Patient_Body_Mass_Index Patient_Smoker  \\\n",
       "0                DX6           56                18.479385            YES   \n",
       "1               DX2            36                22.945566            YES   \n",
       "2                DX6           48                27.510027            YES   \n",
       "3               DX1             5                19.130976             NO   \n",
       "5                DX6           47                26.155120            YES   \n",
       "\n",
       "  Patient_Rural_Urban Patient_mental_condition    A  ...    D    E    F    Z  \\\n",
       "0               URBAN                   Stable  1.0  ...  0.0  1.0  0.0  0.0   \n",
       "1               RURAL                   Stable  1.0  ...  0.0  0.0  0.0  0.0   \n",
       "2               RURAL                   Stable  1.0  ...  0.0  0.0  0.0  0.0   \n",
       "3               URBAN                   Stable  1.0  ...  0.0  0.0  0.0  0.0   \n",
       "5               URBAN                   Stable  1.0  ...  0.0  0.0  0.0  0.0   \n",
       "\n",
       "   Number_of_prev_cond  Survived_1_year  d_YES  d_RURAL  d_URBAN  d_Stable  \n",
       "0                  2.0                0      1        0        1         1  \n",
       "1                  1.0                1      1        1        0         1  \n",
       "2                  1.0                0      1        1        0         1  \n",
       "3                  1.0                1      0        0        1         1  \n",
       "5                  1.0                0      1        0        1         1  \n",
       "\n",
       "[5 rows x 22 columns]"
      ]
     },
     "execution_count": 49,
     "metadata": {},
     "output_type": "execute_result"
    }
   ],
   "source": [
    "pharma_data.head()"
   ]
  },
  {
   "cell_type": "markdown",
   "metadata": {
    "colab_type": "text",
    "id": "HOvwj5fFqPv9"
   },
   "source": [
    "## Handling Treated_with_drugs column"
   ]
  },
  {
   "cell_type": "code",
   "execution_count": 50,
   "metadata": {
    "colab": {},
    "colab_type": "code",
    "id": "Hyuu16sFtfYs"
   },
   "outputs": [],
   "source": [
    "#convert to category dtype\n",
    "pharma_data['Treated_with_drugs'] = pharma_data['Treated_with_drugs'].astype('category')"
   ]
  },
  {
   "cell_type": "code",
   "execution_count": 51,
   "metadata": {
    "colab": {
     "base_uri": "https://localhost:8080/",
     "height": 444
    },
    "colab_type": "code",
    "id": "uRws_XD7tm6O",
    "outputId": "7e358e57-da43-4e66-8715-a2405e1cac71"
   },
   "outputs": [
    {
     "data": {
      "text/plain": [
       "ID_Patient_Care_Situation       int64\n",
       "Diagnosed_Condition             int64\n",
       "Patient_ID                      int64\n",
       "Treated_with_drugs           category\n",
       "Patient_Age                     int64\n",
       "Patient_Body_Mass_Index       float64\n",
       "Patient_Smoker                 object\n",
       "Patient_Rural_Urban            object\n",
       "Patient_mental_condition       object\n",
       "A                             float64\n",
       "B                             float64\n",
       "C                             float64\n",
       "D                             float64\n",
       "E                             float64\n",
       "F                             float64\n",
       "Z                             float64\n",
       "Number_of_prev_cond           float64\n",
       "Survived_1_year                 int64\n",
       "d_YES                           uint8\n",
       "d_RURAL                         uint8\n",
       "d_URBAN                         uint8\n",
       "d_Stable                        uint8\n",
       "dtype: object"
      ]
     },
     "execution_count": 51,
     "metadata": {},
     "output_type": "execute_result"
    }
   ],
   "source": [
    "pharma_data.dtypes"
   ]
  },
  {
   "cell_type": "code",
   "execution_count": 52,
   "metadata": {
    "colab": {},
    "colab_type": "code",
    "id": "-0u3DcJ7tsHi"
   },
   "outputs": [],
   "source": [
    "#use .cat.codes to create new colums with encoded value\n",
    "pharma_data['Treated_with_drugs_cat'] = pharma_data['Treated_with_drugs'].cat.codes"
   ]
  },
  {
   "cell_type": "code",
   "execution_count": 53,
   "metadata": {
    "colab": {
     "base_uri": "https://localhost:8080/",
     "height": 214
    },
    "colab_type": "code",
    "id": "uyF5p_NxtssY",
    "outputId": "64278b98-ae31-4f95-b03e-1ba07d342555"
   },
   "outputs": [
    {
     "data": {
      "text/html": [
       "<div>\n",
       "<style scoped>\n",
       "    .dataframe tbody tr th:only-of-type {\n",
       "        vertical-align: middle;\n",
       "    }\n",
       "\n",
       "    .dataframe tbody tr th {\n",
       "        vertical-align: top;\n",
       "    }\n",
       "\n",
       "    .dataframe thead th {\n",
       "        text-align: right;\n",
       "    }\n",
       "</style>\n",
       "<table border=\"1\" class=\"dataframe\">\n",
       "  <thead>\n",
       "    <tr style=\"text-align: right;\">\n",
       "      <th></th>\n",
       "      <th>ID_Patient_Care_Situation</th>\n",
       "      <th>Diagnosed_Condition</th>\n",
       "      <th>Patient_ID</th>\n",
       "      <th>Treated_with_drugs</th>\n",
       "      <th>Patient_Age</th>\n",
       "      <th>Patient_Body_Mass_Index</th>\n",
       "      <th>Patient_Smoker</th>\n",
       "      <th>Patient_Rural_Urban</th>\n",
       "      <th>Patient_mental_condition</th>\n",
       "      <th>A</th>\n",
       "      <th>...</th>\n",
       "      <th>E</th>\n",
       "      <th>F</th>\n",
       "      <th>Z</th>\n",
       "      <th>Number_of_prev_cond</th>\n",
       "      <th>Survived_1_year</th>\n",
       "      <th>d_YES</th>\n",
       "      <th>d_RURAL</th>\n",
       "      <th>d_URBAN</th>\n",
       "      <th>d_Stable</th>\n",
       "      <th>Treated_with_drugs_cat</th>\n",
       "    </tr>\n",
       "  </thead>\n",
       "  <tbody>\n",
       "    <tr>\n",
       "      <td>0</td>\n",
       "      <td>22374</td>\n",
       "      <td>8</td>\n",
       "      <td>3333</td>\n",
       "      <td>DX6</td>\n",
       "      <td>56</td>\n",
       "      <td>18.479385</td>\n",
       "      <td>YES</td>\n",
       "      <td>URBAN</td>\n",
       "      <td>Stable</td>\n",
       "      <td>1.0</td>\n",
       "      <td>...</td>\n",
       "      <td>1.0</td>\n",
       "      <td>0.0</td>\n",
       "      <td>0.0</td>\n",
       "      <td>2.0</td>\n",
       "      <td>0</td>\n",
       "      <td>1</td>\n",
       "      <td>0</td>\n",
       "      <td>1</td>\n",
       "      <td>1</td>\n",
       "      <td>31</td>\n",
       "    </tr>\n",
       "    <tr>\n",
       "      <td>1</td>\n",
       "      <td>18164</td>\n",
       "      <td>5</td>\n",
       "      <td>5740</td>\n",
       "      <td>DX2</td>\n",
       "      <td>36</td>\n",
       "      <td>22.945566</td>\n",
       "      <td>YES</td>\n",
       "      <td>RURAL</td>\n",
       "      <td>Stable</td>\n",
       "      <td>1.0</td>\n",
       "      <td>...</td>\n",
       "      <td>0.0</td>\n",
       "      <td>0.0</td>\n",
       "      <td>0.0</td>\n",
       "      <td>1.0</td>\n",
       "      <td>1</td>\n",
       "      <td>1</td>\n",
       "      <td>1</td>\n",
       "      <td>0</td>\n",
       "      <td>1</td>\n",
       "      <td>16</td>\n",
       "    </tr>\n",
       "    <tr>\n",
       "      <td>2</td>\n",
       "      <td>6283</td>\n",
       "      <td>23</td>\n",
       "      <td>10446</td>\n",
       "      <td>DX6</td>\n",
       "      <td>48</td>\n",
       "      <td>27.510027</td>\n",
       "      <td>YES</td>\n",
       "      <td>RURAL</td>\n",
       "      <td>Stable</td>\n",
       "      <td>1.0</td>\n",
       "      <td>...</td>\n",
       "      <td>0.0</td>\n",
       "      <td>0.0</td>\n",
       "      <td>0.0</td>\n",
       "      <td>1.0</td>\n",
       "      <td>0</td>\n",
       "      <td>1</td>\n",
       "      <td>1</td>\n",
       "      <td>0</td>\n",
       "      <td>1</td>\n",
       "      <td>31</td>\n",
       "    </tr>\n",
       "    <tr>\n",
       "      <td>3</td>\n",
       "      <td>5339</td>\n",
       "      <td>51</td>\n",
       "      <td>12011</td>\n",
       "      <td>DX1</td>\n",
       "      <td>5</td>\n",
       "      <td>19.130976</td>\n",
       "      <td>NO</td>\n",
       "      <td>URBAN</td>\n",
       "      <td>Stable</td>\n",
       "      <td>1.0</td>\n",
       "      <td>...</td>\n",
       "      <td>0.0</td>\n",
       "      <td>0.0</td>\n",
       "      <td>0.0</td>\n",
       "      <td>1.0</td>\n",
       "      <td>1</td>\n",
       "      <td>0</td>\n",
       "      <td>0</td>\n",
       "      <td>1</td>\n",
       "      <td>1</td>\n",
       "      <td>0</td>\n",
       "    </tr>\n",
       "    <tr>\n",
       "      <td>5</td>\n",
       "      <td>10808</td>\n",
       "      <td>45</td>\n",
       "      <td>7977</td>\n",
       "      <td>DX6</td>\n",
       "      <td>47</td>\n",
       "      <td>26.155120</td>\n",
       "      <td>YES</td>\n",
       "      <td>URBAN</td>\n",
       "      <td>Stable</td>\n",
       "      <td>1.0</td>\n",
       "      <td>...</td>\n",
       "      <td>0.0</td>\n",
       "      <td>0.0</td>\n",
       "      <td>0.0</td>\n",
       "      <td>1.0</td>\n",
       "      <td>0</td>\n",
       "      <td>1</td>\n",
       "      <td>0</td>\n",
       "      <td>1</td>\n",
       "      <td>1</td>\n",
       "      <td>31</td>\n",
       "    </tr>\n",
       "  </tbody>\n",
       "</table>\n",
       "<p>5 rows × 23 columns</p>\n",
       "</div>"
      ],
      "text/plain": [
       "   ID_Patient_Care_Situation  Diagnosed_Condition  Patient_ID  \\\n",
       "0                      22374                    8        3333   \n",
       "1                      18164                    5        5740   \n",
       "2                       6283                   23       10446   \n",
       "3                       5339                   51       12011   \n",
       "5                      10808                   45        7977   \n",
       "\n",
       "  Treated_with_drugs  Patient_Age  Patient_Body_Mass_Index Patient_Smoker  \\\n",
       "0                DX6           56                18.479385            YES   \n",
       "1               DX2            36                22.945566            YES   \n",
       "2                DX6           48                27.510027            YES   \n",
       "3               DX1             5                19.130976             NO   \n",
       "5                DX6           47                26.155120            YES   \n",
       "\n",
       "  Patient_Rural_Urban Patient_mental_condition    A  ...    E    F    Z  \\\n",
       "0               URBAN                   Stable  1.0  ...  1.0  0.0  0.0   \n",
       "1               RURAL                   Stable  1.0  ...  0.0  0.0  0.0   \n",
       "2               RURAL                   Stable  1.0  ...  0.0  0.0  0.0   \n",
       "3               URBAN                   Stable  1.0  ...  0.0  0.0  0.0   \n",
       "5               URBAN                   Stable  1.0  ...  0.0  0.0  0.0   \n",
       "\n",
       "   Number_of_prev_cond  Survived_1_year  d_YES  d_RURAL  d_URBAN  d_Stable  \\\n",
       "0                  2.0                0      1        0        1         1   \n",
       "1                  1.0                1      1        1        0         1   \n",
       "2                  1.0                0      1        1        0         1   \n",
       "3                  1.0                1      0        0        1         1   \n",
       "5                  1.0                0      1        0        1         1   \n",
       "\n",
       "   Treated_with_drugs_cat  \n",
       "0                      31  \n",
       "1                      16  \n",
       "2                      31  \n",
       "3                       0  \n",
       "5                      31  \n",
       "\n",
       "[5 rows x 23 columns]"
      ]
     },
     "execution_count": 53,
     "metadata": {},
     "output_type": "execute_result"
    }
   ],
   "source": [
    "pharma_data.head()"
   ]
  },
  {
   "cell_type": "code",
   "execution_count": 54,
   "metadata": {
    "colab": {
     "base_uri": "https://localhost:8080/",
     "height": 141
    },
    "colab_type": "code",
    "id": "qUkdVYQKsr6v",
    "outputId": "02e38b00-75e5-4c08-cf8b-18d479454520"
   },
   "outputs": [
    {
     "data": {
      "text/plain": [
       "Index(['ID_Patient_Care_Situation', 'Diagnosed_Condition', 'Patient_ID',\n",
       "       'Treated_with_drugs', 'Patient_Age', 'Patient_Body_Mass_Index',\n",
       "       'Patient_Smoker', 'Patient_Rural_Urban', 'Patient_mental_condition',\n",
       "       'A', 'B', 'C', 'D', 'E', 'F', 'Z', 'Number_of_prev_cond',\n",
       "       'Survived_1_year', 'd_YES', 'd_RURAL', 'd_URBAN', 'd_Stable',\n",
       "       'Treated_with_drugs_cat'],\n",
       "      dtype='object')"
      ]
     },
     "execution_count": 54,
     "metadata": {},
     "output_type": "execute_result"
    }
   ],
   "source": [
    "pharma_data.columns"
   ]
  },
  {
   "cell_type": "code",
   "execution_count": 55,
   "metadata": {
    "colab": {
     "base_uri": "https://localhost:8080/",
     "height": 35
    },
    "colab_type": "code",
    "id": "uILC0CoKtV8G",
    "outputId": "fcb279e8-dcef-48cd-be31-590ceb7a76a2"
   },
   "outputs": [
    {
     "data": {
      "text/plain": [
       "(23084, 23)"
      ]
     },
     "execution_count": 55,
     "metadata": {},
     "output_type": "execute_result"
    }
   ],
   "source": [
    "pharma_data.shape"
   ]
  },
  {
   "cell_type": "markdown",
   "metadata": {},
   "source": [
    "# Separating Input and Output Variables"
   ]
  },
  {
   "cell_type": "code",
   "execution_count": 56,
   "metadata": {
    "colab": {},
    "colab_type": "code",
    "id": "a5J4jqRQssaR"
   },
   "outputs": [],
   "source": [
    "X = pharma_data.drop(['Survived_1_year','Patient_mental_condition','Patient_Rural_Urban','Patient_Smoker','Treated_with_drugs'],axis=1)\n",
    "\n",
    "y = pharma_data['Survived_1_year']"
   ]
  },
  {
   "cell_type": "code",
   "execution_count": 57,
   "metadata": {
    "colab": {
     "base_uri": "https://localhost:8080/",
     "height": 35
    },
    "colab_type": "code",
    "id": "y1Az7ERKssdC",
    "outputId": "eded07c4-6c46-4b6f-f8f3-e403b0c1a06f"
   },
   "outputs": [
    {
     "data": {
      "text/plain": [
       "(23084, 18)"
      ]
     },
     "execution_count": 57,
     "metadata": {},
     "output_type": "execute_result"
    }
   ],
   "source": [
    "X.shape"
   ]
  },
  {
   "cell_type": "markdown",
   "metadata": {
    "colab_type": "text",
    "id": "-t3qQUaKuZdF"
   },
   "source": [
    "# Split The Data"
   ]
  },
  {
   "cell_type": "code",
   "execution_count": 58,
   "metadata": {
    "colab": {},
    "colab_type": "code",
    "id": "ko8POAsTssfx"
   },
   "outputs": [],
   "source": [
    "#train test split\n",
    "from sklearn.model_selection import train_test_split"
   ]
  },
  {
   "cell_type": "code",
   "execution_count": 59,
   "metadata": {
    "colab": {},
    "colab_type": "code",
    "id": "Sycm6PJ-9DUb"
   },
   "outputs": [],
   "source": [
    "X_train, X_test, y_train, y_test = train_test_split(X, y, test_size=0.2, random_state=47)"
   ]
  },
  {
   "cell_type": "code",
   "execution_count": 60,
   "metadata": {
    "colab": {
     "base_uri": "https://localhost:8080/",
     "height": 35
    },
    "colab_type": "code",
    "id": "UvKyqiLuunv2",
    "outputId": "6c2a049e-8f72-42ca-d83f-dba0fe58673b"
   },
   "outputs": [
    {
     "name": "stdout",
     "output_type": "stream",
     "text": [
      "X_train:,y_train: (18467, 18) (18467,)\n"
     ]
    }
   ],
   "source": [
    "print('X_train:,y_train:',X_train.shape,y_train.shape)"
   ]
  },
  {
   "cell_type": "code",
   "execution_count": 61,
   "metadata": {
    "colab": {
     "base_uri": "https://localhost:8080/",
     "height": 35
    },
    "colab_type": "code",
    "id": "YUHUPg9tus5v",
    "outputId": "bf7b2256-72d7-414f-b1e9-c5a9b91f7f10"
   },
   "outputs": [
    {
     "name": "stdout",
     "output_type": "stream",
     "text": [
      "X_test:,y_test: (4617, 18) (4617,)\n"
     ]
    }
   ],
   "source": [
    "print('X_test:,y_test:',X_test.shape,y_test.shape)"
   ]
  },
  {
   "cell_type": "markdown",
   "metadata": {
    "colab_type": "text",
    "id": "Qn7Ubm0qeba1"
   },
   "source": [
    "# Model Building"
   ]
  },
  {
   "cell_type": "markdown",
   "metadata": {
    "colab_type": "text",
    "id": "slA5Uau-9DU8"
   },
   "source": [
    "## XGBOOST\n",
    "\n"
   ]
  },
  {
   "cell_type": "code",
   "execution_count": 62,
   "metadata": {
    "colab": {},
    "colab_type": "code",
    "id": "75mO0P0I0w-1"
   },
   "outputs": [],
   "source": [
    "## Hyper Parameter Optimization\n",
    "\n",
    "params ={\n",
    " \"n_estimators\": [300,600,800,1000],\n",
    " \"learning_rate\"    : [0.05, 0.10, 0.15, 0.20, 0.25, 0.30 ] ,\n",
    " \"max_depth\"        : [ 3, 4, 5, 6, 8, 10, 12, 15],\n",
    " \"min_child_weight\" : [ 1, 3, 5, 7 ],\n",
    " \"gamma\"            : [ 0.0, 0.1, 0.2 , 0.3, 0.4 ],\n",
    " \"colsample_bytree\" : [ 0.3, 0.4, 0.5 , 0.7 ]   \n",
    "}"
   ]
  },
  {
   "cell_type": "code",
   "execution_count": 63,
   "metadata": {
    "colab": {},
    "colab_type": "code",
    "id": "lgwWL_Ar2lYL"
   },
   "outputs": [],
   "source": [
    "def timer(start_time=None):\n",
    "    if not start_time:\n",
    "        start_time = datetime.now()\n",
    "        return start_time\n",
    "    elif start_time:\n",
    "        thour, temp_sec = divmod((datetime.now() - start_time).total_seconds(), 3600)\n",
    "        tmin, tsec = divmod(temp_sec, 60)\n",
    "        print('\\n Time taken: %i hours %i minutes and %s seconds.' % (thour, tmin, round(tsec, 2)))"
   ]
  },
  {
   "cell_type": "code",
   "execution_count": 64,
   "metadata": {
    "colab": {},
    "colab_type": "code",
    "id": "yfUtz0v32A9M"
   },
   "outputs": [],
   "source": [
    "Xgb_classifier = XGBClassifier(random_state= 0)"
   ]
  },
  {
   "cell_type": "code",
   "execution_count": 65,
   "metadata": {
    "colab": {},
    "colab_type": "code",
    "id": "I1DAqYR31DX-"
   },
   "outputs": [],
   "source": [
    "random_search = RandomizedSearchCV(Xgb_classifier,param_distributions=params,\n",
    "                                   n_iter=5,scoring='f1',n_jobs=-1,cv=5,verbose=3)"
   ]
  },
  {
   "cell_type": "code",
   "execution_count": 66,
   "metadata": {
    "colab": {
     "base_uri": "https://localhost:8080/",
     "height": 106
    },
    "colab_type": "code",
    "id": "R2Y3BjPf1Dc8",
    "outputId": "fdeca5e4-1d56-405b-9df5-8bef0e5151da"
   },
   "outputs": [
    {
     "name": "stdout",
     "output_type": "stream",
     "text": [
      "Fitting 5 folds for each of 5 candidates, totalling 25 fits\n"
     ]
    },
    {
     "name": "stderr",
     "output_type": "stream",
     "text": [
      "[Parallel(n_jobs=-1)]: Using backend LokyBackend with 4 concurrent workers.\n",
      "[Parallel(n_jobs=-1)]: Done  25 out of  25 | elapsed:  2.2min finished\n"
     ]
    },
    {
     "name": "stdout",
     "output_type": "stream",
     "text": [
      "\n",
      " Time taken: 0 hours 2 minutes and 13.71 seconds.\n"
     ]
    }
   ],
   "source": [
    "# Here we go\n",
    "start_time = timer(None) # timing starts from this point for \"start_time\" variable\n",
    "random_search.fit(X,y)\n",
    "timer(start_time) # timing ends here for \"start_time\" variable"
   ]
  },
  {
   "cell_type": "code",
   "execution_count": 67,
   "metadata": {
    "colab": {
     "base_uri": "https://localhost:8080/",
     "height": 141
    },
    "colab_type": "code",
    "id": "DlaiFdaE1DqG",
    "outputId": "62ab2eb2-0e85-4273-814d-056d57dd15d7"
   },
   "outputs": [
    {
     "data": {
      "text/plain": [
       "XGBClassifier(base_score=0.5, booster='gbtree', colsample_bylevel=1,\n",
       "              colsample_bynode=1, colsample_bytree=0.3, gamma=0.0, gpu_id=-1,\n",
       "              importance_type='gain', interaction_constraints='',\n",
       "              learning_rate=0.1, max_delta_step=0, max_depth=6,\n",
       "              min_child_weight=5, missing=nan, monotone_constraints='()',\n",
       "              n_estimators=300, n_jobs=0, num_parallel_tree=1, random_state=0,\n",
       "              reg_alpha=0, reg_lambda=1, scale_pos_weight=1, subsample=1,\n",
       "              tree_method='exact', validate_parameters=1, verbosity=None)"
      ]
     },
     "execution_count": 67,
     "metadata": {},
     "output_type": "execute_result"
    }
   ],
   "source": [
    "random_search.best_estimator_"
   ]
  },
  {
   "cell_type": "code",
   "execution_count": 68,
   "metadata": {
    "colab": {
     "base_uri": "https://localhost:8080/",
     "height": 124
    },
    "colab_type": "code",
    "id": "fnB--5fn1Dtn",
    "outputId": "e2ac8e3f-d0b4-4afa-9049-3a4d0dc974d6"
   },
   "outputs": [
    {
     "data": {
      "text/plain": [
       "{'n_estimators': 300,\n",
       " 'min_child_weight': 5,\n",
       " 'max_depth': 6,\n",
       " 'learning_rate': 0.1,\n",
       " 'gamma': 0.0,\n",
       " 'colsample_bytree': 0.3}"
      ]
     },
     "execution_count": 68,
     "metadata": {},
     "output_type": "execute_result"
    }
   ],
   "source": [
    "random_search.best_params_"
   ]
  },
  {
   "cell_type": "code",
   "execution_count": 69,
   "metadata": {
    "colab": {
     "base_uri": "https://localhost:8080/",
     "height": 35
    },
    "colab_type": "code",
    "id": "5AdYKPFm1Dwp",
    "outputId": "f3ee8cf6-5454-4a74-dc35-6c6aa10ed375"
   },
   "outputs": [
    {
     "data": {
      "text/plain": [
       "0.870038337615475"
      ]
     },
     "execution_count": 69,
     "metadata": {},
     "output_type": "execute_result"
    }
   ],
   "source": [
    "random_search.best_score_"
   ]
  },
  {
   "cell_type": "code",
   "execution_count": 70,
   "metadata": {
    "colab": {},
    "colab_type": "code",
    "id": "oHCkCO5C1Dn7"
   },
   "outputs": [],
   "source": [
    "class_1 = XGBClassifier(base_score=0.5, booster='gbtree', colsample_bylevel=1,\n",
    "              colsample_bynode=1, colsample_bytree=0.4, gamma=0.2,\n",
    "              learning_rate=0.05, max_delta_step=0, max_depth=8,\n",
    "              min_child_weight=3, missing=None, n_estimators=300, n_jobs=1,\n",
    "              nthread=None, objective='binary:logistic', random_state=0,\n",
    "              reg_alpha=0, reg_lambda=1, scale_pos_weight=1, seed=None,\n",
    "              silent=None, subsample=1, verbosity=1)"
   ]
  },
  {
   "cell_type": "code",
   "execution_count": 71,
   "metadata": {
    "colab": {},
    "colab_type": "code",
    "id": "qzJll_C-1Djw"
   },
   "outputs": [],
   "source": [
    "score=cross_val_score(class_1,X,y,cv=10)"
   ]
  },
  {
   "cell_type": "code",
   "execution_count": 72,
   "metadata": {
    "colab": {
     "base_uri": "https://localhost:8080/",
     "height": 52
    },
    "colab_type": "code",
    "id": "ErZTfVM71Dhe",
    "outputId": "5e7f3564-a13b-499a-c4a9-1f6cf179e94a"
   },
   "outputs": [
    {
     "data": {
      "text/plain": [
       "array([0.84105673, 0.83369424, 0.83109571, 0.82459939, 0.82495667,\n",
       "       0.83232236, 0.83535529, 0.83102253, 0.81932409, 0.83665511])"
      ]
     },
     "execution_count": 72,
     "metadata": {},
     "output_type": "execute_result"
    }
   ],
   "source": [
    "score"
   ]
  },
  {
   "cell_type": "code",
   "execution_count": 73,
   "metadata": {
    "colab": {
     "base_uri": "https://localhost:8080/",
     "height": 35
    },
    "colab_type": "code",
    "id": "HPurPzKl1Dfa",
    "outputId": "93750aa8-8578-454b-8daf-1465809788b0"
   },
   "outputs": [
    {
     "data": {
      "text/plain": [
       "0.8310082129081217"
      ]
     },
     "execution_count": 73,
     "metadata": {},
     "output_type": "execute_result"
    }
   ],
   "source": [
    "score.mean()"
   ]
  },
  {
   "cell_type": "markdown",
   "metadata": {
    "colab_type": "text",
    "id": "jDB4HGfYI1hs"
   },
   "source": [
    "# The new Data for Valdition and for Submissions"
   ]
  },
  {
   "cell_type": "code",
   "execution_count": 69,
   "metadata": {
    "colab": {},
    "colab_type": "code",
    "id": "NH3RIY1H9DVJ"
   },
   "outputs": [],
   "source": [
    "test_new = pd.read_csv('https://raw.githubusercontent.com/dphi-official/Datasets/master/pharma_data/Testing_set_begs.csv')"
   ]
  },
  {
   "cell_type": "code",
   "execution_count": 70,
   "metadata": {
    "colab": {
     "base_uri": "https://localhost:8080/",
     "height": 35
    },
    "colab_type": "code",
    "id": "pyslRWPD9DVL",
    "outputId": "1857ab9a-4744-4c87-dd75-0e1526a16f75"
   },
   "outputs": [
    {
     "data": {
      "text/plain": [
       "(9303, 17)"
      ]
     },
     "execution_count": 70,
     "metadata": {},
     "output_type": "execute_result"
    }
   ],
   "source": [
    "test_new.shape"
   ]
  },
  {
   "cell_type": "code",
   "execution_count": 71,
   "metadata": {
    "colab": {
     "base_uri": "https://localhost:8080/",
     "height": 337
    },
    "colab_type": "code",
    "id": "aA1uhRKi9DVN",
    "outputId": "a28e4e02-4e18-4a8f-f316-52c7ea52d5e9"
   },
   "outputs": [
    {
     "data": {
      "text/plain": [
       "ID_Patient_Care_Situation      int64\n",
       "Diagnosed_Condition            int64\n",
       "Patient_ID                     int64\n",
       "Treated_with_drugs            object\n",
       "Patient_Age                    int64\n",
       "Patient_Body_Mass_Index      float64\n",
       "Patient_Smoker                object\n",
       "Patient_Rural_Urban           object\n",
       "Patient_mental_condition      object\n",
       "A                            float64\n",
       "B                            float64\n",
       "C                            float64\n",
       "D                            float64\n",
       "E                            float64\n",
       "F                            float64\n",
       "Z                            float64\n",
       "Number_of_prev_cond          float64\n",
       "dtype: object"
      ]
     },
     "execution_count": 71,
     "metadata": {},
     "output_type": "execute_result"
    }
   ],
   "source": [
    "test_new.dtypes"
   ]
  },
  {
   "cell_type": "code",
   "execution_count": 72,
   "metadata": {
    "colab": {
     "base_uri": "https://localhost:8080/",
     "height": 70
    },
    "colab_type": "code",
    "id": "f-OIGZb09DVd",
    "outputId": "1775d007-48de-47e8-f4e2-1a3242d04bac"
   },
   "outputs": [
    {
     "data": {
      "text/plain": [
       "NO     5333\n",
       "YES    3970\n",
       "Name: Patient_Smoker, dtype: int64"
      ]
     },
     "execution_count": 72,
     "metadata": {},
     "output_type": "execute_result"
    }
   ],
   "source": [
    "test_new['Patient_Smoker'].value_counts()"
   ]
  },
  {
   "cell_type": "code",
   "execution_count": 73,
   "metadata": {
    "colab": {},
    "colab_type": "code",
    "id": "2No2GLvp9DVg"
   },
   "outputs": [],
   "source": [
    "test_new=pd.concat([test_new,pd.get_dummies(test_new['Patient_Smoker'],prefix='d')],axis=1)"
   ]
  },
  {
   "cell_type": "code",
   "execution_count": 74,
   "metadata": {
    "colab": {
     "base_uri": "https://localhost:8080/",
     "height": 70
    },
    "colab_type": "code",
    "id": "V49Gdbz69DVj",
    "outputId": "3a574587-7b23-420f-b2e8-551a92b40378"
   },
   "outputs": [
    {
     "data": {
      "text/plain": [
       "RURAL    6502\n",
       "URBAN    2801\n",
       "Name: Patient_Rural_Urban, dtype: int64"
      ]
     },
     "execution_count": 74,
     "metadata": {},
     "output_type": "execute_result"
    }
   ],
   "source": [
    "test_new['Patient_Rural_Urban'].value_counts()"
   ]
  },
  {
   "cell_type": "code",
   "execution_count": 75,
   "metadata": {
    "colab": {},
    "colab_type": "code",
    "id": "Xg49hEZC9DVn"
   },
   "outputs": [],
   "source": [
    "test_new=pd.concat([test_new,pd.get_dummies(test_new['Patient_Rural_Urban'],prefix='d')],axis=1)"
   ]
  },
  {
   "cell_type": "code",
   "execution_count": 76,
   "metadata": {
    "colab": {
     "base_uri": "https://localhost:8080/",
     "height": 52
    },
    "colab_type": "code",
    "id": "lMUC2lCP9DVr",
    "outputId": "2360bfa7-56a3-4278-f24f-3386819795d4"
   },
   "outputs": [
    {
     "data": {
      "text/plain": [
       "Stable    9303\n",
       "Name: Patient_mental_condition, dtype: int64"
      ]
     },
     "execution_count": 76,
     "metadata": {},
     "output_type": "execute_result"
    }
   ],
   "source": [
    "test_new['Patient_mental_condition'].value_counts()"
   ]
  },
  {
   "cell_type": "code",
   "execution_count": 77,
   "metadata": {
    "colab": {},
    "colab_type": "code",
    "id": "pbysSRx19DVt"
   },
   "outputs": [],
   "source": [
    "test_new = pd.concat([test_new,pd.get_dummies(test_new['Patient_mental_condition'],prefix='d')],axis=1)"
   ]
  },
  {
   "cell_type": "code",
   "execution_count": 78,
   "metadata": {
    "colab": {
     "base_uri": "https://localhost:8080/",
     "height": 426
    },
    "colab_type": "code",
    "id": "tDKN6ad9Jvop",
    "outputId": "ef88a913-771d-4a94-d4d7-cdb3062b59cb"
   },
   "outputs": [
    {
     "data": {
      "text/plain": [
       "ID_Patient_Care_Situation       int64\n",
       "Diagnosed_Condition             int64\n",
       "Patient_ID                      int64\n",
       "Treated_with_drugs           category\n",
       "Patient_Age                     int64\n",
       "Patient_Body_Mass_Index       float64\n",
       "Patient_Smoker                 object\n",
       "Patient_Rural_Urban            object\n",
       "Patient_mental_condition       object\n",
       "A                             float64\n",
       "B                             float64\n",
       "C                             float64\n",
       "D                             float64\n",
       "E                             float64\n",
       "F                             float64\n",
       "Z                             float64\n",
       "Number_of_prev_cond           float64\n",
       "d_NO                            uint8\n",
       "d_YES                           uint8\n",
       "d_RURAL                         uint8\n",
       "d_URBAN                         uint8\n",
       "d_Stable                        uint8\n",
       "dtype: object"
      ]
     },
     "execution_count": 78,
     "metadata": {},
     "output_type": "execute_result"
    }
   ],
   "source": [
    "#convert to numeric\n",
    "#convert to category dtype\n",
    "test_new['Treated_with_drugs'] = test_new['Treated_with_drugs'].astype('category')\n",
    "test_new.dtypes"
   ]
  },
  {
   "cell_type": "code",
   "execution_count": 79,
   "metadata": {
    "colab": {
     "base_uri": "https://localhost:8080/",
     "height": 214
    },
    "colab_type": "code",
    "id": "tdLtdv29J5L1",
    "outputId": "ac430bbf-2bd6-40d5-d0fc-99f1bd36ba28"
   },
   "outputs": [
    {
     "data": {
      "text/html": [
       "<div>\n",
       "<style scoped>\n",
       "    .dataframe tbody tr th:only-of-type {\n",
       "        vertical-align: middle;\n",
       "    }\n",
       "\n",
       "    .dataframe tbody tr th {\n",
       "        vertical-align: top;\n",
       "    }\n",
       "\n",
       "    .dataframe thead th {\n",
       "        text-align: right;\n",
       "    }\n",
       "</style>\n",
       "<table border=\"1\" class=\"dataframe\">\n",
       "  <thead>\n",
       "    <tr style=\"text-align: right;\">\n",
       "      <th></th>\n",
       "      <th>ID_Patient_Care_Situation</th>\n",
       "      <th>Diagnosed_Condition</th>\n",
       "      <th>Patient_ID</th>\n",
       "      <th>Treated_with_drugs</th>\n",
       "      <th>Patient_Age</th>\n",
       "      <th>Patient_Body_Mass_Index</th>\n",
       "      <th>Patient_Smoker</th>\n",
       "      <th>Patient_Rural_Urban</th>\n",
       "      <th>Patient_mental_condition</th>\n",
       "      <th>A</th>\n",
       "      <th>...</th>\n",
       "      <th>E</th>\n",
       "      <th>F</th>\n",
       "      <th>Z</th>\n",
       "      <th>Number_of_prev_cond</th>\n",
       "      <th>d_NO</th>\n",
       "      <th>d_YES</th>\n",
       "      <th>d_RURAL</th>\n",
       "      <th>d_URBAN</th>\n",
       "      <th>d_Stable</th>\n",
       "      <th>Treated_with_drugs_cat</th>\n",
       "    </tr>\n",
       "  </thead>\n",
       "  <tbody>\n",
       "    <tr>\n",
       "      <td>0</td>\n",
       "      <td>19150</td>\n",
       "      <td>40</td>\n",
       "      <td>3709</td>\n",
       "      <td>DX3</td>\n",
       "      <td>16</td>\n",
       "      <td>29.443894</td>\n",
       "      <td>NO</td>\n",
       "      <td>RURAL</td>\n",
       "      <td>Stable</td>\n",
       "      <td>1.0</td>\n",
       "      <td>...</td>\n",
       "      <td>1.0</td>\n",
       "      <td>0.0</td>\n",
       "      <td>0.0</td>\n",
       "      <td>2.0</td>\n",
       "      <td>1</td>\n",
       "      <td>0</td>\n",
       "      <td>1</td>\n",
       "      <td>0</td>\n",
       "      <td>1</td>\n",
       "      <td>24</td>\n",
       "    </tr>\n",
       "    <tr>\n",
       "      <td>1</td>\n",
       "      <td>23216</td>\n",
       "      <td>52</td>\n",
       "      <td>986</td>\n",
       "      <td>DX6</td>\n",
       "      <td>24</td>\n",
       "      <td>26.836321</td>\n",
       "      <td>NO</td>\n",
       "      <td>URBAN</td>\n",
       "      <td>Stable</td>\n",
       "      <td>1.0</td>\n",
       "      <td>...</td>\n",
       "      <td>0.0</td>\n",
       "      <td>0.0</td>\n",
       "      <td>0.0</td>\n",
       "      <td>2.0</td>\n",
       "      <td>1</td>\n",
       "      <td>0</td>\n",
       "      <td>0</td>\n",
       "      <td>1</td>\n",
       "      <td>1</td>\n",
       "      <td>31</td>\n",
       "    </tr>\n",
       "    <tr>\n",
       "      <td>2</td>\n",
       "      <td>11890</td>\n",
       "      <td>50</td>\n",
       "      <td>11821</td>\n",
       "      <td>DX4 DX5</td>\n",
       "      <td>63</td>\n",
       "      <td>25.523280</td>\n",
       "      <td>NO</td>\n",
       "      <td>RURAL</td>\n",
       "      <td>Stable</td>\n",
       "      <td>1.0</td>\n",
       "      <td>...</td>\n",
       "      <td>1.0</td>\n",
       "      <td>0.0</td>\n",
       "      <td>0.0</td>\n",
       "      <td>2.0</td>\n",
       "      <td>1</td>\n",
       "      <td>0</td>\n",
       "      <td>1</td>\n",
       "      <td>0</td>\n",
       "      <td>1</td>\n",
       "      <td>29</td>\n",
       "    </tr>\n",
       "    <tr>\n",
       "      <td>3</td>\n",
       "      <td>7149</td>\n",
       "      <td>32</td>\n",
       "      <td>3292</td>\n",
       "      <td>DX6</td>\n",
       "      <td>42</td>\n",
       "      <td>27.171155</td>\n",
       "      <td>NO</td>\n",
       "      <td>URBAN</td>\n",
       "      <td>Stable</td>\n",
       "      <td>1.0</td>\n",
       "      <td>...</td>\n",
       "      <td>1.0</td>\n",
       "      <td>0.0</td>\n",
       "      <td>0.0</td>\n",
       "      <td>3.0</td>\n",
       "      <td>1</td>\n",
       "      <td>0</td>\n",
       "      <td>0</td>\n",
       "      <td>1</td>\n",
       "      <td>1</td>\n",
       "      <td>31</td>\n",
       "    </tr>\n",
       "    <tr>\n",
       "      <td>4</td>\n",
       "      <td>22845</td>\n",
       "      <td>20</td>\n",
       "      <td>9959</td>\n",
       "      <td>DX3</td>\n",
       "      <td>50</td>\n",
       "      <td>25.556192</td>\n",
       "      <td>NO</td>\n",
       "      <td>RURAL</td>\n",
       "      <td>Stable</td>\n",
       "      <td>1.0</td>\n",
       "      <td>...</td>\n",
       "      <td>0.0</td>\n",
       "      <td>0.0</td>\n",
       "      <td>0.0</td>\n",
       "      <td>1.0</td>\n",
       "      <td>1</td>\n",
       "      <td>0</td>\n",
       "      <td>1</td>\n",
       "      <td>0</td>\n",
       "      <td>1</td>\n",
       "      <td>24</td>\n",
       "    </tr>\n",
       "  </tbody>\n",
       "</table>\n",
       "<p>5 rows × 23 columns</p>\n",
       "</div>"
      ],
      "text/plain": [
       "   ID_Patient_Care_Situation  Diagnosed_Condition  Patient_ID  \\\n",
       "0                      19150                   40        3709   \n",
       "1                      23216                   52         986   \n",
       "2                      11890                   50       11821   \n",
       "3                       7149                   32        3292   \n",
       "4                      22845                   20        9959   \n",
       "\n",
       "  Treated_with_drugs  Patient_Age  Patient_Body_Mass_Index Patient_Smoker  \\\n",
       "0               DX3            16                29.443894             NO   \n",
       "1                DX6           24                26.836321             NO   \n",
       "2           DX4 DX5            63                25.523280             NO   \n",
       "3                DX6           42                27.171155             NO   \n",
       "4               DX3            50                25.556192             NO   \n",
       "\n",
       "  Patient_Rural_Urban Patient_mental_condition    A  ...    E    F    Z  \\\n",
       "0               RURAL                   Stable  1.0  ...  1.0  0.0  0.0   \n",
       "1               URBAN                   Stable  1.0  ...  0.0  0.0  0.0   \n",
       "2               RURAL                   Stable  1.0  ...  1.0  0.0  0.0   \n",
       "3               URBAN                   Stable  1.0  ...  1.0  0.0  0.0   \n",
       "4               RURAL                   Stable  1.0  ...  0.0  0.0  0.0   \n",
       "\n",
       "   Number_of_prev_cond  d_NO  d_YES  d_RURAL  d_URBAN  d_Stable  \\\n",
       "0                  2.0     1      0        1        0         1   \n",
       "1                  2.0     1      0        0        1         1   \n",
       "2                  2.0     1      0        1        0         1   \n",
       "3                  3.0     1      0        0        1         1   \n",
       "4                  1.0     1      0        1        0         1   \n",
       "\n",
       "   Treated_with_drugs_cat  \n",
       "0                      24  \n",
       "1                      31  \n",
       "2                      29  \n",
       "3                      31  \n",
       "4                      24  \n",
       "\n",
       "[5 rows x 23 columns]"
      ]
     },
     "execution_count": 79,
     "metadata": {},
     "output_type": "execute_result"
    }
   ],
   "source": [
    "#use .cat.codes to create new colums with encoded value\n",
    "test_new['Treated_with_drugs_cat'] = test_new['Treated_with_drugs'].cat.codes\n",
    "test_new.head(5)"
   ]
  },
  {
   "cell_type": "code",
   "execution_count": 80,
   "metadata": {
    "colab": {},
    "colab_type": "code",
    "id": "uit3IJCx9DVy"
   },
   "outputs": [],
   "source": [
    "test_new=test_new.drop(['Patient_mental_condition','Patient_Rural_Urban','Patient_Smoker','Treated_with_drugs'],axis=1)"
   ]
  },
  {
   "cell_type": "code",
   "execution_count": 81,
   "metadata": {
    "colab": {
     "base_uri": "https://localhost:8080/",
     "height": 35
    },
    "colab_type": "code",
    "id": "dPm54T3J9DV0",
    "outputId": "15aaa21f-124e-449f-d15f-d997222ac4cf"
   },
   "outputs": [
    {
     "data": {
      "text/plain": [
       "(9303, 19)"
      ]
     },
     "execution_count": 81,
     "metadata": {},
     "output_type": "execute_result"
    }
   ],
   "source": [
    "test_new.shape"
   ]
  },
  {
   "cell_type": "code",
   "execution_count": 82,
   "metadata": {
    "colab": {
     "base_uri": "https://localhost:8080/",
     "height": 360
    },
    "colab_type": "code",
    "id": "RDGodEYq9DV5",
    "outputId": "f56accbe-51b6-44d5-a9b0-fef228e4732f"
   },
   "outputs": [
    {
     "data": {
      "text/html": [
       "<div>\n",
       "<style scoped>\n",
       "    .dataframe tbody tr th:only-of-type {\n",
       "        vertical-align: middle;\n",
       "    }\n",
       "\n",
       "    .dataframe tbody tr th {\n",
       "        vertical-align: top;\n",
       "    }\n",
       "\n",
       "    .dataframe thead th {\n",
       "        text-align: right;\n",
       "    }\n",
       "</style>\n",
       "<table border=\"1\" class=\"dataframe\">\n",
       "  <thead>\n",
       "    <tr style=\"text-align: right;\">\n",
       "      <th></th>\n",
       "      <th>ID_Patient_Care_Situation</th>\n",
       "      <th>Diagnosed_Condition</th>\n",
       "      <th>Patient_ID</th>\n",
       "      <th>Patient_Age</th>\n",
       "      <th>Patient_Body_Mass_Index</th>\n",
       "      <th>A</th>\n",
       "      <th>B</th>\n",
       "      <th>C</th>\n",
       "      <th>D</th>\n",
       "      <th>E</th>\n",
       "      <th>F</th>\n",
       "      <th>Z</th>\n",
       "      <th>Number_of_prev_cond</th>\n",
       "      <th>d_NO</th>\n",
       "      <th>d_YES</th>\n",
       "      <th>d_RURAL</th>\n",
       "      <th>d_URBAN</th>\n",
       "      <th>d_Stable</th>\n",
       "      <th>Treated_with_drugs_cat</th>\n",
       "    </tr>\n",
       "  </thead>\n",
       "  <tbody>\n",
       "    <tr>\n",
       "      <td>0</td>\n",
       "      <td>19150</td>\n",
       "      <td>40</td>\n",
       "      <td>3709</td>\n",
       "      <td>16</td>\n",
       "      <td>29.443894</td>\n",
       "      <td>1.0</td>\n",
       "      <td>0.0</td>\n",
       "      <td>0.0</td>\n",
       "      <td>0.0</td>\n",
       "      <td>1.0</td>\n",
       "      <td>0.0</td>\n",
       "      <td>0.0</td>\n",
       "      <td>2.0</td>\n",
       "      <td>1</td>\n",
       "      <td>0</td>\n",
       "      <td>1</td>\n",
       "      <td>0</td>\n",
       "      <td>1</td>\n",
       "      <td>24</td>\n",
       "    </tr>\n",
       "    <tr>\n",
       "      <td>1</td>\n",
       "      <td>23216</td>\n",
       "      <td>52</td>\n",
       "      <td>986</td>\n",
       "      <td>24</td>\n",
       "      <td>26.836321</td>\n",
       "      <td>1.0</td>\n",
       "      <td>1.0</td>\n",
       "      <td>0.0</td>\n",
       "      <td>0.0</td>\n",
       "      <td>0.0</td>\n",
       "      <td>0.0</td>\n",
       "      <td>0.0</td>\n",
       "      <td>2.0</td>\n",
       "      <td>1</td>\n",
       "      <td>0</td>\n",
       "      <td>0</td>\n",
       "      <td>1</td>\n",
       "      <td>1</td>\n",
       "      <td>31</td>\n",
       "    </tr>\n",
       "    <tr>\n",
       "      <td>2</td>\n",
       "      <td>11890</td>\n",
       "      <td>50</td>\n",
       "      <td>11821</td>\n",
       "      <td>63</td>\n",
       "      <td>25.523280</td>\n",
       "      <td>1.0</td>\n",
       "      <td>0.0</td>\n",
       "      <td>0.0</td>\n",
       "      <td>0.0</td>\n",
       "      <td>1.0</td>\n",
       "      <td>0.0</td>\n",
       "      <td>0.0</td>\n",
       "      <td>2.0</td>\n",
       "      <td>1</td>\n",
       "      <td>0</td>\n",
       "      <td>1</td>\n",
       "      <td>0</td>\n",
       "      <td>1</td>\n",
       "      <td>29</td>\n",
       "    </tr>\n",
       "    <tr>\n",
       "      <td>3</td>\n",
       "      <td>7149</td>\n",
       "      <td>32</td>\n",
       "      <td>3292</td>\n",
       "      <td>42</td>\n",
       "      <td>27.171155</td>\n",
       "      <td>1.0</td>\n",
       "      <td>0.0</td>\n",
       "      <td>1.0</td>\n",
       "      <td>0.0</td>\n",
       "      <td>1.0</td>\n",
       "      <td>0.0</td>\n",
       "      <td>0.0</td>\n",
       "      <td>3.0</td>\n",
       "      <td>1</td>\n",
       "      <td>0</td>\n",
       "      <td>0</td>\n",
       "      <td>1</td>\n",
       "      <td>1</td>\n",
       "      <td>31</td>\n",
       "    </tr>\n",
       "    <tr>\n",
       "      <td>4</td>\n",
       "      <td>22845</td>\n",
       "      <td>20</td>\n",
       "      <td>9959</td>\n",
       "      <td>50</td>\n",
       "      <td>25.556192</td>\n",
       "      <td>1.0</td>\n",
       "      <td>0.0</td>\n",
       "      <td>0.0</td>\n",
       "      <td>0.0</td>\n",
       "      <td>0.0</td>\n",
       "      <td>0.0</td>\n",
       "      <td>0.0</td>\n",
       "      <td>1.0</td>\n",
       "      <td>1</td>\n",
       "      <td>0</td>\n",
       "      <td>1</td>\n",
       "      <td>0</td>\n",
       "      <td>1</td>\n",
       "      <td>24</td>\n",
       "    </tr>\n",
       "    <tr>\n",
       "      <td>5</td>\n",
       "      <td>28169</td>\n",
       "      <td>9</td>\n",
       "      <td>2508</td>\n",
       "      <td>40</td>\n",
       "      <td>27.085641</td>\n",
       "      <td>1.0</td>\n",
       "      <td>0.0</td>\n",
       "      <td>0.0</td>\n",
       "      <td>0.0</td>\n",
       "      <td>1.0</td>\n",
       "      <td>0.0</td>\n",
       "      <td>0.0</td>\n",
       "      <td>2.0</td>\n",
       "      <td>1</td>\n",
       "      <td>0</td>\n",
       "      <td>1</td>\n",
       "      <td>0</td>\n",
       "      <td>1</td>\n",
       "      <td>1</td>\n",
       "    </tr>\n",
       "    <tr>\n",
       "      <td>6</td>\n",
       "      <td>5672</td>\n",
       "      <td>4</td>\n",
       "      <td>5467</td>\n",
       "      <td>3</td>\n",
       "      <td>21.248985</td>\n",
       "      <td>1.0</td>\n",
       "      <td>0.0</td>\n",
       "      <td>0.0</td>\n",
       "      <td>0.0</td>\n",
       "      <td>0.0</td>\n",
       "      <td>0.0</td>\n",
       "      <td>0.0</td>\n",
       "      <td>1.0</td>\n",
       "      <td>1</td>\n",
       "      <td>0</td>\n",
       "      <td>1</td>\n",
       "      <td>0</td>\n",
       "      <td>1</td>\n",
       "      <td>31</td>\n",
       "    </tr>\n",
       "    <tr>\n",
       "      <td>7</td>\n",
       "      <td>2325</td>\n",
       "      <td>9</td>\n",
       "      <td>7725</td>\n",
       "      <td>35</td>\n",
       "      <td>18.428610</td>\n",
       "      <td>1.0</td>\n",
       "      <td>0.0</td>\n",
       "      <td>0.0</td>\n",
       "      <td>0.0</td>\n",
       "      <td>0.0</td>\n",
       "      <td>0.0</td>\n",
       "      <td>0.0</td>\n",
       "      <td>1.0</td>\n",
       "      <td>0</td>\n",
       "      <td>1</td>\n",
       "      <td>1</td>\n",
       "      <td>0</td>\n",
       "      <td>1</td>\n",
       "      <td>24</td>\n",
       "    </tr>\n",
       "    <tr>\n",
       "      <td>8</td>\n",
       "      <td>31840</td>\n",
       "      <td>24</td>\n",
       "      <td>122</td>\n",
       "      <td>23</td>\n",
       "      <td>19.061391</td>\n",
       "      <td>1.0</td>\n",
       "      <td>0.0</td>\n",
       "      <td>0.0</td>\n",
       "      <td>0.0</td>\n",
       "      <td>0.0</td>\n",
       "      <td>0.0</td>\n",
       "      <td>0.0</td>\n",
       "      <td>1.0</td>\n",
       "      <td>1</td>\n",
       "      <td>0</td>\n",
       "      <td>1</td>\n",
       "      <td>0</td>\n",
       "      <td>1</td>\n",
       "      <td>31</td>\n",
       "    </tr>\n",
       "    <tr>\n",
       "      <td>9</td>\n",
       "      <td>12699</td>\n",
       "      <td>30</td>\n",
       "      <td>11066</td>\n",
       "      <td>3</td>\n",
       "      <td>23.265954</td>\n",
       "      <td>1.0</td>\n",
       "      <td>0.0</td>\n",
       "      <td>0.0</td>\n",
       "      <td>1.0</td>\n",
       "      <td>1.0</td>\n",
       "      <td>0.0</td>\n",
       "      <td>0.0</td>\n",
       "      <td>3.0</td>\n",
       "      <td>1</td>\n",
       "      <td>0</td>\n",
       "      <td>0</td>\n",
       "      <td>1</td>\n",
       "      <td>1</td>\n",
       "      <td>31</td>\n",
       "    </tr>\n",
       "  </tbody>\n",
       "</table>\n",
       "</div>"
      ],
      "text/plain": [
       "   ID_Patient_Care_Situation  Diagnosed_Condition  Patient_ID  Patient_Age  \\\n",
       "0                      19150                   40        3709           16   \n",
       "1                      23216                   52         986           24   \n",
       "2                      11890                   50       11821           63   \n",
       "3                       7149                   32        3292           42   \n",
       "4                      22845                   20        9959           50   \n",
       "5                      28169                    9        2508           40   \n",
       "6                       5672                    4        5467            3   \n",
       "7                       2325                    9        7725           35   \n",
       "8                      31840                   24         122           23   \n",
       "9                      12699                   30       11066            3   \n",
       "\n",
       "   Patient_Body_Mass_Index    A    B    C    D    E    F    Z  \\\n",
       "0                29.443894  1.0  0.0  0.0  0.0  1.0  0.0  0.0   \n",
       "1                26.836321  1.0  1.0  0.0  0.0  0.0  0.0  0.0   \n",
       "2                25.523280  1.0  0.0  0.0  0.0  1.0  0.0  0.0   \n",
       "3                27.171155  1.0  0.0  1.0  0.0  1.0  0.0  0.0   \n",
       "4                25.556192  1.0  0.0  0.0  0.0  0.0  0.0  0.0   \n",
       "5                27.085641  1.0  0.0  0.0  0.0  1.0  0.0  0.0   \n",
       "6                21.248985  1.0  0.0  0.0  0.0  0.0  0.0  0.0   \n",
       "7                18.428610  1.0  0.0  0.0  0.0  0.0  0.0  0.0   \n",
       "8                19.061391  1.0  0.0  0.0  0.0  0.0  0.0  0.0   \n",
       "9                23.265954  1.0  0.0  0.0  1.0  1.0  0.0  0.0   \n",
       "\n",
       "   Number_of_prev_cond  d_NO  d_YES  d_RURAL  d_URBAN  d_Stable  \\\n",
       "0                  2.0     1      0        1        0         1   \n",
       "1                  2.0     1      0        0        1         1   \n",
       "2                  2.0     1      0        1        0         1   \n",
       "3                  3.0     1      0        0        1         1   \n",
       "4                  1.0     1      0        1        0         1   \n",
       "5                  2.0     1      0        1        0         1   \n",
       "6                  1.0     1      0        1        0         1   \n",
       "7                  1.0     0      1        1        0         1   \n",
       "8                  1.0     1      0        1        0         1   \n",
       "9                  3.0     1      0        0        1         1   \n",
       "\n",
       "   Treated_with_drugs_cat  \n",
       "0                      24  \n",
       "1                      31  \n",
       "2                      29  \n",
       "3                      31  \n",
       "4                      24  \n",
       "5                       1  \n",
       "6                      31  \n",
       "7                      24  \n",
       "8                      31  \n",
       "9                      31  "
      ]
     },
     "execution_count": 82,
     "metadata": {},
     "output_type": "execute_result"
    }
   ],
   "source": [
    "test_new.head(10)"
   ]
  },
  {
   "cell_type": "markdown",
   "metadata": {
    "colab_type": "text",
    "id": "xEzSMW8E8Ud0"
   },
   "source": [
    "# Predictions"
   ]
  },
  {
   "cell_type": "markdown",
   "metadata": {
    "colab_type": "text",
    "id": "3jJj9RlnAsZC"
   },
   "source": [
    "## Submission\n"
   ]
  },
  {
   "cell_type": "code",
   "execution_count": 91,
   "metadata": {
    "colab": {},
    "colab_type": "code",
    "id": "i1Al8Gj8AuAj"
   },
   "outputs": [],
   "source": [
    "Survived_1_year = random_search.best_estimator_.predict(test_new)"
   ]
  },
  {
   "cell_type": "code",
   "execution_count": 92,
   "metadata": {
    "colab": {},
    "colab_type": "code",
    "id": "Hl1RiVpOA0iH"
   },
   "outputs": [],
   "source": [
    "res = pd.DataFrame(Survived_1_year)\n",
    "res.index = test_new.index # its important for comparison\n",
    "res.columns = [\"prediction\"]\n",
    "res.to_csv(\"Survived_1_year_prediction_results_HP.csv\")      # the csv file will be saved locally on the same location where this notebook is located."
   ]
  }
 ],
 "metadata": {
  "colab": {
   "collapsed_sections": [],
   "name": "Final__Patient__Survival.ipynb",
   "provenance": []
  },
  "kernelspec": {
   "display_name": "Python 3",
   "language": "python",
   "name": "python3"
  },
  "language_info": {
   "codemirror_mode": {
    "name": "ipython",
    "version": 3
   },
   "file_extension": ".py",
   "mimetype": "text/x-python",
   "name": "python",
   "nbconvert_exporter": "python",
   "pygments_lexer": "ipython3",
   "version": "3.6.12"
  }
 },
 "nbformat": 4,
 "nbformat_minor": 1
}
