{
 "cells": [
  {
   "cell_type": "code",
   "execution_count": 1,
   "metadata": {
    "_cell_guid": "b1076dfc-b9ad-4769-8c92-a6c4dae69d19",
    "_uuid": "8f2839f25d086af736a60e9eeb907d3b93b6e0e5"
   },
   "outputs": [],
   "source": [
    "import numpy as np # linear algebra\n",
    "import pandas as pd # data processing, CSV file I/O (e.g. pd.read_csv)"
   ]
  },
  {
   "cell_type": "code",
   "execution_count": 2,
   "metadata": {
    "_cell_guid": "79c7e3d0-c299-4dcb-8224-4455121ee9b0",
    "_uuid": "d629ff2d2480ee46fbb7e2d37f6b5fab8052498a"
   },
   "outputs": [],
   "source": [
    "data = pd.read_csv(\"/Users/apple/Documents/Kaggle/dphi-amsterdam-airbnb-data/airbnb_listing_train.csv\")"
   ]
  },
  {
   "cell_type": "markdown",
   "metadata": {},
   "source": [
    "# **Lets look our data**"
   ]
  },
  {
   "cell_type": "code",
   "execution_count": 15,
   "metadata": {},
   "outputs": [
    {
     "data": {
      "text/html": [
       "<div>\n",
       "<style scoped>\n",
       "    .dataframe tbody tr th:only-of-type {\n",
       "        vertical-align: middle;\n",
       "    }\n",
       "\n",
       "    .dataframe tbody tr th {\n",
       "        vertical-align: top;\n",
       "    }\n",
       "\n",
       "    .dataframe thead th {\n",
       "        text-align: right;\n",
       "    }\n",
       "</style>\n",
       "<table border=\"1\" class=\"dataframe\">\n",
       "  <thead>\n",
       "    <tr style=\"text-align: right;\">\n",
       "      <th></th>\n",
       "      <th>id</th>\n",
       "      <th>name</th>\n",
       "      <th>host_id</th>\n",
       "      <th>host_name</th>\n",
       "      <th>neighbourhood_group</th>\n",
       "      <th>neighbourhood</th>\n",
       "      <th>latitude</th>\n",
       "      <th>longitude</th>\n",
       "      <th>room_type</th>\n",
       "      <th>minimum_nights</th>\n",
       "      <th>number_of_reviews</th>\n",
       "      <th>last_review</th>\n",
       "      <th>reviews_per_month</th>\n",
       "      <th>calculated_host_listings_count</th>\n",
       "      <th>availability_365</th>\n",
       "      <th>price</th>\n",
       "    </tr>\n",
       "  </thead>\n",
       "  <tbody>\n",
       "    <tr>\n",
       "      <td>0</td>\n",
       "      <td>11602914</td>\n",
       "      <td>Luxury home 100m2+garden in center!</td>\n",
       "      <td>3123809</td>\n",
       "      <td>Marjolein</td>\n",
       "      <td>NaN</td>\n",
       "      <td>De Pijp - Rivierenbuurt</td>\n",
       "      <td>52.35368</td>\n",
       "      <td>4.90177</td>\n",
       "      <td>Entire home/apt</td>\n",
       "      <td>3</td>\n",
       "      <td>13</td>\n",
       "      <td>15-02-2020</td>\n",
       "      <td>0.27</td>\n",
       "      <td>1</td>\n",
       "      <td>0</td>\n",
       "      <td>220</td>\n",
       "    </tr>\n",
       "    <tr>\n",
       "      <td>1</td>\n",
       "      <td>13289321</td>\n",
       "      <td>East is where your home is!</td>\n",
       "      <td>10259430</td>\n",
       "      <td>Ana</td>\n",
       "      <td>NaN</td>\n",
       "      <td>Oud-Oost</td>\n",
       "      <td>52.35728</td>\n",
       "      <td>4.92052</td>\n",
       "      <td>Entire home/apt</td>\n",
       "      <td>4</td>\n",
       "      <td>14</td>\n",
       "      <td>19-06-2019</td>\n",
       "      <td>0.29</td>\n",
       "      <td>1</td>\n",
       "      <td>0</td>\n",
       "      <td>110</td>\n",
       "    </tr>\n",
       "    <tr>\n",
       "      <td>2</td>\n",
       "      <td>40779315</td>\n",
       "      <td>Amsterdam Central - LUXURY house in BUSY STREET</td>\n",
       "      <td>224969266</td>\n",
       "      <td>Mark</td>\n",
       "      <td>NaN</td>\n",
       "      <td>Centrum-West</td>\n",
       "      <td>52.37582</td>\n",
       "      <td>4.89850</td>\n",
       "      <td>Entire home/apt</td>\n",
       "      <td>2</td>\n",
       "      <td>9</td>\n",
       "      <td>16-03-2020</td>\n",
       "      <td>1.65</td>\n",
       "      <td>1</td>\n",
       "      <td>7</td>\n",
       "      <td>100</td>\n",
       "    </tr>\n",
       "    <tr>\n",
       "      <td>3</td>\n",
       "      <td>7820311</td>\n",
       "      <td>great appartment down town</td>\n",
       "      <td>693472</td>\n",
       "      <td>Ayden</td>\n",
       "      <td>NaN</td>\n",
       "      <td>Westerpark</td>\n",
       "      <td>52.37792</td>\n",
       "      <td>4.87300</td>\n",
       "      <td>Entire home/apt</td>\n",
       "      <td>3</td>\n",
       "      <td>42</td>\n",
       "      <td>17-02-2020</td>\n",
       "      <td>0.72</td>\n",
       "      <td>1</td>\n",
       "      <td>0</td>\n",
       "      <td>130</td>\n",
       "    </tr>\n",
       "    <tr>\n",
       "      <td>4</td>\n",
       "      <td>27346603</td>\n",
       "      <td>Private room with canal view in peaceful area</td>\n",
       "      <td>41888346</td>\n",
       "      <td>Alissa</td>\n",
       "      <td>NaN</td>\n",
       "      <td>Westerpark</td>\n",
       "      <td>52.38051</td>\n",
       "      <td>4.87493</td>\n",
       "      <td>Private room</td>\n",
       "      <td>2</td>\n",
       "      <td>89</td>\n",
       "      <td>26-02-2020</td>\n",
       "      <td>4.02</td>\n",
       "      <td>1</td>\n",
       "      <td>24</td>\n",
       "      <td>90</td>\n",
       "    </tr>\n",
       "  </tbody>\n",
       "</table>\n",
       "</div>"
      ],
      "text/plain": [
       "         id                                             name    host_id  \\\n",
       "0  11602914              Luxury home 100m2+garden in center!    3123809   \n",
       "1  13289321                      East is where your home is!   10259430   \n",
       "2  40779315  Amsterdam Central - LUXURY house in BUSY STREET  224969266   \n",
       "3   7820311                       great appartment down town     693472   \n",
       "4  27346603    Private room with canal view in peaceful area   41888346   \n",
       "\n",
       "   host_name  neighbourhood_group            neighbourhood  latitude  \\\n",
       "0  Marjolein                  NaN  De Pijp - Rivierenbuurt  52.35368   \n",
       "1        Ana                  NaN                 Oud-Oost  52.35728   \n",
       "2       Mark                  NaN             Centrum-West  52.37582   \n",
       "3      Ayden                  NaN               Westerpark  52.37792   \n",
       "4     Alissa                  NaN               Westerpark  52.38051   \n",
       "\n",
       "   longitude        room_type  minimum_nights  number_of_reviews last_review  \\\n",
       "0    4.90177  Entire home/apt               3                 13  15-02-2020   \n",
       "1    4.92052  Entire home/apt               4                 14  19-06-2019   \n",
       "2    4.89850  Entire home/apt               2                  9  16-03-2020   \n",
       "3    4.87300  Entire home/apt               3                 42  17-02-2020   \n",
       "4    4.87493     Private room               2                 89  26-02-2020   \n",
       "\n",
       "   reviews_per_month  calculated_host_listings_count  availability_365  price  \n",
       "0               0.27                               1                 0    220  \n",
       "1               0.29                               1                 0    110  \n",
       "2               1.65                               1                 7    100  \n",
       "3               0.72                               1                 0    130  \n",
       "4               4.02                               1                24     90  "
      ]
     },
     "execution_count": 15,
     "metadata": {},
     "output_type": "execute_result"
    }
   ],
   "source": [
    "data.head()"
   ]
  },
  {
   "cell_type": "code",
   "execution_count": 16,
   "metadata": {},
   "outputs": [
    {
     "data": {
      "text/html": [
       "<div>\n",
       "<style scoped>\n",
       "    .dataframe tbody tr th:only-of-type {\n",
       "        vertical-align: middle;\n",
       "    }\n",
       "\n",
       "    .dataframe tbody tr th {\n",
       "        vertical-align: top;\n",
       "    }\n",
       "\n",
       "    .dataframe thead th {\n",
       "        text-align: right;\n",
       "    }\n",
       "</style>\n",
       "<table border=\"1\" class=\"dataframe\">\n",
       "  <thead>\n",
       "    <tr style=\"text-align: right;\">\n",
       "      <th></th>\n",
       "      <th>id</th>\n",
       "      <th>name</th>\n",
       "      <th>host_id</th>\n",
       "      <th>host_name</th>\n",
       "      <th>neighbourhood_group</th>\n",
       "      <th>neighbourhood</th>\n",
       "      <th>latitude</th>\n",
       "      <th>longitude</th>\n",
       "      <th>room_type</th>\n",
       "      <th>minimum_nights</th>\n",
       "      <th>number_of_reviews</th>\n",
       "      <th>last_review</th>\n",
       "      <th>reviews_per_month</th>\n",
       "      <th>calculated_host_listings_count</th>\n",
       "      <th>availability_365</th>\n",
       "      <th>price</th>\n",
       "    </tr>\n",
       "  </thead>\n",
       "  <tbody>\n",
       "    <tr>\n",
       "      <td>12896</td>\n",
       "      <td>20757739</td>\n",
       "      <td>Quiet stylish private room 15 mins to city  ce...</td>\n",
       "      <td>63932037</td>\n",
       "      <td>Michelle</td>\n",
       "      <td>NaN</td>\n",
       "      <td>De Baarsjes - Oud-West</td>\n",
       "      <td>52.37194</td>\n",
       "      <td>4.84965</td>\n",
       "      <td>Entire home/apt</td>\n",
       "      <td>1</td>\n",
       "      <td>1</td>\n",
       "      <td>13-09-2017</td>\n",
       "      <td>0.03</td>\n",
       "      <td>1</td>\n",
       "      <td>88</td>\n",
       "      <td>65</td>\n",
       "    </tr>\n",
       "    <tr>\n",
       "      <td>12897</td>\n",
       "      <td>1055570</td>\n",
       "      <td>Beautiful, spacious apt. with great views @ IJ...</td>\n",
       "      <td>5813322</td>\n",
       "      <td>Rens</td>\n",
       "      <td>NaN</td>\n",
       "      <td>IJburg - Zeeburgereiland</td>\n",
       "      <td>52.36263</td>\n",
       "      <td>4.98031</td>\n",
       "      <td>Entire home/apt</td>\n",
       "      <td>7</td>\n",
       "      <td>238</td>\n",
       "      <td>25-02-2020</td>\n",
       "      <td>2.75</td>\n",
       "      <td>1</td>\n",
       "      <td>357</td>\n",
       "      <td>160</td>\n",
       "    </tr>\n",
       "    <tr>\n",
       "      <td>12898</td>\n",
       "      <td>13178435</td>\n",
       "      <td>Great apartment de Pijp/Albert Cuyp</td>\n",
       "      <td>46370427</td>\n",
       "      <td>Francien</td>\n",
       "      <td>NaN</td>\n",
       "      <td>De Pijp - Rivierenbuurt</td>\n",
       "      <td>52.35719</td>\n",
       "      <td>4.90009</td>\n",
       "      <td>Entire home/apt</td>\n",
       "      <td>3</td>\n",
       "      <td>15</td>\n",
       "      <td>07-10-2018</td>\n",
       "      <td>0.31</td>\n",
       "      <td>1</td>\n",
       "      <td>0</td>\n",
       "      <td>180</td>\n",
       "    </tr>\n",
       "    <tr>\n",
       "      <td>12899</td>\n",
       "      <td>21963760</td>\n",
       "      <td>Stylish apartment in an amazing location</td>\n",
       "      <td>4895882</td>\n",
       "      <td>Olaf</td>\n",
       "      <td>NaN</td>\n",
       "      <td>Zuid</td>\n",
       "      <td>52.34855</td>\n",
       "      <td>4.85105</td>\n",
       "      <td>Entire home/apt</td>\n",
       "      <td>2</td>\n",
       "      <td>11</td>\n",
       "      <td>28-04-2019</td>\n",
       "      <td>0.37</td>\n",
       "      <td>1</td>\n",
       "      <td>0</td>\n",
       "      <td>136</td>\n",
       "    </tr>\n",
       "    <tr>\n",
       "      <td>12900</td>\n",
       "      <td>33726315</td>\n",
       "      <td>Amsterdam Apartments First Floor</td>\n",
       "      <td>203460948</td>\n",
       "      <td>City</td>\n",
       "      <td>NaN</td>\n",
       "      <td>Centrum-Oost</td>\n",
       "      <td>52.35865</td>\n",
       "      <td>4.89795</td>\n",
       "      <td>Hotel room</td>\n",
       "      <td>5</td>\n",
       "      <td>1</td>\n",
       "      <td>17-02-2020</td>\n",
       "      <td>0.26</td>\n",
       "      <td>11</td>\n",
       "      <td>365</td>\n",
       "      <td>337</td>\n",
       "    </tr>\n",
       "  </tbody>\n",
       "</table>\n",
       "</div>"
      ],
      "text/plain": [
       "             id                                               name    host_id  \\\n",
       "12896  20757739  Quiet stylish private room 15 mins to city  ce...   63932037   \n",
       "12897   1055570  Beautiful, spacious apt. with great views @ IJ...    5813322   \n",
       "12898  13178435                Great apartment de Pijp/Albert Cuyp   46370427   \n",
       "12899  21963760           Stylish apartment in an amazing location    4895882   \n",
       "12900  33726315                   Amsterdam Apartments First Floor  203460948   \n",
       "\n",
       "      host_name  neighbourhood_group             neighbourhood  latitude  \\\n",
       "12896  Michelle                  NaN    De Baarsjes - Oud-West  52.37194   \n",
       "12897      Rens                  NaN  IJburg - Zeeburgereiland  52.36263   \n",
       "12898  Francien                  NaN   De Pijp - Rivierenbuurt  52.35719   \n",
       "12899      Olaf                  NaN                      Zuid  52.34855   \n",
       "12900      City                  NaN              Centrum-Oost  52.35865   \n",
       "\n",
       "       longitude        room_type  minimum_nights  number_of_reviews  \\\n",
       "12896    4.84965  Entire home/apt               1                  1   \n",
       "12897    4.98031  Entire home/apt               7                238   \n",
       "12898    4.90009  Entire home/apt               3                 15   \n",
       "12899    4.85105  Entire home/apt               2                 11   \n",
       "12900    4.89795       Hotel room               5                  1   \n",
       "\n",
       "      last_review  reviews_per_month  calculated_host_listings_count  \\\n",
       "12896  13-09-2017               0.03                               1   \n",
       "12897  25-02-2020               2.75                               1   \n",
       "12898  07-10-2018               0.31                               1   \n",
       "12899  28-04-2019               0.37                               1   \n",
       "12900  17-02-2020               0.26                              11   \n",
       "\n",
       "       availability_365  price  \n",
       "12896                88     65  \n",
       "12897               357    160  \n",
       "12898                 0    180  \n",
       "12899                 0    136  \n",
       "12900               365    337  "
      ]
     },
     "execution_count": 16,
     "metadata": {},
     "output_type": "execute_result"
    }
   ],
   "source": [
    "data.tail()"
   ]
  },
  {
   "cell_type": "code",
   "execution_count": 17,
   "metadata": {},
   "outputs": [
    {
     "data": {
      "text/plain": [
       "(12901, 16)"
      ]
     },
     "execution_count": 17,
     "metadata": {},
     "output_type": "execute_result"
    }
   ],
   "source": [
    "data.shape"
   ]
  },
  {
   "cell_type": "code",
   "execution_count": 18,
   "metadata": {},
   "outputs": [
    {
     "data": {
      "text/html": [
       "<div>\n",
       "<style scoped>\n",
       "    .dataframe tbody tr th:only-of-type {\n",
       "        vertical-align: middle;\n",
       "    }\n",
       "\n",
       "    .dataframe tbody tr th {\n",
       "        vertical-align: top;\n",
       "    }\n",
       "\n",
       "    .dataframe thead th {\n",
       "        text-align: right;\n",
       "    }\n",
       "</style>\n",
       "<table border=\"1\" class=\"dataframe\">\n",
       "  <thead>\n",
       "    <tr style=\"text-align: right;\">\n",
       "      <th></th>\n",
       "      <th>id</th>\n",
       "      <th>host_id</th>\n",
       "      <th>neighbourhood_group</th>\n",
       "      <th>latitude</th>\n",
       "      <th>longitude</th>\n",
       "      <th>minimum_nights</th>\n",
       "      <th>number_of_reviews</th>\n",
       "      <th>reviews_per_month</th>\n",
       "      <th>calculated_host_listings_count</th>\n",
       "      <th>availability_365</th>\n",
       "      <th>price</th>\n",
       "    </tr>\n",
       "  </thead>\n",
       "  <tbody>\n",
       "    <tr>\n",
       "      <td>count</td>\n",
       "      <td>1.290100e+04</td>\n",
       "      <td>1.290100e+04</td>\n",
       "      <td>0.0</td>\n",
       "      <td>12901.000000</td>\n",
       "      <td>12901.000000</td>\n",
       "      <td>12901.000000</td>\n",
       "      <td>12901.000000</td>\n",
       "      <td>11305.000000</td>\n",
       "      <td>12901.000000</td>\n",
       "      <td>12901.000000</td>\n",
       "      <td>12901.000000</td>\n",
       "    </tr>\n",
       "    <tr>\n",
       "      <td>mean</td>\n",
       "      <td>1.984923e+07</td>\n",
       "      <td>6.321700e+07</td>\n",
       "      <td>NaN</td>\n",
       "      <td>52.365313</td>\n",
       "      <td>4.889744</td>\n",
       "      <td>3.542516</td>\n",
       "      <td>24.803194</td>\n",
       "      <td>0.748501</td>\n",
       "      <td>2.136501</td>\n",
       "      <td>61.392295</td>\n",
       "      <td>166.959538</td>\n",
       "    </tr>\n",
       "    <tr>\n",
       "      <td>std</td>\n",
       "      <td>1.216241e+07</td>\n",
       "      <td>8.010814e+07</td>\n",
       "      <td>NaN</td>\n",
       "      <td>0.016418</td>\n",
       "      <td>0.036016</td>\n",
       "      <td>15.154077</td>\n",
       "      <td>53.406134</td>\n",
       "      <td>1.260791</td>\n",
       "      <td>6.001838</td>\n",
       "      <td>107.988329</td>\n",
       "      <td>234.794630</td>\n",
       "    </tr>\n",
       "    <tr>\n",
       "      <td>min</td>\n",
       "      <td>2.016800e+04</td>\n",
       "      <td>3.592000e+03</td>\n",
       "      <td>NaN</td>\n",
       "      <td>52.289270</td>\n",
       "      <td>4.755720</td>\n",
       "      <td>1.000000</td>\n",
       "      <td>0.000000</td>\n",
       "      <td>0.010000</td>\n",
       "      <td>1.000000</td>\n",
       "      <td>0.000000</td>\n",
       "      <td>6.000000</td>\n",
       "    </tr>\n",
       "    <tr>\n",
       "      <td>25%</td>\n",
       "      <td>9.869642e+06</td>\n",
       "      <td>8.948269e+06</td>\n",
       "      <td>NaN</td>\n",
       "      <td>52.355190</td>\n",
       "      <td>4.863950</td>\n",
       "      <td>2.000000</td>\n",
       "      <td>2.000000</td>\n",
       "      <td>0.180000</td>\n",
       "      <td>1.000000</td>\n",
       "      <td>0.000000</td>\n",
       "      <td>99.000000</td>\n",
       "    </tr>\n",
       "    <tr>\n",
       "      <td>50%</td>\n",
       "      <td>1.874939e+07</td>\n",
       "      <td>2.711601e+07</td>\n",
       "      <td>NaN</td>\n",
       "      <td>52.364570</td>\n",
       "      <td>4.887130</td>\n",
       "      <td>2.000000</td>\n",
       "      <td>9.000000</td>\n",
       "      <td>0.380000</td>\n",
       "      <td>1.000000</td>\n",
       "      <td>0.000000</td>\n",
       "      <td>135.000000</td>\n",
       "    </tr>\n",
       "    <tr>\n",
       "      <td>75%</td>\n",
       "      <td>2.914232e+07</td>\n",
       "      <td>8.337686e+07</td>\n",
       "      <td>NaN</td>\n",
       "      <td>52.375110</td>\n",
       "      <td>4.909310</td>\n",
       "      <td>3.000000</td>\n",
       "      <td>24.000000</td>\n",
       "      <td>0.770000</td>\n",
       "      <td>1.000000</td>\n",
       "      <td>87.000000</td>\n",
       "      <td>190.000000</td>\n",
       "    </tr>\n",
       "    <tr>\n",
       "      <td>max</td>\n",
       "      <td>4.370900e+07</td>\n",
       "      <td>3.490175e+08</td>\n",
       "      <td>NaN</td>\n",
       "      <td>52.425090</td>\n",
       "      <td>5.018400</td>\n",
       "      <td>1001.000000</td>\n",
       "      <td>843.000000</td>\n",
       "      <td>50.000000</td>\n",
       "      <td>78.000000</td>\n",
       "      <td>365.000000</td>\n",
       "      <td>9000.000000</td>\n",
       "    </tr>\n",
       "  </tbody>\n",
       "</table>\n",
       "</div>"
      ],
      "text/plain": [
       "                 id       host_id  neighbourhood_group      latitude  \\\n",
       "count  1.290100e+04  1.290100e+04                  0.0  12901.000000   \n",
       "mean   1.984923e+07  6.321700e+07                  NaN     52.365313   \n",
       "std    1.216241e+07  8.010814e+07                  NaN      0.016418   \n",
       "min    2.016800e+04  3.592000e+03                  NaN     52.289270   \n",
       "25%    9.869642e+06  8.948269e+06                  NaN     52.355190   \n",
       "50%    1.874939e+07  2.711601e+07                  NaN     52.364570   \n",
       "75%    2.914232e+07  8.337686e+07                  NaN     52.375110   \n",
       "max    4.370900e+07  3.490175e+08                  NaN     52.425090   \n",
       "\n",
       "          longitude  minimum_nights  number_of_reviews  reviews_per_month  \\\n",
       "count  12901.000000    12901.000000       12901.000000       11305.000000   \n",
       "mean       4.889744        3.542516          24.803194           0.748501   \n",
       "std        0.036016       15.154077          53.406134           1.260791   \n",
       "min        4.755720        1.000000           0.000000           0.010000   \n",
       "25%        4.863950        2.000000           2.000000           0.180000   \n",
       "50%        4.887130        2.000000           9.000000           0.380000   \n",
       "75%        4.909310        3.000000          24.000000           0.770000   \n",
       "max        5.018400     1001.000000         843.000000          50.000000   \n",
       "\n",
       "       calculated_host_listings_count  availability_365         price  \n",
       "count                    12901.000000      12901.000000  12901.000000  \n",
       "mean                         2.136501         61.392295    166.959538  \n",
       "std                          6.001838        107.988329    234.794630  \n",
       "min                          1.000000          0.000000      6.000000  \n",
       "25%                          1.000000          0.000000     99.000000  \n",
       "50%                          1.000000          0.000000    135.000000  \n",
       "75%                          1.000000         87.000000    190.000000  \n",
       "max                         78.000000        365.000000   9000.000000  "
      ]
     },
     "execution_count": 18,
     "metadata": {},
     "output_type": "execute_result"
    }
   ],
   "source": [
    "data.describe()"
   ]
  },
  {
   "cell_type": "code",
   "execution_count": 19,
   "metadata": {},
   "outputs": [
    {
     "name": "stdout",
     "output_type": "stream",
     "text": [
      "<class 'pandas.core.frame.DataFrame'>\n",
      "RangeIndex: 12901 entries, 0 to 12900\n",
      "Data columns (total 16 columns):\n",
      "id                                12901 non-null int64\n",
      "name                              12879 non-null object\n",
      "host_id                           12901 non-null int64\n",
      "host_name                         12893 non-null object\n",
      "neighbourhood_group               0 non-null float64\n",
      "neighbourhood                     12901 non-null object\n",
      "latitude                          12901 non-null float64\n",
      "longitude                         12901 non-null float64\n",
      "room_type                         12901 non-null object\n",
      "minimum_nights                    12901 non-null int64\n",
      "number_of_reviews                 12901 non-null int64\n",
      "last_review                       11305 non-null object\n",
      "reviews_per_month                 11305 non-null float64\n",
      "calculated_host_listings_count    12901 non-null int64\n",
      "availability_365                  12901 non-null int64\n",
      "price                             12901 non-null int64\n",
      "dtypes: float64(4), int64(7), object(5)\n",
      "memory usage: 1.6+ MB\n"
     ]
    }
   ],
   "source": [
    "data.info()"
   ]
  },
  {
   "cell_type": "code",
   "execution_count": 20,
   "metadata": {},
   "outputs": [
    {
     "data": {
      "text/plain": [
       "id                                12901\n",
       "name                              12653\n",
       "host_id                           11601\n",
       "host_name                          4536\n",
       "neighbourhood_group                   0\n",
       "neighbourhood                        22\n",
       "latitude                           5227\n",
       "longitude                          7887\n",
       "room_type                             4\n",
       "minimum_nights                       56\n",
       "number_of_reviews                   362\n",
       "last_review                        1495\n",
       "reviews_per_month                   610\n",
       "calculated_host_listings_count       26\n",
       "availability_365                    366\n",
       "price                               400\n",
       "dtype: int64"
      ]
     },
     "execution_count": 20,
     "metadata": {},
     "output_type": "execute_result"
    }
   ],
   "source": [
    "data.nunique()"
   ]
  },
  {
   "cell_type": "markdown",
   "metadata": {},
   "source": [
    "# **Let's Take a Look at the Categorical data**"
   ]
  },
  {
   "cell_type": "code",
   "execution_count": 21,
   "metadata": {},
   "outputs": [
    {
     "data": {
      "text/plain": [
       "array(['Entire home/apt', 'Private room', 'Shared room', 'Hotel room'],\n",
       "      dtype=object)"
      ]
     },
     "execution_count": 21,
     "metadata": {},
     "output_type": "execute_result"
    }
   ],
   "source": [
    "data['room_type'].unique()"
   ]
  },
  {
   "cell_type": "markdown",
   "metadata": {},
   "source": [
    "# **Target Variable check**"
   ]
  },
  {
   "cell_type": "code",
   "execution_count": 22,
   "metadata": {},
   "outputs": [
    {
     "data": {
      "text/plain": [
       "400"
      ]
     },
     "execution_count": 22,
     "metadata": {},
     "output_type": "execute_result"
    }
   ],
   "source": [
    "data['price'].nunique()"
   ]
  },
  {
   "cell_type": "code",
   "execution_count": 23,
   "metadata": {},
   "outputs": [
    {
     "data": {
      "text/plain": [
       "150    877\n",
       "100    695\n",
       "120    607\n",
       "200    539\n",
       "125    410\n",
       "      ... \n",
       "581      1\n",
       "541      1\n",
       "258      1\n",
       "217      1\n",
       "237      1\n",
       "Name: price, Length: 400, dtype: int64"
      ]
     },
     "execution_count": 23,
     "metadata": {},
     "output_type": "execute_result"
    }
   ],
   "source": [
    "data['price'].value_counts()"
   ]
  },
  {
   "cell_type": "markdown",
   "metadata": {},
   "source": [
    "# Data preparation process: *Data Wrangling*"
   ]
  },
  {
   "cell_type": "markdown",
   "metadata": {},
   "source": [
    "## Checking missing value"
   ]
  },
  {
   "cell_type": "code",
   "execution_count": 24,
   "metadata": {},
   "outputs": [
    {
     "data": {
      "text/plain": [
       "id                                    0\n",
       "name                                 22\n",
       "host_id                               0\n",
       "host_name                             8\n",
       "neighbourhood_group               12901\n",
       "neighbourhood                         0\n",
       "latitude                              0\n",
       "longitude                             0\n",
       "room_type                             0\n",
       "minimum_nights                        0\n",
       "number_of_reviews                     0\n",
       "last_review                        1596\n",
       "reviews_per_month                  1596\n",
       "calculated_host_listings_count        0\n",
       "availability_365                      0\n",
       "price                                 0\n",
       "dtype: int64"
      ]
     },
     "execution_count": 24,
     "metadata": {},
     "output_type": "execute_result"
    }
   ],
   "source": [
    "data.isnull().sum()"
   ]
  },
  {
   "cell_type": "code",
   "execution_count": 25,
   "metadata": {},
   "outputs": [
    {
     "data": {
      "image/png": "[encoded data removed]",
      "text/plain": [
       "<Figure size 792x288 with 4 Axes>"
      ]
     },
     "metadata": {
      "needs_background": "light"
     },
     "output_type": "display_data"
    }
   ],
   "source": [
    "import matplotlib.pyplot as plt\n",
    "import missingno as msno\n",
    "figure, (ax1, ax2) = plt.subplots(1, 2, figsize=(11,4))\n",
    "msno.matrix(data, ax=ax1, sparkline=False, fontsize = 12, color=(0., 0.25, 0.25))\n",
    "msno.bar(data, ax=ax2, fontsize = 12, color=(0.25, 0., 0.25))\n",
    "plt.show()"
   ]
  },
  {
   "cell_type": "markdown",
   "metadata": {},
   "source": [
    "# Treating the Missing data"
   ]
  },
  {
   "cell_type": "markdown",
   "metadata": {},
   "source": [
    "Delete neighbourhood group column"
   ]
  },
  {
   "cell_type": "code",
   "execution_count": 26,
   "metadata": {},
   "outputs": [],
   "source": [
    "data = data.drop(['neighbourhood_group'],axis=1)"
   ]
  },
  {
   "cell_type": "code",
   "execution_count": 27,
   "metadata": {},
   "outputs": [
    {
     "data": {
      "text/plain": [
       "Index(['id', 'name', 'host_id', 'host_name', 'neighbourhood', 'latitude',\n",
       "       'longitude', 'room_type', 'minimum_nights', 'number_of_reviews',\n",
       "       'last_review', 'reviews_per_month', 'calculated_host_listings_count',\n",
       "       'availability_365', 'price'],\n",
       "      dtype='object')"
      ]
     },
     "execution_count": 27,
     "metadata": {},
     "output_type": "execute_result"
    }
   ],
   "source": [
    "data.columns"
   ]
  },
  {
   "cell_type": "markdown",
   "metadata": {},
   "source": [
    "Last review column add with mode data"
   ]
  },
  {
   "cell_type": "code",
   "execution_count": 28,
   "metadata": {},
   "outputs": [
    {
     "data": {
      "text/plain": [
       "0    08-03-2020\n",
       "dtype: object"
      ]
     },
     "execution_count": 28,
     "metadata": {},
     "output_type": "execute_result"
    }
   ],
   "source": [
    "data['last_review'].mode()"
   ]
  },
  {
   "cell_type": "code",
   "execution_count": 29,
   "metadata": {},
   "outputs": [
    {
     "data": {
      "text/plain": [
       "'08-03-2020'"
      ]
     },
     "execution_count": 29,
     "metadata": {},
     "output_type": "execute_result"
    }
   ],
   "source": [
    "data['last_review'].mode()[0]"
   ]
  },
  {
   "cell_type": "code",
   "execution_count": 30,
   "metadata": {},
   "outputs": [],
   "source": [
    "data['last_review'] = data['last_review'].fillna(data['last_review'].mode()[0])"
   ]
  },
  {
   "cell_type": "code",
   "execution_count": 31,
   "metadata": {},
   "outputs": [
    {
     "data": {
      "text/plain": [
       "0"
      ]
     },
     "execution_count": 31,
     "metadata": {},
     "output_type": "execute_result"
    }
   ],
   "source": [
    "data['last_review'].isnull().sum()"
   ]
  },
  {
   "cell_type": "markdown",
   "metadata": {},
   "source": [
    "Review per month column add with median data"
   ]
  },
  {
   "cell_type": "code",
   "execution_count": 32,
   "metadata": {},
   "outputs": [
    {
     "data": {
      "text/plain": [
       "0.38"
      ]
     },
     "execution_count": 32,
     "metadata": {},
     "output_type": "execute_result"
    }
   ],
   "source": [
    "data['reviews_per_month'].median()"
   ]
  },
  {
   "cell_type": "code",
   "execution_count": 33,
   "metadata": {},
   "outputs": [],
   "source": [
    "data['reviews_per_month'] = data['reviews_per_month'].fillna(data['reviews_per_month'].median())"
   ]
  },
  {
   "cell_type": "code",
   "execution_count": 34,
   "metadata": {},
   "outputs": [
    {
     "data": {
      "text/plain": [
       "0"
      ]
     },
     "execution_count": 34,
     "metadata": {},
     "output_type": "execute_result"
    }
   ],
   "source": [
    "data['reviews_per_month'].isnull().sum()"
   ]
  },
  {
   "cell_type": "markdown",
   "metadata": {},
   "source": [
    "Name column add with mode data"
   ]
  },
  {
   "cell_type": "code",
   "execution_count": 35,
   "metadata": {},
   "outputs": [
    {
     "data": {
      "text/plain": [
       "0    Amsterdam\n",
       "dtype: object"
      ]
     },
     "execution_count": 35,
     "metadata": {},
     "output_type": "execute_result"
    }
   ],
   "source": [
    "data['name'].mode()"
   ]
  },
  {
   "cell_type": "code",
   "execution_count": 36,
   "metadata": {},
   "outputs": [],
   "source": [
    "data['name'] = data['name'].fillna(data['name'].mode()[0])"
   ]
  },
  {
   "cell_type": "markdown",
   "metadata": {},
   "source": [
    "host_name column add with mode data"
   ]
  },
  {
   "cell_type": "code",
   "execution_count": 37,
   "metadata": {},
   "outputs": [
    {
     "data": {
      "text/plain": [
       "0    Martijn\n",
       "dtype: object"
      ]
     },
     "execution_count": 37,
     "metadata": {},
     "output_type": "execute_result"
    }
   ],
   "source": [
    "data['host_name'].mode()"
   ]
  },
  {
   "cell_type": "code",
   "execution_count": 38,
   "metadata": {},
   "outputs": [],
   "source": [
    "data['host_name'] = data['host_name'].fillna(data['host_name'].mode()[0])"
   ]
  },
  {
   "cell_type": "code",
   "execution_count": 39,
   "metadata": {},
   "outputs": [
    {
     "data": {
      "text/plain": [
       "price                             0.0\n",
       "availability_365                  0.0\n",
       "calculated_host_listings_count    0.0\n",
       "reviews_per_month                 0.0\n",
       "last_review                       0.0\n",
       "number_of_reviews                 0.0\n",
       "minimum_nights                    0.0\n",
       "room_type                         0.0\n",
       "longitude                         0.0\n",
       "latitude                          0.0\n",
       "neighbourhood                     0.0\n",
       "host_name                         0.0\n",
       "host_id                           0.0\n",
       "name                              0.0\n",
       "id                                0.0\n",
       "dtype: float64"
      ]
     },
     "execution_count": 39,
     "metadata": {},
     "output_type": "execute_result"
    }
   ],
   "source": [
    "((data.isnull().sum()/len(data))*100).sort_values(ascending=False)"
   ]
  },
  {
   "cell_type": "markdown",
   "metadata": {},
   "source": [
    "# Exploratory Data Analysis"
   ]
  },
  {
   "cell_type": "code",
   "execution_count": 40,
   "metadata": {},
   "outputs": [
    {
     "data": {
      "text/html": [
       "<div>\n",
       "<style scoped>\n",
       "    .dataframe tbody tr th:only-of-type {\n",
       "        vertical-align: middle;\n",
       "    }\n",
       "\n",
       "    .dataframe tbody tr th {\n",
       "        vertical-align: top;\n",
       "    }\n",
       "\n",
       "    .dataframe thead th {\n",
       "        text-align: right;\n",
       "    }\n",
       "</style>\n",
       "<table border=\"1\" class=\"dataframe\">\n",
       "  <thead>\n",
       "    <tr style=\"text-align: right;\">\n",
       "      <th></th>\n",
       "      <th>id</th>\n",
       "      <th>host_id</th>\n",
       "      <th>latitude</th>\n",
       "      <th>longitude</th>\n",
       "      <th>minimum_nights</th>\n",
       "      <th>number_of_reviews</th>\n",
       "      <th>reviews_per_month</th>\n",
       "      <th>calculated_host_listings_count</th>\n",
       "      <th>availability_365</th>\n",
       "      <th>price</th>\n",
       "    </tr>\n",
       "  </thead>\n",
       "  <tbody>\n",
       "    <tr>\n",
       "      <td>count</td>\n",
       "      <td>1.290100e+04</td>\n",
       "      <td>1.290100e+04</td>\n",
       "      <td>12901.000000</td>\n",
       "      <td>12901.000000</td>\n",
       "      <td>12901.000000</td>\n",
       "      <td>12901.000000</td>\n",
       "      <td>12901.000000</td>\n",
       "      <td>12901.000000</td>\n",
       "      <td>12901.000000</td>\n",
       "      <td>12901.000000</td>\n",
       "    </tr>\n",
       "    <tr>\n",
       "      <td>mean</td>\n",
       "      <td>1.984923e+07</td>\n",
       "      <td>6.321700e+07</td>\n",
       "      <td>52.365313</td>\n",
       "      <td>4.889744</td>\n",
       "      <td>3.542516</td>\n",
       "      <td>24.803194</td>\n",
       "      <td>0.702913</td>\n",
       "      <td>2.136501</td>\n",
       "      <td>61.392295</td>\n",
       "      <td>166.959538</td>\n",
       "    </tr>\n",
       "    <tr>\n",
       "      <td>std</td>\n",
       "      <td>1.216241e+07</td>\n",
       "      <td>8.010814e+07</td>\n",
       "      <td>0.016418</td>\n",
       "      <td>0.036016</td>\n",
       "      <td>15.154077</td>\n",
       "      <td>53.406134</td>\n",
       "      <td>1.186444</td>\n",
       "      <td>6.001838</td>\n",
       "      <td>107.988329</td>\n",
       "      <td>234.794630</td>\n",
       "    </tr>\n",
       "    <tr>\n",
       "      <td>min</td>\n",
       "      <td>2.016800e+04</td>\n",
       "      <td>3.592000e+03</td>\n",
       "      <td>52.289270</td>\n",
       "      <td>4.755720</td>\n",
       "      <td>1.000000</td>\n",
       "      <td>0.000000</td>\n",
       "      <td>0.010000</td>\n",
       "      <td>1.000000</td>\n",
       "      <td>0.000000</td>\n",
       "      <td>6.000000</td>\n",
       "    </tr>\n",
       "    <tr>\n",
       "      <td>25%</td>\n",
       "      <td>9.869642e+06</td>\n",
       "      <td>8.948269e+06</td>\n",
       "      <td>52.355190</td>\n",
       "      <td>4.863950</td>\n",
       "      <td>2.000000</td>\n",
       "      <td>2.000000</td>\n",
       "      <td>0.200000</td>\n",
       "      <td>1.000000</td>\n",
       "      <td>0.000000</td>\n",
       "      <td>99.000000</td>\n",
       "    </tr>\n",
       "    <tr>\n",
       "      <td>50%</td>\n",
       "      <td>1.874939e+07</td>\n",
       "      <td>2.711601e+07</td>\n",
       "      <td>52.364570</td>\n",
       "      <td>4.887130</td>\n",
       "      <td>2.000000</td>\n",
       "      <td>9.000000</td>\n",
       "      <td>0.380000</td>\n",
       "      <td>1.000000</td>\n",
       "      <td>0.000000</td>\n",
       "      <td>135.000000</td>\n",
       "    </tr>\n",
       "    <tr>\n",
       "      <td>75%</td>\n",
       "      <td>2.914232e+07</td>\n",
       "      <td>8.337686e+07</td>\n",
       "      <td>52.375110</td>\n",
       "      <td>4.909310</td>\n",
       "      <td>3.000000</td>\n",
       "      <td>24.000000</td>\n",
       "      <td>0.690000</td>\n",
       "      <td>1.000000</td>\n",
       "      <td>87.000000</td>\n",
       "      <td>190.000000</td>\n",
       "    </tr>\n",
       "    <tr>\n",
       "      <td>max</td>\n",
       "      <td>4.370900e+07</td>\n",
       "      <td>3.490175e+08</td>\n",
       "      <td>52.425090</td>\n",
       "      <td>5.018400</td>\n",
       "      <td>1001.000000</td>\n",
       "      <td>843.000000</td>\n",
       "      <td>50.000000</td>\n",
       "      <td>78.000000</td>\n",
       "      <td>365.000000</td>\n",
       "      <td>9000.000000</td>\n",
       "    </tr>\n",
       "  </tbody>\n",
       "</table>\n",
       "</div>"
      ],
      "text/plain": [
       "                 id       host_id      latitude     longitude  minimum_nights  \\\n",
       "count  1.290100e+04  1.290100e+04  12901.000000  12901.000000    12901.000000   \n",
       "mean   1.984923e+07  6.321700e+07     52.365313      4.889744        3.542516   \n",
       "std    1.216241e+07  8.010814e+07      0.016418      0.036016       15.154077   \n",
       "min    2.016800e+04  3.592000e+03     52.289270      4.755720        1.000000   \n",
       "25%    9.869642e+06  8.948269e+06     52.355190      4.863950        2.000000   \n",
       "50%    1.874939e+07  2.711601e+07     52.364570      4.887130        2.000000   \n",
       "75%    2.914232e+07  8.337686e+07     52.375110      4.909310        3.000000   \n",
       "max    4.370900e+07  3.490175e+08     52.425090      5.018400     1001.000000   \n",
       "\n",
       "       number_of_reviews  reviews_per_month  calculated_host_listings_count  \\\n",
       "count       12901.000000       12901.000000                    12901.000000   \n",
       "mean           24.803194           0.702913                        2.136501   \n",
       "std            53.406134           1.186444                        6.001838   \n",
       "min             0.000000           0.010000                        1.000000   \n",
       "25%             2.000000           0.200000                        1.000000   \n",
       "50%             9.000000           0.380000                        1.000000   \n",
       "75%            24.000000           0.690000                        1.000000   \n",
       "max           843.000000          50.000000                       78.000000   \n",
       "\n",
       "       availability_365         price  \n",
       "count      12901.000000  12901.000000  \n",
       "mean          61.392295    166.959538  \n",
       "std          107.988329    234.794630  \n",
       "min            0.000000      6.000000  \n",
       "25%            0.000000     99.000000  \n",
       "50%            0.000000    135.000000  \n",
       "75%           87.000000    190.000000  \n",
       "max          365.000000   9000.000000  "
      ]
     },
     "execution_count": 40,
     "metadata": {},
     "output_type": "execute_result"
    }
   ],
   "source": [
    "data.describe()"
   ]
  },
  {
   "cell_type": "code",
   "execution_count": 41,
   "metadata": {},
   "outputs": [
    {
     "data": {
      "text/html": [
       "<div>\n",
       "<style scoped>\n",
       "    .dataframe tbody tr th:only-of-type {\n",
       "        vertical-align: middle;\n",
       "    }\n",
       "\n",
       "    .dataframe tbody tr th {\n",
       "        vertical-align: top;\n",
       "    }\n",
       "\n",
       "    .dataframe thead th {\n",
       "        text-align: right;\n",
       "    }\n",
       "</style>\n",
       "<table border=\"1\" class=\"dataframe\">\n",
       "  <thead>\n",
       "    <tr style=\"text-align: right;\">\n",
       "      <th></th>\n",
       "      <th>id</th>\n",
       "      <th>host_id</th>\n",
       "      <th>latitude</th>\n",
       "      <th>longitude</th>\n",
       "      <th>minimum_nights</th>\n",
       "      <th>number_of_reviews</th>\n",
       "      <th>reviews_per_month</th>\n",
       "      <th>calculated_host_listings_count</th>\n",
       "      <th>availability_365</th>\n",
       "      <th>price</th>\n",
       "    </tr>\n",
       "  </thead>\n",
       "  <tbody>\n",
       "    <tr>\n",
       "      <td>id</td>\n",
       "      <td>1.000000</td>\n",
       "      <td>0.515113</td>\n",
       "      <td>0.006057</td>\n",
       "      <td>0.013995</td>\n",
       "      <td>-0.029802</td>\n",
       "      <td>-0.288677</td>\n",
       "      <td>0.004594</td>\n",
       "      <td>0.120712</td>\n",
       "      <td>0.046201</td>\n",
       "      <td>0.076998</td>\n",
       "    </tr>\n",
       "    <tr>\n",
       "      <td>host_id</td>\n",
       "      <td>0.515113</td>\n",
       "      <td>1.000000</td>\n",
       "      <td>0.001604</td>\n",
       "      <td>0.026642</td>\n",
       "      <td>-0.023976</td>\n",
       "      <td>-0.114027</td>\n",
       "      <td>0.075489</td>\n",
       "      <td>0.034070</td>\n",
       "      <td>0.121035</td>\n",
       "      <td>0.084512</td>\n",
       "    </tr>\n",
       "    <tr>\n",
       "      <td>latitude</td>\n",
       "      <td>0.006057</td>\n",
       "      <td>0.001604</td>\n",
       "      <td>1.000000</td>\n",
       "      <td>-0.154782</td>\n",
       "      <td>-0.005808</td>\n",
       "      <td>0.028620</td>\n",
       "      <td>0.026658</td>\n",
       "      <td>0.006339</td>\n",
       "      <td>0.034516</td>\n",
       "      <td>0.017697</td>\n",
       "    </tr>\n",
       "    <tr>\n",
       "      <td>longitude</td>\n",
       "      <td>0.013995</td>\n",
       "      <td>0.026642</td>\n",
       "      <td>-0.154782</td>\n",
       "      <td>1.000000</td>\n",
       "      <td>-0.001425</td>\n",
       "      <td>0.004946</td>\n",
       "      <td>0.018501</td>\n",
       "      <td>0.018887</td>\n",
       "      <td>0.036329</td>\n",
       "      <td>0.016718</td>\n",
       "    </tr>\n",
       "    <tr>\n",
       "      <td>minimum_nights</td>\n",
       "      <td>-0.029802</td>\n",
       "      <td>-0.023976</td>\n",
       "      <td>-0.005808</td>\n",
       "      <td>-0.001425</td>\n",
       "      <td>1.000000</td>\n",
       "      <td>-0.022010</td>\n",
       "      <td>-0.030366</td>\n",
       "      <td>-0.006950</td>\n",
       "      <td>0.056951</td>\n",
       "      <td>0.026569</td>\n",
       "    </tr>\n",
       "    <tr>\n",
       "      <td>number_of_reviews</td>\n",
       "      <td>-0.288677</td>\n",
       "      <td>-0.114027</td>\n",
       "      <td>0.028620</td>\n",
       "      <td>0.004946</td>\n",
       "      <td>-0.022010</td>\n",
       "      <td>1.000000</td>\n",
       "      <td>0.770300</td>\n",
       "      <td>-0.020619</td>\n",
       "      <td>0.274252</td>\n",
       "      <td>-0.035141</td>\n",
       "    </tr>\n",
       "    <tr>\n",
       "      <td>reviews_per_month</td>\n",
       "      <td>0.004594</td>\n",
       "      <td>0.075489</td>\n",
       "      <td>0.026658</td>\n",
       "      <td>0.018501</td>\n",
       "      <td>-0.030366</td>\n",
       "      <td>0.770300</td>\n",
       "      <td>1.000000</td>\n",
       "      <td>0.005162</td>\n",
       "      <td>0.278645</td>\n",
       "      <td>-0.011691</td>\n",
       "    </tr>\n",
       "    <tr>\n",
       "      <td>calculated_host_listings_count</td>\n",
       "      <td>0.120712</td>\n",
       "      <td>0.034070</td>\n",
       "      <td>0.006339</td>\n",
       "      <td>0.018887</td>\n",
       "      <td>-0.006950</td>\n",
       "      <td>-0.020619</td>\n",
       "      <td>0.005162</td>\n",
       "      <td>1.000000</td>\n",
       "      <td>0.095783</td>\n",
       "      <td>0.057314</td>\n",
       "    </tr>\n",
       "    <tr>\n",
       "      <td>availability_365</td>\n",
       "      <td>0.046201</td>\n",
       "      <td>0.121035</td>\n",
       "      <td>0.034516</td>\n",
       "      <td>0.036329</td>\n",
       "      <td>0.056951</td>\n",
       "      <td>0.274252</td>\n",
       "      <td>0.278645</td>\n",
       "      <td>0.095783</td>\n",
       "      <td>1.000000</td>\n",
       "      <td>0.153993</td>\n",
       "    </tr>\n",
       "    <tr>\n",
       "      <td>price</td>\n",
       "      <td>0.076998</td>\n",
       "      <td>0.084512</td>\n",
       "      <td>0.017697</td>\n",
       "      <td>0.016718</td>\n",
       "      <td>0.026569</td>\n",
       "      <td>-0.035141</td>\n",
       "      <td>-0.011691</td>\n",
       "      <td>0.057314</td>\n",
       "      <td>0.153993</td>\n",
       "      <td>1.000000</td>\n",
       "    </tr>\n",
       "  </tbody>\n",
       "</table>\n",
       "</div>"
      ],
      "text/plain": [
       "                                      id   host_id  latitude  longitude  \\\n",
       "id                              1.000000  0.515113  0.006057   0.013995   \n",
       "host_id                         0.515113  1.000000  0.001604   0.026642   \n",
       "latitude                        0.006057  0.001604  1.000000  -0.154782   \n",
       "longitude                       0.013995  0.026642 -0.154782   1.000000   \n",
       "minimum_nights                 -0.029802 -0.023976 -0.005808  -0.001425   \n",
       "number_of_reviews              -0.288677 -0.114027  0.028620   0.004946   \n",
       "reviews_per_month               0.004594  0.075489  0.026658   0.018501   \n",
       "calculated_host_listings_count  0.120712  0.034070  0.006339   0.018887   \n",
       "availability_365                0.046201  0.121035  0.034516   0.036329   \n",
       "price                           0.076998  0.084512  0.017697   0.016718   \n",
       "\n",
       "                                minimum_nights  number_of_reviews  \\\n",
       "id                                   -0.029802          -0.288677   \n",
       "host_id                              -0.023976          -0.114027   \n",
       "latitude                             -0.005808           0.028620   \n",
       "longitude                            -0.001425           0.004946   \n",
       "minimum_nights                        1.000000          -0.022010   \n",
       "number_of_reviews                    -0.022010           1.000000   \n",
       "reviews_per_month                    -0.030366           0.770300   \n",
       "calculated_host_listings_count       -0.006950          -0.020619   \n",
       "availability_365                      0.056951           0.274252   \n",
       "price                                 0.026569          -0.035141   \n",
       "\n",
       "                                reviews_per_month  \\\n",
       "id                                       0.004594   \n",
       "host_id                                  0.075489   \n",
       "latitude                                 0.026658   \n",
       "longitude                                0.018501   \n",
       "minimum_nights                          -0.030366   \n",
       "number_of_reviews                        0.770300   \n",
       "reviews_per_month                        1.000000   \n",
       "calculated_host_listings_count           0.005162   \n",
       "availability_365                         0.278645   \n",
       "price                                   -0.011691   \n",
       "\n",
       "                                calculated_host_listings_count  \\\n",
       "id                                                    0.120712   \n",
       "host_id                                               0.034070   \n",
       "latitude                                              0.006339   \n",
       "longitude                                             0.018887   \n",
       "minimum_nights                                       -0.006950   \n",
       "number_of_reviews                                    -0.020619   \n",
       "reviews_per_month                                     0.005162   \n",
       "calculated_host_listings_count                        1.000000   \n",
       "availability_365                                      0.095783   \n",
       "price                                                 0.057314   \n",
       "\n",
       "                                availability_365     price  \n",
       "id                                      0.046201  0.076998  \n",
       "host_id                                 0.121035  0.084512  \n",
       "latitude                                0.034516  0.017697  \n",
       "longitude                               0.036329  0.016718  \n",
       "minimum_nights                          0.056951  0.026569  \n",
       "number_of_reviews                       0.274252 -0.035141  \n",
       "reviews_per_month                       0.278645 -0.011691  \n",
       "calculated_host_listings_count          0.095783  0.057314  \n",
       "availability_365                        1.000000  0.153993  \n",
       "price                                   0.153993  1.000000  "
      ]
     },
     "execution_count": 41,
     "metadata": {},
     "output_type": "execute_result"
    }
   ],
   "source": [
    "data.corr()"
   ]
  },
  {
   "cell_type": "code",
   "execution_count": 42,
   "metadata": {},
   "outputs": [
    {
     "data": {
      "image/png": "[encoded data removed]",
      "text/plain": [
       "<Figure size 1152x864 with 12 Axes>"
      ]
     },
     "metadata": {
      "needs_background": "light"
     },
     "output_type": "display_data"
    }
   ],
   "source": [
    "data.hist(bins=10, figsize=(16,12))\n",
    "plt.show()"
   ]
  },
  {
   "cell_type": "markdown",
   "metadata": {},
   "source": [
    "Categorical Column"
   ]
  },
  {
   "cell_type": "code",
   "execution_count": 43,
   "metadata": {},
   "outputs": [
    {
     "data": {
      "text/plain": [
       "<matplotlib.axes._subplots.AxesSubplot at 0x1a1cf0d150>"
      ]
     },
     "execution_count": 43,
     "metadata": {},
     "output_type": "execute_result"
    },
    {
     "data": {
      "image/png": "[encoded data removed]",
      "text/plain": [
       "<Figure size 720x432 with 1 Axes>"
      ]
     },
     "metadata": {
      "needs_background": "light"
     },
     "output_type": "display_data"
    }
   ],
   "source": [
    "import seaborn as sns\n",
    "plt.figure(figsize=(10, 6))\n",
    "sns.countplot(x= 'room_type',data=data,palette='Accent')"
   ]
  },
  {
   "cell_type": "code",
   "execution_count": 44,
   "metadata": {},
   "outputs": [
    {
     "data": {
      "text/plain": [
       "id                                12901\n",
       "name                              12653\n",
       "host_id                           11601\n",
       "host_name                          4536\n",
       "neighbourhood                        22\n",
       "latitude                           5227\n",
       "longitude                          7887\n",
       "room_type                             4\n",
       "minimum_nights                       56\n",
       "number_of_reviews                   362\n",
       "last_review                        1495\n",
       "reviews_per_month                   610\n",
       "calculated_host_listings_count       26\n",
       "availability_365                    366\n",
       "price                               400\n",
       "dtype: int64"
      ]
     },
     "execution_count": 44,
     "metadata": {},
     "output_type": "execute_result"
    }
   ],
   "source": [
    "data.nunique()"
   ]
  },
  {
   "cell_type": "markdown",
   "metadata": {},
   "source": [
    "# One Hot Encoding"
   ]
  },
  {
   "cell_type": "markdown",
   "metadata": {},
   "source": [
    "Converting Categorical Features"
   ]
  },
  {
   "cell_type": "code",
   "execution_count": 45,
   "metadata": {},
   "outputs": [
    {
     "data": {
      "text/plain": [
       "id                                  int64\n",
       "name                               object\n",
       "host_id                             int64\n",
       "host_name                          object\n",
       "neighbourhood                      object\n",
       "latitude                          float64\n",
       "longitude                         float64\n",
       "room_type                          object\n",
       "minimum_nights                      int64\n",
       "number_of_reviews                   int64\n",
       "last_review                        object\n",
       "reviews_per_month                 float64\n",
       "calculated_host_listings_count      int64\n",
       "availability_365                    int64\n",
       "price                               int64\n",
       "dtype: object"
      ]
     },
     "execution_count": 45,
     "metadata": {},
     "output_type": "execute_result"
    }
   ],
   "source": [
    "data.dtypes"
   ]
  },
  {
   "cell_type": "code",
   "execution_count": 46,
   "metadata": {},
   "outputs": [],
   "source": [
    "data = pd.concat([data,pd.get_dummies(data['room_type'],prefix='d')],axis=1)"
   ]
  },
  {
   "cell_type": "code",
   "execution_count": 47,
   "metadata": {},
   "outputs": [
    {
     "data": {
      "text/html": [
       "<div>\n",
       "<style scoped>\n",
       "    .dataframe tbody tr th:only-of-type {\n",
       "        vertical-align: middle;\n",
       "    }\n",
       "\n",
       "    .dataframe tbody tr th {\n",
       "        vertical-align: top;\n",
       "    }\n",
       "\n",
       "    .dataframe thead th {\n",
       "        text-align: right;\n",
       "    }\n",
       "</style>\n",
       "<table border=\"1\" class=\"dataframe\">\n",
       "  <thead>\n",
       "    <tr style=\"text-align: right;\">\n",
       "      <th></th>\n",
       "      <th>id</th>\n",
       "      <th>name</th>\n",
       "      <th>host_id</th>\n",
       "      <th>host_name</th>\n",
       "      <th>neighbourhood</th>\n",
       "      <th>latitude</th>\n",
       "      <th>longitude</th>\n",
       "      <th>room_type</th>\n",
       "      <th>minimum_nights</th>\n",
       "      <th>number_of_reviews</th>\n",
       "      <th>last_review</th>\n",
       "      <th>reviews_per_month</th>\n",
       "      <th>calculated_host_listings_count</th>\n",
       "      <th>availability_365</th>\n",
       "      <th>price</th>\n",
       "      <th>d_Entire home/apt</th>\n",
       "      <th>d_Hotel room</th>\n",
       "      <th>d_Private room</th>\n",
       "      <th>d_Shared room</th>\n",
       "    </tr>\n",
       "  </thead>\n",
       "  <tbody>\n",
       "    <tr>\n",
       "      <td>0</td>\n",
       "      <td>11602914</td>\n",
       "      <td>Luxury home 100m2+garden in center!</td>\n",
       "      <td>3123809</td>\n",
       "      <td>Marjolein</td>\n",
       "      <td>De Pijp - Rivierenbuurt</td>\n",
       "      <td>52.35368</td>\n",
       "      <td>4.90177</td>\n",
       "      <td>Entire home/apt</td>\n",
       "      <td>3</td>\n",
       "      <td>13</td>\n",
       "      <td>15-02-2020</td>\n",
       "      <td>0.27</td>\n",
       "      <td>1</td>\n",
       "      <td>0</td>\n",
       "      <td>220</td>\n",
       "      <td>1</td>\n",
       "      <td>0</td>\n",
       "      <td>0</td>\n",
       "      <td>0</td>\n",
       "    </tr>\n",
       "    <tr>\n",
       "      <td>1</td>\n",
       "      <td>13289321</td>\n",
       "      <td>East is where your home is!</td>\n",
       "      <td>10259430</td>\n",
       "      <td>Ana</td>\n",
       "      <td>Oud-Oost</td>\n",
       "      <td>52.35728</td>\n",
       "      <td>4.92052</td>\n",
       "      <td>Entire home/apt</td>\n",
       "      <td>4</td>\n",
       "      <td>14</td>\n",
       "      <td>19-06-2019</td>\n",
       "      <td>0.29</td>\n",
       "      <td>1</td>\n",
       "      <td>0</td>\n",
       "      <td>110</td>\n",
       "      <td>1</td>\n",
       "      <td>0</td>\n",
       "      <td>0</td>\n",
       "      <td>0</td>\n",
       "    </tr>\n",
       "    <tr>\n",
       "      <td>2</td>\n",
       "      <td>40779315</td>\n",
       "      <td>Amsterdam Central - LUXURY house in BUSY STREET</td>\n",
       "      <td>224969266</td>\n",
       "      <td>Mark</td>\n",
       "      <td>Centrum-West</td>\n",
       "      <td>52.37582</td>\n",
       "      <td>4.89850</td>\n",
       "      <td>Entire home/apt</td>\n",
       "      <td>2</td>\n",
       "      <td>9</td>\n",
       "      <td>16-03-2020</td>\n",
       "      <td>1.65</td>\n",
       "      <td>1</td>\n",
       "      <td>7</td>\n",
       "      <td>100</td>\n",
       "      <td>1</td>\n",
       "      <td>0</td>\n",
       "      <td>0</td>\n",
       "      <td>0</td>\n",
       "    </tr>\n",
       "    <tr>\n",
       "      <td>3</td>\n",
       "      <td>7820311</td>\n",
       "      <td>great appartment down town</td>\n",
       "      <td>693472</td>\n",
       "      <td>Ayden</td>\n",
       "      <td>Westerpark</td>\n",
       "      <td>52.37792</td>\n",
       "      <td>4.87300</td>\n",
       "      <td>Entire home/apt</td>\n",
       "      <td>3</td>\n",
       "      <td>42</td>\n",
       "      <td>17-02-2020</td>\n",
       "      <td>0.72</td>\n",
       "      <td>1</td>\n",
       "      <td>0</td>\n",
       "      <td>130</td>\n",
       "      <td>1</td>\n",
       "      <td>0</td>\n",
       "      <td>0</td>\n",
       "      <td>0</td>\n",
       "    </tr>\n",
       "    <tr>\n",
       "      <td>4</td>\n",
       "      <td>27346603</td>\n",
       "      <td>Private room with canal view in peaceful area</td>\n",
       "      <td>41888346</td>\n",
       "      <td>Alissa</td>\n",
       "      <td>Westerpark</td>\n",
       "      <td>52.38051</td>\n",
       "      <td>4.87493</td>\n",
       "      <td>Private room</td>\n",
       "      <td>2</td>\n",
       "      <td>89</td>\n",
       "      <td>26-02-2020</td>\n",
       "      <td>4.02</td>\n",
       "      <td>1</td>\n",
       "      <td>24</td>\n",
       "      <td>90</td>\n",
       "      <td>0</td>\n",
       "      <td>0</td>\n",
       "      <td>1</td>\n",
       "      <td>0</td>\n",
       "    </tr>\n",
       "  </tbody>\n",
       "</table>\n",
       "</div>"
      ],
      "text/plain": [
       "         id                                             name    host_id  \\\n",
       "0  11602914              Luxury home 100m2+garden in center!    3123809   \n",
       "1  13289321                      East is where your home is!   10259430   \n",
       "2  40779315  Amsterdam Central - LUXURY house in BUSY STREET  224969266   \n",
       "3   7820311                       great appartment down town     693472   \n",
       "4  27346603    Private room with canal view in peaceful area   41888346   \n",
       "\n",
       "   host_name            neighbourhood  latitude  longitude        room_type  \\\n",
       "0  Marjolein  De Pijp - Rivierenbuurt  52.35368    4.90177  Entire home/apt   \n",
       "1        Ana                 Oud-Oost  52.35728    4.92052  Entire home/apt   \n",
       "2       Mark             Centrum-West  52.37582    4.89850  Entire home/apt   \n",
       "3      Ayden               Westerpark  52.37792    4.87300  Entire home/apt   \n",
       "4     Alissa               Westerpark  52.38051    4.87493     Private room   \n",
       "\n",
       "   minimum_nights  number_of_reviews last_review  reviews_per_month  \\\n",
       "0               3                 13  15-02-2020               0.27   \n",
       "1               4                 14  19-06-2019               0.29   \n",
       "2               2                  9  16-03-2020               1.65   \n",
       "3               3                 42  17-02-2020               0.72   \n",
       "4               2                 89  26-02-2020               4.02   \n",
       "\n",
       "   calculated_host_listings_count  availability_365  price  d_Entire home/apt  \\\n",
       "0                               1                 0    220                  1   \n",
       "1                               1                 0    110                  1   \n",
       "2                               1                 7    100                  1   \n",
       "3                               1                 0    130                  1   \n",
       "4                               1                24     90                  0   \n",
       "\n",
       "   d_Hotel room  d_Private room  d_Shared room  \n",
       "0             0               0              0  \n",
       "1             0               0              0  \n",
       "2             0               0              0  \n",
       "3             0               0              0  \n",
       "4             0               1              0  "
      ]
     },
     "execution_count": 47,
     "metadata": {},
     "output_type": "execute_result"
    }
   ],
   "source": [
    "data.head()"
   ]
  },
  {
   "cell_type": "markdown",
   "metadata": {},
   "source": [
    "Handling Treated_with_drugs column"
   ]
  },
  {
   "cell_type": "code",
   "execution_count": 48,
   "metadata": {},
   "outputs": [],
   "source": [
    "#convert to category dtype\n",
    "data['host_name'] = data['host_name'].astype('category')"
   ]
  },
  {
   "cell_type": "code",
   "execution_count": 49,
   "metadata": {},
   "outputs": [],
   "source": [
    "data['neighbourhood'] = data['neighbourhood'].astype('category')"
   ]
  },
  {
   "cell_type": "code",
   "execution_count": 50,
   "metadata": {},
   "outputs": [],
   "source": [
    "data['last_review'] = data['last_review'].astype('category')"
   ]
  },
  {
   "cell_type": "code",
   "execution_count": 51,
   "metadata": {},
   "outputs": [],
   "source": [
    "data['name'] = data['name'].astype('category')"
   ]
  },
  {
   "cell_type": "code",
   "execution_count": 52,
   "metadata": {},
   "outputs": [
    {
     "data": {
      "text/plain": [
       "id                                   int64\n",
       "name                              category\n",
       "host_id                              int64\n",
       "host_name                         category\n",
       "neighbourhood                     category\n",
       "latitude                           float64\n",
       "longitude                          float64\n",
       "room_type                           object\n",
       "minimum_nights                       int64\n",
       "number_of_reviews                    int64\n",
       "last_review                       category\n",
       "reviews_per_month                  float64\n",
       "calculated_host_listings_count       int64\n",
       "availability_365                     int64\n",
       "price                                int64\n",
       "d_Entire home/apt                    uint8\n",
       "d_Hotel room                         uint8\n",
       "d_Private room                       uint8\n",
       "d_Shared room                        uint8\n",
       "dtype: object"
      ]
     },
     "execution_count": 52,
     "metadata": {},
     "output_type": "execute_result"
    }
   ],
   "source": [
    "data.dtypes"
   ]
  },
  {
   "cell_type": "code",
   "execution_count": 53,
   "metadata": {},
   "outputs": [],
   "source": [
    "#use .cat.codes to create new colums with encoded value\n",
    "data['host_name_cat'] = data['host_name'].cat.codes"
   ]
  },
  {
   "cell_type": "code",
   "execution_count": 54,
   "metadata": {},
   "outputs": [],
   "source": [
    "data['neighbourhood_cat'] = data['neighbourhood'].cat.codes"
   ]
  },
  {
   "cell_type": "code",
   "execution_count": 55,
   "metadata": {},
   "outputs": [],
   "source": [
    "data['last_review_cat'] = data['last_review'].cat.codes"
   ]
  },
  {
   "cell_type": "code",
   "execution_count": 56,
   "metadata": {},
   "outputs": [],
   "source": [
    "data['name_cat'] = data['name'].cat.codes"
   ]
  },
  {
   "cell_type": "code",
   "execution_count": 57,
   "metadata": {},
   "outputs": [
    {
     "data": {
      "text/html": [
       "<div>\n",
       "<style scoped>\n",
       "    .dataframe tbody tr th:only-of-type {\n",
       "        vertical-align: middle;\n",
       "    }\n",
       "\n",
       "    .dataframe tbody tr th {\n",
       "        vertical-align: top;\n",
       "    }\n",
       "\n",
       "    .dataframe thead th {\n",
       "        text-align: right;\n",
       "    }\n",
       "</style>\n",
       "<table border=\"1\" class=\"dataframe\">\n",
       "  <thead>\n",
       "    <tr style=\"text-align: right;\">\n",
       "      <th></th>\n",
       "      <th>id</th>\n",
       "      <th>name</th>\n",
       "      <th>host_id</th>\n",
       "      <th>host_name</th>\n",
       "      <th>neighbourhood</th>\n",
       "      <th>latitude</th>\n",
       "      <th>longitude</th>\n",
       "      <th>room_type</th>\n",
       "      <th>minimum_nights</th>\n",
       "      <th>number_of_reviews</th>\n",
       "      <th>...</th>\n",
       "      <th>availability_365</th>\n",
       "      <th>price</th>\n",
       "      <th>d_Entire home/apt</th>\n",
       "      <th>d_Hotel room</th>\n",
       "      <th>d_Private room</th>\n",
       "      <th>d_Shared room</th>\n",
       "      <th>host_name_cat</th>\n",
       "      <th>neighbourhood_cat</th>\n",
       "      <th>last_review_cat</th>\n",
       "      <th>name_cat</th>\n",
       "    </tr>\n",
       "  </thead>\n",
       "  <tbody>\n",
       "    <tr>\n",
       "      <td>0</td>\n",
       "      <td>11602914</td>\n",
       "      <td>Luxury home 100m2+garden in center!</td>\n",
       "      <td>3123809</td>\n",
       "      <td>Marjolein</td>\n",
       "      <td>De Pijp - Rivierenbuurt</td>\n",
       "      <td>52.35368</td>\n",
       "      <td>4.90177</td>\n",
       "      <td>Entire home/apt</td>\n",
       "      <td>3</td>\n",
       "      <td>13</td>\n",
       "      <td>...</td>\n",
       "      <td>0</td>\n",
       "      <td>220</td>\n",
       "      <td>1</td>\n",
       "      <td>0</td>\n",
       "      <td>0</td>\n",
       "      <td>0</td>\n",
       "      <td>2856</td>\n",
       "      <td>8</td>\n",
       "      <td>693</td>\n",
       "      <td>7657</td>\n",
       "    </tr>\n",
       "    <tr>\n",
       "      <td>1</td>\n",
       "      <td>13289321</td>\n",
       "      <td>East is where your home is!</td>\n",
       "      <td>10259430</td>\n",
       "      <td>Ana</td>\n",
       "      <td>Oud-Oost</td>\n",
       "      <td>52.35728</td>\n",
       "      <td>4.92052</td>\n",
       "      <td>Entire home/apt</td>\n",
       "      <td>4</td>\n",
       "      <td>14</td>\n",
       "      <td>...</td>\n",
       "      <td>0</td>\n",
       "      <td>110</td>\n",
       "      <td>1</td>\n",
       "      <td>0</td>\n",
       "      <td>0</td>\n",
       "      <td>0</td>\n",
       "      <td>180</td>\n",
       "      <td>17</td>\n",
       "      <td>892</td>\n",
       "      <td>5031</td>\n",
       "    </tr>\n",
       "    <tr>\n",
       "      <td>2</td>\n",
       "      <td>40779315</td>\n",
       "      <td>Amsterdam Central - LUXURY house in BUSY STREET</td>\n",
       "      <td>224969266</td>\n",
       "      <td>Mark</td>\n",
       "      <td>Centrum-West</td>\n",
       "      <td>52.37582</td>\n",
       "      <td>4.89850</td>\n",
       "      <td>Entire home/apt</td>\n",
       "      <td>2</td>\n",
       "      <td>9</td>\n",
       "      <td>...</td>\n",
       "      <td>7</td>\n",
       "      <td>100</td>\n",
       "      <td>1</td>\n",
       "      <td>0</td>\n",
       "      <td>0</td>\n",
       "      <td>0</td>\n",
       "      <td>2863</td>\n",
       "      <td>5</td>\n",
       "      <td>739</td>\n",
       "      <td>752</td>\n",
       "    </tr>\n",
       "    <tr>\n",
       "      <td>3</td>\n",
       "      <td>7820311</td>\n",
       "      <td>great appartment down town</td>\n",
       "      <td>693472</td>\n",
       "      <td>Ayden</td>\n",
       "      <td>Westerpark</td>\n",
       "      <td>52.37792</td>\n",
       "      <td>4.87300</td>\n",
       "      <td>Entire home/apt</td>\n",
       "      <td>3</td>\n",
       "      <td>42</td>\n",
       "      <td>...</td>\n",
       "      <td>0</td>\n",
       "      <td>130</td>\n",
       "      <td>1</td>\n",
       "      <td>0</td>\n",
       "      <td>0</td>\n",
       "      <td>0</td>\n",
       "      <td>403</td>\n",
       "      <td>20</td>\n",
       "      <td>784</td>\n",
       "      <td>12437</td>\n",
       "    </tr>\n",
       "    <tr>\n",
       "      <td>4</td>\n",
       "      <td>27346603</td>\n",
       "      <td>Private room with canal view in peaceful area</td>\n",
       "      <td>41888346</td>\n",
       "      <td>Alissa</td>\n",
       "      <td>Westerpark</td>\n",
       "      <td>52.38051</td>\n",
       "      <td>4.87493</td>\n",
       "      <td>Private room</td>\n",
       "      <td>2</td>\n",
       "      <td>89</td>\n",
       "      <td>...</td>\n",
       "      <td>24</td>\n",
       "      <td>90</td>\n",
       "      <td>0</td>\n",
       "      <td>0</td>\n",
       "      <td>1</td>\n",
       "      <td>0</td>\n",
       "      <td>128</td>\n",
       "      <td>20</td>\n",
       "      <td>1215</td>\n",
       "      <td>9258</td>\n",
       "    </tr>\n",
       "  </tbody>\n",
       "</table>\n",
       "<p>5 rows × 23 columns</p>\n",
       "</div>"
      ],
      "text/plain": [
       "         id                                             name    host_id  \\\n",
       "0  11602914              Luxury home 100m2+garden in center!    3123809   \n",
       "1  13289321                      East is where your home is!   10259430   \n",
       "2  40779315  Amsterdam Central - LUXURY house in BUSY STREET  224969266   \n",
       "3   7820311                       great appartment down town     693472   \n",
       "4  27346603    Private room with canal view in peaceful area   41888346   \n",
       "\n",
       "   host_name            neighbourhood  latitude  longitude        room_type  \\\n",
       "0  Marjolein  De Pijp - Rivierenbuurt  52.35368    4.90177  Entire home/apt   \n",
       "1        Ana                 Oud-Oost  52.35728    4.92052  Entire home/apt   \n",
       "2       Mark             Centrum-West  52.37582    4.89850  Entire home/apt   \n",
       "3      Ayden               Westerpark  52.37792    4.87300  Entire home/apt   \n",
       "4     Alissa               Westerpark  52.38051    4.87493     Private room   \n",
       "\n",
       "   minimum_nights  number_of_reviews  ... availability_365  price  \\\n",
       "0               3                 13  ...                0    220   \n",
       "1               4                 14  ...                0    110   \n",
       "2               2                  9  ...                7    100   \n",
       "3               3                 42  ...                0    130   \n",
       "4               2                 89  ...               24     90   \n",
       "\n",
       "   d_Entire home/apt  d_Hotel room  d_Private room  d_Shared room  \\\n",
       "0                  1             0               0              0   \n",
       "1                  1             0               0              0   \n",
       "2                  1             0               0              0   \n",
       "3                  1             0               0              0   \n",
       "4                  0             0               1              0   \n",
       "\n",
       "   host_name_cat  neighbourhood_cat  last_review_cat  name_cat  \n",
       "0           2856                  8              693      7657  \n",
       "1            180                 17              892      5031  \n",
       "2           2863                  5              739       752  \n",
       "3            403                 20              784     12437  \n",
       "4            128                 20             1215      9258  \n",
       "\n",
       "[5 rows x 23 columns]"
      ]
     },
     "execution_count": 57,
     "metadata": {},
     "output_type": "execute_result"
    }
   ],
   "source": [
    "data.head()"
   ]
  },
  {
   "cell_type": "code",
   "execution_count": 58,
   "metadata": {},
   "outputs": [
    {
     "data": {
      "text/plain": [
       "Index(['id', 'name', 'host_id', 'host_name', 'neighbourhood', 'latitude',\n",
       "       'longitude', 'room_type', 'minimum_nights', 'number_of_reviews',\n",
       "       'last_review', 'reviews_per_month', 'calculated_host_listings_count',\n",
       "       'availability_365', 'price', 'd_Entire home/apt', 'd_Hotel room',\n",
       "       'd_Private room', 'd_Shared room', 'host_name_cat', 'neighbourhood_cat',\n",
       "       'last_review_cat', 'name_cat'],\n",
       "      dtype='object')"
      ]
     },
     "execution_count": 58,
     "metadata": {},
     "output_type": "execute_result"
    }
   ],
   "source": [
    "data.columns"
   ]
  },
  {
   "cell_type": "code",
   "execution_count": 59,
   "metadata": {},
   "outputs": [],
   "source": [
    "data = data.drop(['room_type','host_name','neighbourhood','last_review','name'],axis=1)"
   ]
  },
  {
   "cell_type": "code",
   "execution_count": 60,
   "metadata": {},
   "outputs": [
    {
     "data": {
      "text/plain": [
       "(12901, 18)"
      ]
     },
     "execution_count": 60,
     "metadata": {},
     "output_type": "execute_result"
    }
   ],
   "source": [
    "data.shape"
   ]
  },
  {
   "cell_type": "code",
   "execution_count": 61,
   "metadata": {},
   "outputs": [
    {
     "data": {
      "text/html": [
       "<div>\n",
       "<style scoped>\n",
       "    .dataframe tbody tr th:only-of-type {\n",
       "        vertical-align: middle;\n",
       "    }\n",
       "\n",
       "    .dataframe tbody tr th {\n",
       "        vertical-align: top;\n",
       "    }\n",
       "\n",
       "    .dataframe thead th {\n",
       "        text-align: right;\n",
       "    }\n",
       "</style>\n",
       "<table border=\"1\" class=\"dataframe\">\n",
       "  <thead>\n",
       "    <tr style=\"text-align: right;\">\n",
       "      <th></th>\n",
       "      <th>id</th>\n",
       "      <th>host_id</th>\n",
       "      <th>latitude</th>\n",
       "      <th>longitude</th>\n",
       "      <th>minimum_nights</th>\n",
       "      <th>number_of_reviews</th>\n",
       "      <th>reviews_per_month</th>\n",
       "      <th>calculated_host_listings_count</th>\n",
       "      <th>availability_365</th>\n",
       "      <th>price</th>\n",
       "      <th>d_Entire home/apt</th>\n",
       "      <th>d_Hotel room</th>\n",
       "      <th>d_Private room</th>\n",
       "      <th>d_Shared room</th>\n",
       "      <th>host_name_cat</th>\n",
       "      <th>neighbourhood_cat</th>\n",
       "      <th>last_review_cat</th>\n",
       "      <th>name_cat</th>\n",
       "    </tr>\n",
       "  </thead>\n",
       "  <tbody>\n",
       "    <tr>\n",
       "      <td>0</td>\n",
       "      <td>11602914</td>\n",
       "      <td>3123809</td>\n",
       "      <td>52.35368</td>\n",
       "      <td>4.90177</td>\n",
       "      <td>3</td>\n",
       "      <td>13</td>\n",
       "      <td>0.27</td>\n",
       "      <td>1</td>\n",
       "      <td>0</td>\n",
       "      <td>220</td>\n",
       "      <td>1</td>\n",
       "      <td>0</td>\n",
       "      <td>0</td>\n",
       "      <td>0</td>\n",
       "      <td>2856</td>\n",
       "      <td>8</td>\n",
       "      <td>693</td>\n",
       "      <td>7657</td>\n",
       "    </tr>\n",
       "    <tr>\n",
       "      <td>1</td>\n",
       "      <td>13289321</td>\n",
       "      <td>10259430</td>\n",
       "      <td>52.35728</td>\n",
       "      <td>4.92052</td>\n",
       "      <td>4</td>\n",
       "      <td>14</td>\n",
       "      <td>0.29</td>\n",
       "      <td>1</td>\n",
       "      <td>0</td>\n",
       "      <td>110</td>\n",
       "      <td>1</td>\n",
       "      <td>0</td>\n",
       "      <td>0</td>\n",
       "      <td>0</td>\n",
       "      <td>180</td>\n",
       "      <td>17</td>\n",
       "      <td>892</td>\n",
       "      <td>5031</td>\n",
       "    </tr>\n",
       "    <tr>\n",
       "      <td>2</td>\n",
       "      <td>40779315</td>\n",
       "      <td>224969266</td>\n",
       "      <td>52.37582</td>\n",
       "      <td>4.89850</td>\n",
       "      <td>2</td>\n",
       "      <td>9</td>\n",
       "      <td>1.65</td>\n",
       "      <td>1</td>\n",
       "      <td>7</td>\n",
       "      <td>100</td>\n",
       "      <td>1</td>\n",
       "      <td>0</td>\n",
       "      <td>0</td>\n",
       "      <td>0</td>\n",
       "      <td>2863</td>\n",
       "      <td>5</td>\n",
       "      <td>739</td>\n",
       "      <td>752</td>\n",
       "    </tr>\n",
       "    <tr>\n",
       "      <td>3</td>\n",
       "      <td>7820311</td>\n",
       "      <td>693472</td>\n",
       "      <td>52.37792</td>\n",
       "      <td>4.87300</td>\n",
       "      <td>3</td>\n",
       "      <td>42</td>\n",
       "      <td>0.72</td>\n",
       "      <td>1</td>\n",
       "      <td>0</td>\n",
       "      <td>130</td>\n",
       "      <td>1</td>\n",
       "      <td>0</td>\n",
       "      <td>0</td>\n",
       "      <td>0</td>\n",
       "      <td>403</td>\n",
       "      <td>20</td>\n",
       "      <td>784</td>\n",
       "      <td>12437</td>\n",
       "    </tr>\n",
       "    <tr>\n",
       "      <td>4</td>\n",
       "      <td>27346603</td>\n",
       "      <td>41888346</td>\n",
       "      <td>52.38051</td>\n",
       "      <td>4.87493</td>\n",
       "      <td>2</td>\n",
       "      <td>89</td>\n",
       "      <td>4.02</td>\n",
       "      <td>1</td>\n",
       "      <td>24</td>\n",
       "      <td>90</td>\n",
       "      <td>0</td>\n",
       "      <td>0</td>\n",
       "      <td>1</td>\n",
       "      <td>0</td>\n",
       "      <td>128</td>\n",
       "      <td>20</td>\n",
       "      <td>1215</td>\n",
       "      <td>9258</td>\n",
       "    </tr>\n",
       "  </tbody>\n",
       "</table>\n",
       "</div>"
      ],
      "text/plain": [
       "         id    host_id  latitude  longitude  minimum_nights  \\\n",
       "0  11602914    3123809  52.35368    4.90177               3   \n",
       "1  13289321   10259430  52.35728    4.92052               4   \n",
       "2  40779315  224969266  52.37582    4.89850               2   \n",
       "3   7820311     693472  52.37792    4.87300               3   \n",
       "4  27346603   41888346  52.38051    4.87493               2   \n",
       "\n",
       "   number_of_reviews  reviews_per_month  calculated_host_listings_count  \\\n",
       "0                 13               0.27                               1   \n",
       "1                 14               0.29                               1   \n",
       "2                  9               1.65                               1   \n",
       "3                 42               0.72                               1   \n",
       "4                 89               4.02                               1   \n",
       "\n",
       "   availability_365  price  d_Entire home/apt  d_Hotel room  d_Private room  \\\n",
       "0                 0    220                  1             0               0   \n",
       "1                 0    110                  1             0               0   \n",
       "2                 7    100                  1             0               0   \n",
       "3                 0    130                  1             0               0   \n",
       "4                24     90                  0             0               1   \n",
       "\n",
       "   d_Shared room  host_name_cat  neighbourhood_cat  last_review_cat  name_cat  \n",
       "0              0           2856                  8              693      7657  \n",
       "1              0            180                 17              892      5031  \n",
       "2              0           2863                  5              739       752  \n",
       "3              0            403                 20              784     12437  \n",
       "4              0            128                 20             1215      9258  "
      ]
     },
     "execution_count": 61,
     "metadata": {},
     "output_type": "execute_result"
    }
   ],
   "source": [
    "data.head()"
   ]
  },
  {
   "cell_type": "code",
   "execution_count": 62,
   "metadata": {},
   "outputs": [
    {
     "name": "stdout",
     "output_type": "stream",
     "text": [
      "price                             1.000000\n",
      "availability_365                  0.153993\n",
      "host_id                           0.084512\n",
      "id                                0.076998\n",
      "calculated_host_listings_count    0.057314\n",
      "d_Entire home/apt                 0.056966\n",
      "d_Hotel room                      0.045033\n",
      "minimum_nights                    0.026569\n",
      "latitude                          0.017697\n",
      "longitude                         0.016718\n",
      "d_Shared room                     0.005600\n",
      "name_cat                          0.004984\n",
      "host_name_cat                     0.002815\n",
      "reviews_per_month                -0.011691\n",
      "last_review_cat                  -0.020412\n",
      "neighbourhood_cat                -0.034531\n",
      "number_of_reviews                -0.035141\n",
      "d_Private room                   -0.072324\n",
      "Name: price, dtype: float64\n"
     ]
    }
   ],
   "source": [
    "corr_matrix = data.corr()\n",
    "print(corr_matrix[\"price\"].sort_values(ascending=False))"
   ]
  },
  {
   "cell_type": "markdown",
   "metadata": {},
   "source": [
    "# Separating Input and Output Variables"
   ]
  },
  {
   "cell_type": "code",
   "execution_count": 63,
   "metadata": {},
   "outputs": [],
   "source": [
    "X = data.drop(['price'],axis=1)\n",
    "\n",
    "y = data['price']"
   ]
  },
  {
   "cell_type": "code",
   "execution_count": 64,
   "metadata": {},
   "outputs": [
    {
     "data": {
      "text/plain": [
       "(12901, 17)"
      ]
     },
     "execution_count": 64,
     "metadata": {},
     "output_type": "execute_result"
    }
   ],
   "source": [
    "X.shape"
   ]
  },
  {
   "cell_type": "markdown",
   "metadata": {},
   "source": [
    "# Split The Data"
   ]
  },
  {
   "cell_type": "code",
   "execution_count": 65,
   "metadata": {},
   "outputs": [],
   "source": [
    "#train test split\n",
    "from sklearn.model_selection import train_test_split"
   ]
  },
  {
   "cell_type": "code",
   "execution_count": 66,
   "metadata": {},
   "outputs": [],
   "source": [
    "X_train, X_test, y_train, y_test = train_test_split(X, y, test_size=0.2, random_state=47)"
   ]
  },
  {
   "cell_type": "code",
   "execution_count": 67,
   "metadata": {},
   "outputs": [
    {
     "name": "stdout",
     "output_type": "stream",
     "text": [
      "X_train:,y_train: (10320, 17) (10320,)\n"
     ]
    }
   ],
   "source": [
    "print('X_train:,y_train:',X_train.shape,y_train.shape)"
   ]
  },
  {
   "cell_type": "code",
   "execution_count": 68,
   "metadata": {},
   "outputs": [
    {
     "name": "stdout",
     "output_type": "stream",
     "text": [
      "X_test:,y_test: (2581, 17) (2581,)\n"
     ]
    }
   ],
   "source": [
    "print('X_test:,y_test:',X_test.shape,y_test.shape)"
   ]
  },
  {
   "cell_type": "markdown",
   "metadata": {},
   "source": [
    "# LazyClassifier to get best model for our dataset"
   ]
  },
  {
   "cell_type": "code",
   "execution_count": 69,
   "metadata": {},
   "outputs": [],
   "source": [
    "#!pip install lazypredict"
   ]
  },
  {
   "cell_type": "code",
   "execution_count": 70,
   "metadata": {},
   "outputs": [
    {
     "ename": "NameError",
     "evalue": "name 'LazyRegressor' is not defined",
     "output_type": "error",
     "traceback": [
      "\u001b[0;31m---------------------------------------------------------------------------\u001b[0m",
      "\u001b[0;31mNameError\u001b[0m                                 Traceback (most recent call last)",
      "\u001b[0;32m<ipython-input-70-9503d065a099>\u001b[0m in \u001b[0;36m<module>\u001b[0;34m\u001b[0m\n\u001b[1;32m      1\u001b[0m \u001b[0;31m#from lazypredict.Supervised import LazyRegressor\u001b[0m\u001b[0;34m\u001b[0m\u001b[0;34m\u001b[0m\u001b[0;34m\u001b[0m\u001b[0m\n\u001b[0;32m----> 2\u001b[0;31m \u001b[0mclf\u001b[0m \u001b[0;34m=\u001b[0m \u001b[0mLazyRegressor\u001b[0m\u001b[0;34m(\u001b[0m\u001b[0mverbose\u001b[0m\u001b[0;34m=\u001b[0m\u001b[0;36m0\u001b[0m\u001b[0;34m,\u001b[0m\u001b[0mignore_warnings\u001b[0m\u001b[0;34m=\u001b[0m\u001b[0;32mFalse\u001b[0m\u001b[0;34m,\u001b[0m \u001b[0mcustom_metric\u001b[0m\u001b[0;34m=\u001b[0m\u001b[0;32mNone\u001b[0m\u001b[0;34m)\u001b[0m\u001b[0;34m\u001b[0m\u001b[0;34m\u001b[0m\u001b[0m\n\u001b[0m\u001b[1;32m      3\u001b[0m \u001b[0mmodels\u001b[0m\u001b[0;34m,\u001b[0m\u001b[0mpredictions\u001b[0m \u001b[0;34m=\u001b[0m \u001b[0mclf\u001b[0m\u001b[0;34m.\u001b[0m\u001b[0mfit\u001b[0m\u001b[0;34m(\u001b[0m\u001b[0mX_train\u001b[0m\u001b[0;34m,\u001b[0m \u001b[0mX_test\u001b[0m\u001b[0;34m,\u001b[0m \u001b[0my_train\u001b[0m\u001b[0;34m,\u001b[0m \u001b[0my_test\u001b[0m\u001b[0;34m)\u001b[0m\u001b[0;34m\u001b[0m\u001b[0;34m\u001b[0m\u001b[0m\n\u001b[1;32m      4\u001b[0m \u001b[0mmodels\u001b[0m\u001b[0;34m\u001b[0m\u001b[0;34m\u001b[0m\u001b[0m\n",
      "\u001b[0;31mNameError\u001b[0m: name 'LazyRegressor' is not defined"
     ]
    }
   ],
   "source": [
    "#from lazypredict.Supervised import LazyRegressor\n",
    "clf = LazyRegressor(verbose=0,ignore_warnings=False, custom_metric=None)\n",
    "models,predictions = clf.fit(X_train, X_test, y_train, y_test)\n",
    "models"
   ]
  },
  {
   "cell_type": "markdown",
   "metadata": {},
   "source": [
    "# Model Building"
   ]
  },
  {
   "cell_type": "markdown",
   "metadata": {},
   "source": [
    "## RandomForestRegressor"
   ]
  },
  {
   "cell_type": "code",
   "execution_count": 71,
   "metadata": {},
   "outputs": [
    {
     "data": {
      "text/plain": [
       "RandomForestRegressor(n_jobs=-1)"
      ]
     },
     "execution_count": 71,
     "metadata": {},
     "output_type": "execute_result"
    }
   ],
   "source": [
    "from sklearn.ensemble import RandomForestRegressor\n",
    "model = RandomForestRegressor(n_jobs=-1)\n",
    "model.fit(X_train, y_train)"
   ]
  },
  {
   "cell_type": "code",
   "execution_count": 72,
   "metadata": {},
   "outputs": [
    {
     "data": {
      "text/plain": [
       "array([136.84, 222.21, 317.15, ..., 146.67, 161.49, 158.31])"
      ]
     },
     "execution_count": 72,
     "metadata": {},
     "output_type": "execute_result"
    }
   ],
   "source": [
    "model_pred = model.predict(X_test)\n",
    "model_pred"
   ]
  },
  {
   "cell_type": "code",
   "execution_count": 73,
   "metadata": {},
   "outputs": [
    {
     "name": "stdout",
     "output_type": "stream",
     "text": [
      "MAE:   64.01844246416117\n",
      "MSE:   16774.66832313057\n",
      "RMSE:  129.51705803920413\n",
      "R^2:   0.7434842325648781\n"
     ]
    }
   ],
   "source": [
    "# import metrics library\n",
    "from sklearn import metrics\n",
    "\n",
    "# print result of MAE\n",
    "print('MAE:  ',metrics.mean_absolute_error(y_test, model_pred))\n",
    "\n",
    "# print result of MSE\n",
    "print('MSE:  ',metrics.mean_squared_error(y_test, model_pred))\n",
    "\n",
    "# print result of RMSE\n",
    "print('RMSE: ',np.sqrt(metrics.mean_squared_error(y_test, model_pred)))\n",
    "\n",
    "# print result of R^2 Score\n",
    "print('R^2:  ',metrics.r2_score(y_test, model_pred))"
   ]
  },
  {
   "cell_type": "code",
   "execution_count": 74,
   "metadata": {},
   "outputs": [
    {
     "ename": "NameError",
     "evalue": "name 'RandomizedSearchCV' is not defined",
     "output_type": "error",
     "traceback": [
      "\u001b[0;31m---------------------------------------------------------------------------\u001b[0m",
      "\u001b[0;31mNameError\u001b[0m                                 Traceback (most recent call last)",
      "\u001b[0;32m<ipython-input-74-2c5240f7c918>\u001b[0m in \u001b[0;36m<module>\u001b[0;34m\u001b[0m\n\u001b[1;32m     26\u001b[0m \u001b[0mestimator\u001b[0m \u001b[0;34m=\u001b[0m \u001b[0mRandomForestRegressor\u001b[0m\u001b[0;34m(\u001b[0m\u001b[0mn_jobs\u001b[0m\u001b[0;34m=\u001b[0m\u001b[0;34m-\u001b[0m\u001b[0;36m1\u001b[0m\u001b[0;34m)\u001b[0m\u001b[0;34m\u001b[0m\u001b[0;34m\u001b[0m\u001b[0m\n\u001b[1;32m     27\u001b[0m \u001b[0;34m\u001b[0m\u001b[0m\n\u001b[0;32m---> 28\u001b[0;31m \u001b[0mmodel_random\u001b[0m \u001b[0;34m=\u001b[0m \u001b[0mRandomizedSearchCV\u001b[0m\u001b[0;34m(\u001b[0m\u001b[0mestimator\u001b[0m \u001b[0;34m=\u001b[0m \u001b[0mestimator\u001b[0m\u001b[0;34m,\u001b[0m \u001b[0mparam_distributions\u001b[0m \u001b[0;34m=\u001b[0m \u001b[0mparams\u001b[0m\u001b[0;34m,\u001b[0m \u001b[0mcv\u001b[0m \u001b[0;34m=\u001b[0m \u001b[0;36m3\u001b[0m\u001b[0;34m,\u001b[0m \u001b[0mn_iter\u001b[0m \u001b[0;34m=\u001b[0m \u001b[0;36m100\u001b[0m \u001b[0;34m,\u001b[0m\u001b[0mverbose\u001b[0m\u001b[0;34m=\u001b[0m\u001b[0;36m2\u001b[0m\u001b[0;34m,\u001b[0m \u001b[0mrandom_state\u001b[0m\u001b[0;34m=\u001b[0m\u001b[0;36m0\u001b[0m\u001b[0;34m,\u001b[0m\u001b[0mn_jobs\u001b[0m \u001b[0;34m=\u001b[0m \u001b[0;34m-\u001b[0m\u001b[0;36m1\u001b[0m\u001b[0;34m,\u001b[0m\u001b[0mscoring\u001b[0m\u001b[0;34m=\u001b[0m\u001b[0;34m'neg_mean_squared_error'\u001b[0m\u001b[0;34m)\u001b[0m\u001b[0;34m\u001b[0m\u001b[0;34m\u001b[0m\u001b[0m\n\u001b[0m\u001b[1;32m     29\u001b[0m \u001b[0;34m\u001b[0m\u001b[0m\n\u001b[1;32m     30\u001b[0m \u001b[0mmodel_random\u001b[0m\u001b[0;34m.\u001b[0m\u001b[0mfit\u001b[0m\u001b[0;34m(\u001b[0m\u001b[0mX_train\u001b[0m\u001b[0;34m,\u001b[0m \u001b[0my_train\u001b[0m\u001b[0;34m)\u001b[0m\u001b[0;34m\u001b[0m\u001b[0;34m\u001b[0m\u001b[0m\n",
      "\u001b[0;31mNameError\u001b[0m: name 'RandomizedSearchCV' is not defined"
     ]
    }
   ],
   "source": [
    "#from sklearn.model_selection import RandomizedSearchCV\n",
    "\n",
    "# Number of trees in random forest\n",
    "n_estimators = [int(x) for x in np.linspace(start = 100, stop = 1200, num = 12)]\n",
    "# Number of features to consider at every split\n",
    "max_features = ['auto', 'sqrt']\n",
    "# Maximum number of levels in tree\n",
    "max_depth = [int(x) for x in np.linspace(5, 30, num = 6)]\n",
    "# max_depth.append(None)\n",
    "# Minimum number of samples required to split a node\n",
    "min_samples_split = [2, 5, 10, 15, 100]\n",
    "# Minimum number of samples required at each leaf node\n",
    "min_samples_leaf = [1, 2, 5, 10]\n",
    "# Method of selecting samples for training each tree\n",
    "# bootstrap = [True, False]\n",
    "\n",
    "params = {\n",
    "    'n_estimators': n_estimators,\n",
    "    'max_features': max_features,\n",
    "    'max_depth': max_depth,\n",
    "    'min_samples_split': min_samples_split,\n",
    "    'min_samples_leaf': min_samples_leaf\n",
    "}\n",
    "\n",
    "\n",
    "estimator = RandomForestRegressor(n_jobs=-1)\n",
    "\n",
    "model_random = RandomizedSearchCV(estimator = estimator, param_distributions = params, cv = 3, n_iter = 100 ,verbose=2, random_state=0,n_jobs = -1,scoring='neg_mean_squared_error')\n",
    "\n",
    "model_random.fit(X_train, y_train)"
   ]
  },
  {
   "cell_type": "code",
   "execution_count": 75,
   "metadata": {},
   "outputs": [],
   "source": [
    "#model_random.best_params_"
   ]
  },
  {
   "cell_type": "code",
   "execution_count": 76,
   "metadata": {},
   "outputs": [],
   "source": [
    "#model_random.best_estimator_"
   ]
  },
  {
   "cell_type": "code",
   "execution_count": 77,
   "metadata": {},
   "outputs": [],
   "source": [
    "#model_random.best_score_"
   ]
  },
  {
   "cell_type": "code",
   "execution_count": 81,
   "metadata": {},
   "outputs": [
    {
     "data": {
      "text/plain": [
       "RandomForestRegressor(max_depth=10, max_features='sqrt', n_estimators=900,\n",
       "                      n_jobs=-1)"
      ]
     },
     "execution_count": 81,
     "metadata": {},
     "output_type": "execute_result"
    }
   ],
   "source": [
    "#it use best estimator\n",
    "model_random = RandomForestRegressor(max_depth=10, max_features='sqrt', n_estimators=900,\n",
    "                      n_jobs=-1)\n",
    "model_random.fit(X_train, y_train)"
   ]
  },
  {
   "cell_type": "code",
   "execution_count": 82,
   "metadata": {},
   "outputs": [
    {
     "data": {
      "text/plain": [
       "array([162.53498665, 215.3688913 , 343.8380221 , ..., 147.19090082,\n",
       "       148.93931456, 170.54923232])"
      ]
     },
     "execution_count": 82,
     "metadata": {},
     "output_type": "execute_result"
    }
   ],
   "source": [
    "model_rcv = model_random.predict(X_test)\n",
    "model_rcv"
   ]
  },
  {
   "cell_type": "code",
   "execution_count": 83,
   "metadata": {},
   "outputs": [
    {
     "name": "stdout",
     "output_type": "stream",
     "text": [
      "MAE:   61.80762773188914\n",
      "MSE:   13608.1159521332\n",
      "RMSE:  116.65382956479911\n",
      "R^2:   0.7919066869421045\n"
     ]
    }
   ],
   "source": [
    "# import metrics library\n",
    "from sklearn import metrics\n",
    "\n",
    "# print result of MAE\n",
    "print('MAE:  ',metrics.mean_absolute_error(y_test, model_rcv))\n",
    "\n",
    "# print result of MSE\n",
    "print('MSE:  ',metrics.mean_squared_error(y_test, model_rcv))\n",
    "\n",
    "# print result of RMSE\n",
    "print('RMSE: ',np.sqrt(metrics.mean_squared_error(y_test, model_rcv)))\n",
    "\n",
    "# print result of R^2 Score\n",
    "print('R^2:  ',metrics.r2_score(y_test, model_rcv))"
   ]
  },
  {
   "cell_type": "markdown",
   "metadata": {},
   "source": [
    "# Validation Data"
   ]
  },
  {
   "cell_type": "code",
   "execution_count": 84,
   "metadata": {},
   "outputs": [],
   "source": [
    "data_val = pd.read_csv(\"/Users/apple/Documents/Kaggle/dphi-amsterdam-airbnb-data/airbnb_listing_validate.csv\")"
   ]
  },
  {
   "cell_type": "code",
   "execution_count": 85,
   "metadata": {},
   "outputs": [
    {
     "data": {
      "text/html": [
       "<div>\n",
       "<style scoped>\n",
       "    .dataframe tbody tr th:only-of-type {\n",
       "        vertical-align: middle;\n",
       "    }\n",
       "\n",
       "    .dataframe tbody tr th {\n",
       "        vertical-align: top;\n",
       "    }\n",
       "\n",
       "    .dataframe thead th {\n",
       "        text-align: right;\n",
       "    }\n",
       "</style>\n",
       "<table border=\"1\" class=\"dataframe\">\n",
       "  <thead>\n",
       "    <tr style=\"text-align: right;\">\n",
       "      <th></th>\n",
       "      <th>id</th>\n",
       "      <th>name</th>\n",
       "      <th>host_id</th>\n",
       "      <th>host_name</th>\n",
       "      <th>neighbourhood_group</th>\n",
       "      <th>neighbourhood</th>\n",
       "      <th>latitude</th>\n",
       "      <th>longitude</th>\n",
       "      <th>room_type</th>\n",
       "      <th>minimum_nights</th>\n",
       "      <th>number_of_reviews</th>\n",
       "      <th>last_review</th>\n",
       "      <th>reviews_per_month</th>\n",
       "      <th>calculated_host_listings_count</th>\n",
       "      <th>availability_365</th>\n",
       "    </tr>\n",
       "  </thead>\n",
       "  <tbody>\n",
       "    <tr>\n",
       "      <td>0</td>\n",
       "      <td>12297872</td>\n",
       "      <td>Great apartment, super location</td>\n",
       "      <td>44144487</td>\n",
       "      <td>Azarakhsh</td>\n",
       "      <td>NaN</td>\n",
       "      <td>De Baarsjes - Oud-West</td>\n",
       "      <td>52.37326</td>\n",
       "      <td>4.86213</td>\n",
       "      <td>Entire home/apt</td>\n",
       "      <td>2</td>\n",
       "      <td>49</td>\n",
       "      <td>15-09-2019</td>\n",
       "      <td>0.99</td>\n",
       "      <td>1</td>\n",
       "      <td>267</td>\n",
       "    </tr>\n",
       "    <tr>\n",
       "      <td>1</td>\n",
       "      <td>3920205</td>\n",
       "      <td>Lovely apartment in Center south!</td>\n",
       "      <td>7594884</td>\n",
       "      <td>Ruben, Sarah &amp; Lindy</td>\n",
       "      <td>NaN</td>\n",
       "      <td>De Pijp - Rivierenbuurt</td>\n",
       "      <td>52.35076</td>\n",
       "      <td>4.88866</td>\n",
       "      <td>Entire home/apt</td>\n",
       "      <td>3</td>\n",
       "      <td>34</td>\n",
       "      <td>19-09-2019</td>\n",
       "      <td>0.49</td>\n",
       "      <td>38</td>\n",
       "      <td>0</td>\n",
       "    </tr>\n",
       "    <tr>\n",
       "      <td>2</td>\n",
       "      <td>26614345</td>\n",
       "      <td>Sunny family friendly house, centrally located</td>\n",
       "      <td>3903937</td>\n",
       "      <td>Maaike</td>\n",
       "      <td>NaN</td>\n",
       "      <td>Oud-Noord</td>\n",
       "      <td>52.38980</td>\n",
       "      <td>4.90881</td>\n",
       "      <td>Entire home/apt</td>\n",
       "      <td>4</td>\n",
       "      <td>3</td>\n",
       "      <td>21-04-2019</td>\n",
       "      <td>0.13</td>\n",
       "      <td>1</td>\n",
       "      <td>0</td>\n",
       "    </tr>\n",
       "    <tr>\n",
       "      <td>3</td>\n",
       "      <td>7433172</td>\n",
       "      <td>1 Br Apartment in Old South A'dam</td>\n",
       "      <td>24969223</td>\n",
       "      <td>Quirien</td>\n",
       "      <td>NaN</td>\n",
       "      <td>Zuid</td>\n",
       "      <td>52.34292</td>\n",
       "      <td>4.85962</td>\n",
       "      <td>Entire home/apt</td>\n",
       "      <td>4</td>\n",
       "      <td>0</td>\n",
       "      <td>NaN</td>\n",
       "      <td>NaN</td>\n",
       "      <td>1</td>\n",
       "      <td>0</td>\n",
       "    </tr>\n",
       "    <tr>\n",
       "      <td>4</td>\n",
       "      <td>17019744</td>\n",
       "      <td>Luxurious house with garden - central location</td>\n",
       "      <td>114138837</td>\n",
       "      <td>Sietse</td>\n",
       "      <td>NaN</td>\n",
       "      <td>Westerpark</td>\n",
       "      <td>52.37321</td>\n",
       "      <td>4.87238</td>\n",
       "      <td>Entire home/apt</td>\n",
       "      <td>2</td>\n",
       "      <td>9</td>\n",
       "      <td>24-09-2017</td>\n",
       "      <td>0.23</td>\n",
       "      <td>1</td>\n",
       "      <td>0</td>\n",
       "    </tr>\n",
       "  </tbody>\n",
       "</table>\n",
       "</div>"
      ],
      "text/plain": [
       "         id                                            name    host_id  \\\n",
       "0  12297872                 Great apartment, super location   44144487   \n",
       "1   3920205               Lovely apartment in Center south!    7594884   \n",
       "2  26614345  Sunny family friendly house, centrally located    3903937   \n",
       "3   7433172               1 Br Apartment in Old South A'dam   24969223   \n",
       "4  17019744  Luxurious house with garden - central location  114138837   \n",
       "\n",
       "              host_name  neighbourhood_group            neighbourhood  \\\n",
       "0             Azarakhsh                  NaN   De Baarsjes - Oud-West   \n",
       "1  Ruben, Sarah & Lindy                  NaN  De Pijp - Rivierenbuurt   \n",
       "2                Maaike                  NaN                Oud-Noord   \n",
       "3               Quirien                  NaN                     Zuid   \n",
       "4                Sietse                  NaN               Westerpark   \n",
       "\n",
       "   latitude  longitude        room_type  minimum_nights  number_of_reviews  \\\n",
       "0  52.37326    4.86213  Entire home/apt               2                 49   \n",
       "1  52.35076    4.88866  Entire home/apt               3                 34   \n",
       "2  52.38980    4.90881  Entire home/apt               4                  3   \n",
       "3  52.34292    4.85962  Entire home/apt               4                  0   \n",
       "4  52.37321    4.87238  Entire home/apt               2                  9   \n",
       "\n",
       "  last_review  reviews_per_month  calculated_host_listings_count  \\\n",
       "0  15-09-2019               0.99                               1   \n",
       "1  19-09-2019               0.49                              38   \n",
       "2  21-04-2019               0.13                               1   \n",
       "3         NaN                NaN                               1   \n",
       "4  24-09-2017               0.23                               1   \n",
       "\n",
       "   availability_365  \n",
       "0               267  \n",
       "1                 0  \n",
       "2                 0  \n",
       "3                 0  \n",
       "4                 0  "
      ]
     },
     "execution_count": 85,
     "metadata": {},
     "output_type": "execute_result"
    }
   ],
   "source": [
    "data_val.head()"
   ]
  },
  {
   "cell_type": "code",
   "execution_count": 86,
   "metadata": {},
   "outputs": [
    {
     "data": {
      "text/html": [
       "<div>\n",
       "<style scoped>\n",
       "    .dataframe tbody tr th:only-of-type {\n",
       "        vertical-align: middle;\n",
       "    }\n",
       "\n",
       "    .dataframe tbody tr th {\n",
       "        vertical-align: top;\n",
       "    }\n",
       "\n",
       "    .dataframe thead th {\n",
       "        text-align: right;\n",
       "    }\n",
       "</style>\n",
       "<table border=\"1\" class=\"dataframe\">\n",
       "  <thead>\n",
       "    <tr style=\"text-align: right;\">\n",
       "      <th></th>\n",
       "      <th>id</th>\n",
       "      <th>name</th>\n",
       "      <th>host_id</th>\n",
       "      <th>host_name</th>\n",
       "      <th>neighbourhood_group</th>\n",
       "      <th>neighbourhood</th>\n",
       "      <th>latitude</th>\n",
       "      <th>longitude</th>\n",
       "      <th>room_type</th>\n",
       "      <th>minimum_nights</th>\n",
       "      <th>number_of_reviews</th>\n",
       "      <th>last_review</th>\n",
       "      <th>reviews_per_month</th>\n",
       "      <th>calculated_host_listings_count</th>\n",
       "      <th>availability_365</th>\n",
       "    </tr>\n",
       "  </thead>\n",
       "  <tbody>\n",
       "    <tr>\n",
       "      <td>6446</td>\n",
       "      <td>22941689</td>\n",
       "      <td>Nice room for 2 in city centre on ground floor.</td>\n",
       "      <td>169915566</td>\n",
       "      <td>Wim</td>\n",
       "      <td>NaN</td>\n",
       "      <td>Bos en Lommer</td>\n",
       "      <td>52.37969</td>\n",
       "      <td>4.85344</td>\n",
       "      <td>Private room</td>\n",
       "      <td>3</td>\n",
       "      <td>70</td>\n",
       "      <td>16-03-2020</td>\n",
       "      <td>2.51</td>\n",
       "      <td>1</td>\n",
       "      <td>352</td>\n",
       "    </tr>\n",
       "    <tr>\n",
       "      <td>6447</td>\n",
       "      <td>12771038</td>\n",
       "      <td>Beautiful spacious bedroom (25m²)</td>\n",
       "      <td>19399691</td>\n",
       "      <td>Jacob</td>\n",
       "      <td>NaN</td>\n",
       "      <td>Slotervaart</td>\n",
       "      <td>52.35361</td>\n",
       "      <td>4.84075</td>\n",
       "      <td>Private room</td>\n",
       "      <td>2</td>\n",
       "      <td>223</td>\n",
       "      <td>01-03-2020</td>\n",
       "      <td>4.54</td>\n",
       "      <td>1</td>\n",
       "      <td>361</td>\n",
       "    </tr>\n",
       "    <tr>\n",
       "      <td>6448</td>\n",
       "      <td>19655104</td>\n",
       "      <td>Room on the Amstel in de Pijp (Amsteldijk)</td>\n",
       "      <td>26612306</td>\n",
       "      <td>Laurien</td>\n",
       "      <td>NaN</td>\n",
       "      <td>De Pijp - Rivierenbuurt</td>\n",
       "      <td>52.35344</td>\n",
       "      <td>4.90528</td>\n",
       "      <td>Private room</td>\n",
       "      <td>5</td>\n",
       "      <td>3</td>\n",
       "      <td>13-08-2017</td>\n",
       "      <td>0.09</td>\n",
       "      <td>1</td>\n",
       "      <td>0</td>\n",
       "    </tr>\n",
       "    <tr>\n",
       "      <td>6449</td>\n",
       "      <td>17862359</td>\n",
       "      <td>Home Sweet Home in the Pijp</td>\n",
       "      <td>8682840</td>\n",
       "      <td>Mireille</td>\n",
       "      <td>NaN</td>\n",
       "      <td>De Pijp - Rivierenbuurt</td>\n",
       "      <td>52.35413</td>\n",
       "      <td>4.89921</td>\n",
       "      <td>Entire home/apt</td>\n",
       "      <td>3</td>\n",
       "      <td>22</td>\n",
       "      <td>23-05-2019</td>\n",
       "      <td>0.57</td>\n",
       "      <td>1</td>\n",
       "      <td>0</td>\n",
       "    </tr>\n",
       "    <tr>\n",
       "      <td>6450</td>\n",
       "      <td>14148546</td>\n",
       "      <td>Bright and spacious apartment near the city ce...</td>\n",
       "      <td>85462143</td>\n",
       "      <td>Sophie</td>\n",
       "      <td>NaN</td>\n",
       "      <td>De Pijp - Rivierenbuurt</td>\n",
       "      <td>52.34912</td>\n",
       "      <td>4.89589</td>\n",
       "      <td>Entire home/apt</td>\n",
       "      <td>2</td>\n",
       "      <td>3</td>\n",
       "      <td>15-08-2016</td>\n",
       "      <td>0.06</td>\n",
       "      <td>1</td>\n",
       "      <td>0</td>\n",
       "    </tr>\n",
       "  </tbody>\n",
       "</table>\n",
       "</div>"
      ],
      "text/plain": [
       "            id                                               name    host_id  \\\n",
       "6446  22941689    Nice room for 2 in city centre on ground floor.  169915566   \n",
       "6447  12771038                  Beautiful spacious bedroom (25m²)   19399691   \n",
       "6448  19655104         Room on the Amstel in de Pijp (Amsteldijk)   26612306   \n",
       "6449  17862359                        Home Sweet Home in the Pijp    8682840   \n",
       "6450  14148546  Bright and spacious apartment near the city ce...   85462143   \n",
       "\n",
       "     host_name  neighbourhood_group            neighbourhood  latitude  \\\n",
       "6446       Wim                  NaN            Bos en Lommer  52.37969   \n",
       "6447     Jacob                  NaN              Slotervaart  52.35361   \n",
       "6448   Laurien                  NaN  De Pijp - Rivierenbuurt  52.35344   \n",
       "6449  Mireille                  NaN  De Pijp - Rivierenbuurt  52.35413   \n",
       "6450    Sophie                  NaN  De Pijp - Rivierenbuurt  52.34912   \n",
       "\n",
       "      longitude        room_type  minimum_nights  number_of_reviews  \\\n",
       "6446    4.85344     Private room               3                 70   \n",
       "6447    4.84075     Private room               2                223   \n",
       "6448    4.90528     Private room               5                  3   \n",
       "6449    4.89921  Entire home/apt               3                 22   \n",
       "6450    4.89589  Entire home/apt               2                  3   \n",
       "\n",
       "     last_review  reviews_per_month  calculated_host_listings_count  \\\n",
       "6446  16-03-2020               2.51                               1   \n",
       "6447  01-03-2020               4.54                               1   \n",
       "6448  13-08-2017               0.09                               1   \n",
       "6449  23-05-2019               0.57                               1   \n",
       "6450  15-08-2016               0.06                               1   \n",
       "\n",
       "      availability_365  \n",
       "6446               352  \n",
       "6447               361  \n",
       "6448                 0  \n",
       "6449                 0  \n",
       "6450                 0  "
      ]
     },
     "execution_count": 86,
     "metadata": {},
     "output_type": "execute_result"
    }
   ],
   "source": [
    "data_val.tail()"
   ]
  },
  {
   "cell_type": "code",
   "execution_count": 87,
   "metadata": {},
   "outputs": [
    {
     "data": {
      "text/plain": [
       "(6451, 15)"
      ]
     },
     "execution_count": 87,
     "metadata": {},
     "output_type": "execute_result"
    }
   ],
   "source": [
    "data_val.shape"
   ]
  },
  {
   "cell_type": "code",
   "execution_count": 88,
   "metadata": {},
   "outputs": [
    {
     "data": {
      "text/plain": [
       "id                                   0\n",
       "name                                11\n",
       "host_id                              0\n",
       "host_name                            3\n",
       "neighbourhood_group               6451\n",
       "neighbourhood                        0\n",
       "latitude                             0\n",
       "longitude                            0\n",
       "room_type                            0\n",
       "minimum_nights                       0\n",
       "number_of_reviews                    0\n",
       "last_review                        796\n",
       "reviews_per_month                  796\n",
       "calculated_host_listings_count       0\n",
       "availability_365                     0\n",
       "dtype: int64"
      ]
     },
     "execution_count": 88,
     "metadata": {},
     "output_type": "execute_result"
    }
   ],
   "source": [
    "data_val.isnull().sum()"
   ]
  },
  {
   "cell_type": "code",
   "execution_count": 89,
   "metadata": {},
   "outputs": [],
   "source": [
    "data_val = data_val.drop(['neighbourhood_group'],axis=1)"
   ]
  },
  {
   "cell_type": "code",
   "execution_count": 90,
   "metadata": {},
   "outputs": [],
   "source": [
    "data_val['last_review'] = data_val['last_review'].fillna(data_val['last_review'].mode()[0])"
   ]
  },
  {
   "cell_type": "code",
   "execution_count": 91,
   "metadata": {},
   "outputs": [],
   "source": [
    "data_val['reviews_per_month'] = data_val['reviews_per_month'].fillna(data_val['reviews_per_month'].median())"
   ]
  },
  {
   "cell_type": "code",
   "execution_count": 92,
   "metadata": {},
   "outputs": [],
   "source": [
    "data_val['name'] = data_val['name'].fillna(data_val['name'].mode()[0])"
   ]
  },
  {
   "cell_type": "code",
   "execution_count": 93,
   "metadata": {},
   "outputs": [],
   "source": [
    "data_val['host_name'] = data_val['host_name'].fillna(data_val['host_name'].mode()[0])"
   ]
  },
  {
   "cell_type": "code",
   "execution_count": 94,
   "metadata": {},
   "outputs": [],
   "source": [
    "data_val = pd.concat([data_val,pd.get_dummies(data_val['room_type'],prefix='d')],axis=1)"
   ]
  },
  {
   "cell_type": "code",
   "execution_count": 95,
   "metadata": {},
   "outputs": [],
   "source": [
    "#convert to category dtype\n",
    "data_val['host_name'] = data_val['host_name'].astype('category')"
   ]
  },
  {
   "cell_type": "code",
   "execution_count": 96,
   "metadata": {},
   "outputs": [],
   "source": [
    "data_val['neighbourhood'] = data_val['neighbourhood'].astype('category')"
   ]
  },
  {
   "cell_type": "code",
   "execution_count": 97,
   "metadata": {},
   "outputs": [],
   "source": [
    "data_val['last_review'] = data_val['last_review'].astype('category')"
   ]
  },
  {
   "cell_type": "code",
   "execution_count": 98,
   "metadata": {},
   "outputs": [],
   "source": [
    "data_val['name'] = data_val['name'].astype('category')"
   ]
  },
  {
   "cell_type": "code",
   "execution_count": 99,
   "metadata": {},
   "outputs": [
    {
     "data": {
      "text/plain": [
       "id                                   int64\n",
       "name                              category\n",
       "host_id                              int64\n",
       "host_name                         category\n",
       "neighbourhood                     category\n",
       "latitude                           float64\n",
       "longitude                          float64\n",
       "room_type                           object\n",
       "minimum_nights                       int64\n",
       "number_of_reviews                    int64\n",
       "last_review                       category\n",
       "reviews_per_month                  float64\n",
       "calculated_host_listings_count       int64\n",
       "availability_365                     int64\n",
       "d_Entire home/apt                    uint8\n",
       "d_Hotel room                         uint8\n",
       "d_Private room                       uint8\n",
       "d_Shared room                        uint8\n",
       "dtype: object"
      ]
     },
     "execution_count": 99,
     "metadata": {},
     "output_type": "execute_result"
    }
   ],
   "source": [
    "data_val.dtypes"
   ]
  },
  {
   "cell_type": "code",
   "execution_count": 100,
   "metadata": {},
   "outputs": [],
   "source": [
    "#use .cat.codes to create new colums with encoded value\n",
    "data_val['host_name_cat'] = data_val['host_name'].cat.codes"
   ]
  },
  {
   "cell_type": "code",
   "execution_count": 101,
   "metadata": {},
   "outputs": [],
   "source": [
    "data_val['neighbourhood_cat'] = data_val['neighbourhood'].cat.codes"
   ]
  },
  {
   "cell_type": "code",
   "execution_count": 102,
   "metadata": {},
   "outputs": [],
   "source": [
    "data_val['last_review_cat'] = data_val['last_review'].cat.codes"
   ]
  },
  {
   "cell_type": "code",
   "execution_count": 103,
   "metadata": {},
   "outputs": [],
   "source": [
    "data_val['name_cat'] = data_val['name'].cat.codes"
   ]
  },
  {
   "cell_type": "code",
   "execution_count": 104,
   "metadata": {},
   "outputs": [
    {
     "data": {
      "text/html": [
       "<div>\n",
       "<style scoped>\n",
       "    .dataframe tbody tr th:only-of-type {\n",
       "        vertical-align: middle;\n",
       "    }\n",
       "\n",
       "    .dataframe tbody tr th {\n",
       "        vertical-align: top;\n",
       "    }\n",
       "\n",
       "    .dataframe thead th {\n",
       "        text-align: right;\n",
       "    }\n",
       "</style>\n",
       "<table border=\"1\" class=\"dataframe\">\n",
       "  <thead>\n",
       "    <tr style=\"text-align: right;\">\n",
       "      <th></th>\n",
       "      <th>id</th>\n",
       "      <th>name</th>\n",
       "      <th>host_id</th>\n",
       "      <th>host_name</th>\n",
       "      <th>neighbourhood</th>\n",
       "      <th>latitude</th>\n",
       "      <th>longitude</th>\n",
       "      <th>room_type</th>\n",
       "      <th>minimum_nights</th>\n",
       "      <th>number_of_reviews</th>\n",
       "      <th>...</th>\n",
       "      <th>calculated_host_listings_count</th>\n",
       "      <th>availability_365</th>\n",
       "      <th>d_Entire home/apt</th>\n",
       "      <th>d_Hotel room</th>\n",
       "      <th>d_Private room</th>\n",
       "      <th>d_Shared room</th>\n",
       "      <th>host_name_cat</th>\n",
       "      <th>neighbourhood_cat</th>\n",
       "      <th>last_review_cat</th>\n",
       "      <th>name_cat</th>\n",
       "    </tr>\n",
       "  </thead>\n",
       "  <tbody>\n",
       "    <tr>\n",
       "      <td>0</td>\n",
       "      <td>12297872</td>\n",
       "      <td>Great apartment, super location</td>\n",
       "      <td>44144487</td>\n",
       "      <td>Azarakhsh</td>\n",
       "      <td>De Baarsjes - Oud-West</td>\n",
       "      <td>52.37326</td>\n",
       "      <td>4.86213</td>\n",
       "      <td>Entire home/apt</td>\n",
       "      <td>2</td>\n",
       "      <td>49</td>\n",
       "      <td>...</td>\n",
       "      <td>1</td>\n",
       "      <td>267</td>\n",
       "      <td>1</td>\n",
       "      <td>0</td>\n",
       "      <td>0</td>\n",
       "      <td>0</td>\n",
       "      <td>248</td>\n",
       "      <td>7</td>\n",
       "      <td>595</td>\n",
       "      <td>2794</td>\n",
       "    </tr>\n",
       "    <tr>\n",
       "      <td>1</td>\n",
       "      <td>3920205</td>\n",
       "      <td>Lovely apartment in Center south!</td>\n",
       "      <td>7594884</td>\n",
       "      <td>Ruben, Sarah &amp; Lindy</td>\n",
       "      <td>De Pijp - Rivierenbuurt</td>\n",
       "      <td>52.35076</td>\n",
       "      <td>4.88866</td>\n",
       "      <td>Entire home/apt</td>\n",
       "      <td>3</td>\n",
       "      <td>34</td>\n",
       "      <td>...</td>\n",
       "      <td>38</td>\n",
       "      <td>0</td>\n",
       "      <td>1</td>\n",
       "      <td>0</td>\n",
       "      <td>0</td>\n",
       "      <td>0</td>\n",
       "      <td>2322</td>\n",
       "      <td>8</td>\n",
       "      <td>753</td>\n",
       "      <td>3475</td>\n",
       "    </tr>\n",
       "    <tr>\n",
       "      <td>2</td>\n",
       "      <td>26614345</td>\n",
       "      <td>Sunny family friendly house, centrally located</td>\n",
       "      <td>3903937</td>\n",
       "      <td>Maaike</td>\n",
       "      <td>Oud-Noord</td>\n",
       "      <td>52.38980</td>\n",
       "      <td>4.90881</td>\n",
       "      <td>Entire home/apt</td>\n",
       "      <td>4</td>\n",
       "      <td>3</td>\n",
       "      <td>...</td>\n",
       "      <td>1</td>\n",
       "      <td>0</td>\n",
       "      <td>1</td>\n",
       "      <td>0</td>\n",
       "      <td>0</td>\n",
       "      <td>0</td>\n",
       "      <td>1654</td>\n",
       "      <td>16</td>\n",
       "      <td>816</td>\n",
       "      <td>5740</td>\n",
       "    </tr>\n",
       "    <tr>\n",
       "      <td>3</td>\n",
       "      <td>7433172</td>\n",
       "      <td>1 Br Apartment in Old South A'dam</td>\n",
       "      <td>24969223</td>\n",
       "      <td>Quirien</td>\n",
       "      <td>Zuid</td>\n",
       "      <td>52.34292</td>\n",
       "      <td>4.85962</td>\n",
       "      <td>Entire home/apt</td>\n",
       "      <td>4</td>\n",
       "      <td>0</td>\n",
       "      <td>...</td>\n",
       "      <td>1</td>\n",
       "      <td>0</td>\n",
       "      <td>1</td>\n",
       "      <td>0</td>\n",
       "      <td>0</td>\n",
       "      <td>0</td>\n",
       "      <td>2177</td>\n",
       "      <td>21</td>\n",
       "      <td>50</td>\n",
       "      <td>32</td>\n",
       "    </tr>\n",
       "    <tr>\n",
       "      <td>4</td>\n",
       "      <td>17019744</td>\n",
       "      <td>Luxurious house with garden - central location</td>\n",
       "      <td>114138837</td>\n",
       "      <td>Sietse</td>\n",
       "      <td>Westerpark</td>\n",
       "      <td>52.37321</td>\n",
       "      <td>4.87238</td>\n",
       "      <td>Entire home/apt</td>\n",
       "      <td>2</td>\n",
       "      <td>9</td>\n",
       "      <td>...</td>\n",
       "      <td>1</td>\n",
       "      <td>0</td>\n",
       "      <td>1</td>\n",
       "      <td>0</td>\n",
       "      <td>0</td>\n",
       "      <td>0</td>\n",
       "      <td>2427</td>\n",
       "      <td>20</td>\n",
       "      <td>948</td>\n",
       "      <td>3751</td>\n",
       "    </tr>\n",
       "  </tbody>\n",
       "</table>\n",
       "<p>5 rows × 22 columns</p>\n",
       "</div>"
      ],
      "text/plain": [
       "         id                                            name    host_id  \\\n",
       "0  12297872                 Great apartment, super location   44144487   \n",
       "1   3920205               Lovely apartment in Center south!    7594884   \n",
       "2  26614345  Sunny family friendly house, centrally located    3903937   \n",
       "3   7433172               1 Br Apartment in Old South A'dam   24969223   \n",
       "4  17019744  Luxurious house with garden - central location  114138837   \n",
       "\n",
       "              host_name            neighbourhood  latitude  longitude  \\\n",
       "0             Azarakhsh   De Baarsjes - Oud-West  52.37326    4.86213   \n",
       "1  Ruben, Sarah & Lindy  De Pijp - Rivierenbuurt  52.35076    4.88866   \n",
       "2                Maaike                Oud-Noord  52.38980    4.90881   \n",
       "3               Quirien                     Zuid  52.34292    4.85962   \n",
       "4                Sietse               Westerpark  52.37321    4.87238   \n",
       "\n",
       "         room_type  minimum_nights  number_of_reviews  ...  \\\n",
       "0  Entire home/apt               2                 49  ...   \n",
       "1  Entire home/apt               3                 34  ...   \n",
       "2  Entire home/apt               4                  3  ...   \n",
       "3  Entire home/apt               4                  0  ...   \n",
       "4  Entire home/apt               2                  9  ...   \n",
       "\n",
       "  calculated_host_listings_count  availability_365  d_Entire home/apt  \\\n",
       "0                              1               267                  1   \n",
       "1                             38                 0                  1   \n",
       "2                              1                 0                  1   \n",
       "3                              1                 0                  1   \n",
       "4                              1                 0                  1   \n",
       "\n",
       "   d_Hotel room  d_Private room  d_Shared room  host_name_cat  \\\n",
       "0             0               0              0            248   \n",
       "1             0               0              0           2322   \n",
       "2             0               0              0           1654   \n",
       "3             0               0              0           2177   \n",
       "4             0               0              0           2427   \n",
       "\n",
       "   neighbourhood_cat  last_review_cat  name_cat  \n",
       "0                  7              595      2794  \n",
       "1                  8              753      3475  \n",
       "2                 16              816      5740  \n",
       "3                 21               50        32  \n",
       "4                 20              948      3751  \n",
       "\n",
       "[5 rows x 22 columns]"
      ]
     },
     "execution_count": 104,
     "metadata": {},
     "output_type": "execute_result"
    }
   ],
   "source": [
    "data_val.head()"
   ]
  },
  {
   "cell_type": "code",
   "execution_count": 105,
   "metadata": {},
   "outputs": [
    {
     "data": {
      "text/plain": [
       "Index(['id', 'name', 'host_id', 'host_name', 'neighbourhood', 'latitude',\n",
       "       'longitude', 'room_type', 'minimum_nights', 'number_of_reviews',\n",
       "       'last_review', 'reviews_per_month', 'calculated_host_listings_count',\n",
       "       'availability_365', 'd_Entire home/apt', 'd_Hotel room',\n",
       "       'd_Private room', 'd_Shared room', 'host_name_cat', 'neighbourhood_cat',\n",
       "       'last_review_cat', 'name_cat'],\n",
       "      dtype='object')"
      ]
     },
     "execution_count": 105,
     "metadata": {},
     "output_type": "execute_result"
    }
   ],
   "source": [
    "data_val.columns"
   ]
  },
  {
   "cell_type": "code",
   "execution_count": 106,
   "metadata": {},
   "outputs": [],
   "source": [
    "data_val = data_val.drop(['room_type','host_name','neighbourhood','last_review','name'],axis=1)"
   ]
  },
  {
   "cell_type": "code",
   "execution_count": 107,
   "metadata": {},
   "outputs": [
    {
     "data": {
      "text/plain": [
       "(6451, 17)"
      ]
     },
     "execution_count": 107,
     "metadata": {},
     "output_type": "execute_result"
    }
   ],
   "source": [
    "data_val.shape"
   ]
  },
  {
   "cell_type": "code",
   "execution_count": 108,
   "metadata": {},
   "outputs": [
    {
     "data": {
      "text/html": [
       "<div>\n",
       "<style scoped>\n",
       "    .dataframe tbody tr th:only-of-type {\n",
       "        vertical-align: middle;\n",
       "    }\n",
       "\n",
       "    .dataframe tbody tr th {\n",
       "        vertical-align: top;\n",
       "    }\n",
       "\n",
       "    .dataframe thead th {\n",
       "        text-align: right;\n",
       "    }\n",
       "</style>\n",
       "<table border=\"1\" class=\"dataframe\">\n",
       "  <thead>\n",
       "    <tr style=\"text-align: right;\">\n",
       "      <th></th>\n",
       "      <th>id</th>\n",
       "      <th>host_id</th>\n",
       "      <th>latitude</th>\n",
       "      <th>longitude</th>\n",
       "      <th>minimum_nights</th>\n",
       "      <th>number_of_reviews</th>\n",
       "      <th>reviews_per_month</th>\n",
       "      <th>calculated_host_listings_count</th>\n",
       "      <th>availability_365</th>\n",
       "      <th>d_Entire home/apt</th>\n",
       "      <th>d_Hotel room</th>\n",
       "      <th>d_Private room</th>\n",
       "      <th>d_Shared room</th>\n",
       "      <th>host_name_cat</th>\n",
       "      <th>neighbourhood_cat</th>\n",
       "      <th>last_review_cat</th>\n",
       "      <th>name_cat</th>\n",
       "    </tr>\n",
       "  </thead>\n",
       "  <tbody>\n",
       "    <tr>\n",
       "      <td>0</td>\n",
       "      <td>12297872</td>\n",
       "      <td>44144487</td>\n",
       "      <td>52.37326</td>\n",
       "      <td>4.86213</td>\n",
       "      <td>2</td>\n",
       "      <td>49</td>\n",
       "      <td>0.99</td>\n",
       "      <td>1</td>\n",
       "      <td>267</td>\n",
       "      <td>1</td>\n",
       "      <td>0</td>\n",
       "      <td>0</td>\n",
       "      <td>0</td>\n",
       "      <td>248</td>\n",
       "      <td>7</td>\n",
       "      <td>595</td>\n",
       "      <td>2794</td>\n",
       "    </tr>\n",
       "    <tr>\n",
       "      <td>1</td>\n",
       "      <td>3920205</td>\n",
       "      <td>7594884</td>\n",
       "      <td>52.35076</td>\n",
       "      <td>4.88866</td>\n",
       "      <td>3</td>\n",
       "      <td>34</td>\n",
       "      <td>0.49</td>\n",
       "      <td>38</td>\n",
       "      <td>0</td>\n",
       "      <td>1</td>\n",
       "      <td>0</td>\n",
       "      <td>0</td>\n",
       "      <td>0</td>\n",
       "      <td>2322</td>\n",
       "      <td>8</td>\n",
       "      <td>753</td>\n",
       "      <td>3475</td>\n",
       "    </tr>\n",
       "    <tr>\n",
       "      <td>2</td>\n",
       "      <td>26614345</td>\n",
       "      <td>3903937</td>\n",
       "      <td>52.38980</td>\n",
       "      <td>4.90881</td>\n",
       "      <td>4</td>\n",
       "      <td>3</td>\n",
       "      <td>0.13</td>\n",
       "      <td>1</td>\n",
       "      <td>0</td>\n",
       "      <td>1</td>\n",
       "      <td>0</td>\n",
       "      <td>0</td>\n",
       "      <td>0</td>\n",
       "      <td>1654</td>\n",
       "      <td>16</td>\n",
       "      <td>816</td>\n",
       "      <td>5740</td>\n",
       "    </tr>\n",
       "    <tr>\n",
       "      <td>3</td>\n",
       "      <td>7433172</td>\n",
       "      <td>24969223</td>\n",
       "      <td>52.34292</td>\n",
       "      <td>4.85962</td>\n",
       "      <td>4</td>\n",
       "      <td>0</td>\n",
       "      <td>0.38</td>\n",
       "      <td>1</td>\n",
       "      <td>0</td>\n",
       "      <td>1</td>\n",
       "      <td>0</td>\n",
       "      <td>0</td>\n",
       "      <td>0</td>\n",
       "      <td>2177</td>\n",
       "      <td>21</td>\n",
       "      <td>50</td>\n",
       "      <td>32</td>\n",
       "    </tr>\n",
       "    <tr>\n",
       "      <td>4</td>\n",
       "      <td>17019744</td>\n",
       "      <td>114138837</td>\n",
       "      <td>52.37321</td>\n",
       "      <td>4.87238</td>\n",
       "      <td>2</td>\n",
       "      <td>9</td>\n",
       "      <td>0.23</td>\n",
       "      <td>1</td>\n",
       "      <td>0</td>\n",
       "      <td>1</td>\n",
       "      <td>0</td>\n",
       "      <td>0</td>\n",
       "      <td>0</td>\n",
       "      <td>2427</td>\n",
       "      <td>20</td>\n",
       "      <td>948</td>\n",
       "      <td>3751</td>\n",
       "    </tr>\n",
       "  </tbody>\n",
       "</table>\n",
       "</div>"
      ],
      "text/plain": [
       "         id    host_id  latitude  longitude  minimum_nights  \\\n",
       "0  12297872   44144487  52.37326    4.86213               2   \n",
       "1   3920205    7594884  52.35076    4.88866               3   \n",
       "2  26614345    3903937  52.38980    4.90881               4   \n",
       "3   7433172   24969223  52.34292    4.85962               4   \n",
       "4  17019744  114138837  52.37321    4.87238               2   \n",
       "\n",
       "   number_of_reviews  reviews_per_month  calculated_host_listings_count  \\\n",
       "0                 49               0.99                               1   \n",
       "1                 34               0.49                              38   \n",
       "2                  3               0.13                               1   \n",
       "3                  0               0.38                               1   \n",
       "4                  9               0.23                               1   \n",
       "\n",
       "   availability_365  d_Entire home/apt  d_Hotel room  d_Private room  \\\n",
       "0               267                  1             0               0   \n",
       "1                 0                  1             0               0   \n",
       "2                 0                  1             0               0   \n",
       "3                 0                  1             0               0   \n",
       "4                 0                  1             0               0   \n",
       "\n",
       "   d_Shared room  host_name_cat  neighbourhood_cat  last_review_cat  name_cat  \n",
       "0              0            248                  7              595      2794  \n",
       "1              0           2322                  8              753      3475  \n",
       "2              0           1654                 16              816      5740  \n",
       "3              0           2177                 21               50        32  \n",
       "4              0           2427                 20              948      3751  "
      ]
     },
     "execution_count": 108,
     "metadata": {},
     "output_type": "execute_result"
    }
   ],
   "source": [
    "data_val.head()"
   ]
  },
  {
   "cell_type": "code",
   "execution_count": 109,
   "metadata": {},
   "outputs": [
    {
     "data": {
      "text/plain": [
       "array([184.61645912, 163.51949153, 161.38602669, ...,  87.88788696,\n",
       "       157.20567854, 152.60595486])"
      ]
     },
     "execution_count": 109,
     "metadata": {},
     "output_type": "execute_result"
    }
   ],
   "source": [
    "model_random_val = model_random.predict(data_val)\n",
    "model_random_val"
   ]
  },
  {
   "cell_type": "code",
   "execution_count": 111,
   "metadata": {},
   "outputs": [],
   "source": [
    "ind = pd.read_csv(\"/Users/apple/Documents/Kaggle/dphi-amsterdam-airbnb-data/airbnb_listing_validate.csv\")"
   ]
  },
  {
   "cell_type": "code",
   "execution_count": 112,
   "metadata": {},
   "outputs": [],
   "source": [
    "ind = ind[['id','neighbourhood']]"
   ]
  },
  {
   "cell_type": "code",
   "execution_count": 113,
   "metadata": {},
   "outputs": [
    {
     "data": {
      "text/html": [
       "<div>\n",
       "<style scoped>\n",
       "    .dataframe tbody tr th:only-of-type {\n",
       "        vertical-align: middle;\n",
       "    }\n",
       "\n",
       "    .dataframe tbody tr th {\n",
       "        vertical-align: top;\n",
       "    }\n",
       "\n",
       "    .dataframe thead th {\n",
       "        text-align: right;\n",
       "    }\n",
       "</style>\n",
       "<table border=\"1\" class=\"dataframe\">\n",
       "  <thead>\n",
       "    <tr style=\"text-align: right;\">\n",
       "      <th></th>\n",
       "      <th>price</th>\n",
       "    </tr>\n",
       "    <tr>\n",
       "      <th>id</th>\n",
       "      <th></th>\n",
       "    </tr>\n",
       "  </thead>\n",
       "  <tbody>\n",
       "    <tr>\n",
       "      <td>12297872</td>\n",
       "      <td>184.616459</td>\n",
       "    </tr>\n",
       "    <tr>\n",
       "      <td>3920205</td>\n",
       "      <td>163.519492</td>\n",
       "    </tr>\n",
       "    <tr>\n",
       "      <td>26614345</td>\n",
       "      <td>161.386027</td>\n",
       "    </tr>\n",
       "    <tr>\n",
       "      <td>7433172</td>\n",
       "      <td>157.284837</td>\n",
       "    </tr>\n",
       "    <tr>\n",
       "      <td>17019744</td>\n",
       "      <td>148.733142</td>\n",
       "    </tr>\n",
       "  </tbody>\n",
       "</table>\n",
       "</div>"
      ],
      "text/plain": [
       "               price\n",
       "id                  \n",
       "12297872  184.616459\n",
       "3920205   163.519492\n",
       "26614345  161.386027\n",
       "7433172   157.284837\n",
       "17019744  148.733142"
      ]
     },
     "execution_count": 113,
     "metadata": {},
     "output_type": "execute_result"
    }
   ],
   "source": [
    "# To create Dataframe of predicted value with particular respective index\n",
    "result = pd.DataFrame(model_random_val)\n",
    "result.index = ind['id'] # its important for comparison\n",
    "result.columns = [\"price\"]\n",
    "result.head()"
   ]
  },
  {
   "cell_type": "code",
   "execution_count": 114,
   "metadata": {},
   "outputs": [
    {
     "data": {
      "text/html": [
       "<a href=submission1.csv>Download CSV file</a>"
      ],
      "text/plain": [
       "<IPython.core.display.HTML object>"
      ]
     },
     "execution_count": 114,
     "metadata": {},
     "output_type": "execute_result"
    }
   ],
   "source": [
    "from IPython.display import HTML\n",
    "\n",
    "\n",
    "result.to_csv('submission1.csv')\n",
    "\n",
    "def create_download_link(title = \"Download CSV file\", filename = \"data.csv\"):  \n",
    "    html = '<a href={filename}>{title}</a>'\n",
    "    html = html.format(title=title,filename=filename)\n",
    "    return HTML(html)\n",
    "\n",
    "# create a link to download the dataframe which was saved with .to_csv method\n",
    "create_download_link(filename='submission1.csv')"
   ]
  }
 ],
 "metadata": {
  "kernelspec": {
   "display_name": "Python 3",
   "language": "python",
   "name": "python3"
  },
  "language_info": {
   "codemirror_mode": {
    "name": "ipython",
    "version": 3
   },
   "file_extension": ".py",
   "mimetype": "text/x-python",
   "name": "python",
   "nbconvert_exporter": "python",
   "pygments_lexer": "ipython3",
   "version": "3.7.4"
  }
 },
 "nbformat": 4,
 "nbformat_minor": 4
}
